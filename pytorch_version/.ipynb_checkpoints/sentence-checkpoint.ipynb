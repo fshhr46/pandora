{
    "cells": [
        {
            "cell_type": "code",
            "execution_count": 1,
            "id": "ee5f699b",
            "metadata": {},
            "outputs": [
                {
                    "name": "stderr",
                    "output_type": "stream",
                    "text": [
                        "/home/haoranhuang/anaconda3/envs/pytorch/lib/python3.9/site-packages/tqdm/auto.py:22: TqdmWarning: IProgress not found. Please update jupyter and ipywidgets. See https://ipywidgets.readthedocs.io/en/stable/user_install.html\n",
                        "  from .autonotebook import tqdm as notebook_tqdm\n"
                    ]
                }
            ],
            "source": [
                "import sys\n",
                "from processors.cls_sentence import cls_processors as processors"
            ]
        },
        {
            "cell_type": "code",
            "execution_count": 2,
            "id": "86453d6c",
            "metadata": {},
            "outputs": [],
            "source": [
                "processor = processors[\"sentence\"]()"
            ]
        },
        {
            "cell_type": "code",
            "execution_count": 3,
            "id": "d393cb46",
            "metadata": {},
            "outputs": [],
            "source": [
                "from tools.sentence_data import get_output_data_folder\n",
                "examples = processor.get_train_examples(get_output_data_folder())\n",
                "labels = processor.get_labels()"
            ]
        },
        {
            "cell_type": "code",
            "execution_count": 4,
            "id": "f3f749f1",
            "metadata": {},
            "outputs": [
                {
                    "name": "stdout",
                    "output_type": "stream",
                    "text": [
                        "{\n",
                        "  \"guid\": \"train-0\",\n",
                        "  \"labels\": [\n",
                        "    \"name\"\n",
                        "  ],\n",
                        "  \"words\": [\n",
                        "    \"\\u53f6\",\n",
                        "    \"\\u8001\",\n",
                        "    \"\\u6842\"\n",
                        "  ]\n",
                        "}\n",
                        "\n"
                    ]
                }
            ],
            "source": [
                "print(examples[0])"
            ]
        },
        {
            "cell_type": "code",
            "execution_count": 5,
            "id": "fd33b6ca",
            "metadata": {},
            "outputs": [],
            "source": [
                "from run_sentence_classification import *\n",
                "predict_type = \"softmax\"\n",
                "arg_list = setup_running_env()"
            ]
        },
        {
            "cell_type": "code",
            "execution_count": 6,
            "id": "efb6944a",
            "metadata": {},
            "outputs": [
                {
                    "name": "stderr",
                    "output_type": "stream",
                    "text": [
                        "08/11/2022 10:34:25 - INFO - run_sentence_classification:614 -  device_name is cuda\n",
                        "08/11/2022 10:34:25 - WARNING - run_sentence_classification:624 -  Process rank: -1, device: cuda, n_gpu: 1, distributed training: False, 16-bits training: False\n",
                        "08/11/2022 10:34:25 - INFO - run_sentence_classification:636 -  task_name is sentence\n",
                        "08/11/2022 10:34:25 - INFO - run_sentence_classification:647 -  model_type is bert\n",
                        "08/11/2022 10:34:25 - INFO - configuration_utils:120 -  \n",
                        "=============Loading configuration from pretrain. kwargs: {'num_labels': 144, 'loss_type': 'ce', 'cache_dir': '/home/haoranhuang/.cache/torch/transformers'}\n",
                        "08/11/2022 10:34:26 - INFO - configuration_utils:151 -  loading configuration file https://s3.amazonaws.com/models.huggingface.co/bert/bert-base-chinese-config.json from cache at /home/haoranhuang/.cache/torch/transformers/8a3b1cfe5da58286e12a0f5d7d182b8d6eca88c08e26c332ee3817548cf7e60a.f12a4f986e43d8b328f5b067a641064d67b91597567a06c7b122d1ca7dfd9741\n",
                        "08/11/2022 10:34:26 - INFO - configuration_utils:171 -  Model config {\n",
                        "  \"architectures\": [\n",
                        "    \"BertForMaskedLM\"\n",
                        "  ],\n",
                        "  \"attention_probs_dropout_prob\": 0.1,\n",
                        "  \"directionality\": \"bidi\",\n",
                        "  \"finetuning_task\": null,\n",
                        "  \"hidden_act\": \"gelu\",\n",
                        "  \"hidden_dropout_prob\": 0.1,\n",
                        "  \"hidden_size\": 768,\n",
                        "  \"initializer_range\": 0.02,\n",
                        "  \"intermediate_size\": 3072,\n",
                        "  \"layer_norm_eps\": 1e-12,\n",
                        "  \"loss_type\": \"ce\",\n",
                        "  \"max_position_embeddings\": 512,\n",
                        "  \"model_type\": \"bert\",\n",
                        "  \"num_attention_heads\": 12,\n",
                        "  \"num_hidden_layers\": 12,\n",
                        "  \"num_labels\": 144,\n",
                        "  \"output_attentions\": false,\n",
                        "  \"output_hidden_states\": false,\n",
                        "  \"output_past\": true,\n",
                        "  \"pad_token_id\": 0,\n",
                        "  \"pooler_fc_size\": 768,\n",
                        "  \"pooler_num_attention_heads\": 12,\n",
                        "  \"pooler_num_fc_layers\": 3,\n",
                        "  \"pooler_size_per_head\": 128,\n",
                        "  \"pooler_type\": \"first_token_transform\",\n",
                        "  \"pruned_heads\": {},\n",
                        "  \"torchscript\": false,\n",
                        "  \"type_vocab_size\": 2,\n",
                        "  \"use_bfloat16\": false,\n",
                        "  \"vocab_size\": 21128\n",
                        "}\n",
                        "\n",
                        "08/11/2022 10:34:26 - INFO - tokenization_utils:282 -  \n",
                        "=============Loading tokenizer from pretrain. kwargs: {'do_lower_case': True, 'cache_dir': '/home/haoranhuang/.cache/torch/transformers'}\n",
                        "08/11/2022 10:34:27 - INFO - tokenization_utils:374 -  loading file https://s3.amazonaws.com/models.huggingface.co/bert/bert-base-chinese-vocab.txt from cache at /home/haoranhuang/.cache/torch/transformers/8a0c070123c1f794c42a29c6904beb7c1b8715741e235bee04aca2c7636fc83f.9b42061518a39ca00b8b52059fd2bede8daa613f8a8671500e518a8c29de8c00\n",
                        "08/11/2022 10:34:27 - INFO - modeling_utils:289 -  \n",
                        "=============Loading model from pretrain. kwargs: {'from_tf': False, 'config': {\n",
                        "  \"architectures\": [\n",
                        "    \"BertForMaskedLM\"\n",
                        "  ],\n",
                        "  \"attention_probs_dropout_prob\": 0.1,\n",
                        "  \"directionality\": \"bidi\",\n",
                        "  \"finetuning_task\": null,\n",
                        "  \"hidden_act\": \"gelu\",\n",
                        "  \"hidden_dropout_prob\": 0.1,\n",
                        "  \"hidden_size\": 768,\n",
                        "  \"initializer_range\": 0.02,\n",
                        "  \"intermediate_size\": 3072,\n",
                        "  \"layer_norm_eps\": 1e-12,\n",
                        "  \"loss_type\": \"ce\",\n",
                        "  \"max_position_embeddings\": 512,\n",
                        "  \"model_type\": \"bert\",\n",
                        "  \"num_attention_heads\": 12,\n",
                        "  \"num_hidden_layers\": 12,\n",
                        "  \"num_labels\": 144,\n",
                        "  \"output_attentions\": false,\n",
                        "  \"output_hidden_states\": false,\n",
                        "  \"output_past\": true,\n",
                        "  \"pad_token_id\": 0,\n",
                        "  \"pooler_fc_size\": 768,\n",
                        "  \"pooler_num_attention_heads\": 12,\n",
                        "  \"pooler_num_fc_layers\": 3,\n",
                        "  \"pooler_size_per_head\": 128,\n",
                        "  \"pooler_type\": \"first_token_transform\",\n",
                        "  \"pruned_heads\": {},\n",
                        "  \"torchscript\": false,\n",
                        "  \"type_vocab_size\": 2,\n",
                        "  \"use_bfloat16\": false,\n",
                        "  \"vocab_size\": 21128\n",
                        "}\n",
                        ", 'cache_dir': '/home/haoranhuang/.cache/torch/transformers'}\n",
                        "08/11/2022 10:34:28 - INFO - modeling_utils:357 -  loading weights file https://s3.amazonaws.com/models.huggingface.co/bert/bert-base-chinese-pytorch_model.bin from cache at /home/haoranhuang/.cache/torch/transformers/b1b5e295889f2d0979ede9a78ad9cb5dc6a0e25ab7f9417b315f0a2c22f4683d.929717ca66a3ba9eb9ec2f85973c6398c54c38a4faa464636a491d7a705f7eb6\n",
                        "08/11/2022 10:34:29 - INFO - modeling_utils:425 -  Weights of BertForSentence not initialized from pretrained model: ['classifier.weight', 'classifier.bias']\n",
                        "08/11/2022 10:34:29 - INFO - modeling_utils:428 -  Weights from pretrained model not used in BertForSentence: ['cls.predictions.bias', 'cls.predictions.transform.dense.weight', 'cls.predictions.transform.dense.bias', 'cls.predictions.decoder.weight', 'cls.seq_relationship.weight', 'cls.seq_relationship.bias', 'cls.predictions.transform.LayerNorm.weight', 'cls.predictions.transform.LayerNorm.bias']\n",
                        "08/11/2022 10:34:30 - INFO - run_sentence_classification:668 -  \n",
                        "========\n",
                        "Training/evaluation parameters Namespace(task_name='sentence', data_dir='/home/haoranhuang/workspace/CLUENER2020/pytorch_version/datasets/sentence', model_type='bert', model_name_or_path='bert-base-chinese', output_dir='/home/haoranhuang/workspace/CLUENER2020/pytorch_version/outputs/bert-base-chinese/sentence_output/bert', markup='bios', loss_type='ce', labels='', config_name='', tokenizer_name='', cache_dir='/home/haoranhuang/.cache/torch/transformers', train_max_seq_length=128, eval_max_seq_length=512, do_train=True, do_eval=True, do_predict=True, evaluate_during_training=False, do_lower_case=True, per_gpu_train_batch_size=24, per_gpu_eval_batch_size=24, gradient_accumulation_steps=1, learning_rate=3e-05, weight_decay=0.0, adam_epsilon=1e-08, max_grad_norm=1.0, num_train_epochs=4.0, max_steps=-1, warmup_steps=0, logging_steps=224, save_steps=224, eval_all_checkpoints=False, predict_checkpoints=0, no_cuda=False, overwrite_output_dir=True, overwrite_cache=False, seed=42, fp16=False, fp16_opt_level='O1', local_rank=-1, server_ip='', server_port='', n_gpu=1, device=device(type='cuda'), id2label={0: 'address', 1: 'book', 2: 'company', 3: 'game', 4: 'government', 5: 'movie', 6: 'name', 7: 'organization', 8: 'position', 9: 'scene', 10: '打车', 11: '地图导航', 12: '免费WIFI', 13: '租车', 14: '同城服务', 15: '快递物流', 16: '婚庆', 17: '家政', 18: '公共交通', 19: '政务', 20: '社区服务', 21: '薅羊毛', 22: '魔幻', 23: '仙侠', 24: '卡牌', 25: '飞行空战', 26: '射击游戏', 27: '休闲益智', 28: '动作类', 29: '体育竞技', 30: '棋牌中心', 31: '经营养成', 32: '策略', 33: 'MOBA', 34: '辅助工具', 35: '约会社交', 36: '即时通讯', 37: '工作社交', 38: '论坛圈子', 39: '婚恋社交', 40: '情侣社交', 41: '社交工具', 42: '生活社交', 43: '微博博客', 44: '新闻', 45: '漫画', 46: '小说', 47: '技术', 48: '教辅', 49: '问答交流', 50: '搞笑', 51: '杂志', 52: '百科', 53: '影视娱乐', 54: '求职', 55: '兼职', 56: '视频', 57: '短视频', 58: '音乐', 59: '直播', 60: '电台', 61: 'K歌', 62: '成人', 63: '中小学', 64: '职考', 65: '公务员', 66: '英语', 67: '视频教育', 68: '高等教育', 69: '成人教育', 70: '艺术', 71: '语言(非英语)', 72: '旅游资讯', 73: '综合预定', 74: '民航', 75: '铁路', 76: '酒店', 77: '行程管理', 78: '民宿短租', 79: '出国', 80: '工具', 81: '亲子儿童', 82: '母婴', 83: '驾校', 84: '违章', 85: '汽车咨询', 86: '汽车交易', 87: '日常养车', 88: '行车辅助', 89: '租房', 90: '买房', 91: '装修家居', 92: '电子产品', 93: '问诊挂号', 94: '养生保健', 95: '医疗服务', 96: '减肥瘦身', 97: '美妆美业', 98: '菜谱', 99: '餐饮店', 100: '体育咨讯', 101: '运动健身', 102: '支付', 103: '保险', 104: '股票', 105: '借贷', 106: '理财', 107: '彩票', 108: '记账', 109: '银行', 110: '美颜', 111: '影像剪辑', 112: '摄影修图', 113: '相机', 114: '绘画', 115: '二手', 116: '电商', 117: '团购', 118: '外卖', 119: '电影票务', 120: '社区超市', 121: '购物咨询', 122: '笔记', 123: '办公', 124: '日程管理', 125: '女性', 126: '经营', 127: '收款', 128: '其他', 129: 'news_story', 130: 'news_culture', 131: 'news_entertainment', 132: 'news_sports', 133: 'news_finance', 134: 'news_house', 135: 'news_car', 136: 'news_edu', 137: 'news_tech', 138: 'news_military', 139: 'news_travel', 140: 'news_world', 141: 'news_stock', 142: 'news_agriculture', 143: 'news_game'}, label2id={'address': 0, 'book': 1, 'company': 2, 'game': 3, 'government': 4, 'movie': 5, 'name': 6, 'organization': 7, 'position': 8, 'scene': 9, '打车': 10, '地图导航': 11, '免费WIFI': 12, '租车': 13, '同城服务': 14, '快递物流': 15, '婚庆': 16, '家政': 17, '公共交通': 18, '政务': 19, '社区服务': 20, '薅羊毛': 21, '魔幻': 22, '仙侠': 23, '卡牌': 24, '飞行空战': 25, '射击游戏': 26, '休闲益智': 27, '动作类': 28, '体育竞技': 29, '棋牌中心': 30, '经营养成': 31, '策略': 32, 'MOBA': 33, '辅助工具': 34, '约会社交': 35, '即时通讯': 36, '工作社交': 37, '论坛圈子': 38, '婚恋社交': 39, '情侣社交': 40, '社交工具': 41, '生活社交': 42, '微博博客': 43, '新闻': 44, '漫画': 45, '小说': 46, '技术': 47, '教辅': 48, '问答交流': 49, '搞笑': 50, '杂志': 51, '百科': 52, '影视娱乐': 53, '求职': 54, '兼职': 55, '视频': 56, '短视频': 57, '音乐': 58, '直播': 59, '电台': 60, 'K歌': 61, '成人': 62, '中小学': 63, '职考': 64, '公务员': 65, '英语': 66, '视频教育': 67, '高等教育': 68, '成人教育': 69, '艺术': 70, '语言(非英语)': 71, '旅游资讯': 72, '综合预定': 73, '民航': 74, '铁路': 75, '酒店': 76, '行程管理': 77, '民宿短租': 78, '出国': 79, '工具': 80, '亲子儿童': 81, '母婴': 82, '驾校': 83, '违章': 84, '汽车咨询': 85, '汽车交易': 86, '日常养车': 87, '行车辅助': 88, '租房': 89, '买房': 90, '装修家居': 91, '电子产品': 92, '问诊挂号': 93, '养生保健': 94, '医疗服务': 95, '减肥瘦身': 96, '美妆美业': 97, '菜谱': 98, '餐饮店': 99, '体育咨讯': 100, '运动健身': 101, '支付': 102, '保险': 103, '股票': 104, '借贷': 105, '理财': 106, '彩票': 107, '记账': 108, '银行': 109, '美颜': 110, '影像剪辑': 111, '摄影修图': 112, '相机': 113, '绘画': 114, '二手': 115, '电商': 116, '团购': 117, '外卖': 118, '电影票务': 119, '社区超市': 120, '购物咨询': 121, '笔记': 122, '办公': 123, '日程管理': 124, '女性': 125, '经营': 126, '收款': 127, '其他': 128, 'news_story': 129, 'news_culture': 130, 'news_entertainment': 131, 'news_sports': 132, 'news_finance': 133, 'news_house': 134, 'news_car': 135, 'news_edu': 136, 'news_tech': 137, 'news_military': 138, 'news_travel': 139, 'news_world': 140, 'news_stock': 141, 'news_agriculture': 142, 'news_game': 143})\n",
                        "========\n",
                        "\n"
                    ]
                }
            ],
            "source": [
                "args, config, tokenizer, model, model_classes = setup(\n",
                "    arg_list=arg_list)\n",
                "config_class, model_class, tokenizer_class = model_classes"
            ]
        },
        {
            "cell_type": "code",
            "execution_count": 7,
            "id": "686f5344",
            "metadata": {},
            "outputs": [
                {
                    "name": "stderr",
                    "output_type": "stream",
                    "text": [
                        "08/11/2022 10:34:30 - INFO - run_sentence_classification:436 -  Loading features from cached file /home/haoranhuang/workspace/CLUENER2020/pytorch_version/datasets/sentence/cached_soft-train_bert-base-chinese_128_sentence\n"
                    ]
                }
            ],
            "source": [
                "train_dataset = load_and_cache_examples(\n",
                "            args, args.task_name, tokenizer, data_type='train')"
            ]
        },
        {
            "cell_type": "code",
            "execution_count": 8,
            "id": "8d4ee6d2",
            "metadata": {},
            "outputs": [
                {
                    "name": "stderr",
                    "output_type": "stream",
                    "text": [
                        "08/11/2022 10:34:32 - INFO - run_sentence_classification:162 -  ***** Running training *****\n",
                        "08/11/2022 10:34:32 - INFO - run_sentence_classification:163 -    Num examples = 88831\n",
                        "08/11/2022 10:34:32 - INFO - run_sentence_classification:164 -    Num Epochs = 4\n",
                        "08/11/2022 10:34:32 - INFO - run_sentence_classification:165 -    Instantaneous batch size per GPU = 24\n",
                        "08/11/2022 10:34:32 - INFO - run_sentence_classification:167 -    Total train batch size (w. parallel, distributed & accumulation) = 24\n",
                        "08/11/2022 10:34:32 - INFO - run_sentence_classification:173 -    Gradient Accumulation steps = 1\n",
                        "08/11/2022 10:34:32 - INFO - run_sentence_classification:175 -    Total optimization steps = 14808\n",
                        "08/11/2022 10:34:33 - INFO - bert_for_sentence:38 -  logits.shape is torch.Size([24, 144])\n",
                        "08/11/2022 10:34:33 - INFO - bert_for_sentence:39 -  logits is tensor([[-0.3521, -0.1393, -0.1645,  ..., -0.2748,  0.2495, -0.0234],\n",
                        "        [ 0.1644, -0.2887,  0.0905,  ..., -0.0274, -0.4032, -0.1387],\n",
                        "        [-0.7470, -0.1722,  0.1762,  ..., -0.4534,  0.3871,  0.1754],\n",
                        "        ...,\n",
                        "        [-0.2304, -0.2349,  0.7440,  ..., -0.6284,  0.0866,  0.3845],\n",
                        "        [-1.0215, -0.4024, -0.5495,  ..., -0.3285,  0.2887,  0.1921],\n",
                        "        [-0.5938, -0.3165, -0.2370,  ..., -0.3087,  0.8197,  0.1277]],\n",
                        "       device='cuda:0', grad_fn=<AddmmBackward0>)\n",
                        "08/11/2022 10:34:33 - INFO - bert_for_sentence:40 -  labels.shape is torch.Size([24])\n",
                        "08/11/2022 10:34:33 - INFO - bert_for_sentence:41 -  labels is tensor([138,   2,   7,   6,   0, 104, 132, 139, 137, 137,   7, 136, 139,   0,\n",
                        "          8,   4,   8, 142, 140,   7,   4, 131, 130, 139], device='cuda:0')\n",
                        "/home/haoranhuang/anaconda3/envs/pytorch/lib/python3.9/site-packages/torch/optim/lr_scheduler.py:131: UserWarning: Detected call of `lr_scheduler.step()` before `optimizer.step()`. In PyTorch 1.1.0 and later, you should call them in the opposite order: `optimizer.step()` before `lr_scheduler.step()`.  Failure to do this will result in PyTorch skipping the first value of the learning rate schedule. See more details at https://pytorch.org/docs/stable/optim.html#how-to-adjust-learning-rate\n",
                        "  warnings.warn(\"Detected call of `lr_scheduler.step()` before `optimizer.step()`. \"\n",
                        "/home/haoranhuang/workspace/CLUENER2020/pytorch_version/callback/optimizater/adamw.py:67: UserWarning: This overload of add_ is deprecated:\n",
                        "\tadd_(Number alpha, Tensor other)\n",
                        "Consider using one of the following signatures instead:\n",
                        "\tadd_(Tensor other, *, Number alpha) (Triggered internally at  /opt/conda/conda-bld/pytorch_1659484809662/work/torch/csrc/utils/python_arg_parser.cpp:1174.)\n",
                        "  exp_avg.mul_(beta1).add_(1.0 - beta1, grad)\n",
                        "08/11/2022 10:34:33 - INFO - bert_for_sentence:38 -  logits.shape is torch.Size([24, 144])\n",
                        "08/11/2022 10:34:33 - INFO - bert_for_sentence:39 -  logits is tensor([[-0.1691, -0.1983, -0.1671,  ...,  0.2509,  0.5767,  0.1403],\n",
                        "        [ 0.5737, -0.1122, -0.2041,  ..., -0.0041, -0.4353, -0.2248],\n",
                        "        [-0.7391, -0.5356, -0.6116,  ..., -0.4274,  0.3146,  0.6482],\n",
                        "        ...,\n",
                        "        [-0.0664, -0.3337, -0.2983,  ...,  0.5394,  0.6670,  0.2921],\n",
                        "        [-0.4644, -0.1120, -0.4865,  ..., -0.1024,  0.2050,  0.4429],\n",
                        "        [ 0.1923, -0.5027,  0.1523,  ..., -0.0496, -0.4373,  0.3438]],\n",
                        "       device='cuda:0', grad_fn=<AddmmBackward0>)\n",
                        "08/11/2022 10:34:33 - INFO - bert_for_sentence:40 -  labels.shape is torch.Size([24])\n",
                        "08/11/2022 10:34:33 - INFO - bert_for_sentence:41 -  labels is tensor([137, 138, 138,   9,   4,   7, 138, 132, 142, 136,  28,   7,   3,   7,\n",
                        "          0, 132, 143,   2, 142, 143, 131,   0, 133,   1], device='cuda:0')\n"
                    ]
                },
                {
                    "name": "stdout",
                    "output_type": "stream",
                    "text": [
                        "\r",
                        "[Training] 1/3702 [..............................] - ETA: 36:53  loss: 5.1513 "
                    ]
                },
                {
                    "name": "stderr",
                    "output_type": "stream",
                    "text": [
                        "08/11/2022 10:34:33 - INFO - bert_for_sentence:38 -  logits.shape is torch.Size([24, 144])\n",
                        "08/11/2022 10:34:33 - INFO - bert_for_sentence:39 -  logits is tensor([[-0.2683, -0.0929,  0.0212,  ..., -0.2785,  0.4663,  0.1932],\n",
                        "        [-0.0539, -0.7586,  0.3209,  ..., -0.2746, -0.3076,  0.0595],\n",
                        "        [-0.3501, -0.5937,  0.0483,  ..., -0.4468, -0.3971, -0.3804],\n",
                        "        ...,\n",
                        "        [-0.3159, -0.4367, -0.1265,  ..., -0.0276,  0.2956,  0.1152],\n",
                        "        [-0.6590, -0.5881,  0.1230,  ..., -0.3762,  0.3932,  0.0079],\n",
                        "        [-0.0198, -0.3991,  0.2522,  ..., -0.3646,  0.2131,  0.4238]],\n",
                        "       device='cuda:0', grad_fn=<AddmmBackward0>)\n",
                        "08/11/2022 10:34:33 - INFO - bert_for_sentence:40 -  labels.shape is torch.Size([24])\n",
                        "08/11/2022 10:34:33 - INFO - bert_for_sentence:41 -  labels is tensor([133,  27,  88,   1,   7, 132, 140,  44,   2, 130,  80, 131, 143, 131,\n",
                        "        131,   6, 132,  23, 131,   8, 138, 134,  46,   6], device='cuda:0')\n"
                    ]
                },
                {
                    "name": "stdout",
                    "output_type": "stream",
                    "text": [
                        "\r",
                        "[Training] 2/3702 [..............................] - ETA: 26:49  loss: 4.9408 "
                    ]
                },
                {
                    "name": "stderr",
                    "output_type": "stream",
                    "text": [
                        "08/11/2022 10:34:33 - INFO - bert_for_sentence:38 -  logits.shape is torch.Size([24, 144])\n",
                        "08/11/2022 10:34:33 - INFO - bert_for_sentence:39 -  logits is tensor([[-0.3264, -0.4237,  0.1423,  ..., -0.1489,  0.4995,  0.3022],\n",
                        "        [ 0.3120, -0.6224,  0.4125,  ..., -0.2799, -0.1516, -0.4621],\n",
                        "        [ 0.1429, -0.0073,  0.1491,  ...,  0.0246,  0.0922, -0.4606],\n",
                        "        ...,\n",
                        "        [-0.3321, -0.0057, -0.6377,  ..., -0.4400,  0.7352,  0.2285],\n",
                        "        [-0.1082, -0.3065,  0.0170,  ..., -0.5997, -0.0851,  0.4944],\n",
                        "        [-0.0790, -0.7221,  0.2349,  ..., -0.3628,  0.2108, -0.1803]],\n",
                        "       device='cuda:0', grad_fn=<AddmmBackward0>)\n",
                        "08/11/2022 10:34:33 - INFO - bert_for_sentence:40 -  labels.shape is torch.Size([24])\n",
                        "08/11/2022 10:34:33 - INFO - bert_for_sentence:41 -  labels is tensor([132,   8, 140, 101,  81, 132,  81, 134,   5, 142, 131,   8, 138, 136,\n",
                        "          0, 137,   3, 138,   7,  66, 120, 142, 107, 140], device='cuda:0')\n"
                    ]
                },
                {
                    "name": "stdout",
                    "output_type": "stream",
                    "text": [
                        "\r",
                        "[Training] 3/3702 [..............................] - ETA: 23:23  loss: 5.0742 "
                    ]
                },
                {
                    "name": "stderr",
                    "output_type": "stream",
                    "text": [
                        "08/11/2022 10:34:34 - INFO - bert_for_sentence:38 -  logits.shape is torch.Size([24, 144])\n",
                        "08/11/2022 10:34:34 - INFO - bert_for_sentence:39 -  logits is tensor([[-0.1460, -0.4661,  0.0924,  ...,  0.1280, -0.3517,  0.1359],\n",
                        "        [ 0.0942, -0.3578,  0.6126,  ..., -0.4688,  0.1261,  0.3499],\n",
                        "        [ 0.1165, -0.5052, -0.1966,  ..., -0.3555,  0.5956,  0.3998],\n",
                        "        ...,\n",
                        "        [-0.2585, -0.4427,  0.3679,  ..., -0.1560, -0.2336,  0.3254],\n",
                        "        [ 0.2392, -0.3180,  0.0914,  ..., -0.5517, -0.0034,  0.2746],\n",
                        "        [ 0.2947,  0.1113,  0.5590,  ..., -0.2608, -0.2419,  0.3727]],\n",
                        "       device='cuda:0', grad_fn=<AddmmBackward0>)\n",
                        "08/11/2022 10:34:34 - INFO - bert_for_sentence:40 -  labels.shape is torch.Size([24])\n",
                        "08/11/2022 10:34:34 - INFO - bert_for_sentence:41 -  labels is tensor([135,   4, 140, 142,   6,   6, 133, 143, 135, 134, 130, 133, 135,   2,\n",
                        "        137,   7,  64, 131, 132, 131,   2,   4,  27, 134], device='cuda:0')\n"
                    ]
                },
                {
                    "name": "stdout",
                    "output_type": "stream",
                    "text": [
                        "\r",
                        "[Training] 4/3702 [..............................] - ETA: 21:41  loss: 4.8841 "
                    ]
                },
                {
                    "name": "stderr",
                    "output_type": "stream",
                    "text": [
                        "08/11/2022 10:34:34 - INFO - bert_for_sentence:38 -  logits.shape is torch.Size([24, 144])\n",
                        "08/11/2022 10:34:34 - INFO - bert_for_sentence:39 -  logits is tensor([[-0.4014, -0.5847, -0.2529,  ..., -0.6034,  0.0435,  0.4418],\n",
                        "        [-0.3483, -0.6337,  0.5857,  ..., -0.7784,  0.3076, -0.0042],\n",
                        "        [-0.2958, -0.1579, -0.1363,  ..., -0.8049,  0.3574,  0.5934],\n",
                        "        ...,\n",
                        "        [-0.4539, -0.0145, -0.0124,  ..., -0.4870,  0.1662,  0.8484],\n",
                        "        [ 0.4232, -0.0901,  0.3597,  ..., -0.2191, -0.1554,  0.0820],\n",
                        "        [ 0.1704,  0.0747, -0.0310,  ..., -0.2845, -0.0249, -0.0814]],\n",
                        "       device='cuda:0', grad_fn=<AddmmBackward0>)\n",
                        "08/11/2022 10:34:34 - INFO - bert_for_sentence:40 -  labels.shape is torch.Size([24])\n",
                        "08/11/2022 10:34:34 - INFO - bert_for_sentence:41 -  labels is tensor([131, 142, 140, 105, 134, 136,   7, 135,  28,   3, 133,   2, 105, 130,\n",
                        "        131, 136, 143,   9, 142, 140,  80,   1,   7,   7], device='cuda:0')\n"
                    ]
                },
                {
                    "name": "stdout",
                    "output_type": "stream",
                    "text": [
                        "\r",
                        "[Training] 5/3702 [..............................] - ETA: 20:39  loss: 4.8719 "
                    ]
                },
                {
                    "name": "stderr",
                    "output_type": "stream",
                    "text": [
                        "08/11/2022 10:34:34 - INFO - bert_for_sentence:38 -  logits.shape is torch.Size([24, 144])\n",
                        "08/11/2022 10:34:34 - INFO - bert_for_sentence:39 -  logits is tensor([[-0.3119,  0.1760,  0.1949,  ...,  0.3140,  1.0400,  0.4687],\n",
                        "        [-0.6969, -0.5260, -0.0640,  ..., -0.2488, -0.1827,  0.4489],\n",
                        "        [-0.4323, -0.5280,  0.1531,  ...,  0.1631, -0.0260,  0.4924],\n",
                        "        ...,\n",
                        "        [-0.0655, -0.1827,  0.1239,  ..., -0.8302, -0.2189,  0.6206],\n",
                        "        [ 0.4108, -0.1957,  0.6245,  ...,  0.0906,  0.0947,  0.3032],\n",
                        "        [ 0.2057, -0.2348,  0.6404,  ...,  0.1522, -0.3145,  0.4208]],\n",
                        "       device='cuda:0', grad_fn=<AddmmBackward0>)\n",
                        "08/11/2022 10:34:34 - INFO - bert_for_sentence:40 -  labels.shape is torch.Size([24])\n",
                        "08/11/2022 10:34:34 - INFO - bert_for_sentence:41 -  labels is tensor([132, 142,  80, 140, 133,  80, 139, 132, 138, 133,   6, 134,   2, 132,\n",
                        "        132, 129, 136, 142, 143, 134, 135, 138, 142, 137], device='cuda:0')\n"
                    ]
                },
                {
                    "name": "stdout",
                    "output_type": "stream",
                    "text": [
                        "\r",
                        "[Training] 6/3702 [..............................] - ETA: 19:58  loss: 4.8977 "
                    ]
                },
                {
                    "name": "stderr",
                    "output_type": "stream",
                    "text": [
                        "08/11/2022 10:34:34 - INFO - bert_for_sentence:38 -  logits.shape is torch.Size([24, 144])\n",
                        "08/11/2022 10:34:35 - INFO - bert_for_sentence:39 -  logits is tensor([[-0.6225, -0.7439,  0.1342,  ..., -0.8240,  0.6474,  1.1211],\n",
                        "        [-0.5153, -0.3708,  0.4037,  ..., -0.4790,  0.2570,  1.3114],\n",
                        "        [ 0.0194, -0.1410,  0.6169,  ..., -0.1768,  0.0769,  0.7396],\n",
                        "        ...,\n",
                        "        [-0.9183, -0.5197,  0.3664,  ..., -0.7424, -0.2394,  0.9406],\n",
                        "        [ 0.1427,  0.3406,  0.1075,  ...,  0.7428, -0.1829,  0.7262],\n",
                        "        [-0.4834, -0.1651,  0.4482,  ..., -0.3515,  0.2602,  0.7238]],\n",
                        "       device='cuda:0', grad_fn=<AddmmBackward0>)\n",
                        "08/11/2022 10:34:35 - INFO - bert_for_sentence:40 -  labels.shape is torch.Size([24])\n",
                        "08/11/2022 10:34:35 - INFO - bert_for_sentence:41 -  labels is tensor([140,  46, 130,   5,   4, 134, 138,  27,  44,  66, 140, 132, 139, 129,\n",
                        "          9, 129, 133, 143, 139, 142,  45, 137,   5,  95], device='cuda:0')\n"
                    ]
                },
                {
                    "name": "stdout",
                    "output_type": "stream",
                    "text": [
                        "\r",
                        "[Training] 7/3702 [..............................] - ETA: 19:28  loss: 4.7411 "
                    ]
                },
                {
                    "name": "stderr",
                    "output_type": "stream",
                    "text": [
                        "08/11/2022 10:34:35 - INFO - bert_for_sentence:38 -  logits.shape is torch.Size([24, 144])\n",
                        "08/11/2022 10:34:35 - INFO - bert_for_sentence:39 -  logits is tensor([[-0.2477,  0.0133,  0.3483,  ..., -0.2101,  0.1950,  0.3478],\n",
                        "        [-0.2117, -0.2832,  0.6275,  ..., -0.4052,  0.6431,  0.8808],\n",
                        "        [-0.2762, -0.5249,  0.7293,  ..., -0.3253,  0.2928,  0.4302],\n",
                        "        ...,\n",
                        "        [-0.3543, -0.1687,  0.4784,  ..., -0.6865, -0.0134,  0.6233],\n",
                        "        [-0.7742, -0.4223,  0.3767,  ..., -0.5451,  0.4436,  0.6916],\n",
                        "        [ 0.5667,  0.1528,  0.2149,  ...,  0.2614,  0.8198,  0.5279]],\n",
                        "       device='cuda:0', grad_fn=<AddmmBackward0>)\n",
                        "08/11/2022 10:34:35 - INFO - bert_for_sentence:40 -  labels.shape is torch.Size([24])\n",
                        "08/11/2022 10:34:35 - INFO - bert_for_sentence:41 -  labels is tensor([133,   6,  81, 134,  38, 131, 133, 126,   0, 132, 138, 139,   2, 132,\n",
                        "          7,   4,   2, 133, 143, 143, 136,  80, 135, 138], device='cuda:0')\n"
                    ]
                },
                {
                    "name": "stdout",
                    "output_type": "stream",
                    "text": [
                        "\r",
                        "[Training] 8/3702 [..............................] - ETA: 19:06  loss: 4.8170 "
                    ]
                },
                {
                    "name": "stderr",
                    "output_type": "stream",
                    "text": [
                        "08/11/2022 10:34:35 - INFO - bert_for_sentence:38 -  logits.shape is torch.Size([24, 144])\n",
                        "08/11/2022 10:34:35 - INFO - bert_for_sentence:39 -  logits is tensor([[-0.6293, -0.1640, -0.0554,  ..., -0.5526,  0.7957,  0.6581],\n",
                        "        [-0.3776, -0.2663,  0.1787,  ..., -0.2920,  0.0287,  0.5162],\n",
                        "        [-0.5791, -0.4560,  0.0723,  ..., -0.2126, -0.0134,  0.6281],\n",
                        "        ...,\n",
                        "        [-0.3015, -0.2015,  0.4140,  ..., -0.1503,  0.0856,  0.8272],\n",
                        "        [-0.3260, -0.1797,  0.4978,  ..., -0.4953,  0.1280,  0.4471],\n",
                        "        [-0.8624, -0.0106,  0.6369,  ..., -0.2729, -0.1517,  0.5039]],\n",
                        "       device='cuda:0', grad_fn=<AddmmBackward0>)\n",
                        "08/11/2022 10:34:35 - INFO - bert_for_sentence:40 -  labels.shape is torch.Size([24])\n",
                        "08/11/2022 10:34:35 - INFO - bert_for_sentence:41 -  labels is tensor([137, 143,   8, 136, 132,  84,   4, 133,   6,   8, 137, 130,   3, 105,\n",
                        "          0,  22, 135,  26,   1, 139,  64, 134,  81, 116], device='cuda:0')\n"
                    ]
                },
                {
                    "name": "stdout",
                    "output_type": "stream",
                    "text": [
                        "\r",
                        "[Training] 9/3702 [..............................] - ETA: 18:49  loss: 4.7032 "
                    ]
                },
                {
                    "name": "stderr",
                    "output_type": "stream",
                    "text": [
                        "08/11/2022 10:34:35 - INFO - bert_for_sentence:38 -  logits.shape is torch.Size([24, 144])\n",
                        "08/11/2022 10:34:35 - INFO - bert_for_sentence:39 -  logits is tensor([[-0.3662, -0.3276,  0.3510,  ..., -0.1203, -0.1324,  0.4855],\n",
                        "        [-0.8530, -0.0210,  0.0451,  ..., -0.2824,  0.6090,  0.7616],\n",
                        "        [-0.9555, -0.2877,  0.6135,  ..., -0.0854,  0.0423,  0.7714],\n",
                        "        ...,\n",
                        "        [-0.0656, -0.2590,  0.9080,  ..., -0.1304, -0.0469,  0.5368],\n",
                        "        [ 0.1028,  0.0055,  0.8555,  ..., -0.0047,  0.4853,  0.7244],\n",
                        "        [-0.3981, -0.1018,  0.0161,  ..., -0.2231,  0.2480,  0.6907]],\n",
                        "       device='cuda:0', grad_fn=<AddmmBackward0>)\n",
                        "08/11/2022 10:34:35 - INFO - bert_for_sentence:40 -  labels.shape is torch.Size([24])\n",
                        "08/11/2022 10:34:35 - INFO - bert_for_sentence:41 -  labels is tensor([135, 142, 137, 130,   7, 136, 135,   0, 136, 129,   7, 130, 143, 131,\n",
                        "          6,   5, 136, 129,   0, 133,   2, 138, 105, 135], device='cuda:0')\n"
                    ]
                },
                {
                    "name": "stdout",
                    "output_type": "stream",
                    "text": [
                        "\r",
                        "[Training] 10/3702 [..............................] - ETA: 18:36  loss: 4.9086 "
                    ]
                },
                {
                    "name": "stderr",
                    "output_type": "stream",
                    "text": [
                        "08/11/2022 10:34:36 - INFO - bert_for_sentence:38 -  logits.shape is torch.Size([24, 144])\n",
                        "08/11/2022 10:34:36 - INFO - bert_for_sentence:39 -  logits is tensor([[-0.1741,  0.0319,  0.4643,  ..., -0.1277, -0.2432,  0.7983],\n",
                        "        [-0.7379, -0.0209,  0.4573,  ..., -0.9984,  0.4000,  0.9361],\n",
                        "        [-0.5968, -0.0875,  0.0469,  ..., -0.8152,  0.4041,  1.4468],\n",
                        "        ...,\n",
                        "        [-0.4666, -0.0694,  0.5749,  ..., -0.3488,  0.3971,  0.4925],\n",
                        "        [-0.7022, -0.0335,  0.2798,  ..., -0.2143,  0.5592,  0.7699],\n",
                        "        [-0.6455, -0.0671, -0.1585,  ..., -0.3334, -0.0428,  0.8942]],\n",
                        "       device='cuda:0', grad_fn=<AddmmBackward0>)\n",
                        "08/11/2022 10:34:36 - INFO - bert_for_sentence:40 -  labels.shape is torch.Size([24])\n",
                        "08/11/2022 10:34:36 - INFO - bert_for_sentence:41 -  labels is tensor([ 80,  80, 133, 143, 142, 142, 130,   3, 132,   4, 132, 129,   8,   8,\n",
                        "        135,   4, 139, 128, 137,   6,  59, 131, 142, 143], device='cuda:0')\n"
                    ]
                },
                {
                    "name": "stdout",
                    "output_type": "stream",
                    "text": [
                        "\r",
                        "[Training] 11/3702 [..............................] - ETA: 18:24  loss: 4.6830 "
                    ]
                },
                {
                    "name": "stderr",
                    "output_type": "stream",
                    "text": [
                        "08/11/2022 10:34:36 - INFO - bert_for_sentence:38 -  logits.shape is torch.Size([24, 144])\n",
                        "08/11/2022 10:34:36 - INFO - bert_for_sentence:39 -  logits is tensor([[-0.5648, -0.1322,  0.0581,  ..., -0.4277,  0.2051,  0.9200],\n",
                        "        [-0.7517, -0.1741,  0.2976,  ..., -0.7205,  0.9059,  1.1438],\n",
                        "        [-0.4230, -0.0118,  0.2190,  ..., -0.4468,  0.2174,  1.2661],\n",
                        "        ...,\n",
                        "        [-0.3030, -0.0641,  0.7045,  ..., -0.5332,  0.6757,  0.9934],\n",
                        "        [-0.5484, -0.2459,  0.3554,  ..., -0.7315,  0.8918,  0.9833],\n",
                        "        [-0.2486, -0.0774,  0.2845,  ..., -0.2098,  0.3922,  0.8194]],\n",
                        "       device='cuda:0', grad_fn=<AddmmBackward0>)\n",
                        "08/11/2022 10:34:36 - INFO - bert_for_sentence:40 -  labels.shape is torch.Size([24])\n",
                        "08/11/2022 10:34:36 - INFO - bert_for_sentence:41 -  labels is tensor([  3, 142, 132,   8,   6, 143, 140, 130, 123, 142,  88,   2, 123,  59,\n",
                        "        130,   0,   6,  32,   3, 136,   6, 142, 134, 140], device='cuda:0')\n"
                    ]
                },
                {
                    "name": "stdout",
                    "output_type": "stream",
                    "text": [
                        "\r",
                        "[Training] 12/3702 [..............................] - ETA: 18:15  loss: 4.6346 "
                    ]
                },
                {
                    "name": "stderr",
                    "output_type": "stream",
                    "text": [
                        "08/11/2022 10:34:36 - INFO - bert_for_sentence:38 -  logits.shape is torch.Size([24, 144])\n",
                        "08/11/2022 10:34:36 - INFO - bert_for_sentence:39 -  logits is tensor([[-0.4572,  0.1354,  0.0390,  ..., -0.4509,  0.6989,  0.8076],\n",
                        "        [-0.1304,  0.0780, -0.1259,  ..., -0.2619,  1.1755,  1.0080],\n",
                        "        [-0.0795,  0.0092,  0.5166,  ..., -0.2267,  0.8196,  0.7038],\n",
                        "        ...,\n",
                        "        [ 0.2333, -0.1859,  0.5830,  ...,  0.2748,  0.0062,  0.2270],\n",
                        "        [-0.6418,  0.0335,  0.3676,  ..., -0.4288,  0.8202,  1.3258],\n",
                        "        [-0.7960, -0.1116,  0.1371,  ..., -0.6447,  0.5413,  0.7732]],\n",
                        "       device='cuda:0', grad_fn=<AddmmBackward0>)\n",
                        "08/11/2022 10:34:36 - INFO - bert_for_sentence:40 -  labels.shape is torch.Size([24])\n",
                        "08/11/2022 10:34:36 - INFO - bert_for_sentence:41 -  labels is tensor([ 56, 137,   4, 139,   2, 137, 121, 139,  23,  80, 143, 137, 105, 105,\n",
                        "          3,   0,   7, 138, 139, 131, 138,   6, 135, 132], device='cuda:0')\n"
                    ]
                },
                {
                    "name": "stdout",
                    "output_type": "stream",
                    "text": [
                        "\r",
                        "[Training] 13/3702 [..............................] - ETA: 18:06  loss: 4.7591 "
                    ]
                },
                {
                    "name": "stderr",
                    "output_type": "stream",
                    "text": [
                        "08/11/2022 10:34:36 - INFO - bert_for_sentence:38 -  logits.shape is torch.Size([24, 144])\n",
                        "08/11/2022 10:34:36 - INFO - bert_for_sentence:39 -  logits is tensor([[ 3.1833e-04, -9.7517e-02,  2.6141e-01,  ..., -9.6828e-02,\n",
                        "          6.7831e-01,  3.6564e-01],\n",
                        "        [-1.4325e-01, -1.6541e-02,  6.3069e-01,  ...,  2.3186e-01,\n",
                        "          3.1085e-01,  1.1799e+00],\n",
                        "        [-2.2176e-01,  7.1573e-02,  8.6435e-01,  ...,  3.8014e-01,\n",
                        "          8.4134e-01,  6.1591e-01],\n",
                        "        ...,\n",
                        "        [-3.5084e-01, -2.8388e-02,  1.4632e-01,  ..., -1.0655e+00,\n",
                        "          6.1926e-01,  1.3324e+00],\n",
                        "        [-6.1792e-01, -1.2372e-01,  2.6184e-02,  ..., -6.5691e-01,\n",
                        "          5.9505e-01,  6.6248e-01],\n",
                        "        [-9.9288e-01, -2.2755e-01, -1.7333e-01,  ..., -9.0844e-01,\n",
                        "          5.0858e-01,  1.0027e+00]], device='cuda:0', grad_fn=<AddmmBackward0>)\n",
                        "08/11/2022 10:34:36 - INFO - bert_for_sentence:40 -  labels.shape is torch.Size([24])\n",
                        "08/11/2022 10:34:36 - INFO - bert_for_sentence:41 -  labels is tensor([ 80, 133,   8,   8, 137, 140,   5, 143, 108,   0, 143, 133, 137, 138,\n",
                        "        134, 132, 131, 143, 140, 133, 140, 139, 131,  27], device='cuda:0')\n"
                    ]
                },
                {
                    "name": "stdout",
                    "output_type": "stream",
                    "text": [
                        "\r",
                        "[Training] 14/3702 [..............................] - ETA: 17:59  loss: 4.6847 "
                    ]
                },
                {
                    "name": "stderr",
                    "output_type": "stream",
                    "text": [
                        "08/11/2022 10:34:37 - INFO - bert_for_sentence:38 -  logits.shape is torch.Size([24, 144])\n",
                        "08/11/2022 10:34:37 - INFO - bert_for_sentence:39 -  logits is tensor([[-0.8968,  0.0628, -0.0385,  ..., -0.6616,  0.4004,  1.2775],\n",
                        "        [-0.7297,  0.0334,  0.0029,  ..., -0.6365,  0.8047,  0.8437],\n",
                        "        [-0.1171,  0.2816,  0.4463,  ..., -0.0379,  0.1951,  0.7231],\n",
                        "        ...,\n",
                        "        [-0.5201,  0.0960,  0.7021,  ...,  0.3206,  0.5704,  0.6316],\n",
                        "        [-0.7858,  0.0621,  0.3388,  ..., -0.5801,  0.8505,  1.3097],\n",
                        "        [-0.1756,  0.0741,  0.7545,  ..., -0.0709,  0.2538,  1.1646]],\n",
                        "       device='cuda:0', grad_fn=<AddmmBackward0>)\n",
                        "08/11/2022 10:34:37 - INFO - bert_for_sentence:40 -  labels.shape is torch.Size([24])\n",
                        "08/11/2022 10:34:37 - INFO - bert_for_sentence:41 -  labels is tensor([132, 135,   8,  56,   9,   2, 132, 134,  80, 132,   2, 133, 131, 138,\n",
                        "        131, 139, 133, 132, 132,   2, 143,   6, 137,  44], device='cuda:0')\n"
                    ]
                },
                {
                    "name": "stdout",
                    "output_type": "stream",
                    "text": [
                        "\r",
                        "[Training] 15/3702 [..............................] - ETA: 17:53  loss: 4.4623 "
                    ]
                },
                {
                    "name": "stderr",
                    "output_type": "stream",
                    "text": [
                        "08/11/2022 10:34:37 - INFO - bert_for_sentence:38 -  logits.shape is torch.Size([24, 144])\n",
                        "08/11/2022 10:34:37 - INFO - bert_for_sentence:39 -  logits is tensor([[-0.5213,  0.2506,  0.0811,  ..., -0.1186,  0.5734,  0.8912],\n",
                        "        [ 0.1691,  0.1181,  0.9038,  ...,  0.6262,  0.4254,  0.1460],\n",
                        "        [-0.8278,  0.0532,  0.2285,  ..., -0.7439,  0.4039,  1.0929],\n",
                        "        ...,\n",
                        "        [-0.3293,  0.2452,  0.6049,  ..., -0.3092,  0.3702,  0.8900],\n",
                        "        [-0.7514,  0.0518,  0.3574,  ..., -0.4042,  0.7448,  1.4276],\n",
                        "        [-0.7757,  0.2839,  0.1809,  ..., -0.3526,  0.8118,  1.1475]],\n",
                        "       device='cuda:0', grad_fn=<AddmmBackward0>)\n",
                        "08/11/2022 10:34:37 - INFO - bert_for_sentence:40 -  labels.shape is torch.Size([24])\n",
                        "08/11/2022 10:34:37 - INFO - bert_for_sentence:41 -  labels is tensor([ 31,   2, 116, 136, 142, 137, 131, 116, 134,   8,  32, 132,   4,   9,\n",
                        "        131,  14, 133, 133, 138, 130, 135,  52,   2, 142], device='cuda:0')\n"
                    ]
                },
                {
                    "name": "stdout",
                    "output_type": "stream",
                    "text": [
                        "\r",
                        "[Training] 16/3702 [..............................] - ETA: 17:48  loss: 4.4679 "
                    ]
                },
                {
                    "name": "stderr",
                    "output_type": "stream",
                    "text": [
                        "08/11/2022 10:34:37 - INFO - bert_for_sentence:38 -  logits.shape is torch.Size([24, 144])\n",
                        "08/11/2022 10:34:37 - INFO - bert_for_sentence:39 -  logits is tensor([[-0.1770, -0.2036,  0.6053,  ..., -0.7058,  0.9756,  0.8702],\n",
                        "        [-0.5140,  0.2196,  0.2246,  ..., -0.2862,  0.4667,  1.1373],\n",
                        "        [ 0.0715, -0.1036,  0.3848,  ..., -0.1158,  0.3036,  0.8950],\n",
                        "        ...,\n",
                        "        [ 0.3554,  0.1386,  0.8067,  ...,  0.0952,  0.8034,  1.0292],\n",
                        "        [-0.1096,  0.2154,  0.1726,  ..., -0.5641,  0.9804,  1.1299],\n",
                        "        [-0.9082, -0.3914, -0.3483,  ..., -0.9123,  0.5767,  0.6404]],\n",
                        "       device='cuda:0', grad_fn=<AddmmBackward0>)\n",
                        "08/11/2022 10:34:37 - INFO - bert_for_sentence:40 -  labels.shape is torch.Size([24])\n",
                        "08/11/2022 10:34:37 - INFO - bert_for_sentence:41 -  labels is tensor([138, 132,   7,   6,   6, 136,  30,   0, 131,   8, 143, 106, 133,   0,\n",
                        "          5,   5,   8, 133, 142,  63, 138, 135, 137,   1], device='cuda:0')\n"
                    ]
                },
                {
                    "name": "stdout",
                    "output_type": "stream",
                    "text": [
                        "\r",
                        "[Training] 17/3702 [..............................] - ETA: 17:43  loss: 4.6352 "
                    ]
                },
                {
                    "name": "stderr",
                    "output_type": "stream",
                    "text": [
                        "08/11/2022 10:34:37 - INFO - bert_for_sentence:38 -  logits.shape is torch.Size([24, 144])\n",
                        "08/11/2022 10:34:37 - INFO - bert_for_sentence:39 -  logits is tensor([[ 0.4218,  0.3815,  0.6017,  ...,  0.4079,  1.0258,  1.2768],\n",
                        "        [-0.4149,  0.0600,  0.6002,  ...,  0.0237,  0.4653,  0.6368],\n",
                        "        [ 0.8644,  0.2207,  1.1504,  ...,  0.7324, -0.0150,  0.5061],\n",
                        "        ...,\n",
                        "        [-0.2806,  0.0231,  0.6841,  ..., -0.3299,  0.4472,  0.9853],\n",
                        "        [ 0.1174,  0.0304,  0.3867,  ..., -0.1776,  0.5312,  0.7166],\n",
                        "        [-0.3489,  0.0558,  0.0380,  ..., -0.4312,  0.6967,  1.1220]],\n",
                        "       device='cuda:0', grad_fn=<AddmmBackward0>)\n",
                        "08/11/2022 10:34:37 - INFO - bert_for_sentence:40 -  labels.shape is torch.Size([24])\n",
                        "08/11/2022 10:34:37 - INFO - bert_for_sentence:41 -  labels is tensor([  6,   0,   0, 138,  51, 133, 131, 143, 131,  17, 137, 142,  23, 133,\n",
                        "        136, 132,   7,  31, 130, 143, 139, 133, 140, 143], device='cuda:0')\n"
                    ]
                },
                {
                    "name": "stdout",
                    "output_type": "stream",
                    "text": [
                        "\r",
                        "[Training] 18/3702 [..............................] - ETA: 17:39  loss: 4.5629 "
                    ]
                },
                {
                    "name": "stderr",
                    "output_type": "stream",
                    "text": [
                        "08/11/2022 10:34:38 - INFO - bert_for_sentence:38 -  logits.shape is torch.Size([24, 144])\n",
                        "08/11/2022 10:34:38 - INFO - bert_for_sentence:39 -  logits is tensor([[-0.0837,  0.1629,  0.0633,  ..., -0.1992,  0.8305,  1.1964],\n",
                        "        [-0.3383,  0.2240,  0.2865,  ..., -0.8317,  1.0534,  1.5348],\n",
                        "        [-0.5960,  0.0452,  0.0776,  ..., -0.7401,  0.6475,  1.2665],\n",
                        "        ...,\n",
                        "        [-0.1256,  0.0067, -0.0473,  ..., -0.6781,  0.9773,  1.5320],\n",
                        "        [-0.0824, -0.1759,  0.3264,  ..., -0.2902,  0.4719,  0.8158],\n",
                        "        [ 0.6401, -0.4449,  0.9684,  ..., -0.1917,  0.3495,  0.8160]],\n",
                        "       device='cuda:0', grad_fn=<AddmmBackward0>)\n",
                        "08/11/2022 10:34:38 - INFO - bert_for_sentence:40 -  labels.shape is torch.Size([24])\n",
                        "08/11/2022 10:34:38 - INFO - bert_for_sentence:41 -  labels is tensor([139, 136,   1,  80,  80, 130,   2, 132, 137, 135,   1,   0,   4, 136,\n",
                        "        137, 130, 135,   2,   1,   6,   8, 130,   6,   2], device='cuda:0')\n"
                    ]
                },
                {
                    "name": "stdout",
                    "output_type": "stream",
                    "text": [
                        "\r",
                        "[Training] 19/3702 [..............................] - ETA: 17:35  loss: 4.3918 "
                    ]
                },
                {
                    "name": "stderr",
                    "output_type": "stream",
                    "text": [
                        "08/11/2022 10:34:38 - INFO - bert_for_sentence:38 -  logits.shape is torch.Size([24, 144])\n",
                        "08/11/2022 10:34:38 - INFO - bert_for_sentence:39 -  logits is tensor([[ 0.2452,  0.1854,  0.4528,  ...,  0.0930,  0.5274,  0.7842],\n",
                        "        [-0.7448,  0.1988,  0.1037,  ..., -0.5059,  0.6925,  1.1283],\n",
                        "        [-0.0114,  0.1774,  0.9777,  ...,  0.1405,  0.4282,  1.1679],\n",
                        "        ...,\n",
                        "        [-0.0383,  0.2531,  0.2727,  ..., -0.5623,  0.7446,  1.0889],\n",
                        "        [-0.1297,  0.3632,  0.7582,  ..., -0.5123,  0.4208,  1.3902],\n",
                        "        [-0.1083,  0.2924,  0.5193,  ..., -0.1432,  0.5680,  0.9785]],\n",
                        "       device='cuda:0', grad_fn=<AddmmBackward0>)\n",
                        "08/11/2022 10:34:38 - INFO - bert_for_sentence:40 -  labels.shape is torch.Size([24])\n",
                        "08/11/2022 10:34:38 - INFO - bert_for_sentence:41 -  labels is tensor([ 63,   3,  80,   2,  58, 133, 111,   6, 138,   6, 136,  80,  48,   7,\n",
                        "        133,   8, 134,   1, 140,   6,  45, 140, 131, 142], device='cuda:0')\n"
                    ]
                },
                {
                    "name": "stdout",
                    "output_type": "stream",
                    "text": [
                        "\r",
                        "[Training] 20/3702 [..............................] - ETA: 17:31  loss: 4.3915 "
                    ]
                },
                {
                    "name": "stderr",
                    "output_type": "stream",
                    "text": [
                        "08/11/2022 10:34:38 - INFO - bert_for_sentence:38 -  logits.shape is torch.Size([24, 144])\n",
                        "08/11/2022 10:34:38 - INFO - bert_for_sentence:39 -  logits is tensor([[-0.4556,  0.0492,  0.7539,  ..., -0.7969,  1.0530,  1.0099],\n",
                        "        [-0.0749, -0.0076,  0.5157,  ..., -0.6881,  0.6417,  0.9385],\n",
                        "        [-0.5159, -0.1269, -0.1580,  ..., -0.9783,  1.2506,  1.1971],\n",
                        "        ...,\n",
                        "        [ 0.0669,  0.2543,  1.0022,  ..., -0.0925,  0.4699,  0.9728],\n",
                        "        [ 0.3482,  0.1196,  1.0351,  ...,  0.5399,  0.5506,  0.6184],\n",
                        "        [ 0.3524, -0.0514,  0.5099,  ..., -0.1870,  0.6189,  0.8112]],\n",
                        "       device='cuda:0', grad_fn=<AddmmBackward0>)\n",
                        "08/11/2022 10:34:38 - INFO - bert_for_sentence:40 -  labels.shape is torch.Size([24])\n",
                        "08/11/2022 10:34:38 - INFO - bert_for_sentence:41 -  labels is tensor([142, 133, 131, 112, 133,  80, 140, 140,  66,   0, 137, 133,   8, 140,\n",
                        "        142,   5,   7, 133, 143,  80, 130,  56,   6,   7], device='cuda:0')\n"
                    ]
                },
                {
                    "name": "stdout",
                    "output_type": "stream",
                    "text": [
                        "\r",
                        "[Training] 21/3702 [..............................] - ETA: 17:28  loss: 4.5103 "
                    ]
                },
                {
                    "name": "stderr",
                    "output_type": "stream",
                    "text": [
                        "08/11/2022 10:34:38 - INFO - bert_for_sentence:38 -  logits.shape is torch.Size([24, 144])\n",
                        "08/11/2022 10:34:39 - INFO - bert_for_sentence:39 -  logits is tensor([[ 0.6596,  0.6383,  1.0169,  ...,  0.1585,  0.4916,  0.8568],\n",
                        "        [-0.0131, -0.0585,  0.2735,  ..., -0.3324,  0.4756,  0.9177],\n",
                        "        [-0.1941,  0.4361,  0.6108,  ..., -0.3703,  0.9889,  0.8729],\n",
                        "        ...,\n",
                        "        [ 0.0835,  0.5818,  0.5215,  ..., -0.0608,  1.0154,  0.9936],\n",
                        "        [-0.1086,  0.0622,  0.3379,  ..., -0.3637,  0.9606,  1.4528],\n",
                        "        [-0.1282,  0.0294,  0.8664,  ..., -0.0147,  0.6296,  1.0394]],\n",
                        "       device='cuda:0', grad_fn=<AddmmBackward0>)\n",
                        "08/11/2022 10:34:39 - INFO - bert_for_sentence:40 -  labels.shape is torch.Size([24])\n",
                        "08/11/2022 10:34:39 - INFO - bert_for_sentence:41 -  labels is tensor([  8,   9,  46, 140,   7,   6, 137, 135, 139, 133,   8, 140,   0, 132,\n",
                        "        131, 142, 142, 134, 132,  27, 130, 139, 137,   6], device='cuda:0')\n"
                    ]
                },
                {
                    "name": "stdout",
                    "output_type": "stream",
                    "text": [
                        "\r",
                        "[Training] 22/3702 [..............................] - ETA: 17:26  loss: 4.3105 "
                    ]
                },
                {
                    "name": "stderr",
                    "output_type": "stream",
                    "text": [
                        "08/11/2022 10:34:39 - INFO - bert_for_sentence:38 -  logits.shape is torch.Size([24, 144])\n",
                        "08/11/2022 10:34:39 - INFO - bert_for_sentence:39 -  logits is tensor([[-0.0307,  0.2326,  0.4607,  ..., -0.3909,  0.9534,  0.8866],\n",
                        "        [-0.3755,  0.1662,  0.2673,  ..., -0.6470,  0.7965,  1.2973],\n",
                        "        [-0.6189, -0.1177,  0.4467,  ..., -0.8594,  1.3637,  1.0653],\n",
                        "        ...,\n",
                        "        [-0.2971, -0.0317,  0.5862,  ..., -0.2915,  0.9416,  1.1251],\n",
                        "        [-0.3439,  0.1061,  0.6834,  ..., -0.7401,  1.1937,  1.0286],\n",
                        "        [-0.1209,  0.1334,  0.5824,  ..., -0.5158,  1.0279,  1.3555]],\n",
                        "       device='cuda:0', grad_fn=<AddmmBackward0>)\n",
                        "08/11/2022 10:34:39 - INFO - bert_for_sentence:40 -  labels.shape is torch.Size([24])\n",
                        "08/11/2022 10:34:39 - INFO - bert_for_sentence:41 -  labels is tensor([137, 131, 137, 139, 132, 137, 130, 138,   7,   2, 136, 130,  23, 137,\n",
                        "        123,   4, 139, 133,   5,  27,   6,  28, 140, 133], device='cuda:0')\n"
                    ]
                },
                {
                    "name": "stdout",
                    "output_type": "stream",
                    "text": [
                        "\r",
                        "[Training] 23/3702 [..............................] - ETA: 17:23  loss: 4.2666 "
                    ]
                },
                {
                    "name": "stderr",
                    "output_type": "stream",
                    "text": [
                        "08/11/2022 10:34:39 - INFO - bert_for_sentence:38 -  logits.shape is torch.Size([24, 144])\n",
                        "08/11/2022 10:34:39 - INFO - bert_for_sentence:39 -  logits is tensor([[-0.3793,  0.0643,  0.6586,  ..., -0.5959,  0.7340,  1.1521],\n",
                        "        [-0.1369,  0.0475,  0.6886,  ..., -0.3772,  0.9576,  1.0456],\n",
                        "        [ 0.6372,  0.3171,  0.5787,  ..., -0.1588,  0.5304,  0.9515],\n",
                        "        ...,\n",
                        "        [-0.2486,  0.2136,  0.5361,  ..., -0.5523,  0.8755,  1.1881],\n",
                        "        [-0.4224,  0.2003,  0.4116,  ..., -0.6683,  0.9849,  1.2691],\n",
                        "        [-0.5787,  0.3286,  0.6034,  ..., -0.4434,  1.2724,  1.2848]],\n",
                        "       device='cuda:0', grad_fn=<AddmmBackward0>)\n",
                        "08/11/2022 10:34:39 - INFO - bert_for_sentence:40 -  labels.shape is torch.Size([24])\n",
                        "08/11/2022 10:34:39 - INFO - bert_for_sentence:41 -  labels is tensor([137, 136,  30,   7, 134, 130, 136,   4,   6, 131, 140,  80,   5, 137,\n",
                        "        140, 136, 133, 137, 123, 139,  63,  80, 137,   2], device='cuda:0')\n"
                    ]
                },
                {
                    "name": "stdout",
                    "output_type": "stream",
                    "text": [
                        "\r",
                        "[Training] 24/3702 [..............................] - ETA: 17:20  loss: 4.2697 "
                    ]
                },
                {
                    "name": "stderr",
                    "output_type": "stream",
                    "text": [
                        "08/11/2022 10:34:39 - INFO - bert_for_sentence:38 -  logits.shape is torch.Size([24, 144])\n",
                        "08/11/2022 10:34:39 - INFO - bert_for_sentence:39 -  logits is tensor([[-0.7218,  0.2394,  0.2204,  ..., -0.7599,  0.9029,  1.2576],\n",
                        "        [ 0.2788,  0.6500,  0.7916,  ...,  0.0384,  0.8024,  1.2057],\n",
                        "        [-0.2854,  0.0624,  0.6285,  ..., -0.6425,  1.3163,  1.5918],\n",
                        "        ...,\n",
                        "        [-0.1599,  0.3023,  0.2334,  ..., -0.5724,  0.9227,  1.2859],\n",
                        "        [ 0.0590,  0.0720,  0.5902,  ..., -0.9777,  1.1703,  1.1225],\n",
                        "        [ 0.1504,  0.1760,  0.8513,  ..., -0.0358,  0.8418,  1.2144]],\n",
                        "       device='cuda:0', grad_fn=<AddmmBackward0>)\n",
                        "08/11/2022 10:34:39 - INFO - bert_for_sentence:40 -  labels.shape is torch.Size([24])\n",
                        "08/11/2022 10:34:39 - INFO - bert_for_sentence:41 -  labels is tensor([138,   3, 138, 131,   4, 140, 130, 134,   0, 140,   8, 133,   6,   9,\n",
                        "        136, 130, 137,   3, 143, 133, 132,   5, 138,  81], device='cuda:0')\n"
                    ]
                },
                {
                    "name": "stdout",
                    "output_type": "stream",
                    "text": [
                        "\r",
                        "[Training] 25/3702 [..............................] - ETA: 17:18  loss: 4.3389 "
                    ]
                },
                {
                    "name": "stderr",
                    "output_type": "stream",
                    "text": [
                        "08/11/2022 10:34:40 - INFO - bert_for_sentence:38 -  logits.shape is torch.Size([24, 144])\n",
                        "08/11/2022 10:34:40 - INFO - bert_for_sentence:39 -  logits is tensor([[-0.0614, -0.2498,  0.2921,  ..., -0.7493,  0.3938,  0.9226],\n",
                        "        [-0.4144,  0.0528,  0.6348,  ..., -1.0200,  0.9681,  1.2215],\n",
                        "        [-0.1338,  0.2037,  0.4110,  ..., -1.0415,  1.1934,  1.2297],\n",
                        "        ...,\n",
                        "        [-0.5921,  0.0791,  0.4863,  ..., -0.7591,  1.2673,  1.0130],\n",
                        "        [-0.4388,  0.2624,  0.3452,  ..., -0.7778,  0.8607,  1.4766],\n",
                        "        [ 0.7127,  0.1351,  1.1206,  ...,  0.1806,  0.6354,  0.6585]],\n",
                        "       device='cuda:0', grad_fn=<AddmmBackward0>)\n",
                        "08/11/2022 10:34:40 - INFO - bert_for_sentence:40 -  labels.shape is torch.Size([24])\n",
                        "08/11/2022 10:34:40 - INFO - bert_for_sentence:41 -  labels is tensor([  8, 138,  80,   6,   6, 131, 138,   5, 135, 130,  64, 137,   4,   0,\n",
                        "        137,  27,   3, 133, 138, 133, 140,   5, 130, 105], device='cuda:0')\n"
                    ]
                },
                {
                    "name": "stdout",
                    "output_type": "stream",
                    "text": [
                        "\r",
                        "[Training] 26/3702 [..............................] - ETA: 17:16  loss: 4.1666 "
                    ]
                },
                {
                    "name": "stderr",
                    "output_type": "stream",
                    "text": [
                        "08/11/2022 10:34:40 - INFO - bert_for_sentence:38 -  logits.shape is torch.Size([24, 144])\n",
                        "08/11/2022 10:34:40 - INFO - bert_for_sentence:39 -  logits is tensor([[ 0.1594,  0.1626,  0.8837,  ..., -0.0284,  0.5791,  0.6736],\n",
                        "        [-0.7094,  0.0446,  0.3333,  ..., -0.8653,  1.1810,  0.9055],\n",
                        "        [-0.4176, -0.3042,  0.4800,  ..., -0.8358,  1.1927,  1.2586],\n",
                        "        ...,\n",
                        "        [ 0.7103,  0.0590,  1.3816,  ..., -0.0573,  0.6619,  0.9074],\n",
                        "        [ 0.8244, -0.0952,  1.1843,  ...,  0.5049,  0.5222,  0.6510],\n",
                        "        [ 0.0549,  0.2208,  0.6703,  ..., -0.5314,  0.7971,  0.8729]],\n",
                        "       device='cuda:0', grad_fn=<AddmmBackward0>)\n",
                        "08/11/2022 10:34:40 - INFO - bert_for_sentence:40 -  labels.shape is torch.Size([24])\n",
                        "08/11/2022 10:34:40 - INFO - bert_for_sentence:41 -  labels is tensor([  0, 137, 135,  27,  80,   2,  80, 139,   6, 134,   9,   6, 134,   6,\n",
                        "          3,   7,   8, 130,   0, 133, 138,   7,   9, 107], device='cuda:0')\n"
                    ]
                },
                {
                    "name": "stdout",
                    "output_type": "stream",
                    "text": [
                        "\r",
                        "[Training] 27/3702 [..............................] - ETA: 17:14  loss: 4.1421 "
                    ]
                },
                {
                    "name": "stderr",
                    "output_type": "stream",
                    "text": [
                        "08/11/2022 10:34:40 - INFO - bert_for_sentence:38 -  logits.shape is torch.Size([24, 144])\n",
                        "08/11/2022 10:34:40 - INFO - bert_for_sentence:39 -  logits is tensor([[-0.3855, -0.0656,  0.4523,  ..., -0.8891,  0.9041,  1.4236],\n",
                        "        [-0.5270, -0.1808,  0.0587,  ..., -0.7782,  0.9837,  1.1396],\n",
                        "        [-0.4592, -0.1410,  0.1138,  ..., -0.6756,  1.5411,  1.2785],\n",
                        "        ...,\n",
                        "        [ 0.3320, -0.0275,  0.7449,  ..., -0.3834,  0.8887,  0.9455],\n",
                        "        [-0.2187,  0.1883,  0.3088,  ..., -0.7593,  0.9785,  1.0235],\n",
                        "        [ 0.2462,  0.4044,  0.4277,  ..., -0.1151,  1.1632,  1.2103]],\n",
                        "       device='cuda:0', grad_fn=<AddmmBackward0>)\n",
                        "08/11/2022 10:34:40 - INFO - bert_for_sentence:40 -  labels.shape is torch.Size([24])\n",
                        "08/11/2022 10:34:40 - INFO - bert_for_sentence:41 -  labels is tensor([130, 132, 131, 130, 130, 137, 129,   8,   7, 143,  38, 136,   6, 140,\n",
                        "        134, 130, 137,   3, 137, 137, 131,   2, 131,   7], device='cuda:0')\n"
                    ]
                },
                {
                    "name": "stdout",
                    "output_type": "stream",
                    "text": [
                        "\r",
                        "[Training] 28/3702 [..............................] - ETA: 17:12  loss: 4.3138 "
                    ]
                },
                {
                    "name": "stderr",
                    "output_type": "stream",
                    "text": [
                        "08/11/2022 10:34:40 - INFO - bert_for_sentence:38 -  logits.shape is torch.Size([24, 144])\n",
                        "08/11/2022 10:34:40 - INFO - bert_for_sentence:39 -  logits is tensor([[-0.3719, -0.1184,  0.3436,  ..., -0.9019,  1.0679,  0.9847],\n",
                        "        [ 0.0213,  0.3068,  0.8695,  ..., -0.3170,  0.7354,  0.6141],\n",
                        "        [ 0.5173,  0.0452,  0.9990,  ..., -0.0544,  0.2716,  0.8130],\n",
                        "        ...,\n",
                        "        [-0.1721,  0.4755,  0.2385,  ..., -0.4523,  1.3088,  1.0218],\n",
                        "        [ 0.0095, -0.2806,  0.7106,  ..., -0.7837,  0.6781,  1.3045],\n",
                        "        [ 0.2610,  0.2435,  0.8037,  ..., -0.4567,  0.7612,  0.9044]],\n",
                        "       device='cuda:0', grad_fn=<AddmmBackward0>)\n",
                        "08/11/2022 10:34:40 - INFO - bert_for_sentence:40 -  labels.shape is torch.Size([24])\n",
                        "08/11/2022 10:34:40 - INFO - bert_for_sentence:41 -  labels is tensor([135,   9,  28, 133,  80,  80, 129, 133, 136,   0,   5,   5,  28,  80,\n",
                        "          1, 131, 133,   2, 132, 134, 134, 135, 139,  44], device='cuda:0')\n"
                    ]
                },
                {
                    "name": "stdout",
                    "output_type": "stream",
                    "text": [
                        "\r",
                        "[Training] 29/3702 [..............................] - ETA: 17:10  loss: 4.1847 "
                    ]
                },
                {
                    "name": "stderr",
                    "output_type": "stream",
                    "text": [
                        "08/11/2022 10:34:41 - INFO - bert_for_sentence:38 -  logits.shape is torch.Size([24, 144])\n",
                        "08/11/2022 10:34:41 - INFO - bert_for_sentence:39 -  logits is tensor([[ 1.1677,  0.1806,  0.7521,  ...,  0.3223,  0.2197,  0.7518],\n",
                        "        [ 0.5241,  0.0126,  0.6993,  ..., -0.0863,  0.5604,  0.8705],\n",
                        "        [ 0.3935,  0.2409,  0.6510,  ..., -0.7314,  0.8410,  1.1302],\n",
                        "        ...,\n",
                        "        [ 0.3028,  0.1212,  0.8876,  ..., -0.2005,  0.9906,  0.8387],\n",
                        "        [ 1.0984,  0.2775,  0.9143,  ...,  0.2304,  0.3849,  0.8355],\n",
                        "        [-0.3171,  0.1467,  0.4811,  ..., -0.8629,  0.6050,  1.1246]],\n",
                        "       device='cuda:0', grad_fn=<AddmmBackward0>)\n",
                        "08/11/2022 10:34:41 - INFO - bert_for_sentence:40 -  labels.shape is torch.Size([24])\n",
                        "08/11/2022 10:34:41 - INFO - bert_for_sentence:41 -  labels is tensor([  9, 113, 137,  32, 132, 137, 131, 135, 132, 143, 142, 137, 117,  81,\n",
                        "        135, 134, 137,   7,   8, 139, 136, 133,   6, 132], device='cuda:0')\n"
                    ]
                },
                {
                    "name": "stdout",
                    "output_type": "stream",
                    "text": [
                        "\r",
                        "[Training] 30/3702 [..............................] - ETA: 17:09  loss: 4.2832 "
                    ]
                },
                {
                    "name": "stderr",
                    "output_type": "stream",
                    "text": [
                        "08/11/2022 10:34:41 - INFO - bert_for_sentence:38 -  logits.shape is torch.Size([24, 144])\n",
                        "08/11/2022 10:34:41 - INFO - bert_for_sentence:39 -  logits is tensor([[ 0.0917, -0.2790, -0.0384,  ..., -1.1597,  0.8467,  0.9321],\n",
                        "        [ 0.2572,  0.4091,  0.6716,  ..., -0.2063,  0.5347,  0.8464],\n",
                        "        [ 0.8042, -0.0390,  1.0344,  ...,  0.2906,  0.1692,  0.3131],\n",
                        "        ...,\n",
                        "        [ 0.0321,  0.1410,  0.3410,  ..., -0.6370,  0.6585,  0.8972],\n",
                        "        [ 0.7692,  0.0801,  0.8454,  ...,  0.4476,  0.5410,  0.5873],\n",
                        "        [ 0.0025,  0.1501,  0.6977,  ..., -0.9736,  1.0438,  0.9925]],\n",
                        "       device='cuda:0', grad_fn=<AddmmBackward0>)\n",
                        "08/11/2022 10:34:41 - INFO - bert_for_sentence:40 -  labels.shape is torch.Size([24])\n",
                        "08/11/2022 10:34:41 - INFO - bert_for_sentence:41 -  labels is tensor([135,  31,   7,   3, 138,   0, 131,   0,  97, 143, 140, 135,  51, 129,\n",
                        "          0, 132,  80,   8, 130, 140, 130, 105,   0, 134], device='cuda:0')\n"
                    ]
                },
                {
                    "name": "stdout",
                    "output_type": "stream",
                    "text": [
                        "\r",
                        "[Training] 31/3702 [..............................] - ETA: 17:07  loss: 4.0654 "
                    ]
                },
                {
                    "name": "stderr",
                    "output_type": "stream",
                    "text": [
                        "08/11/2022 10:34:41 - INFO - bert_for_sentence:38 -  logits.shape is torch.Size([24, 144])\n",
                        "08/11/2022 10:34:41 - INFO - bert_for_sentence:39 -  logits is tensor([[-0.2881, -0.0171,  0.5079,  ..., -0.9750,  0.8300,  0.8586],\n",
                        "        [ 0.3892,  0.0721,  0.5305,  ..., -0.7201,  0.9895,  1.2380],\n",
                        "        [ 0.6937, -0.0867,  0.4797,  ..., -0.4941,  0.6090,  1.0816],\n",
                        "        ...,\n",
                        "        [-0.1296, -0.0875,  0.0969,  ..., -0.9715,  0.9406,  0.8739],\n",
                        "        [-0.1186, -0.0508,  0.2854,  ..., -0.8318,  0.5454,  1.2925],\n",
                        "        [ 0.1961,  0.0993,  0.7472,  ..., -0.4947,  0.5377,  1.0026]],\n",
                        "       device='cuda:0', grad_fn=<AddmmBackward0>)\n",
                        "08/11/2022 10:34:41 - INFO - bert_for_sentence:40 -  labels.shape is torch.Size([24])\n",
                        "08/11/2022 10:34:41 - INFO - bert_for_sentence:41 -  labels is tensor([105, 135,  80,   6,   6, 137, 132, 130,  92,   9, 143, 143, 130,   6,\n",
                        "        135,  80, 135, 130,   0, 142, 136, 140, 143,  70], device='cuda:0')\n"
                    ]
                },
                {
                    "name": "stdout",
                    "output_type": "stream",
                    "text": [
                        "\r",
                        "[Training] 32/3702 [..............................] - ETA: 17:05  loss: 4.2590 "
                    ]
                },
                {
                    "name": "stderr",
                    "output_type": "stream",
                    "text": [
                        "08/11/2022 10:34:41 - INFO - bert_for_sentence:38 -  logits.shape is torch.Size([24, 144])\n",
                        "08/11/2022 10:34:42 - INFO - bert_for_sentence:39 -  logits is tensor([[-0.0707, -0.2054,  0.1580,  ..., -1.0527,  0.9873,  1.2557],\n",
                        "        [-0.0787,  0.0394,  0.0998,  ..., -1.2396,  0.9814,  1.3532],\n",
                        "        [ 0.4552,  0.0876,  0.6923,  ..., -0.4589,  0.7038,  0.8861],\n",
                        "        ...,\n",
                        "        [ 0.5357, -0.1259,  0.7571,  ..., -0.3724,  0.6715,  0.9601],\n",
                        "        [-0.3204, -0.0536,  0.2040,  ..., -0.8922,  0.8696,  1.0693],\n",
                        "        [-0.7559, -0.2681,  0.1104,  ..., -1.0014,  1.0125,  1.5124]],\n",
                        "       device='cuda:0', grad_fn=<AddmmBackward0>)\n",
                        "08/11/2022 10:34:42 - INFO - bert_for_sentence:40 -  labels.shape is torch.Size([24])\n",
                        "08/11/2022 10:34:42 - INFO - bert_for_sentence:41 -  labels is tensor([133, 140, 106, 137, 142, 130, 105, 136, 131, 138, 133, 135, 135,   4,\n",
                        "        133,   0, 133, 133, 130, 133,  92, 133, 132, 130], device='cuda:0')\n"
                    ]
                },
                {
                    "name": "stdout",
                    "output_type": "stream",
                    "text": [
                        "\r",
                        "[Training] 33/3702 [..............................] - ETA: 17:04  loss: 3.9551 "
                    ]
                },
                {
                    "name": "stderr",
                    "output_type": "stream",
                    "text": [
                        "08/11/2022 10:34:42 - INFO - bert_for_sentence:38 -  logits.shape is torch.Size([24, 144])\n",
                        "08/11/2022 10:34:42 - INFO - bert_for_sentence:39 -  logits is tensor([[ 0.1785,  0.0812,  0.2022,  ..., -0.5495,  0.5240,  0.9504],\n",
                        "        [ 1.4022,  0.0112,  1.0818,  ...,  0.1101,  0.6330,  1.1218],\n",
                        "        [ 0.0787, -0.1059,  0.0811,  ..., -0.7593,  0.8686,  1.0898],\n",
                        "        ...,\n",
                        "        [-0.5063,  0.0804, -0.3307,  ..., -0.5705,  0.8875,  1.5745],\n",
                        "        [ 0.0839,  0.0503,  0.1575,  ..., -1.0416,  0.7504,  1.1746],\n",
                        "        [ 1.1320, -0.1603,  0.5491,  ...,  0.2749,  0.7042,  0.9693]],\n",
                        "       device='cuda:0', grad_fn=<AddmmBackward0>)\n",
                        "08/11/2022 10:34:42 - INFO - bert_for_sentence:40 -  labels.shape is torch.Size([24])\n",
                        "08/11/2022 10:34:42 - INFO - bert_for_sentence:41 -  labels is tensor([ 19,   9, 143, 138, 133, 116, 121, 131,  10, 135, 131, 133, 132, 130,\n",
                        "        131,  63,   7, 140,  45, 133, 138, 129, 133,   0], device='cuda:0')\n"
                    ]
                },
                {
                    "name": "stdout",
                    "output_type": "stream",
                    "text": [
                        "\r",
                        "[Training] 34/3702 [..............................] - ETA: 17:03  loss: 3.9308 "
                    ]
                },
                {
                    "name": "stderr",
                    "output_type": "stream",
                    "text": [
                        "08/11/2022 10:34:42 - INFO - bert_for_sentence:38 -  logits.shape is torch.Size([24, 144])\n",
                        "08/11/2022 10:34:42 - INFO - bert_for_sentence:39 -  logits is tensor([[ 0.1006,  0.0944,  0.5016,  ..., -0.8114,  0.5480,  0.9960],\n",
                        "        [-0.0839, -0.1311,  0.3162,  ..., -1.0468,  0.8442,  1.1194],\n",
                        "        [ 0.7448,  0.0339,  0.8023,  ..., -0.4448,  0.6825,  1.0411],\n",
                        "        ...,\n",
                        "        [-0.3998, -0.1681,  0.1484,  ..., -0.9162,  0.7651,  1.2914],\n",
                        "        [-0.2317, -0.3197,  0.5986,  ..., -0.8097,  0.5494,  1.4906],\n",
                        "        [ 0.1657, -0.0710,  0.4744,  ..., -0.9529,  0.9040,  1.0651]],\n",
                        "       device='cuda:0', grad_fn=<AddmmBackward0>)\n",
                        "08/11/2022 10:34:42 - INFO - bert_for_sentence:40 -  labels.shape is torch.Size([24])\n",
                        "08/11/2022 10:34:42 - INFO - bert_for_sentence:41 -  labels is tensor([ 69, 134,   8, 139, 131, 138, 143,   6,   6,   4, 129, 139, 129, 133,\n",
                        "        140, 138, 131,   3, 131,   2, 138,  27, 131, 139], device='cuda:0')\n"
                    ]
                },
                {
                    "name": "stdout",
                    "output_type": "stream",
                    "text": [
                        "\r",
                        "[Training] 35/3702 [..............................] - ETA: 17:01  loss: 4.2145 "
                    ]
                },
                {
                    "name": "stderr",
                    "output_type": "stream",
                    "text": [
                        "08/11/2022 10:34:42 - INFO - bert_for_sentence:38 -  logits.shape is torch.Size([24, 144])\n",
                        "08/11/2022 10:34:42 - INFO - bert_for_sentence:39 -  logits is tensor([[-0.3331, -0.2054,  0.3363,  ..., -1.0250,  0.2764,  1.1516],\n",
                        "        [-0.1747, -0.2341,  0.1946,  ..., -0.6713,  0.7640,  1.3433],\n",
                        "        [-0.3670,  0.2481, -0.0315,  ..., -0.9878,  0.8024,  1.3888],\n",
                        "        ...,\n",
                        "        [ 0.0811, -0.2432,  0.1925,  ..., -0.8115,  0.5659,  0.9778],\n",
                        "        [ 0.6131, -0.1180,  0.8849,  ..., -0.4934,  0.4990,  0.9352],\n",
                        "        [ 0.0143, -0.0957,  0.4863,  ..., -1.1571,  0.5175,  1.3540]],\n",
                        "       device='cuda:0', grad_fn=<AddmmBackward0>)\n",
                        "08/11/2022 10:34:42 - INFO - bert_for_sentence:40 -  labels.shape is torch.Size([24])\n",
                        "08/11/2022 10:34:42 - INFO - bert_for_sentence:41 -  labels is tensor([142, 129, 139, 134,   0, 136,   2, 139, 132,   6, 140,   7, 133, 129,\n",
                        "          7, 142,  34,  80, 130, 138,  23, 133,   2, 133], device='cuda:0')\n"
                    ]
                },
                {
                    "name": "stdout",
                    "output_type": "stream",
                    "text": [
                        "\r",
                        "[Training] 36/3702 [..............................] - ETA: 17:00  loss: 4.0170 "
                    ]
                },
                {
                    "name": "stderr",
                    "output_type": "stream",
                    "text": [
                        "08/11/2022 10:34:43 - INFO - bert_for_sentence:38 -  logits.shape is torch.Size([24, 144])\n",
                        "08/11/2022 10:34:43 - INFO - bert_for_sentence:39 -  logits is tensor([[-0.1690, -0.5644, -0.2167,  ..., -0.6155,  0.2748,  0.9337],\n",
                        "        [ 1.3486,  0.1093,  1.5334,  ...,  0.0140, -0.3051,  0.7641],\n",
                        "        [-0.5494, -0.2702,  0.2118,  ..., -0.8414,  0.7323,  1.4969],\n",
                        "        ...,\n",
                        "        [-0.4151, -0.4101,  0.3850,  ..., -0.5285,  0.5052,  1.1588],\n",
                        "        [ 0.7283, -0.1601,  0.7842,  ..., -0.5573,  0.4380,  0.9937],\n",
                        "        [ 1.4354, -0.2921,  1.0306,  ..., -0.1628,  0.5865,  0.5469]],\n",
                        "       device='cuda:0', grad_fn=<AddmmBackward0>)\n",
                        "08/11/2022 10:34:43 - INFO - bert_for_sentence:40 -  labels.shape is torch.Size([24])\n",
                        "08/11/2022 10:34:43 - INFO - bert_for_sentence:41 -  labels is tensor([131,   7, 137, 138, 131,   5, 130,   5,   6, 142,   8, 130, 108, 140,\n",
                        "        137, 131,  68, 133, 140,   4, 140, 134, 137,   6], device='cuda:0')\n"
                    ]
                },
                {
                    "name": "stdout",
                    "output_type": "stream",
                    "text": [
                        "\r",
                        "[Training] 37/3702 [..............................] - ETA: 16:59  loss: 3.9986 "
                    ]
                },
                {
                    "name": "stderr",
                    "output_type": "stream",
                    "text": [
                        "08/11/2022 10:34:43 - INFO - bert_for_sentence:38 -  logits.shape is torch.Size([24, 144])\n",
                        "08/11/2022 10:34:43 - INFO - bert_for_sentence:39 -  logits is tensor([[-0.0077,  0.1278,  0.2973,  ..., -0.8947,  0.9470,  1.1795],\n",
                        "        [ 0.9474, -0.0168,  1.0116,  ..., -0.8688,  0.4749,  0.9308],\n",
                        "        [-0.5616, -0.0587,  0.3704,  ..., -0.8522,  0.7484,  1.5476],\n",
                        "        ...,\n",
                        "        [ 0.3869, -0.2997,  0.4832,  ..., -0.9985,  0.8823,  0.9433],\n",
                        "        [-0.2461, -0.2991,  0.6537,  ..., -0.8705,  0.3121,  1.5968],\n",
                        "        [-0.1397, -0.0730,  0.7202,  ..., -0.5533,  0.4604,  0.6289]],\n",
                        "       device='cuda:0', grad_fn=<AddmmBackward0>)\n",
                        "08/11/2022 10:34:43 - INFO - bert_for_sentence:40 -  labels.shape is torch.Size([24])\n",
                        "08/11/2022 10:34:43 - INFO - bert_for_sentence:41 -  labels is tensor([136, 137,   3,   7, 137, 133,  85, 142, 132, 134,   4, 137, 130,   6,\n",
                        "        130,  80, 133, 138, 131,   0,   7, 135, 135,  23], device='cuda:0')\n"
                    ]
                },
                {
                    "name": "stdout",
                    "output_type": "stream",
                    "text": [
                        "\r",
                        "[Training] 38/3702 [..............................] - ETA: 16:58  loss: 3.8608 "
                    ]
                },
                {
                    "name": "stderr",
                    "output_type": "stream",
                    "text": [
                        "08/11/2022 10:34:43 - INFO - bert_for_sentence:38 -  logits.shape is torch.Size([24, 144])\n",
                        "08/11/2022 10:34:43 - INFO - bert_for_sentence:39 -  logits is tensor([[ 0.3181, -0.1775,  0.8267,  ..., -0.8727,  0.4603,  1.2382],\n",
                        "        [ 0.2216, -0.1710,  0.6174,  ..., -0.9016,  0.6810,  0.8942],\n",
                        "        [-0.2308, -0.1125,  0.4627,  ..., -0.5683,  0.4577,  1.2585],\n",
                        "        ...,\n",
                        "        [ 0.5257, -0.0314,  0.6484,  ..., -0.4219,  0.5356,  0.8011],\n",
                        "        [ 0.7773, -0.0098,  0.8362,  ..., -0.6093,  0.3780,  1.0994],\n",
                        "        [ 1.4073, -0.2507,  1.1243,  ...,  0.2080,  0.5996,  0.8604]],\n",
                        "       device='cuda:0', grad_fn=<AddmmBackward0>)\n",
                        "08/11/2022 10:34:43 - INFO - bert_for_sentence:40 -  labels.shape is torch.Size([24])\n",
                        "08/11/2022 10:34:43 - INFO - bert_for_sentence:41 -  labels is tensor([  1, 139, 131, 136, 131, 140, 137, 137,   7, 131, 131, 138, 133,  27,\n",
                        "        135, 133,  28, 140, 135,  80, 130,  57, 131,   6], device='cuda:0')\n"
                    ]
                },
                {
                    "name": "stdout",
                    "output_type": "stream",
                    "text": [
                        "\r",
                        "[Training] 39/3702 [..............................] - ETA: 16:57  loss: 3.9611 "
                    ]
                },
                {
                    "name": "stderr",
                    "output_type": "stream",
                    "text": [
                        "08/11/2022 10:34:43 - INFO - bert_for_sentence:38 -  logits.shape is torch.Size([24, 144])\n",
                        "08/11/2022 10:34:43 - INFO - bert_for_sentence:39 -  logits is tensor([[ 1.2712, -0.2970,  1.0583,  ..., -0.4182, -0.0256,  0.3649],\n",
                        "        [ 0.2719,  0.0268,  0.5323,  ..., -0.8249,  0.2421,  0.9143],\n",
                        "        [-0.1450,  0.1317,  0.4660,  ..., -0.8429,  0.6525,  1.2734],\n",
                        "        ...,\n",
                        "        [ 0.4794, -0.0386,  0.6453,  ..., -0.7569,  0.3958,  1.4751],\n",
                        "        [ 1.7498, -0.1728,  1.0943,  ...,  0.0438, -0.1305,  0.4446],\n",
                        "        [ 1.4233,  0.1524,  1.0381,  ...,  0.2137,  0.0458,  0.2369]],\n",
                        "       device='cuda:0', grad_fn=<AddmmBackward0>)\n",
                        "08/11/2022 10:34:43 - INFO - bert_for_sentence:40 -  labels.shape is torch.Size([24])\n",
                        "08/11/2022 10:34:43 - INFO - bert_for_sentence:41 -  labels is tensor([  2,  30, 136,   5,   0,  27, 138,  21, 114,   8,  34,   6, 140, 137,\n",
                        "          9,   1, 139,   1,   8, 142, 133, 131,   7,   0], device='cuda:0')\n"
                    ]
                },
                {
                    "name": "stdout",
                    "output_type": "stream",
                    "text": [
                        "\r",
                        "[Training] 40/3702 [..............................] - ETA: 16:56  loss: 3.9109 "
                    ]
                },
                {
                    "name": "stderr",
                    "output_type": "stream",
                    "text": [
                        "08/11/2022 10:34:44 - INFO - bert_for_sentence:38 -  logits.shape is torch.Size([24, 144])\n",
                        "08/11/2022 10:34:44 - INFO - bert_for_sentence:39 -  logits is tensor([[ 0.1239, -0.4462,  0.2714,  ..., -0.9667,  0.4921,  0.9939],\n",
                        "        [ 0.4915,  0.0472,  0.5354,  ..., -0.4630,  0.3770,  0.4211],\n",
                        "        [ 0.4780, -0.0919,  0.5513,  ..., -0.3535,  0.0774,  0.4908],\n",
                        "        ...,\n",
                        "        [-0.0246, -0.0810,  0.0729,  ..., -1.0675,  1.1766,  1.2092],\n",
                        "        [ 1.3359, -0.2178,  1.1740,  ..., -0.4499,  0.5158,  0.8497],\n",
                        "        [-0.0820, -0.4566,  0.3346,  ..., -1.0124,  0.9806,  1.4529]],\n",
                        "       device='cuda:0', grad_fn=<AddmmBackward0>)\n",
                        "08/11/2022 10:34:44 - INFO - bert_for_sentence:40 -  labels.shape is torch.Size([24])\n",
                        "08/11/2022 10:34:44 - INFO - bert_for_sentence:41 -  labels is tensor([132,  81, 107,   2,   0,   1, 140, 143, 132, 133, 142, 131,   2, 142,\n",
                        "         66, 142, 142, 143, 143, 129, 131, 131,   1, 132], device='cuda:0')\n"
                    ]
                },
                {
                    "name": "stdout",
                    "output_type": "stream",
                    "text": [
                        "\r",
                        "[Training] 41/3702 [..............................] - ETA: 16:55  loss: 4.1948 "
                    ]
                },
                {
                    "name": "stderr",
                    "output_type": "stream",
                    "text": [
                        "08/11/2022 10:34:44 - INFO - bert_for_sentence:38 -  logits.shape is torch.Size([24, 144])\n",
                        "08/11/2022 10:34:44 - INFO - bert_for_sentence:39 -  logits is tensor([[ 0.1139, -0.1912,  0.3386,  ..., -0.8259,  0.9741,  0.9046],\n",
                        "        [ 0.1755,  0.0898,  0.2314,  ..., -0.9869,  1.1494,  1.1677],\n",
                        "        [ 1.7728,  0.1801,  0.9195,  ...,  0.0546,  0.6880,  0.5799],\n",
                        "        ...,\n",
                        "        [-0.0837,  0.1337, -0.0071,  ..., -0.9985,  1.0110,  1.0034],\n",
                        "        [ 0.4195,  0.2992,  0.6222,  ...,  0.1536,  0.5523,  0.8289],\n",
                        "        [ 1.7224,  0.0233,  1.0304,  ..., -0.1584,  0.1828,  0.5629]],\n",
                        "       device='cuda:0', grad_fn=<AddmmBackward0>)\n",
                        "08/11/2022 10:34:44 - INFO - bert_for_sentence:40 -  labels.shape is torch.Size([24])\n",
                        "08/11/2022 10:34:44 - INFO - bert_for_sentence:41 -  labels is tensor([137, 138,   2,  52,   6, 131,   0, 143,  28, 131,   8, 121, 137,  80,\n",
                        "        136,   0, 139, 133, 129,  15, 134, 133,  33,   8], device='cuda:0')\n"
                    ]
                },
                {
                    "name": "stdout",
                    "output_type": "stream",
                    "text": [
                        "\r",
                        "[Training] 42/3702 [..............................] - ETA: 16:54  loss: 4.0244 "
                    ]
                },
                {
                    "name": "stderr",
                    "output_type": "stream",
                    "text": [
                        "08/11/2022 10:34:44 - INFO - bert_for_sentence:38 -  logits.shape is torch.Size([24, 144])\n",
                        "08/11/2022 10:34:44 - INFO - bert_for_sentence:39 -  logits is tensor([[-0.0312, -0.2481, -0.0813,  ..., -0.7206,  1.1594,  1.0493],\n",
                        "        [ 0.1523, -0.0309,  0.1931,  ..., -1.0501,  0.8766,  1.5141],\n",
                        "        [ 0.6030,  0.0210,  0.5465,  ..., -0.0613,  0.1943,  0.6168],\n",
                        "        ...,\n",
                        "        [ 0.3665, -0.0409,  0.5383,  ..., -0.7204,  1.0774,  1.1274],\n",
                        "        [ 1.4137,  0.0544,  0.9547,  ...,  0.1385,  0.7571, -0.0071],\n",
                        "        [ 1.6563, -0.0736,  1.4690,  ...,  0.2864,  0.1271,  0.5645]],\n",
                        "       device='cuda:0', grad_fn=<AddmmBackward0>)\n",
                        "08/11/2022 10:34:44 - INFO - bert_for_sentence:40 -  labels.shape is torch.Size([24])\n",
                        "08/11/2022 10:34:44 - INFO - bert_for_sentence:41 -  labels is tensor([134, 139, 121, 133,   4, 132,   3,   3,   3,  34, 133, 138,   9, 129,\n",
                        "        140, 138,   4, 132, 105,   4, 142, 140,   8,   2], device='cuda:0')\n"
                    ]
                },
                {
                    "name": "stdout",
                    "output_type": "stream",
                    "text": [
                        "\r",
                        "[Training] 43/3702 [..............................] - ETA: 16:53  loss: 3.9500 "
                    ]
                },
                {
                    "name": "stderr",
                    "output_type": "stream",
                    "text": [
                        "08/11/2022 10:34:44 - INFO - bert_for_sentence:38 -  logits.shape is torch.Size([24, 144])\n",
                        "08/11/2022 10:34:45 - INFO - bert_for_sentence:39 -  logits is tensor([[-0.1190,  0.1269,  0.4602,  ..., -1.0481,  1.0212,  1.4533],\n",
                        "        [ 0.1427,  0.3457,  0.5900,  ..., -0.5831,  0.5571,  0.6089],\n",
                        "        [ 0.8299, -0.1323,  0.7873,  ..., -1.0835,  0.9235,  1.2888],\n",
                        "        ...,\n",
                        "        [ 0.1100,  0.0052,  0.3564,  ..., -1.2905,  1.1429,  1.5063],\n",
                        "        [ 1.6936, -0.0168,  0.8869,  ...,  0.2179,  0.5584,  0.6229],\n",
                        "        [ 1.6993,  0.0357,  1.0663,  ..., -0.1920, -0.0095,  0.6652]],\n",
                        "       device='cuda:0', grad_fn=<AddmmBackward0>)\n",
                        "08/11/2022 10:34:45 - INFO - bert_for_sentence:40 -  labels.shape is torch.Size([24])\n",
                        "08/11/2022 10:34:45 - INFO - bert_for_sentence:41 -  labels is tensor([135,  80, 139,  10, 106, 133, 130,   6, 131, 142, 137, 136,   7, 142,\n",
                        "          6, 130, 143, 131, 137, 139, 135, 132,   8,   3], device='cuda:0')\n"
                    ]
                },
                {
                    "name": "stdout",
                    "output_type": "stream",
                    "text": [
                        "\r",
                        "[Training] 44/3702 [..............................] - ETA: 16:52  loss: 3.9253 "
                    ]
                },
                {
                    "name": "stderr",
                    "output_type": "stream",
                    "text": [
                        "08/11/2022 10:34:45 - INFO - bert_for_sentence:38 -  logits.shape is torch.Size([24, 144])\n",
                        "08/11/2022 10:34:45 - INFO - bert_for_sentence:39 -  logits is tensor([[-0.5457, -0.2396,  0.0156,  ..., -1.0677,  1.3132,  1.3079],\n",
                        "        [-0.2665,  0.2160,  0.1115,  ..., -1.3905,  1.4473,  1.4328],\n",
                        "        [-0.1920,  0.1386,  0.2330,  ..., -0.7923,  1.4586,  1.5412],\n",
                        "        ...,\n",
                        "        [ 0.4926,  0.0958,  0.2486,  ..., -1.0247,  1.2511,  1.4574],\n",
                        "        [ 0.0453, -0.1691, -0.0079,  ..., -1.2824,  1.2196,  1.2037],\n",
                        "        [ 0.2264, -0.0568,  0.3289,  ..., -0.9099,  1.0350,  1.0904]],\n",
                        "       device='cuda:0', grad_fn=<AddmmBackward0>)\n",
                        "08/11/2022 10:34:45 - INFO - bert_for_sentence:40 -  labels.shape is torch.Size([24])\n",
                        "08/11/2022 10:34:45 - INFO - bert_for_sentence:41 -  labels is tensor([130, 129, 136, 134,   6,   0, 131, 132, 132, 137, 140,   6,  86, 133,\n",
                        "        138, 139, 143, 131,  63, 140, 131, 133, 134,   1], device='cuda:0')\n"
                    ]
                },
                {
                    "name": "stdout",
                    "output_type": "stream",
                    "text": [
                        "\r",
                        "[Training] 45/3702 [..............................] - ETA: 16:51  loss: 3.6849 "
                    ]
                },
                {
                    "name": "stderr",
                    "output_type": "stream",
                    "text": [
                        "08/11/2022 10:34:45 - INFO - bert_for_sentence:38 -  logits.shape is torch.Size([24, 144])\n",
                        "08/11/2022 10:34:45 - INFO - bert_for_sentence:39 -  logits is tensor([[-0.3124,  0.1698, -0.3170,  ..., -1.2312,  1.6211,  1.5098],\n",
                        "        [ 0.6716, -0.4151,  0.8268,  ..., -1.0796,  0.8083,  1.3130],\n",
                        "        [-0.1102,  0.5384,  0.3296,  ..., -1.0777,  1.0617,  1.1261],\n",
                        "        ...,\n",
                        "        [-0.3392, -0.2882, -0.4867,  ..., -1.1330,  1.3952,  1.5679],\n",
                        "        [ 1.5949,  0.2446,  0.9531,  ..., -0.3535,  0.2148,  1.0109],\n",
                        "        [ 0.1280,  0.0106,  0.4475,  ..., -1.1151,  1.0193,  1.4046]],\n",
                        "       device='cuda:0', grad_fn=<AddmmBackward0>)\n",
                        "08/11/2022 10:34:45 - INFO - bert_for_sentence:40 -  labels.shape is torch.Size([24])\n",
                        "08/11/2022 10:34:45 - INFO - bert_for_sentence:41 -  labels is tensor([130,   9,   5,   2,   3, 142, 143, 105,   2, 133,  36, 136, 139, 133,\n",
                        "          8, 139,   7, 134, 137,  59, 138, 139,   2, 137], device='cuda:0')\n"
                    ]
                },
                {
                    "name": "stdout",
                    "output_type": "stream",
                    "text": [
                        "\r",
                        "[Training] 46/3702 [..............................] - ETA: 16:50  loss: 3.7611 "
                    ]
                },
                {
                    "name": "stderr",
                    "output_type": "stream",
                    "text": [
                        "08/11/2022 10:34:45 - INFO - bert_for_sentence:38 -  logits.shape is torch.Size([24, 144])\n",
                        "08/11/2022 10:34:45 - INFO - bert_for_sentence:39 -  logits is tensor([[ 1.7362,  0.1435,  1.4668,  ...,  0.0223,  0.2413,  1.1400],\n",
                        "        [ 0.5418,  0.1294,  0.2916,  ..., -1.0267,  0.5962,  1.2433],\n",
                        "        [ 0.1739,  0.0658,  0.6430,  ..., -0.6521,  0.4692,  0.8740],\n",
                        "        ...,\n",
                        "        [-0.4310,  0.0315, -0.1348,  ..., -1.3290,  1.9418,  1.1308],\n",
                        "        [ 0.3881,  0.2421,  1.0816,  ..., -0.1124,  0.4411,  0.7689],\n",
                        "        [-0.7374,  0.0841, -0.2570,  ..., -1.4728,  1.7756,  1.4111]],\n",
                        "       device='cuda:0', grad_fn=<AddmmBackward0>)\n",
                        "08/11/2022 10:34:45 - INFO - bert_for_sentence:40 -  labels.shape is torch.Size([24])\n",
                        "08/11/2022 10:34:45 - INFO - bert_for_sentence:41 -  labels is tensor([  7,   5,  38,   7,   8, 133, 137, 131, 131, 131, 131,   9,   0, 137,\n",
                        "        139, 143, 143, 139, 137, 140,   0, 142,  97, 132], device='cuda:0')\n"
                    ]
                },
                {
                    "name": "stdout",
                    "output_type": "stream",
                    "text": [
                        "\r",
                        "[Training] 47/3702 [..............................] - ETA: 16:50  loss: 3.8487 "
                    ]
                },
                {
                    "name": "stderr",
                    "output_type": "stream",
                    "text": [
                        "08/11/2022 10:34:45 - INFO - bert_for_sentence:38 -  logits.shape is torch.Size([24, 144])\n",
                        "08/11/2022 10:34:46 - INFO - bert_for_sentence:39 -  logits is tensor([[-0.1762, -0.1396, -0.1972,  ..., -1.2894,  1.5038,  0.9799],\n",
                        "        [-0.1686, -0.0563,  0.0402,  ..., -0.8449,  1.0317,  1.4399],\n",
                        "        [-0.2277, -0.0169, -0.1599,  ..., -1.3419,  1.6124,  1.4954],\n",
                        "        ...,\n",
                        "        [-0.6681,  0.2206, -0.5919,  ..., -1.0971,  1.5034,  1.5341],\n",
                        "        [-0.2294,  0.1451,  0.2008,  ..., -1.1647,  1.1189,  1.8562],\n",
                        "        [-0.0462,  0.0740,  0.4733,  ..., -0.7313,  0.9310,  1.2656]],\n",
                        "       device='cuda:0', grad_fn=<AddmmBackward0>)\n",
                        "08/11/2022 10:34:46 - INFO - bert_for_sentence:40 -  labels.shape is torch.Size([24])\n",
                        "08/11/2022 10:34:46 - INFO - bert_for_sentence:41 -  labels is tensor([132, 143, 142,   7,   6, 140, 140,   4, 140, 137,   4,   8,   6, 143,\n",
                        "        142,   3, 143, 137, 139, 137, 139, 143,   3,  27], device='cuda:0')\n"
                    ]
                },
                {
                    "name": "stdout",
                    "output_type": "stream",
                    "text": [
                        "\r",
                        "[Training] 48/3702 [..............................] - ETA: 16:49  loss: 3.7664 "
                    ]
                },
                {
                    "name": "stderr",
                    "output_type": "stream",
                    "text": [
                        "08/11/2022 10:34:46 - INFO - bert_for_sentence:38 -  logits.shape is torch.Size([24, 144])\n",
                        "08/11/2022 10:34:46 - INFO - bert_for_sentence:39 -  logits is tensor([[ 1.6902,  0.1725,  1.0762,  ..., -0.1201,  0.3091,  0.9408],\n",
                        "        [ 0.5229,  0.2937,  0.9597,  ..., -0.0859,  0.4172,  0.9840],\n",
                        "        [ 0.5169,  0.2341,  0.4438,  ..., -1.2736,  1.3260,  1.0281],\n",
                        "        ...,\n",
                        "        [-0.4455, -0.3777, -0.1977,  ..., -1.1447,  1.6746,  1.6272],\n",
                        "        [ 0.1503, -0.0499,  0.2948,  ..., -1.3039,  1.3622,  1.2179],\n",
                        "        [-0.2590, -0.1110, -0.0180,  ..., -1.2604,  1.4362,  1.2747]],\n",
                        "       device='cuda:0', grad_fn=<AddmmBackward0>)\n",
                        "08/11/2022 10:34:46 - INFO - bert_for_sentence:40 -  labels.shape is torch.Size([24])\n",
                        "08/11/2022 10:34:46 - INFO - bert_for_sentence:41 -  labels is tensor([  2,  80, 139,  31, 139, 105, 135, 133,   7, 134, 132,   0, 130, 138,\n",
                        "        142, 129,  81, 139,  59,   9,  26, 140, 133, 135], device='cuda:0')\n"
                    ]
                },
                {
                    "name": "stdout",
                    "output_type": "stream",
                    "text": [
                        "\r",
                        "[Training] 49/3702 [..............................] - ETA: 16:48  loss: 3.5406 "
                    ]
                },
                {
                    "name": "stderr",
                    "output_type": "stream",
                    "text": [
                        "08/11/2022 10:34:46 - INFO - bert_for_sentence:38 -  logits.shape is torch.Size([24, 144])\n",
                        "08/11/2022 10:34:46 - INFO - bert_for_sentence:39 -  logits is tensor([[-2.2798e-01, -1.5415e-01,  9.0444e-03,  ..., -1.1368e+00,\n",
                        "          1.3266e+00,  1.2015e+00],\n",
                        "        [-5.4264e-02, -1.6892e-01,  1.8075e-01,  ..., -1.2749e+00,\n",
                        "          1.3309e+00,  1.4343e+00],\n",
                        "        [ 6.3336e-01,  5.2288e-01,  1.2894e+00,  ..., -2.0742e-02,\n",
                        "          4.2083e-01,  6.5734e-01],\n",
                        "        ...,\n",
                        "        [-5.8597e-01,  7.1755e-02,  1.8592e-01,  ..., -1.2590e+00,\n",
                        "          1.3379e+00,  1.5959e+00],\n",
                        "        [-3.6267e-01, -1.4961e-02,  2.8842e-01,  ..., -1.0200e+00,\n",
                        "          1.7107e+00,  1.4781e+00],\n",
                        "        [ 2.7251e-02,  4.4117e-02,  4.9313e-04,  ..., -1.4679e+00,\n",
                        "          1.4516e+00,  1.8148e+00]], device='cuda:0', grad_fn=<AddmmBackward0>)\n",
                        "08/11/2022 10:34:46 - INFO - bert_for_sentence:40 -  labels.shape is torch.Size([24])\n",
                        "08/11/2022 10:34:46 - INFO - bert_for_sentence:41 -  labels is tensor([139, 135,  91, 137,   8, 140, 139, 136,   5, 142,  80, 133, 142,   6,\n",
                        "        138, 139,   7, 134, 133, 136, 142, 138, 135, 131], device='cuda:0')\n"
                    ]
                },
                {
                    "name": "stdout",
                    "output_type": "stream",
                    "text": [
                        "\r",
                        "[Training] 50/3702 [..............................] - ETA: 16:47  loss: 3.8346 "
                    ]
                },
                {
                    "name": "stderr",
                    "output_type": "stream",
                    "text": [
                        "08/11/2022 10:34:46 - INFO - bert_for_sentence:38 -  logits.shape is torch.Size([24, 144])\n",
                        "08/11/2022 10:34:46 - INFO - bert_for_sentence:39 -  logits is tensor([[-0.5241,  0.0244,  0.4810,  ..., -1.1197,  1.4103,  1.7233],\n",
                        "        [ 0.6790,  0.2872,  0.8871,  ..., -0.9328,  0.8377,  1.0013],\n",
                        "        [-0.4870, -0.1246, -0.0287,  ..., -1.2227,  1.4896,  1.8801],\n",
                        "        ...,\n",
                        "        [-0.0809,  0.0208, -0.0728,  ..., -1.1351,  1.4231,  1.7306],\n",
                        "        [-0.1136,  0.4774,  0.1085,  ..., -0.9915,  1.6490,  1.7304],\n",
                        "        [-0.3043,  0.0099,  0.0795,  ..., -1.1299,  1.5620,  1.6345]],\n",
                        "       device='cuda:0', grad_fn=<AddmmBackward0>)\n",
                        "08/11/2022 10:34:46 - INFO - bert_for_sentence:40 -  labels.shape is torch.Size([24])\n",
                        "08/11/2022 10:34:46 - INFO - bert_for_sentence:41 -  labels is tensor([142,   3, 142, 134, 137,  86, 140, 140,   6, 130,   4,  27, 131, 136,\n",
                        "          8, 143, 139,   0, 140, 137,  44, 130, 131, 136], device='cuda:0')\n"
                    ]
                },
                {
                    "name": "stdout",
                    "output_type": "stream",
                    "text": [
                        "\r",
                        "[Training] 51/3702 [..............................] - ETA: 16:46  loss: 3.5773 "
                    ]
                },
                {
                    "name": "stderr",
                    "output_type": "stream",
                    "text": [
                        "08/11/2022 10:34:47 - INFO - bert_for_sentence:38 -  logits.shape is torch.Size([24, 144])\n",
                        "08/11/2022 10:34:47 - INFO - bert_for_sentence:39 -  logits is tensor([[-0.3877,  0.0753,  0.3027,  ..., -1.4760,  1.6936,  1.6935],\n",
                        "        [-0.3012, -0.2072, -0.0212,  ..., -1.1895,  1.3740,  1.4137],\n",
                        "        [-0.1452,  0.1232,  0.3447,  ..., -1.0612,  1.2961,  1.3422],\n",
                        "        ...,\n",
                        "        [-0.3105,  0.0817,  0.1018,  ..., -1.1859,  1.5508,  1.5393],\n",
                        "        [-0.3813, -0.1059,  0.2152,  ..., -1.3666,  1.4512,  1.7657],\n",
                        "        [-0.0956,  0.0550,  0.6031,  ..., -0.9656,  1.2844,  1.6682]],\n",
                        "       device='cuda:0', grad_fn=<AddmmBackward0>)\n",
                        "08/11/2022 10:34:47 - INFO - bert_for_sentence:40 -  labels.shape is torch.Size([24])\n",
                        "08/11/2022 10:34:47 - INFO - bert_for_sentence:41 -  labels is tensor([130, 140, 142,   8, 136,   8, 137, 135, 138, 137,  45, 140, 137, 132,\n",
                        "          2, 135, 136,   9, 112,   7, 139, 133,   5, 129], device='cuda:0')\n"
                    ]
                },
                {
                    "name": "stdout",
                    "output_type": "stream",
                    "text": [
                        "\r",
                        "[Training] 52/3702 [..............................] - ETA: 16:46  loss: 3.7396 "
                    ]
                },
                {
                    "name": "stderr",
                    "output_type": "stream",
                    "text": [
                        "08/11/2022 10:34:47 - INFO - bert_for_sentence:38 -  logits.shape is torch.Size([24, 144])\n",
                        "08/11/2022 10:34:47 - INFO - bert_for_sentence:39 -  logits is tensor([[-0.3931,  0.1054,  0.4936,  ..., -1.2571,  1.3635,  1.6479],\n",
                        "        [ 0.2578,  0.3169,  0.7651,  ..., -0.2362,  0.5259,  0.8771],\n",
                        "        [-0.0922, -0.0253, -0.3038,  ..., -1.3666,  1.6153,  1.5170],\n",
                        "        ...,\n",
                        "        [ 0.4841,  0.0666,  0.7953,  ..., -0.4079,  0.6808,  0.9100],\n",
                        "        [-0.4432, -0.1282,  0.0635,  ..., -1.2029,  1.6647,  1.6879],\n",
                        "        [ 1.6005,  0.0577,  1.2925,  ..., -0.4348,  0.7920,  0.9243]],\n",
                        "       device='cuda:0', grad_fn=<AddmmBackward0>)\n",
                        "08/11/2022 10:34:47 - INFO - bert_for_sentence:40 -  labels.shape is torch.Size([24])\n",
                        "08/11/2022 10:34:47 - INFO - bert_for_sentence:41 -  labels is tensor([131,  81, 132,   1,   2, 130, 137, 135,   7,   6,  31,   9, 142, 140,\n",
                        "        134, 133, 137, 133,   2,  46,   1,  29, 131, 139], device='cuda:0')\n"
                    ]
                },
                {
                    "name": "stdout",
                    "output_type": "stream",
                    "text": [
                        "\r",
                        "[Training] 53/3702 [..............................] - ETA: 16:45  loss: 3.7774 "
                    ]
                },
                {
                    "name": "stderr",
                    "output_type": "stream",
                    "text": [
                        "08/11/2022 10:34:47 - INFO - bert_for_sentence:38 -  logits.shape is torch.Size([24, 144])\n",
                        "08/11/2022 10:34:47 - INFO - bert_for_sentence:39 -  logits is tensor([[ 1.8703,  0.1597,  1.7319,  ...,  0.0464,  0.0456,  0.7161],\n",
                        "        [ 0.0663, -0.1833,  0.3107,  ..., -1.0905,  1.5997,  1.2932],\n",
                        "        [ 0.8866,  0.3043,  1.0065,  ..., -0.5559,  1.2199,  1.3874],\n",
                        "        ...,\n",
                        "        [-0.5442,  0.4642,  0.0241,  ..., -0.9508,  1.3988,  1.7370],\n",
                        "        [ 0.7784,  0.1340,  1.0442,  ...,  0.1677,  0.0963,  0.5494],\n",
                        "        [-0.5165,  0.1435,  0.2321,  ..., -0.8992,  1.8555,  1.3189]],\n",
                        "       device='cuda:0', grad_fn=<AddmmBackward0>)\n",
                        "08/11/2022 10:34:47 - INFO - bert_for_sentence:40 -  labels.shape is torch.Size([24])\n",
                        "08/11/2022 10:34:47 - INFO - bert_for_sentence:41 -  labels is tensor([  8, 137,   5, 140, 136, 138, 137,   4, 134, 140,   6, 133,   5, 130,\n",
                        "        137, 132, 135,   6, 136, 143, 137, 138,  14, 140], device='cuda:0')\n"
                    ]
                },
                {
                    "name": "stdout",
                    "output_type": "stream",
                    "text": [
                        "\r",
                        "[Training] 54/3702 [..............................] - ETA: 16:44  loss: 3.7486 "
                    ]
                },
                {
                    "name": "stderr",
                    "output_type": "stream",
                    "text": [
                        "08/11/2022 10:34:47 - INFO - bert_for_sentence:38 -  logits.shape is torch.Size([24, 144])\n",
                        "08/11/2022 10:34:47 - INFO - bert_for_sentence:39 -  logits is tensor([[-0.3533, -0.0763,  0.0578,  ..., -1.0277,  1.2274,  1.6549],\n",
                        "        [ 0.4581,  0.3147,  0.6467,  ..., -0.9994,  1.4879,  1.3208],\n",
                        "        [ 0.2757, -0.0053,  0.6063,  ..., -1.2523,  1.4760,  1.1977],\n",
                        "        ...,\n",
                        "        [ 1.7935,  0.3721,  1.9465,  ...,  0.1740,  0.2700,  0.5220],\n",
                        "        [ 0.8653,  0.2654,  1.1057,  ..., -0.6842,  1.5356,  1.3875],\n",
                        "        [-0.0673,  0.0817,  0.6187,  ..., -1.1654,  1.5451,  1.4316]],\n",
                        "       device='cuda:0', grad_fn=<AddmmBackward0>)\n",
                        "08/11/2022 10:34:47 - INFO - bert_for_sentence:40 -  labels.shape is torch.Size([24])\n",
                        "08/11/2022 10:34:47 - INFO - bert_for_sentence:41 -  labels is tensor([138, 132, 137, 129,  80, 130, 132, 140, 137, 136,  27, 143, 130,   7,\n",
                        "          8, 137, 135, 132, 130,   4, 132,   2, 137, 139], device='cuda:0')\n"
                    ]
                },
                {
                    "name": "stdout",
                    "output_type": "stream",
                    "text": [
                        "\r",
                        "[Training] 55/3702 [..............................] - ETA: 16:44  loss: 3.5646 "
                    ]
                },
                {
                    "name": "stderr",
                    "output_type": "stream",
                    "text": [
                        "08/11/2022 10:34:48 - INFO - bert_for_sentence:38 -  logits.shape is torch.Size([24, 144])\n",
                        "08/11/2022 10:34:48 - INFO - bert_for_sentence:39 -  logits is tensor([[-0.3277, -0.3612,  0.1062,  ..., -1.3749,  1.6853,  1.5574],\n",
                        "        [-0.2878, -0.0690, -0.0449,  ..., -1.1716,  1.4631,  1.7925],\n",
                        "        [ 0.1380,  0.1193,  0.1497,  ..., -1.3355,  1.8738,  1.4741],\n",
                        "        ...,\n",
                        "        [-0.6785, -0.0356, -0.0026,  ..., -1.2467,  1.9664,  1.4312],\n",
                        "        [ 1.8317, -0.0874,  1.2150,  ...,  0.0306,  0.6922,  0.3134],\n",
                        "        [ 0.0592,  0.1699,  0.5725,  ..., -1.1002,  1.0446,  1.0597]],\n",
                        "       device='cuda:0', grad_fn=<AddmmBackward0>)\n",
                        "08/11/2022 10:34:48 - INFO - bert_for_sentence:40 -  labels.shape is torch.Size([24])\n",
                        "08/11/2022 10:34:48 - INFO - bert_for_sentence:41 -  labels is tensor([136, 135, 138,   4, 143,   3,   5,   2, 132,   5, 143,  23, 136,   4,\n",
                        "        131,  80, 135,   9, 131,  23, 135, 143,   0,   1], device='cuda:0')\n"
                    ]
                },
                {
                    "name": "stdout",
                    "output_type": "stream",
                    "text": [
                        "\r",
                        "[Training] 56/3702 [..............................] - ETA: 16:43  loss: 3.4614 "
                    ]
                },
                {
                    "name": "stderr",
                    "output_type": "stream",
                    "text": [
                        "08/11/2022 10:34:48 - INFO - bert_for_sentence:38 -  logits.shape is torch.Size([24, 144])\n",
                        "08/11/2022 10:34:48 - INFO - bert_for_sentence:39 -  logits is tensor([[-0.3639,  0.1926,  0.1815,  ..., -1.2675,  1.5808,  1.6504],\n",
                        "        [-0.2153,  0.1406,  0.4256,  ..., -1.4468,  1.7295,  1.4582],\n",
                        "        [ 0.1390, -0.1136,  0.5207,  ..., -1.2690,  1.6309,  1.5896],\n",
                        "        ...,\n",
                        "        [ 0.2367,  0.3197,  0.3835,  ..., -1.1420,  1.3265,  1.4267],\n",
                        "        [ 0.3243, -0.0494,  0.3950,  ..., -1.3426,  1.8137,  1.3562],\n",
                        "        [ 0.4347,  0.3670,  0.5655,  ...,  0.3148,  0.6819,  0.6461]],\n",
                        "       device='cuda:0', grad_fn=<AddmmBackward0>)\n",
                        "08/11/2022 10:34:48 - INFO - bert_for_sentence:40 -  labels.shape is torch.Size([24])\n",
                        "08/11/2022 10:34:48 - INFO - bert_for_sentence:41 -  labels is tensor([131, 142, 134,   7,   0, 136, 133,   8, 138, 136, 131, 130, 143,   4,\n",
                        "        131, 130, 141, 133, 134,   7,   1, 135, 139,  63], device='cuda:0')\n"
                    ]
                },
                {
                    "name": "stdout",
                    "output_type": "stream",
                    "text": [
                        "\r",
                        "[Training] 57/3702 [..............................] - ETA: 16:42  loss: 3.8032 "
                    ]
                },
                {
                    "name": "stderr",
                    "output_type": "stream",
                    "text": [
                        "08/11/2022 10:34:48 - INFO - bert_for_sentence:38 -  logits.shape is torch.Size([24, 144])\n",
                        "08/11/2022 10:34:48 - INFO - bert_for_sentence:39 -  logits is tensor([[-0.1718,  0.3745,  0.3010,  ..., -1.1878,  1.4402,  1.5407],\n",
                        "        [ 0.4855,  0.3362,  0.4836,  ..., -1.2796,  1.0155,  1.5754],\n",
                        "        [-0.2116,  0.4934,  0.6277,  ..., -1.3465,  1.0710,  1.2753],\n",
                        "        ...,\n",
                        "        [-0.2550, -0.3172,  0.1153,  ..., -1.5887,  2.1736,  1.7276],\n",
                        "        [ 0.0755,  0.1226,  0.2859,  ..., -1.2105,  1.3435,  1.4456],\n",
                        "        [ 1.3193,  0.3354,  1.6219,  ..., -0.2500,  0.5883,  0.4997]],\n",
                        "       device='cuda:0', grad_fn=<AddmmBackward0>)\n",
                        "08/11/2022 10:34:48 - INFO - bert_for_sentence:40 -  labels.shape is torch.Size([24])\n",
                        "08/11/2022 10:34:48 - INFO - bert_for_sentence:41 -  labels is tensor([133,   5,   1, 133, 136,   9, 137, 142,  34,  36, 142,   2,   7, 131,\n",
                        "        140,   8,  80,   0, 132, 138, 131, 136, 143,   3], device='cuda:0')\n"
                    ]
                },
                {
                    "name": "stdout",
                    "output_type": "stream",
                    "text": [
                        "\r",
                        "[Training] 58/3702 [..............................] - ETA: 16:42  loss: 3.7704 "
                    ]
                },
                {
                    "name": "stderr",
                    "output_type": "stream",
                    "text": [
                        "08/11/2022 10:34:48 - INFO - bert_for_sentence:38 -  logits.shape is torch.Size([24, 144])\n",
                        "08/11/2022 10:34:49 - INFO - bert_for_sentence:39 -  logits is tensor([[ 1.7943,  0.5376,  1.3793,  ..., -0.3072,  0.7786,  1.3457],\n",
                        "        [ 0.1726, -0.0542,  0.3358,  ..., -1.4162,  1.8116,  1.8273],\n",
                        "        [ 0.3017,  0.3253,  0.6586,  ...,  0.4436,  0.7802,  0.4323],\n",
                        "        ...,\n",
                        "        [ 0.0412,  0.0720, -0.1979,  ..., -0.9721,  1.5033,  1.5359],\n",
                        "        [ 1.8244,  0.2299,  1.6109,  ..., -0.0040, -0.1401,  0.2292],\n",
                        "        [ 0.3713,  0.1708,  0.3004,  ...,  0.2356,  0.3864,  0.5036]],\n",
                        "       device='cuda:0', grad_fn=<AddmmBackward0>)\n",
                        "08/11/2022 10:34:49 - INFO - bert_for_sentence:40 -  labels.shape is torch.Size([24])\n",
                        "08/11/2022 10:34:49 - INFO - bert_for_sentence:41 -  labels is tensor([  0, 136,  46, 136,   2,  27, 130, 138, 130,  86, 135, 140,   3, 140,\n",
                        "        142,   6,  30, 130, 134, 133, 133, 140,   8, 126], device='cuda:0')\n"
                    ]
                },
                {
                    "name": "stdout",
                    "output_type": "stream",
                    "text": [
                        "\r",
                        "[Training] 59/3702 [..............................] - ETA: 16:41  loss: 3.5017 "
                    ]
                },
                {
                    "name": "stderr",
                    "output_type": "stream",
                    "text": [
                        "08/11/2022 10:34:49 - INFO - bert_for_sentence:38 -  logits.shape is torch.Size([24, 144])\n",
                        "08/11/2022 10:34:49 - INFO - bert_for_sentence:39 -  logits is tensor([[ 0.3745,  0.1703,  0.7223,  ..., -0.1248,  0.8112,  0.8118],\n",
                        "        [-0.7459,  0.0388, -0.4160,  ..., -1.0144,  1.4218,  1.6260],\n",
                        "        [ 0.0317,  0.3826,  0.1032,  ..., -1.3500,  1.5151,  1.5702],\n",
                        "        ...,\n",
                        "        [-0.1872,  0.0289,  0.4594,  ..., -1.4116,  1.1617,  1.2451],\n",
                        "        [-0.1887, -0.2772, -0.0179,  ..., -1.1937,  1.4472,  1.3874],\n",
                        "        [ 1.2195,  0.6635,  0.9343,  ..., -0.4874,  1.0387,  1.2103]],\n",
                        "       device='cuda:0', grad_fn=<AddmmBackward0>)\n",
                        "08/11/2022 10:34:49 - INFO - bert_for_sentence:40 -  labels.shape is torch.Size([24])\n",
                        "08/11/2022 10:34:49 - INFO - bert_for_sentence:41 -  labels is tensor([ 18, 143, 134,  46, 139,  27,   2,  80, 137, 130, 129, 135, 137,  27,\n",
                        "        133, 142, 140,   7, 129, 136,  31, 131, 135,   8], device='cuda:0')\n"
                    ]
                },
                {
                    "name": "stdout",
                    "output_type": "stream",
                    "text": [
                        "\r",
                        "[Training] 60/3702 [..............................] - ETA: 16:41  loss: 3.7446 "
                    ]
                },
                {
                    "name": "stderr",
                    "output_type": "stream",
                    "text": [
                        "08/11/2022 10:34:49 - INFO - bert_for_sentence:38 -  logits.shape is torch.Size([24, 144])\n",
                        "08/11/2022 10:34:49 - INFO - bert_for_sentence:39 -  logits is tensor([[-0.4073, -0.1509,  0.0258,  ..., -1.2076,  1.3392,  1.3972],\n",
                        "        [ 1.4139,  0.3044,  1.6503,  ..., -0.5040,  0.3912,  0.6605],\n",
                        "        [ 0.0364,  0.1061,  0.2306,  ..., -1.4717,  1.7630,  1.5103],\n",
                        "        ...,\n",
                        "        [ 2.1187,  0.3037,  1.9157,  ..., -0.2351,  0.2867,  0.9105],\n",
                        "        [ 1.9559,  0.0152,  1.8518,  ..., -0.3216,  0.3312,  1.0017],\n",
                        "        [-0.4466,  0.0444, -0.2598,  ..., -1.2911,  1.3684,  1.3751]],\n",
                        "       device='cuda:0', grad_fn=<AddmmBackward0>)\n",
                        "08/11/2022 10:34:49 - INFO - bert_for_sentence:40 -  labels.shape is torch.Size([24])\n",
                        "08/11/2022 10:34:49 - INFO - bert_for_sentence:41 -  labels is tensor([143,   8, 131, 140,   1, 130,   5, 140,   5,  98,   6, 136, 136, 136,\n",
                        "        140, 138,   9, 133,   4,   0, 130,   6,   6, 130], device='cuda:0')\n"
                    ]
                },
                {
                    "name": "stdout",
                    "output_type": "stream",
                    "text": [
                        "\r",
                        "[Training] 61/3702 [..............................] - ETA: 16:40  loss: 3.7024 "
                    ]
                },
                {
                    "name": "stderr",
                    "output_type": "stream",
                    "text": [
                        "08/11/2022 10:34:49 - INFO - bert_for_sentence:38 -  logits.shape is torch.Size([24, 144])\n",
                        "08/11/2022 10:34:49 - INFO - bert_for_sentence:39 -  logits is tensor([[-5.9284e-02,  1.8898e-01,  3.2831e-01,  ..., -1.1692e+00,\n",
                        "          1.5123e+00,  1.4014e+00],\n",
                        "        [-7.5064e-03,  5.1214e-01,  4.8158e-01,  ..., -1.0987e+00,\n",
                        "          1.2383e+00,  1.8081e+00],\n",
                        "        [ 1.0911e-01,  2.5075e-01,  6.0454e-02,  ..., -1.2641e+00,\n",
                        "          1.0931e+00,  1.6056e+00],\n",
                        "        ...,\n",
                        "        [-3.6892e-01,  2.4100e-01,  2.8123e-01,  ..., -1.2038e+00,\n",
                        "          1.9990e+00,  1.5696e+00],\n",
                        "        [-3.1465e-01, -6.5783e-02, -1.3679e-03,  ..., -1.3279e+00,\n",
                        "          1.6896e+00,  1.6591e+00],\n",
                        "        [ 1.5882e+00,  1.2232e-01,  1.9483e+00,  ..., -3.8596e-01,\n",
                        "          2.1796e-01,  8.9042e-01]], device='cuda:0', grad_fn=<AddmmBackward0>)\n",
                        "08/11/2022 10:34:49 - INFO - bert_for_sentence:40 -  labels.shape is torch.Size([24])\n",
                        "08/11/2022 10:34:49 - INFO - bert_for_sentence:41 -  labels is tensor([135,   1, 130, 130,   2, 140, 137, 138, 136, 137, 133,   9, 131,   0,\n",
                        "          6, 143, 140, 137, 135,  85,  21, 136, 137,   3], device='cuda:0')\n"
                    ]
                },
                {
                    "name": "stdout",
                    "output_type": "stream",
                    "text": [
                        "\r",
                        "[Training] 62/3702 [..............................] - ETA: 16:36  loss: 3.3477 "
                    ]
                },
                {
                    "name": "stderr",
                    "output_type": "stream",
                    "text": [
                        "08/11/2022 10:34:49 - INFO - bert_for_sentence:38 -  logits.shape is torch.Size([24, 144])\n",
                        "08/11/2022 10:34:50 - INFO - bert_for_sentence:39 -  logits is tensor([[ 1.4792,  0.3720,  1.6467,  ..., -1.1632,  0.6467,  1.4577],\n",
                        "        [ 0.0340,  0.2738,  0.1768,  ..., -1.3891,  1.5435,  1.7882],\n",
                        "        [ 2.1269,  0.4196,  2.0076,  ..., -0.2761, -0.0274,  0.9143],\n",
                        "        ...,\n",
                        "        [-0.3626,  0.3820,  0.3414,  ..., -1.3752,  1.5290,  1.9359],\n",
                        "        [-0.2546,  0.1998,  0.2398,  ..., -1.0439,  1.3049,  1.9318],\n",
                        "        [-0.3542,  0.2012,  0.4557,  ..., -0.9174,  1.2336,  1.9343]],\n",
                        "       device='cuda:0', grad_fn=<AddmmBackward0>)\n",
                        "08/11/2022 10:34:50 - INFO - bert_for_sentence:40 -  labels.shape is torch.Size([24])\n",
                        "08/11/2022 10:34:50 - INFO - bert_for_sentence:41 -  labels is tensor([  4, 140,   7, 140, 131, 139,   3, 104,   7, 136,   8, 137,   8,   2,\n",
                        "        142,   6, 143,   6,   9, 140, 139, 131, 131, 137], device='cuda:0')\n"
                    ]
                },
                {
                    "name": "stdout",
                    "output_type": "stream",
                    "text": [
                        "\r",
                        "[Training] 63/3702 [..............................] - ETA: 16:36  loss: 3.5428 "
                    ]
                },
                {
                    "name": "stderr",
                    "output_type": "stream",
                    "text": [
                        "08/11/2022 10:34:50 - INFO - bert_for_sentence:38 -  logits.shape is torch.Size([24, 144])\n",
                        "08/11/2022 10:34:50 - INFO - bert_for_sentence:39 -  logits is tensor([[ 0.0206,  0.1286,  0.6120,  ..., -1.1308,  1.5022,  1.4298],\n",
                        "        [-0.4610,  0.3646,  0.0319,  ..., -0.8862,  1.2135,  1.6741],\n",
                        "        [ 2.0905,  0.2241,  1.9718,  ..., -0.1855,  0.0447,  0.7399],\n",
                        "        ...,\n",
                        "        [-0.0627,  0.2225,  0.5994,  ..., -1.1754,  1.7834,  1.6398],\n",
                        "        [-0.0207,  0.6602,  0.3965,  ..., -0.9572,  1.2071,  1.3576],\n",
                        "        [-0.3204,  0.1224,  0.3384,  ..., -1.2335,  1.1637,  1.6910]],\n",
                        "       device='cuda:0', grad_fn=<AddmmBackward0>)\n",
                        "08/11/2022 10:34:50 - INFO - bert_for_sentence:40 -  labels.shape is torch.Size([24])\n",
                        "08/11/2022 10:34:50 - INFO - bert_for_sentence:41 -  labels is tensor([135, 140,   7, 135, 140,   0,   8,  63,  22,  70, 133,  27, 136, 130,\n",
                        "        143, 135,   6, 142, 138,   4,   2, 136, 140, 132], device='cuda:0')\n"
                    ]
                },
                {
                    "name": "stdout",
                    "output_type": "stream",
                    "text": [
                        "\r",
                        "[Training] 64/3702 [..............................] - ETA: 16:35  loss: 3.2869 "
                    ]
                },
                {
                    "name": "stderr",
                    "output_type": "stream",
                    "text": [
                        "08/11/2022 10:34:50 - INFO - bert_for_sentence:38 -  logits.shape is torch.Size([24, 144])\n",
                        "08/11/2022 10:34:50 - INFO - bert_for_sentence:39 -  logits is tensor([[-0.1135,  0.1487,  0.2173,  ..., -1.0947,  1.2463,  1.9073],\n",
                        "        [ 1.6263,  0.1130,  2.0901,  ..., -0.1117,  0.0756,  0.3615],\n",
                        "        [-0.1036,  0.2755,  0.3681,  ..., -1.3425,  1.4791,  1.6509],\n",
                        "        ...,\n",
                        "        [ 1.7528,  0.3507,  2.0752,  ...,  0.1786,  0.2541,  0.5953],\n",
                        "        [ 1.9722, -0.1564,  1.8818,  ...,  0.2441,  0.1309,  0.5656],\n",
                        "        [-0.1467,  0.4267,  0.7719,  ..., -0.9969,  1.1444,  1.7445]],\n",
                        "       device='cuda:0', grad_fn=<AddmmBackward0>)\n",
                        "08/11/2022 10:34:50 - INFO - bert_for_sentence:40 -  labels.shape is torch.Size([24])\n",
                        "08/11/2022 10:34:50 - INFO - bert_for_sentence:41 -  labels is tensor([132,   2, 131,  80, 140,   1, 139, 131, 130, 136, 131, 132,  27,   1,\n",
                        "        138,   8, 139, 143, 137, 132, 135,   0,   2, 131], device='cuda:0')\n"
                    ]
                },
                {
                    "name": "stdout",
                    "output_type": "stream",
                    "text": [
                        "\r",
                        "[Training] 65/3702 [..............................] - ETA: 16:35  loss: 3.4288 "
                    ]
                },
                {
                    "name": "stderr",
                    "output_type": "stream",
                    "text": [
                        "08/11/2022 10:34:50 - INFO - bert_for_sentence:38 -  logits.shape is torch.Size([24, 144])\n",
                        "08/11/2022 10:34:50 - INFO - bert_for_sentence:39 -  logits is tensor([[ 2.1195,  0.3243,  1.8425,  ..., -0.1201, -0.0420,  0.2419],\n",
                        "        [-0.2082,  0.4159,  0.4623,  ..., -0.9872,  1.4357,  2.0067],\n",
                        "        [ 1.8297,  0.5387,  2.1854,  ...,  0.1201, -0.0385,  0.6599],\n",
                        "        ...,\n",
                        "        [ 2.0640,  0.5235,  2.3559,  ..., -0.0341,  0.0232,  0.6070],\n",
                        "        [-0.1939,  0.5132,  0.0585,  ..., -1.1275,  1.4827,  1.8011],\n",
                        "        [ 1.9722,  0.3999,  2.1419,  ..., -0.2141,  0.3451,  0.5049]],\n",
                        "       device='cuda:0', grad_fn=<AddmmBackward0>)\n",
                        "08/11/2022 10:34:50 - INFO - bert_for_sentence:40 -  labels.shape is torch.Size([24])\n",
                        "08/11/2022 10:34:50 - INFO - bert_for_sentence:41 -  labels is tensor([  7, 130,   2, 128,   2, 139,   0, 140, 142, 135,   5,   8,   2,   6,\n",
                        "        130,  58, 130, 139, 136,   8,   8, 139, 130,   2], device='cuda:0')\n"
                    ]
                },
                {
                    "name": "stdout",
                    "output_type": "stream",
                    "text": [
                        "\r",
                        "[Training] 66/3702 [..............................] - ETA: 16:34  loss: 3.2821 "
                    ]
                },
                {
                    "name": "stderr",
                    "output_type": "stream",
                    "text": [
                        "08/11/2022 10:34:51 - INFO - bert_for_sentence:38 -  logits.shape is torch.Size([24, 144])\n",
                        "08/11/2022 10:34:51 - INFO - bert_for_sentence:39 -  logits is tensor([[-0.3606,  0.0960, -0.3147,  ..., -1.0921,  1.8326,  1.5175],\n",
                        "        [-0.1739,  0.2766,  0.3906,  ..., -1.1397,  0.8378,  1.6252],\n",
                        "        [ 0.0381,  0.0920,  0.2531,  ..., -1.1473,  1.2352,  1.5616],\n",
                        "        ...,\n",
                        "        [ 1.1176,  0.6040,  1.8294,  ..., -0.7892,  0.6084,  1.4280],\n",
                        "        [ 2.0022,  0.3675,  2.3851,  ...,  0.0923, -0.0440,  0.4124],\n",
                        "        [ 0.1073,  0.4608,  0.7483,  ...,  0.1038,  0.5017,  0.6426]],\n",
                        "       device='cuda:0', grad_fn=<AddmmBackward0>)\n",
                        "08/11/2022 10:34:51 - INFO - bert_for_sentence:40 -  labels.shape is torch.Size([24])\n",
                        "08/11/2022 10:34:51 - INFO - bert_for_sentence:41 -  labels is tensor([135, 136, 130,   7, 137,   8, 137, 130, 143,  46, 137, 142,   8,  27,\n",
                        "        130, 116,   4,   2, 137,   6,   2,   3,   4,  66], device='cuda:0')\n"
                    ]
                },
                {
                    "name": "stdout",
                    "output_type": "stream",
                    "text": [
                        "\r",
                        "[Training] 67/3702 [..............................] - ETA: 16:34  loss: 3.3224 "
                    ]
                },
                {
                    "name": "stderr",
                    "output_type": "stream",
                    "text": [
                        "08/11/2022 10:34:51 - INFO - bert_for_sentence:38 -  logits.shape is torch.Size([24, 144])\n",
                        "08/11/2022 10:34:51 - INFO - bert_for_sentence:39 -  logits is tensor([[ 1.8426,  0.4484,  2.1281,  ..., -0.0911,  0.2018,  0.6111],\n",
                        "        [ 1.7916,  0.0742,  2.2585,  ..., -0.2933,  0.3726,  0.9324],\n",
                        "        [-0.1343,  0.2047,  0.5320,  ..., -0.7829,  1.4895,  1.4943],\n",
                        "        ...,\n",
                        "        [-0.1207,  0.3425,  0.4723,  ..., -0.6748,  0.6435,  0.9513],\n",
                        "        [-0.0710,  0.4865,  0.3227,  ..., -1.0524,  1.3122,  1.7129],\n",
                        "        [ 1.9177,  0.2538,  1.8362,  ...,  0.1283,  0.2580,  0.6249]],\n",
                        "       device='cuda:0', grad_fn=<AddmmBackward0>)\n",
                        "08/11/2022 10:34:51 - INFO - bert_for_sentence:40 -  labels.shape is torch.Size([24])\n",
                        "08/11/2022 10:34:51 - INFO - bert_for_sentence:41 -  labels is tensor([  7,   5, 129,   1, 131,  38,   3,   7,   2, 133, 119, 130,   8, 135,\n",
                        "        134,   3, 142, 130,   2, 135, 137,  71, 136,   0], device='cuda:0')\n"
                    ]
                },
                {
                    "name": "stdout",
                    "output_type": "stream",
                    "text": [
                        "\r",
                        "[Training] 68/3702 [..............................] - ETA: 16:33  loss: 3.3929 "
                    ]
                },
                {
                    "name": "stderr",
                    "output_type": "stream",
                    "text": [
                        "08/11/2022 10:34:51 - INFO - bert_for_sentence:38 -  logits.shape is torch.Size([24, 144])\n",
                        "08/11/2022 10:34:51 - INFO - bert_for_sentence:39 -  logits is tensor([[-0.5557,  0.6161, -0.3582,  ..., -0.9752,  1.7008,  1.8245],\n",
                        "        [ 0.0147,  0.0640, -0.2808,  ..., -1.2381,  1.7217,  1.3902],\n",
                        "        [ 0.0063,  0.2708,  0.1013,  ..., -1.3234,  1.7442,  1.6106],\n",
                        "        ...,\n",
                        "        [ 0.4130, -0.0396,  0.6068,  ...,  0.5612, -0.1970,  0.3975],\n",
                        "        [-0.0984,  0.3641, -0.0958,  ..., -1.3988,  1.6598,  1.7923],\n",
                        "        [-0.0698, -0.0814,  0.0504,  ..., -1.3185,  1.3738,  1.6303]],\n",
                        "       device='cuda:0', grad_fn=<AddmmBackward0>)\n",
                        "08/11/2022 10:34:51 - INFO - bert_for_sentence:40 -  labels.shape is torch.Size([24])\n",
                        "08/11/2022 10:34:51 - INFO - bert_for_sentence:41 -  labels is tensor([143, 142, 131, 140, 136, 142, 131,   6,   7,   7, 143, 126, 134, 139,\n",
                        "        132, 131,  38, 137,   1,   8, 137, 120, 133, 137], device='cuda:0')\n"
                    ]
                },
                {
                    "name": "stdout",
                    "output_type": "stream",
                    "text": [
                        "\r",
                        "[Training] 69/3702 [..............................] - ETA: 16:33  loss: 3.6224 "
                    ]
                },
                {
                    "name": "stderr",
                    "output_type": "stream",
                    "text": [
                        "08/11/2022 10:34:51 - INFO - bert_for_sentence:38 -  logits.shape is torch.Size([24, 144])\n",
                        "08/11/2022 10:34:51 - INFO - bert_for_sentence:39 -  logits is tensor([[-0.5453,  0.1326, -0.1025,  ..., -1.0325,  1.6125,  1.3451],\n",
                        "        [ 0.1246,  0.3637,  0.0691,  ..., -1.2833,  1.5919,  1.7323],\n",
                        "        [ 0.1118,  0.1397,  0.5526,  ...,  0.1086,  0.5225,  0.8034],\n",
                        "        ...,\n",
                        "        [-0.2435,  0.3616,  0.4486,  ..., -1.0484,  1.3662,  1.7816],\n",
                        "        [-0.6049,  0.1830,  0.3336,  ..., -0.8897,  1.5021,  1.5553],\n",
                        "        [-0.1525,  0.2997,  0.6061,  ..., -0.9423,  1.3222,  1.6476]],\n",
                        "       device='cuda:0', grad_fn=<AddmmBackward0>)\n",
                        "08/11/2022 10:34:51 - INFO - bert_for_sentence:40 -  labels.shape is torch.Size([24])\n",
                        "08/11/2022 10:34:51 - INFO - bert_for_sentence:41 -  labels is tensor([132, 134,  18, 131,  31,  23, 135, 135, 138, 137, 136,  82, 137, 140,\n",
                        "        140,   3, 138, 133,  52,   1,   3, 130, 132, 131], device='cuda:0')\n"
                    ]
                },
                {
                    "name": "stdout",
                    "output_type": "stream",
                    "text": [
                        "\r",
                        "[Training] 70/3702 [..............................] - ETA: 16:32  loss: 3.3811 "
                    ]
                },
                {
                    "name": "stderr",
                    "output_type": "stream",
                    "text": [
                        "08/11/2022 10:34:52 - INFO - bert_for_sentence:38 -  logits.shape is torch.Size([24, 144])\n",
                        "08/11/2022 10:34:52 - INFO - bert_for_sentence:39 -  logits is tensor([[ 1.3506,  0.3378,  1.8723,  ..., -0.3001,  0.4413,  0.7600],\n",
                        "        [ 1.9686,  0.2226,  2.0490,  ..., -0.1129,  0.3727,  0.7334],\n",
                        "        [ 0.0578, -0.0779, -0.0751,  ..., -1.3402,  1.3265,  1.7047],\n",
                        "        ...,\n",
                        "        [ 2.0248,  0.0979,  2.3034,  ..., -0.1350, -0.0364,  0.5189],\n",
                        "        [ 0.3286,  0.0538,  0.7181,  ...,  0.5181,  0.3002,  0.6476],\n",
                        "        [ 0.1418,  0.0723,  0.2069,  ...,  0.3989,  0.4356,  0.5211]],\n",
                        "       device='cuda:0', grad_fn=<AddmmBackward0>)\n",
                        "08/11/2022 10:34:52 - INFO - bert_for_sentence:40 -  labels.shape is torch.Size([24])\n",
                        "08/11/2022 10:34:52 - INFO - bert_for_sentence:41 -  labels is tensor([  1,   3, 132, 137, 138, 142, 134, 132,   7, 129, 142, 132,  31,   9,\n",
                        "        138,   5, 142, 138, 132, 137, 143,   9,  80,  60], device='cuda:0')\n"
                    ]
                },
                {
                    "name": "stdout",
                    "output_type": "stream",
                    "text": [
                        "\r",
                        "[Training] 71/3702 [..............................] - ETA: 16:32  loss: 3.6104 "
                    ]
                },
                {
                    "name": "stderr",
                    "output_type": "stream",
                    "text": [
                        "08/11/2022 10:34:52 - INFO - bert_for_sentence:38 -  logits.shape is torch.Size([24, 144])\n",
                        "08/11/2022 10:34:52 - INFO - bert_for_sentence:39 -  logits is tensor([[ 1.5212,  0.4532,  2.1012,  ..., -0.6229,  0.6124,  0.9364],\n",
                        "        [ 1.4026,  0.1419,  2.2287,  ..., -0.6749,  0.3660,  0.8938],\n",
                        "        [-0.4210,  0.7448, -0.1403,  ..., -1.0342,  1.7244,  1.7719],\n",
                        "        ...,\n",
                        "        [ 1.7078,  0.1882,  2.1503,  ..., -0.5125,  0.1168,  1.1766],\n",
                        "        [-0.2694,  0.2587,  0.1506,  ..., -0.8270,  1.4061,  1.8059],\n",
                        "        [-0.1645,  0.2947, -0.2922,  ..., -1.0301,  1.5510,  1.3110]],\n",
                        "       device='cuda:0', grad_fn=<AddmmBackward0>)\n",
                        "08/11/2022 10:34:52 - INFO - bert_for_sentence:40 -  labels.shape is torch.Size([24])\n",
                        "08/11/2022 10:34:52 - INFO - bert_for_sentence:41 -  labels is tensor([  2,   4, 139,   2, 143, 130,  80, 130, 137,   7, 132,  81,   0,  56,\n",
                        "          0, 133, 142,   6, 137,   1,   1,   2, 131, 130], device='cuda:0')\n"
                    ]
                },
                {
                    "name": "stdout",
                    "output_type": "stream",
                    "text": [
                        "\r",
                        "[Training] 72/3702 [..............................] - ETA: 16:32  loss: 3.6447 "
                    ]
                },
                {
                    "name": "stderr",
                    "output_type": "stream",
                    "text": [
                        "08/11/2022 10:34:52 - INFO - bert_for_sentence:38 -  logits.shape is torch.Size([24, 144])\n",
                        "08/11/2022 10:34:52 - INFO - bert_for_sentence:39 -  logits is tensor([[ 0.0334, -0.0098,  0.2907,  ...,  0.6236,  0.3842,  0.1573],\n",
                        "        [-0.2126,  0.4655,  0.3582,  ..., -0.7466,  1.5988,  1.5620],\n",
                        "        [ 1.8433,  0.3983,  2.7459,  ..., -0.3830,  0.4022,  0.6574],\n",
                        "        ...,\n",
                        "        [-0.0822,  0.3440,  0.3328,  ..., -1.2501,  1.3490,  1.5065],\n",
                        "        [-0.5723,  0.9006,  0.2598,  ..., -1.4350,  1.5240,  1.6955],\n",
                        "        [-0.7752,  0.2705,  0.1523,  ..., -1.3133,  1.7446,  1.7110]],\n",
                        "       device='cuda:0', grad_fn=<AddmmBackward0>)\n",
                        "08/11/2022 10:34:52 - INFO - bert_for_sentence:40 -  labels.shape is torch.Size([24])\n",
                        "08/11/2022 10:34:52 - INFO - bert_for_sentence:41 -  labels is tensor([ 80, 132,   8,  80, 136, 143,   0,   3, 135, 131,  27,   5,  80, 131,\n",
                        "        131, 142, 132,   2,   3,   9,   9, 140,   5, 138], device='cuda:0')\n"
                    ]
                },
                {
                    "name": "stdout",
                    "output_type": "stream",
                    "text": [
                        "\r",
                        "[Training] 73/3702 [..............................] - ETA: 16:31  loss: 3.2982 "
                    ]
                },
                {
                    "name": "stderr",
                    "output_type": "stream",
                    "text": [
                        "08/11/2022 10:34:52 - INFO - bert_for_sentence:38 -  logits.shape is torch.Size([24, 144])\n",
                        "08/11/2022 10:34:53 - INFO - bert_for_sentence:39 -  logits is tensor([[ 0.6199,  0.0055,  0.6977,  ...,  0.2099,  0.2134,  0.5929],\n",
                        "        [-0.2670,  0.2786, -0.1633,  ..., -1.0193,  1.7713,  1.8206],\n",
                        "        [ 2.0088,  0.2211,  2.3321,  ..., -0.3307,  0.0912,  0.8849],\n",
                        "        ...,\n",
                        "        [ 1.4692,  0.4180,  2.3107,  ..., -0.6027,  0.5742,  1.4074],\n",
                        "        [-0.5822,  0.1727, -0.0177,  ..., -1.3142,  1.6996,  1.5012],\n",
                        "        [-0.5304,  0.2395, -0.1160,  ..., -1.1769,  2.0743,  1.6282]],\n",
                        "       device='cuda:0', grad_fn=<AddmmBackward0>)\n",
                        "08/11/2022 10:34:53 - INFO - bert_for_sentence:40 -  labels.shape is torch.Size([24])\n",
                        "08/11/2022 10:34:53 - INFO - bert_for_sentence:41 -  labels is tensor([106, 139,   9, 130, 139, 131, 140, 138, 131,   6,   3, 133, 140,   2,\n",
                        "          0, 132,  80, 140,  80, 111, 133,   4, 140, 136], device='cuda:0')\n"
                    ]
                },
                {
                    "name": "stdout",
                    "output_type": "stream",
                    "text": [
                        "\r",
                        "[Training] 74/3702 [..............................] - ETA: 16:31  loss: 3.1235 "
                    ]
                },
                {
                    "name": "stderr",
                    "output_type": "stream",
                    "text": [
                        "08/11/2022 10:34:53 - INFO - bert_for_sentence:38 -  logits.shape is torch.Size([24, 144])\n",
                        "08/11/2022 10:34:53 - INFO - bert_for_sentence:39 -  logits is tensor([[ 0.4741,  0.3296,  0.3903,  ...,  0.2085,  0.2946,  0.3794],\n",
                        "        [ 0.0351,  0.2746,  0.5630,  ...,  0.1084,  0.8617,  1.2067],\n",
                        "        [ 0.0405,  0.1921,  0.7227,  ...,  0.5153,  0.2277,  0.5746],\n",
                        "        ...,\n",
                        "        [-0.4597,  0.6883, -0.1485,  ..., -1.3838,  1.3603,  1.4609],\n",
                        "        [ 1.2642,  0.6642,  2.0108,  ..., -0.8843,  0.6553,  1.2811],\n",
                        "        [ 0.3005,  0.1320,  0.5601,  ...,  0.4643,  0.3113,  0.3666]],\n",
                        "       device='cuda:0', grad_fn=<AddmmBackward0>)\n",
                        "08/11/2022 10:34:53 - INFO - bert_for_sentence:40 -  labels.shape is torch.Size([24])\n",
                        "08/11/2022 10:34:53 - INFO - bert_for_sentence:41 -  labels is tensor([ 85,  19,  27, 104, 138, 131, 138, 104,   2, 140,   5, 136,   7, 135,\n",
                        "        137, 135, 142, 138, 131, 140,   9,   1,   2,  56], device='cuda:0')\n"
                    ]
                },
                {
                    "name": "stdout",
                    "output_type": "stream",
                    "text": [
                        "\r",
                        "[Training] 75/3702 [..............................] - ETA: 16:30  loss: 3.2188 "
                    ]
                },
                {
                    "name": "stderr",
                    "output_type": "stream",
                    "text": [
                        "08/11/2022 10:34:53 - INFO - bert_for_sentence:38 -  logits.shape is torch.Size([24, 144])\n",
                        "08/11/2022 10:34:53 - INFO - bert_for_sentence:39 -  logits is tensor([[-0.3127,  0.7923,  0.4697,  ..., -1.2306,  1.0458,  1.1746],\n",
                        "        [-0.3513,  0.4103, -0.1535,  ..., -1.0730,  2.2705,  1.4612],\n",
                        "        [ 0.1099,  0.8139,  0.1255,  ..., -0.8498,  1.8534,  1.6686],\n",
                        "        ...,\n",
                        "        [ 1.5172,  0.5966,  2.1074,  ..., -0.4873,  0.1901,  0.7217],\n",
                        "        [-0.5505,  0.3119,  0.0328,  ..., -0.9830,  1.6673,  1.8556],\n",
                        "        [ 0.3640,  0.2566,  0.5426,  ...,  0.2783,  0.0576,  0.6345]],\n",
                        "       device='cuda:0', grad_fn=<AddmmBackward0>)\n",
                        "08/11/2022 10:34:53 - INFO - bert_for_sentence:40 -  labels.shape is torch.Size([24])\n",
                        "08/11/2022 10:34:53 - INFO - bert_for_sentence:41 -  labels is tensor([  5, 134, 139, 143, 136, 130,  29,  34, 106,   0, 134, 132, 135, 130,\n",
                        "          4, 139, 142, 142,   1, 136,   7,   6, 139,  95], device='cuda:0')\n"
                    ]
                },
                {
                    "name": "stdout",
                    "output_type": "stream",
                    "text": [
                        "\r",
                        "[Training] 76/3702 [..............................] - ETA: 16:30  loss: 3.6253 "
                    ]
                },
                {
                    "name": "stderr",
                    "output_type": "stream",
                    "text": [
                        "08/11/2022 10:34:53 - INFO - bert_for_sentence:38 -  logits.shape is torch.Size([24, 144])\n",
                        "08/11/2022 10:34:53 - INFO - bert_for_sentence:39 -  logits is tensor([[-0.7149,  0.7956,  0.3154,  ..., -1.1871,  1.2935,  1.7237],\n",
                        "        [-0.5464,  0.4459, -0.3072,  ..., -1.1550,  1.8706,  2.2186],\n",
                        "        [-0.2256,  0.3298,  0.0328,  ..., -0.9307,  1.5899,  1.3119],\n",
                        "        ...,\n",
                        "        [-0.6563,  0.3649,  0.2530,  ..., -0.9692,  1.0774,  1.9241],\n",
                        "        [-0.3966,  0.4597, -0.2155,  ..., -0.8399,  1.7259,  1.8086],\n",
                        "        [-0.3294,  0.8133,  0.6536,  ..., -1.3290,  1.4381,  1.9211]],\n",
                        "       device='cuda:0', grad_fn=<AddmmBackward0>)\n",
                        "08/11/2022 10:34:53 - INFO - bert_for_sentence:40 -  labels.shape is torch.Size([24])\n",
                        "08/11/2022 10:34:53 - INFO - bert_for_sentence:41 -  labels is tensor([138, 136, 137, 135, 137, 140, 137,  80, 136, 136,  27,  80,  80,  27,\n",
                        "        131,   0, 138, 143,   1, 134, 140, 133, 143, 143], device='cuda:0')\n"
                    ]
                },
                {
                    "name": "stdout",
                    "output_type": "stream",
                    "text": [
                        "\r",
                        "[Training] 77/3702 [..............................] - ETA: 16:30  loss: 3.6449 "
                    ]
                },
                {
                    "name": "stderr",
                    "output_type": "stream",
                    "text": [
                        "08/11/2022 10:34:54 - INFO - bert_for_sentence:38 -  logits.shape is torch.Size([24, 144])\n",
                        "08/11/2022 10:34:54 - INFO - bert_for_sentence:39 -  logits is tensor([[ 1.7297,  0.5820,  2.2213,  ...,  0.0363,  0.5904,  0.8524],\n",
                        "        [ 2.0307,  0.5768,  2.3151,  ...,  0.0081,  0.1629,  0.3116],\n",
                        "        [ 0.0723, -0.0489,  0.6197,  ...,  0.0951,  0.4034,  0.6179],\n",
                        "        ...,\n",
                        "        [ 2.0307,  0.7019,  2.3023,  ..., -0.6932,  0.6210,  0.8607],\n",
                        "        [-0.3439,  0.3245, -0.6762,  ..., -1.5282,  1.8920,  1.9551],\n",
                        "        [-0.6070,  0.5368,  0.1955,  ..., -0.9362,  1.5802,  2.0946]],\n",
                        "       device='cuda:0', grad_fn=<AddmmBackward0>)\n",
                        "08/11/2022 10:34:54 - INFO - bert_for_sentence:40 -  labels.shape is torch.Size([24])\n",
                        "08/11/2022 10:34:54 - INFO - bert_for_sentence:41 -  labels is tensor([  2,   8,  81,   5, 138,   9,   3, 137, 136, 135, 133, 130, 134, 143,\n",
                        "          7, 135,  27, 135,   0, 136, 139,   2, 130, 140], device='cuda:0')\n"
                    ]
                },
                {
                    "name": "stdout",
                    "output_type": "stream",
                    "text": [
                        "\r",
                        "[Training] 78/3702 [..............................] - ETA: 16:29  loss: 3.0300 "
                    ]
                },
                {
                    "name": "stderr",
                    "output_type": "stream",
                    "text": [
                        "08/11/2022 10:34:54 - INFO - bert_for_sentence:38 -  logits.shape is torch.Size([24, 144])\n",
                        "08/11/2022 10:34:54 - INFO - bert_for_sentence:39 -  logits is tensor([[ 2.1131,  0.5849,  2.4055,  ..., -0.5980,  0.4324,  0.2412],\n",
                        "        [-0.0392,  0.3483,  0.3842,  ..., -1.2928,  1.8017,  1.4666],\n",
                        "        [-0.3099,  0.5797,  0.0675,  ..., -1.2500,  2.1464,  1.5984],\n",
                        "        ...,\n",
                        "        [-0.4739,  0.1979, -0.1971,  ..., -0.9499,  1.8978,  1.9264],\n",
                        "        [-0.2890,  0.4797,  0.0656,  ..., -1.2106,  1.8469,  2.0532],\n",
                        "        [-0.3770,  0.3738,  0.4335,  ..., -1.1664,  1.3094,  1.5820]],\n",
                        "       device='cuda:0', grad_fn=<AddmmBackward0>)\n",
                        "08/11/2022 10:34:54 - INFO - bert_for_sentence:40 -  labels.shape is torch.Size([24])\n",
                        "08/11/2022 10:34:54 - INFO - bert_for_sentence:41 -  labels is tensor([  7, 142, 134,  29,   2, 143, 140,   5, 133,  49, 143,   6, 139,  80,\n",
                        "        140, 133,   1, 132,  81, 131, 139, 130, 132, 137], device='cuda:0')\n"
                    ]
                },
                {
                    "name": "stdout",
                    "output_type": "stream",
                    "text": [
                        "\r",
                        "[Training] 79/3702 [..............................] - ETA: 16:29  loss: 3.1244 "
                    ]
                },
                {
                    "name": "stderr",
                    "output_type": "stream",
                    "text": [
                        "08/11/2022 10:34:54 - INFO - bert_for_sentence:38 -  logits.shape is torch.Size([24, 144])\n",
                        "08/11/2022 10:34:54 - INFO - bert_for_sentence:39 -  logits is tensor([[-0.0379,  0.0276, -0.0796,  ..., -1.2410,  1.7345,  1.8318],\n",
                        "        [ 0.5716,  0.4440,  0.7215,  ...,  0.3596,  0.4149,  0.4024],\n",
                        "        [ 1.6139,  0.8859,  2.0084,  ..., -0.0520,  1.0708,  1.1988],\n",
                        "        ...,\n",
                        "        [-0.1294,  0.4604,  0.1463,  ..., -0.2333,  0.5435,  1.0063],\n",
                        "        [ 0.9964,  0.7952,  1.1945,  ..., -0.9170,  1.6874,  1.1292],\n",
                        "        [-0.1963,  0.7629,  0.4729,  ..., -1.2013,  1.6302,  1.7355]],\n",
                        "       device='cuda:0', grad_fn=<AddmmBackward0>)\n",
                        "08/11/2022 10:34:54 - INFO - bert_for_sentence:40 -  labels.shape is torch.Size([24])\n",
                        "08/11/2022 10:34:54 - INFO - bert_for_sentence:41 -  labels is tensor([137,  73,   8, 110, 132,   9,  80,   6, 133, 139, 130,  20,   7, 140,\n",
                        "        133,   0, 130, 136, 138, 137,  80,  63,   7, 140], device='cuda:0')\n"
                    ]
                },
                {
                    "name": "stdout",
                    "output_type": "stream",
                    "text": [
                        "\r",
                        "[Training] 80/3702 [..............................] - ETA: 16:29  loss: 3.2480 "
                    ]
                },
                {
                    "name": "stderr",
                    "output_type": "stream",
                    "text": [
                        "08/11/2022 10:34:54 - INFO - bert_for_sentence:38 -  logits.shape is torch.Size([24, 144])\n",
                        "08/11/2022 10:34:54 - INFO - bert_for_sentence:39 -  logits is tensor([[-0.2622,  0.4089, -0.0362,  ..., -1.2362,  2.2153,  1.7188],\n",
                        "        [-0.2516,  0.4454,  0.5747,  ..., -0.3251,  0.6643,  0.6731],\n",
                        "        [-0.2259,  0.6688, -0.0429,  ..., -1.2600,  1.7424,  1.6517],\n",
                        "        ...,\n",
                        "        [-0.2020,  0.4350, -0.1101,  ..., -1.2111,  2.0967,  1.4058],\n",
                        "        [-0.4385,  0.7630, -0.2618,  ..., -1.1421,  1.9572,  1.8491],\n",
                        "        [-0.1109,  0.5336,  0.2158,  ..., -0.5728,  1.7599,  2.3506]],\n",
                        "       device='cuda:0', grad_fn=<AddmmBackward0>)\n",
                        "08/11/2022 10:34:54 - INFO - bert_for_sentence:40 -  labels.shape is torch.Size([24])\n",
                        "08/11/2022 10:34:54 - INFO - bert_for_sentence:41 -  labels is tensor([139, 105, 132, 136, 143, 138, 101,   2,   6,  22,   0, 131, 137, 132,\n",
                        "        135, 130,   3, 130, 129,  56, 130, 137, 129, 131], device='cuda:0')\n"
                    ]
                },
                {
                    "name": "stdout",
                    "output_type": "stream",
                    "text": [
                        "\r",
                        "[Training] 81/3702 [..............................] - ETA: 16:28  loss: 3.2095 "
                    ]
                },
                {
                    "name": "stderr",
                    "output_type": "stream",
                    "text": [
                        "08/11/2022 10:34:55 - INFO - bert_for_sentence:38 -  logits.shape is torch.Size([24, 144])\n",
                        "08/11/2022 10:34:55 - INFO - bert_for_sentence:39 -  logits is tensor([[ 0.0420, -0.0469,  0.3392,  ...,  0.1075,  0.4498,  0.8094],\n",
                        "        [-0.3441,  0.5108,  0.5585,  ..., -0.7416,  1.3273,  2.0995],\n",
                        "        [ 2.2329,  0.7735,  2.4617,  ..., -0.1103,  0.4531,  0.8120],\n",
                        "        ...,\n",
                        "        [-0.1119,  0.9368,  0.2826,  ..., -1.2258,  1.7506,  1.7875],\n",
                        "        [ 0.0433,  0.5857,  0.0228,  ..., -1.1703,  2.0504,  1.3555],\n",
                        "        [-0.1506,  0.6787,  0.2111,  ..., -1.0963,  1.8344,  1.4385]],\n",
                        "       device='cuda:0', grad_fn=<AddmmBackward0>)\n",
                        "08/11/2022 10:34:55 - INFO - bert_for_sentence:40 -  labels.shape is torch.Size([24])\n",
                        "08/11/2022 10:34:55 - INFO - bert_for_sentence:41 -  labels is tensor([ 59, 140,   6,  66, 140, 130,   6,   8, 137, 142,   9, 136, 139, 133,\n",
                        "          9, 138, 138,   9,  80, 143, 143, 130, 133, 139], device='cuda:0')\n"
                    ]
                },
                {
                    "name": "stdout",
                    "output_type": "stream",
                    "text": [
                        "\r",
                        "[Training] 82/3702 [..............................] - ETA: 16:28  loss: 3.3334 "
                    ]
                },
                {
                    "name": "stderr",
                    "output_type": "stream",
                    "text": [
                        "08/11/2022 10:34:55 - INFO - bert_for_sentence:38 -  logits.shape is torch.Size([24, 144])\n",
                        "08/11/2022 10:34:55 - INFO - bert_for_sentence:39 -  logits is tensor([[-0.0056,  0.3905,  0.2800,  ..., -1.0767,  2.1254,  1.4259],\n",
                        "        [ 2.1692,  0.8666,  2.5605,  ..., -0.3065,  0.0148,  0.6592],\n",
                        "        [-0.0736,  0.6184,  0.1081,  ..., -1.2205,  2.0591,  1.7936],\n",
                        "        ...,\n",
                        "        [-0.0664,  0.8875, -0.0364,  ..., -1.2858,  1.7455,  1.5136],\n",
                        "        [ 2.3531,  0.5736,  2.7633,  ..., -0.2278,  0.1963,  0.4603],\n",
                        "        [-0.2428,  0.1917,  0.5712,  ..., -0.9166,  1.3153,  1.6492]],\n",
                        "       device='cuda:0', grad_fn=<AddmmBackward0>)\n",
                        "08/11/2022 10:34:55 - INFO - bert_for_sentence:40 -  labels.shape is torch.Size([24])\n",
                        "08/11/2022 10:34:55 - INFO - bert_for_sentence:41 -  labels is tensor([133,   0, 131, 131, 130,   1, 131,   2, 143, 135, 130, 135, 136, 137,\n",
                        "        132,  80,  81, 109, 135, 135,   0, 130,   0, 131], device='cuda:0')\n"
                    ]
                },
                {
                    "name": "stdout",
                    "output_type": "stream",
                    "text": [
                        "\r",
                        "[Training] 83/3702 [..............................] - ETA: 16:27  loss: 3.2115 "
                    ]
                },
                {
                    "name": "stderr",
                    "output_type": "stream",
                    "text": [
                        "08/11/2022 10:34:55 - INFO - bert_for_sentence:38 -  logits.shape is torch.Size([24, 144])\n",
                        "08/11/2022 10:34:55 - INFO - bert_for_sentence:39 -  logits is tensor([[ 2.0230,  0.9373,  2.8167,  ..., -0.3981,  0.1567,  0.4885],\n",
                        "        [ 2.2466,  0.9389,  2.9231,  ..., -0.2985,  0.1903,  0.2668],\n",
                        "        [-0.2516,  0.4511, -0.2190,  ..., -1.3237,  1.9502,  1.9790],\n",
                        "        ...,\n",
                        "        [-0.3249,  0.2146,  0.1226,  ..., -0.3091,  0.2493,  0.3615],\n",
                        "        [-0.1736,  0.3634,  0.2507,  ..., -1.5160,  1.9854,  1.9264],\n",
                        "        [ 0.0947,  0.4615,  0.3490,  ..., -1.0535,  1.8076,  1.3690]],\n",
                        "       device='cuda:0', grad_fn=<AddmmBackward0>)\n",
                        "08/11/2022 10:34:55 - INFO - bert_for_sentence:40 -  labels.shape is torch.Size([24])\n",
                        "08/11/2022 10:34:55 - INFO - bert_for_sentence:41 -  labels is tensor([  3,   8, 138, 134,   0,   3,   6,   6,  35,   7,   7, 138,   7, 116,\n",
                        "        130,   7, 131, 137, 135,  30, 135,  27, 129, 142], device='cuda:0')\n"
                    ]
                },
                {
                    "name": "stdout",
                    "output_type": "stream",
                    "text": [
                        "\r",
                        "[Training] 84/3702 [..............................] - ETA: 16:27  loss: 2.9805 "
                    ]
                },
                {
                    "name": "stderr",
                    "output_type": "stream",
                    "text": [
                        "08/11/2022 10:34:55 - INFO - bert_for_sentence:38 -  logits.shape is torch.Size([24, 144])\n",
                        "08/11/2022 10:34:55 - INFO - bert_for_sentence:39 -  logits is tensor([[-0.2198,  0.5111,  0.1236,  ..., -1.1048,  1.8837,  1.8472],\n",
                        "        [-0.2862,  1.0383,  0.5049,  ..., -1.2222,  1.5697,  1.9279],\n",
                        "        [-0.1894,  0.4020,  0.2572,  ..., -1.1739,  1.5471,  2.3343],\n",
                        "        ...,\n",
                        "        [ 1.7154,  1.0967,  1.7077,  ..., -0.4867,  1.1993,  1.5503],\n",
                        "        [ 2.2193,  0.4875,  2.3056,  ..., -0.2825,  0.2597,  0.7447],\n",
                        "        [ 2.2483,  0.9785,  2.7102,  ...,  0.0117,  0.5768,  0.5859]],\n",
                        "       device='cuda:0', grad_fn=<AddmmBackward0>)\n",
                        "08/11/2022 10:34:55 - INFO - bert_for_sentence:40 -  labels.shape is torch.Size([24])\n",
                        "08/11/2022 10:34:55 - INFO - bert_for_sentence:41 -  labels is tensor([132, 138, 130, 131, 135,   0,   4, 131, 137, 130, 136, 137, 135,   7,\n",
                        "        142, 130,   2,   6, 137, 132, 131, 139,   2,   2], device='cuda:0')\n",
                        "08/11/2022 10:34:56 - INFO - bert_for_sentence:38 -  logits.shape is torch.Size([24, 144])\n"
                    ]
                },
                {
                    "name": "stdout",
                    "output_type": "stream",
                    "text": [
                        "\r",
                        "[Training] 85/3702 [..............................] - ETA: 16:27  loss: 3.4577 \r",
                        "[Training] 86/3702 [..............................] - ETA: 16:19  loss: 2.8231 "
                    ]
                },
                {
                    "name": "stderr",
                    "output_type": "stream",
                    "text": [
                        "08/11/2022 10:34:56 - INFO - bert_for_sentence:39 -  logits is tensor([[-0.2284,  0.4562, -0.0461,  ..., -1.0649,  2.0172,  1.6371],\n",
                        "        [-0.3607,  0.5114,  0.0280,  ..., -1.2578,  2.0159,  1.4850],\n",
                        "        [ 2.3957,  0.6130,  2.6748,  ..., -0.1340,  0.2004,  0.6763],\n",
                        "        ...,\n",
                        "        [-0.2118, -0.0060, -0.0303,  ..., -0.3823,  0.2172,  0.7624],\n",
                        "        [-0.5909,  0.0744, -0.4165,  ..., -1.1788,  1.4228,  1.6799],\n",
                        "        [-0.0711,  0.0810,  0.1662,  ..., -0.4996,  0.2049,  0.4380]],\n",
                        "       device='cuda:0', grad_fn=<AddmmBackward0>)\n",
                        "08/11/2022 10:34:56 - INFO - bert_for_sentence:40 -  labels.shape is torch.Size([24])\n",
                        "08/11/2022 10:34:56 - INFO - bert_for_sentence:41 -  labels is tensor([133, 135,   8, 135, 133,   6, 130,  80, 136, 131, 136,   5, 137, 129,\n",
                        "          0, 135,   7, 132, 132,   6, 139, 128, 131,  92], device='cuda:0')\n",
                        "08/11/2022 10:34:56 - INFO - bert_for_sentence:38 -  logits.shape is torch.Size([24, 144])\n",
                        "08/11/2022 10:34:56 - INFO - bert_for_sentence:39 -  logits is tensor([[-0.4769,  0.3761,  0.8796,  ..., -0.9120,  1.4109,  1.0553],\n",
                        "        [-0.4752,  0.7109,  0.3981,  ..., -0.8312,  1.3173,  1.8800],\n",
                        "        [-0.5730,  0.2808,  0.4995,  ..., -1.2310,  1.0767,  1.9343],\n",
                        "        ...,\n",
                        "        [-0.6111,  0.4273,  0.2683,  ..., -1.1317,  1.2461,  1.2260],\n",
                        "        [-0.3738,  0.5185,  0.3598,  ..., -1.2134,  1.3251,  2.2065],\n",
                        "        [-0.4730,  0.5017,  0.5866,  ..., -0.8985,  1.6664,  1.9680]],\n",
                        "       device='cuda:0', grad_fn=<AddmmBackward0>)\n",
                        "08/11/2022 10:34:56 - INFO - bert_for_sentence:40 -  labels.shape is torch.Size([24])\n",
                        "08/11/2022 10:34:56 - INFO - bert_for_sentence:41 -  labels is tensor([135, 143, 139,   5, 132,   7, 131, 137, 136,   8,   3,  89, 138,  66,\n",
                        "        138, 139, 109, 137, 142,   3,   8,  64, 143, 129], device='cuda:0')\n"
                    ]
                },
                {
                    "name": "stdout",
                    "output_type": "stream",
                    "text": [
                        "\r",
                        "[Training] 87/3702 [..............................] - ETA: 16:19  loss: 3.1113 "
                    ]
                },
                {
                    "name": "stderr",
                    "output_type": "stream",
                    "text": [
                        "08/11/2022 10:34:56 - INFO - bert_for_sentence:38 -  logits.shape is torch.Size([24, 144])\n",
                        "08/11/2022 10:34:56 - INFO - bert_for_sentence:39 -  logits is tensor([[-0.0767,  0.5469,  0.4825,  ..., -1.3998,  1.7494,  1.7880],\n",
                        "        [ 1.0871,  0.7046,  1.5092,  ..., -1.1850,  1.5649,  0.9320],\n",
                        "        [ 2.0062,  0.6503,  2.5020,  ..., -0.0888,  0.3730,  0.6547],\n",
                        "        ...,\n",
                        "        [-0.3253,  0.7113,  0.2596,  ..., -0.9734,  0.9953,  1.7795],\n",
                        "        [ 2.3964,  0.6849,  3.0077,  ..., -0.3008,  0.3911,  0.5428],\n",
                        "        [-0.7180,  0.1272, -0.1024,  ..., -0.9009,  1.6786,  1.9459]],\n",
                        "       device='cuda:0', grad_fn=<AddmmBackward0>)\n",
                        "08/11/2022 10:34:56 - INFO - bert_for_sentence:40 -  labels.shape is torch.Size([24])\n",
                        "08/11/2022 10:34:56 - INFO - bert_for_sentence:41 -  labels is tensor([133, 133,   6,   6,   6,   7, 135, 106,   2, 130, 137,   7, 139, 140,\n",
                        "         80,   9, 139, 139, 137, 137, 102, 132,   9, 131], device='cuda:0')\n"
                    ]
                },
                {
                    "name": "stdout",
                    "output_type": "stream",
                    "text": [
                        "\r",
                        "[Training] 88/3702 [..............................] - ETA: 16:19  loss: 3.4079 "
                    ]
                },
                {
                    "name": "stderr",
                    "output_type": "stream",
                    "text": [
                        "08/11/2022 10:34:56 - INFO - bert_for_sentence:38 -  logits.shape is torch.Size([24, 144])\n",
                        "08/11/2022 10:34:56 - INFO - bert_for_sentence:39 -  logits is tensor([[-0.1718,  0.5352,  0.9404,  ..., -0.9080,  1.3633,  1.5713],\n",
                        "        [-0.0668,  0.3709,  0.9259,  ..., -1.2253,  1.6071,  1.6083],\n",
                        "        [-0.3826, -0.0524, -0.0278,  ..., -0.9531,  1.2733,  2.0058],\n",
                        "        ...,\n",
                        "        [-0.2571,  0.3325,  0.2397,  ..., -1.1097,  1.8587,  1.3361],\n",
                        "        [-0.1124,  0.0027,  0.1438,  ..., -1.1112,  1.3533,  1.8206],\n",
                        "        [-0.5284,  0.3195, -0.1545,  ..., -0.8146,  0.7072,  0.8043]],\n",
                        "       device='cuda:0', grad_fn=<AddmmBackward0>)\n",
                        "08/11/2022 10:34:56 - INFO - bert_for_sentence:40 -  labels.shape is torch.Size([24])\n",
                        "08/11/2022 10:34:56 - INFO - bert_for_sentence:41 -  labels is tensor([133, 133, 140, 140,   6, 135, 137,   2, 132,  26, 137,   4,  88, 132,\n",
                        "        135, 137,   6, 138,   2, 132, 142, 142, 129,  27], device='cuda:0')\n"
                    ]
                },
                {
                    "name": "stdout",
                    "output_type": "stream",
                    "text": [
                        "\r",
                        "[Training] 89/3702 [..............................] - ETA: 16:18  loss: 3.0026 "
                    ]
                },
                {
                    "name": "stderr",
                    "output_type": "stream",
                    "text": [
                        "08/11/2022 10:34:57 - INFO - bert_for_sentence:38 -  logits.shape is torch.Size([24, 144])\n",
                        "08/11/2022 10:34:57 - INFO - bert_for_sentence:39 -  logits is tensor([[ 2.4003,  0.4409,  2.8051,  ..., -0.5319,  0.3187,  1.0295],\n",
                        "        [-0.2341,  0.4689,  0.4705,  ..., -1.0568,  1.7328,  1.3959],\n",
                        "        [-0.3925, -0.3141,  0.0416,  ..., -0.5848,  0.0598,  0.5965],\n",
                        "        ...,\n",
                        "        [-0.1517,  0.2313,  0.3081,  ..., -1.1554,  1.5061,  1.4229],\n",
                        "        [ 1.0539,  0.7496,  1.5432,  ..., -1.3084,  1.0030,  1.0631],\n",
                        "        [-0.5723, -0.0804, -0.0839,  ..., -0.5525,  0.1996,  0.7450]],\n",
                        "       device='cuda:0', grad_fn=<AddmmBackward0>)\n",
                        "08/11/2022 10:34:57 - INFO - bert_for_sentence:40 -  labels.shape is torch.Size([24])\n",
                        "08/11/2022 10:34:57 - INFO - bert_for_sentence:41 -  labels is tensor([  2, 137,  80, 135,  80, 133, 139, 140, 137,   7, 143, 133, 139, 134,\n",
                        "         46,   8, 131, 131, 133, 140,   6, 136,   2,  98], device='cuda:0')\n"
                    ]
                },
                {
                    "name": "stdout",
                    "output_type": "stream",
                    "text": [
                        "\r",
                        "[Training] 90/3702 [..............................] - ETA: 16:18  loss: 3.0705 "
                    ]
                },
                {
                    "name": "stderr",
                    "output_type": "stream",
                    "text": [
                        "08/11/2022 10:34:57 - INFO - bert_for_sentence:38 -  logits.shape is torch.Size([24, 144])\n",
                        "08/11/2022 10:34:57 - INFO - bert_for_sentence:39 -  logits is tensor([[-0.1531,  0.3003,  0.0763,  ..., -0.2868,  1.3930,  1.1952],\n",
                        "        [-0.1740,  0.0972,  0.4224,  ..., -0.9340,  1.6429,  1.4025],\n",
                        "        [ 0.6677,  0.4221,  1.1954,  ..., -1.1500,  1.4795,  1.5741],\n",
                        "        ...,\n",
                        "        [-0.6301,  0.5794,  0.0771,  ..., -1.3197,  1.3577,  2.0660],\n",
                        "        [-0.0133,  0.2337,  0.0561,  ..., -0.7067,  1.6355,  1.7714],\n",
                        "        [ 0.0155,  0.2606,  0.3559,  ..., -1.2757,  1.8505,  1.1936]],\n",
                        "       device='cuda:0', grad_fn=<AddmmBackward0>)\n",
                        "08/11/2022 10:34:57 - INFO - bert_for_sentence:40 -  labels.shape is torch.Size([24])\n",
                        "08/11/2022 10:34:57 - INFO - bert_for_sentence:41 -  labels is tensor([132, 135, 133, 131, 139,   3,   2,   7, 142, 138, 137,   4,   9, 142,\n",
                        "        143, 130,   2, 136, 137,  80,  63, 131, 131, 138], device='cuda:0')\n"
                    ]
                },
                {
                    "name": "stdout",
                    "output_type": "stream",
                    "text": [
                        "\r",
                        "[Training] 91/3702 [..............................] - ETA: 16:18  loss: 2.9329 "
                    ]
                },
                {
                    "name": "stderr",
                    "output_type": "stream",
                    "text": [
                        "08/11/2022 10:34:57 - INFO - bert_for_sentence:38 -  logits.shape is torch.Size([24, 144])\n",
                        "08/11/2022 10:34:57 - INFO - bert_for_sentence:39 -  logits is tensor([[-0.3681, -0.2371,  0.2082,  ..., -0.9901,  1.8386,  1.6962],\n",
                        "        [ 2.3422,  0.4384,  2.7941,  ..., -0.3462,  0.1448,  0.6942],\n",
                        "        [-0.1210,  0.1591,  0.4147,  ..., -1.2034,  1.3400,  1.6186],\n",
                        "        ...,\n",
                        "        [ 2.4035,  0.6110,  2.9457,  ..., -0.6819,  0.3394,  0.8544],\n",
                        "        [ 0.1724, -0.1424,  0.2998,  ..., -0.3104, -0.0508,  0.6379],\n",
                        "        [ 2.1194,  0.5639,  3.0652,  ..., -0.9396,  0.4744,  1.3163]],\n",
                        "       device='cuda:0', grad_fn=<AddmmBackward0>)\n",
                        "08/11/2022 10:34:57 - INFO - bert_for_sentence:40 -  labels.shape is torch.Size([24])\n",
                        "08/11/2022 10:34:57 - INFO - bert_for_sentence:41 -  labels is tensor([131,   4, 135,   8, 131,   4, 140, 137, 138,   5,   0, 135, 131, 139,\n",
                        "         63, 136, 133, 138,   6,   0, 143,   8,  80,   7], device='cuda:0')\n"
                    ]
                },
                {
                    "name": "stdout",
                    "output_type": "stream",
                    "text": [
                        "\r",
                        "[Training] 92/3702 [..............................] - ETA: 16:18  loss: 2.9267 "
                    ]
                },
                {
                    "name": "stderr",
                    "output_type": "stream",
                    "text": [
                        "08/11/2022 10:34:57 - INFO - bert_for_sentence:38 -  logits.shape is torch.Size([24, 144])\n",
                        "08/11/2022 10:34:58 - INFO - bert_for_sentence:39 -  logits is tensor([[-1.2254e-02,  1.2265e-01, -4.6111e-02,  ..., -1.1181e+00,\n",
                        "          1.9993e+00,  2.1350e+00],\n",
                        "        [-5.5467e-02, -1.9195e-01,  1.9393e-01,  ..., -5.2416e-02,\n",
                        "          6.3579e-01,  8.2562e-01],\n",
                        "        [ 2.5653e+00,  6.0276e-01,  2.5896e+00,  ..., -4.0471e-01,\n",
                        "          5.5725e-01,  4.3438e-01],\n",
                        "        ...,\n",
                        "        [-1.8354e-04,  3.4070e-01,  2.1782e-01,  ..., -4.8603e-01,\n",
                        "          4.6508e-01,  1.1012e+00],\n",
                        "        [ 2.4893e+00,  7.2901e-01,  2.7014e+00,  ..., -5.0305e-01,\n",
                        "          5.0076e-01,  7.5561e-01],\n",
                        "        [ 2.5237e+00,  4.1555e-01,  2.6145e+00,  ..., -4.8533e-01,\n",
                        "          1.9343e-01,  4.8426e-01]], device='cuda:0', grad_fn=<AddmmBackward0>)\n",
                        "08/11/2022 10:34:58 - INFO - bert_for_sentence:40 -  labels.shape is torch.Size([24])\n",
                        "08/11/2022 10:34:58 - INFO - bert_for_sentence:41 -  labels is tensor([143,  27,   1, 137, 133,   4, 133, 143,  80, 142, 137,   4, 139, 140,\n",
                        "          3,   2, 129,  27,   0, 138, 136,  80,   4,   6], device='cuda:0')\n"
                    ]
                },
                {
                    "name": "stdout",
                    "output_type": "stream",
                    "text": [
                        "\r",
                        "[Training] 93/3702 [..............................] - ETA: 16:17  loss: 2.9671 "
                    ]
                },
                {
                    "name": "stderr",
                    "output_type": "stream",
                    "text": [
                        "08/11/2022 10:34:58 - INFO - bert_for_sentence:38 -  logits.shape is torch.Size([24, 144])\n",
                        "08/11/2022 10:34:58 - INFO - bert_for_sentence:39 -  logits is tensor([[ 2.0379,  0.8823,  2.7804,  ..., -0.6627,  0.4867,  1.0910],\n",
                        "        [-0.1091,  0.0603,  0.3695,  ..., -1.3804,  1.8854,  1.4340],\n",
                        "        [-0.2912,  0.1044,  0.2496,  ..., -0.8969,  1.4045,  2.0268],\n",
                        "        ...,\n",
                        "        [-0.3545,  0.3880,  0.3075,  ..., -1.1497,  1.5560,  2.0367],\n",
                        "        [-0.1723,  0.3398,  0.1820,  ..., -1.2025,  1.9826,  1.8604],\n",
                        "        [ 0.0489,  0.1800,  0.2961,  ..., -1.3236,  2.0384,  1.4616]],\n",
                        "       device='cuda:0', grad_fn=<AddmmBackward0>)\n",
                        "08/11/2022 10:34:58 - INFO - bert_for_sentence:40 -  labels.shape is torch.Size([24])\n",
                        "08/11/2022 10:34:58 - INFO - bert_for_sentence:41 -  labels is tensor([  7, 140, 131, 139, 137,  27, 142, 133, 135, 139,   2,   7, 132, 142,\n",
                        "        142, 101,   0,   6, 138,   4,   1, 138, 132, 137], device='cuda:0')\n"
                    ]
                },
                {
                    "name": "stdout",
                    "output_type": "stream",
                    "text": [
                        "\r",
                        "[Training] 94/3702 [..............................] - ETA: 16:17  loss: 3.0660 "
                    ]
                },
                {
                    "name": "stderr",
                    "output_type": "stream",
                    "text": [
                        "08/11/2022 10:34:58 - INFO - bert_for_sentence:38 -  logits.shape is torch.Size([24, 144])\n",
                        "08/11/2022 10:34:58 - INFO - bert_for_sentence:39 -  logits is tensor([[ 0.0338,  0.2370,  0.1608,  ..., -1.1958,  1.7061,  1.6991],\n",
                        "        [-0.3055,  0.2980,  0.2029,  ..., -0.8064,  0.4150,  1.0281],\n",
                        "        [ 0.1273,  0.1129,  0.3598,  ..., -0.2320,  0.3637,  0.8390],\n",
                        "        ...,\n",
                        "        [-0.0784,  0.2091,  0.8483,  ..., -1.3091,  1.2610,  1.0429],\n",
                        "        [-0.2306,  0.3793,  0.1194,  ..., -1.1501,  1.6598,  1.7357],\n",
                        "        [-0.3806,  0.2852,  0.3824,  ..., -1.0236,  1.3992,  1.9031]],\n",
                        "       device='cuda:0', grad_fn=<AddmmBackward0>)\n",
                        "08/11/2022 10:34:58 - INFO - bert_for_sentence:40 -  labels.shape is torch.Size([24])\n",
                        "08/11/2022 10:34:58 - INFO - bert_for_sentence:41 -  labels is tensor([131,  31, 105, 133,   6, 143,   1, 135,  78, 137, 143, 143, 131, 131,\n",
                        "          0, 131,  80, 135, 130, 134,   0, 135, 130, 129], device='cuda:0')\n"
                    ]
                },
                {
                    "name": "stdout",
                    "output_type": "stream",
                    "text": [
                        "\r",
                        "[Training] 95/3702 [..............................] - ETA: 16:17  loss: 3.0270 "
                    ]
                },
                {
                    "name": "stderr",
                    "output_type": "stream",
                    "text": [
                        "08/11/2022 10:34:58 - INFO - bert_for_sentence:38 -  logits.shape is torch.Size([24, 144])\n",
                        "08/11/2022 10:34:58 - INFO - bert_for_sentence:39 -  logits is tensor([[-0.2313,  0.4063,  0.0167,  ..., -1.3638,  1.7421,  1.8173],\n",
                        "        [-0.6559,  0.2993,  0.1319,  ..., -0.9934,  1.3295,  2.3473],\n",
                        "        [ 0.5676,  1.6920,  1.2290,  ..., -1.0245,  0.6988,  0.9136],\n",
                        "        ...,\n",
                        "        [-0.2493,  0.4157,  0.6395,  ..., -1.2353,  1.5964,  1.7057],\n",
                        "        [-0.1646,  0.2268,  0.1560,  ..., -1.2383,  2.0196,  1.2955],\n",
                        "        [-0.4615,  0.3929,  0.0502,  ..., -1.1940,  1.9771,  1.8121]],\n",
                        "       device='cuda:0', grad_fn=<AddmmBackward0>)\n",
                        "08/11/2022 10:34:58 - INFO - bert_for_sentence:40 -  labels.shape is torch.Size([24])\n",
                        "08/11/2022 10:34:58 - INFO - bert_for_sentence:41 -  labels is tensor([133, 142,   1, 140, 130,   5,   1, 138, 137, 142,  30,   3,   0, 136,\n",
                        "        139, 137,   6,  80, 116,   8,   2, 137, 136, 133], device='cuda:0')\n"
                    ]
                },
                {
                    "name": "stdout",
                    "output_type": "stream",
                    "text": [
                        "\r",
                        "[Training] 96/3702 [..............................] - ETA: 16:17  loss: 3.0623 "
                    ]
                },
                {
                    "name": "stderr",
                    "output_type": "stream",
                    "text": [
                        "08/11/2022 10:34:59 - INFO - bert_for_sentence:38 -  logits.shape is torch.Size([24, 144])\n",
                        "08/11/2022 10:34:59 - INFO - bert_for_sentence:39 -  logits is tensor([[-0.3553,  0.3283, -0.0854,  ..., -0.8925,  1.9429,  2.1640],\n",
                        "        [-0.4709,  0.4284,  0.2719,  ..., -0.5014,  1.4650,  1.7605],\n",
                        "        [ 2.0438,  0.6927,  2.6223,  ..., -0.7006,  0.4654,  0.4033],\n",
                        "        ...,\n",
                        "        [-0.6233,  0.2332,  0.1767,  ..., -1.3444,  1.4088,  1.9113],\n",
                        "        [ 1.5950,  0.9481,  2.2307,  ..., -1.2478,  0.8568,  0.9367],\n",
                        "        [-0.4020,  0.2792,  0.0174,  ..., -1.0334,  1.5213,  1.6027]],\n",
                        "       device='cuda:0', grad_fn=<AddmmBackward0>)\n",
                        "08/11/2022 10:34:59 - INFO - bert_for_sentence:40 -  labels.shape is torch.Size([24])\n",
                        "08/11/2022 10:34:59 - INFO - bert_for_sentence:41 -  labels is tensor([130, 131,   7, 130, 131,   1, 134, 135, 142,   5,   8, 140, 133, 139,\n",
                        "          0, 130, 133,   7,   5, 143,   0, 132,   2, 132], device='cuda:0')\n",
                        "08/11/2022 10:34:59 - INFO - bert_for_sentence:38 -  logits.shape is torch.Size([24, 144])\n",
                        "08/11/2022 10:34:59 - INFO - bert_for_sentence:39 -  logits is tensor([[-0.1885,  0.9993,  0.4117,  ..., -0.9657,  1.3281,  2.3522],\n",
                        "        [-0.3169,  0.3200,  0.5241,  ..., -0.4541,  1.2922,  1.6087],\n",
                        "        [ 0.0565,  0.8232,  0.7941,  ..., -1.0242,  1.4497,  1.2052],\n",
                        "        ...,\n",
                        "        [ 2.3682,  0.7138,  2.6681,  ..., -0.7387,  0.2386,  0.5877],\n",
                        "        [-0.0660,  0.3426,  0.5687,  ..., -0.2001,  0.8146,  1.5726],\n",
                        "        [-0.1802,  0.2436,  0.4923,  ..., -1.6970,  2.1359,  1.5319]],\n",
                        "       device='cuda:0', grad_fn=<AddmmBackward0>)\n",
                        "08/11/2022 10:34:59 - INFO - bert_for_sentence:40 -  labels.shape is torch.Size([24])\n",
                        "08/11/2022 10:34:59 - INFO - bert_for_sentence:41 -  labels is tensor([131, 143, 135, 142,   9, 140,  31, 133,   4, 139,  30,   8, 135, 143,\n",
                        "        133, 139, 131, 135, 131, 133, 140,   9, 132, 133], device='cuda:0')\n"
                    ]
                },
                {
                    "name": "stdout",
                    "output_type": "stream",
                    "text": [
                        "\r",
                        "[Training] 97/3702 [..............................] - ETA: 16:16  loss: 3.1299 \r",
                        "[Training] 98/3702 [..............................] - ETA: 16:09  loss: 2.7270 "
                    ]
                },
                {
                    "name": "stderr",
                    "output_type": "stream",
                    "text": [
                        "08/11/2022 10:34:59 - INFO - bert_for_sentence:38 -  logits.shape is torch.Size([24, 144])\n",
                        "08/11/2022 10:34:59 - INFO - bert_for_sentence:39 -  logits is tensor([[-0.5140,  0.0209, -0.2227,  ..., -1.0225,  1.8889,  1.8675],\n",
                        "        [-0.7171,  0.5879,  0.1777,  ..., -0.8063,  1.0843,  2.0955],\n",
                        "        [-0.5274,  0.3705, -0.0340,  ..., -1.3660,  1.8931,  1.9857],\n",
                        "        ...,\n",
                        "        [ 0.3163,  0.0267,  0.1654,  ..., -0.0388, -0.0832,  0.7384],\n",
                        "        [-0.5888,  0.3737,  0.0952,  ..., -0.7643,  1.3734,  2.0521],\n",
                        "        [-0.8823,  0.3547,  0.2226,  ..., -0.8376,  1.4341,  2.4492]],\n",
                        "       device='cuda:0', grad_fn=<AddmmBackward0>)\n",
                        "08/11/2022 10:34:59 - INFO - bert_for_sentence:40 -  labels.shape is torch.Size([24])\n",
                        "08/11/2022 10:34:59 - INFO - bert_for_sentence:41 -  labels is tensor([130, 138, 142,   0,   2, 132,   7,   7,   3,   0,   5,   2,   0, 129,\n",
                        "        138, 134, 135, 143, 137, 130,   9, 123, 130, 130], device='cuda:0')\n"
                    ]
                },
                {
                    "name": "stdout",
                    "output_type": "stream",
                    "text": [
                        "\r",
                        "[Training] 99/3702 [..............................] - ETA: 16:08  loss: 3.1430 "
                    ]
                },
                {
                    "name": "stderr",
                    "output_type": "stream",
                    "text": [
                        "08/11/2022 10:34:59 - INFO - bert_for_sentence:38 -  logits.shape is torch.Size([24, 144])\n",
                        "08/11/2022 10:34:59 - INFO - bert_for_sentence:39 -  logits is tensor([[-0.0233,  0.1115,  0.2706,  ..., -1.3023,  1.3878,  1.1537],\n",
                        "        [-0.1296,  1.2942,  0.3997,  ..., -1.3832,  1.0866,  1.5760],\n",
                        "        [ 0.2276,  0.2773,  0.2715,  ..., -1.6676,  2.2556,  1.8630],\n",
                        "        ...,\n",
                        "        [ 2.5813,  0.7888,  2.7191,  ..., -0.6605,  0.6200,  0.5001],\n",
                        "        [-0.1810,  0.2515,  0.7050,  ..., -0.4119,  1.0906,  1.0318],\n",
                        "        [-0.8236,  0.4495,  0.3448,  ..., -0.6665,  1.4964,  1.9979]],\n",
                        "       device='cuda:0', grad_fn=<AddmmBackward0>)\n",
                        "08/11/2022 10:34:59 - INFO - bert_for_sentence:40 -  labels.shape is torch.Size([24])\n",
                        "08/11/2022 10:34:59 - INFO - bert_for_sentence:41 -  labels is tensor([ 80,   1, 134, 137, 142,  80,  58, 130, 137, 143,   1, 142, 131,   6,\n",
                        "        135,   1, 137, 139, 138,  58,  69,   2,  64, 131], device='cuda:0')\n"
                    ]
                },
                {
                    "name": "stdout",
                    "output_type": "stream",
                    "text": [
                        "\r",
                        "[Training] 100/3702 [..............................] - ETA: 16:08  loss: 2.9552 "
                    ]
                },
                {
                    "name": "stderr",
                    "output_type": "stream",
                    "text": [
                        "08/11/2022 10:34:59 - INFO - bert_for_sentence:38 -  logits.shape is torch.Size([24, 144])\n",
                        "08/11/2022 10:34:59 - INFO - bert_for_sentence:39 -  logits is tensor([[-0.2484,  0.3628,  0.1104,  ..., -1.3798,  1.9181,  1.9254],\n",
                        "        [-0.0988,  0.8926,  0.4586,  ..., -1.3297,  1.7284,  2.0942],\n",
                        "        [ 0.3614,  0.7500,  1.2458,  ..., -1.4860,  1.5768,  1.0000],\n",
                        "        ...,\n",
                        "        [-0.6063,  0.8242, -0.0622,  ..., -0.8655,  1.6024,  2.5415],\n",
                        "        [-0.6215,  0.4264,  0.7937,  ..., -1.1759,  1.2138,  2.3652],\n",
                        "        [ 2.5429,  0.5086,  2.8071,  ..., -0.0880,  0.3231,  0.2368]],\n",
                        "       device='cuda:0', grad_fn=<AddmmBackward0>)\n",
                        "08/11/2022 10:34:59 - INFO - bert_for_sentence:40 -  labels.shape is torch.Size([24])\n",
                        "08/11/2022 10:34:59 - INFO - bert_for_sentence:41 -  labels is tensor([133, 142, 135, 138, 137, 136, 138, 132, 134, 137, 143,  56,  80, 134,\n",
                        "        140,   6, 132,   7, 140, 143,  30, 130, 143,   7], device='cuda:0')\n"
                    ]
                },
                {
                    "name": "stdout",
                    "output_type": "stream",
                    "text": [
                        "\r",
                        "[Training] 101/3702 [..............................] - ETA: 16:08  loss: 3.1741 "
                    ]
                },
                {
                    "name": "stderr",
                    "output_type": "stream",
                    "text": [
                        "08/11/2022 10:35:00 - INFO - bert_for_sentence:38 -  logits.shape is torch.Size([24, 144])\n",
                        "08/11/2022 10:35:00 - INFO - bert_for_sentence:39 -  logits is tensor([[ 0.3526,  0.6034,  0.8313,  ..., -1.1046,  1.9679,  1.2200],\n",
                        "        [-0.4064,  0.5237,  0.1723,  ..., -1.7620,  2.2248,  1.7232],\n",
                        "        [ 0.6683,  0.0732,  0.5769,  ...,  0.2024, -0.0693,  0.8363],\n",
                        "        ...,\n",
                        "        [ 0.4667,  0.4514,  0.7355,  ..., -1.6920,  2.3990,  1.5569],\n",
                        "        [ 0.1220,  0.2682, -0.1327,  ..., -1.4208,  2.1765,  1.7394],\n",
                        "        [ 0.1812,  1.6459,  0.6410,  ..., -0.7476,  0.6654,  1.0844]],\n",
                        "       device='cuda:0', grad_fn=<AddmmBackward0>)\n",
                        "08/11/2022 10:35:00 - INFO - bert_for_sentence:40 -  labels.shape is torch.Size([24])\n",
                        "08/11/2022 10:35:00 - INFO - bert_for_sentence:41 -  labels is tensor([139, 133,  94,   2,  63,   7, 140, 130,   6, 133,   7, 131, 133, 130,\n",
                        "        143,   8,   2, 131, 131, 142, 129, 142, 134,   5], device='cuda:0')\n"
                    ]
                },
                {
                    "name": "stdout",
                    "output_type": "stream",
                    "text": [
                        "\r",
                        "[Training] 102/3702 [..............................] - ETA: 16:08  loss: 2.9899 "
                    ]
                },
                {
                    "name": "stderr",
                    "output_type": "stream",
                    "text": [
                        "08/11/2022 10:35:00 - INFO - bert_for_sentence:38 -  logits.shape is torch.Size([24, 144])\n",
                        "08/11/2022 10:35:00 - INFO - bert_for_sentence:39 -  logits is tensor([[-0.2626,  0.6400, -0.1582,  ..., -1.4989,  2.1691,  2.0411],\n",
                        "        [-0.0562,  0.3011,  0.0410,  ..., -0.9542,  1.7445,  2.4054],\n",
                        "        [ 0.3784,  0.0469,  0.7143,  ...,  0.1950, -0.3813,  0.3080],\n",
                        "        ...,\n",
                        "        [-0.5516,  0.3158,  0.1091,  ..., -1.3820,  1.6573,  2.6943],\n",
                        "        [-0.0829,  0.3279, -0.3534,  ..., -1.4459,  2.2958,  1.6175],\n",
                        "        [-0.4872,  0.4218, -0.1487,  ..., -1.1900,  2.1716,  1.9681]],\n",
                        "       device='cuda:0', grad_fn=<AddmmBackward0>)\n",
                        "08/11/2022 10:35:00 - INFO - bert_for_sentence:40 -  labels.shape is torch.Size([24])\n",
                        "08/11/2022 10:35:00 - INFO - bert_for_sentence:41 -  labels is tensor([130, 133,  80,   2,   6,  96,   8, 135, 129, 131,   7, 135, 136,   5,\n",
                        "        131, 143, 138, 130, 130,   8, 139, 143, 130, 136], device='cuda:0')\n"
                    ]
                },
                {
                    "name": "stdout",
                    "output_type": "stream",
                    "text": [
                        "\r",
                        "[Training] 103/3702 [..............................] - ETA: 16:08  loss: 2.7804 "
                    ]
                },
                {
                    "name": "stderr",
                    "output_type": "stream",
                    "text": [
                        "08/11/2022 10:35:00 - INFO - bert_for_sentence:38 -  logits.shape is torch.Size([24, 144])\n",
                        "08/11/2022 10:35:00 - INFO - bert_for_sentence:39 -  logits is tensor([[ 2.9728,  0.6524,  2.9597,  ..., -0.3811,  0.2640,  0.1577],\n",
                        "        [ 2.4149,  0.5811,  2.5367,  ..., -0.4752,  0.4048,  0.9202],\n",
                        "        [-0.3194,  0.4742,  0.2336,  ..., -1.1582,  1.9961,  2.1826],\n",
                        "        ...,\n",
                        "        [-0.1765,  0.4012,  0.1036,  ..., -1.4675,  2.2464,  1.3402],\n",
                        "        [-0.2669,  0.1142, -0.2088,  ..., -1.5277,  2.6332,  2.4099],\n",
                        "        [ 0.7633,  0.0867,  0.6792,  ..., -0.0100, -0.3584,  0.1662]],\n",
                        "       device='cuda:0', grad_fn=<AddmmBackward0>)\n",
                        "08/11/2022 10:35:00 - INFO - bert_for_sentence:40 -  labels.shape is torch.Size([24])\n",
                        "08/11/2022 10:35:00 - INFO - bert_for_sentence:41 -  labels is tensor([  0,   8, 133,   2,   4, 134, 131, 131, 132, 132,   8, 116,  89, 104,\n",
                        "         80,   6, 139,   4, 134,   8, 133, 134, 131,  81], device='cuda:0')\n"
                    ]
                },
                {
                    "name": "stdout",
                    "output_type": "stream",
                    "text": [
                        "\r",
                        "[Training] 104/3702 [..............................] - ETA: 16:07  loss: 2.7301 "
                    ]
                },
                {
                    "name": "stderr",
                    "output_type": "stream",
                    "text": [
                        "08/11/2022 10:35:00 - INFO - bert_for_sentence:38 -  logits.shape is torch.Size([24, 144])\n",
                        "08/11/2022 10:35:01 - INFO - bert_for_sentence:39 -  logits is tensor([[ 2.8363,  0.8541,  3.1583,  ..., -0.4044,  0.0449,  0.5505],\n",
                        "        [-0.9075,  0.3011,  0.4628,  ..., -1.5212,  1.4710,  2.6388],\n",
                        "        [-0.2239,  0.3186, -0.1454,  ..., -1.3576,  2.5126,  1.8951],\n",
                        "        ...,\n",
                        "        [ 2.7124,  0.9133,  2.8266,  ..., -0.5152,  0.8465,  0.7670],\n",
                        "        [ 0.4601,  0.0042,  0.4835,  ...,  0.0907,  0.2426,  0.2543],\n",
                        "        [-0.3730,  0.3424, -0.2302,  ..., -1.0738,  2.1862,  1.2179]],\n",
                        "       device='cuda:0', grad_fn=<AddmmBackward0>)\n",
                        "08/11/2022 10:35:01 - INFO - bert_for_sentence:40 -  labels.shape is torch.Size([24])\n",
                        "08/11/2022 10:35:01 - INFO - bert_for_sentence:41 -  labels is tensor([  2, 132, 140,   6,   0, 130, 136,  80,   0, 133,   5,   8, 139, 143,\n",
                        "        131, 129, 133,   9,   5,  83, 129,   8,  80, 135], device='cuda:0')\n"
                    ]
                },
                {
                    "name": "stdout",
                    "output_type": "stream",
                    "text": [
                        "\r",
                        "[Training] 105/3702 [..............................] - ETA: 16:07  loss: 3.2551 "
                    ]
                },
                {
                    "name": "stderr",
                    "output_type": "stream",
                    "text": [
                        "08/11/2022 10:35:01 - INFO - bert_for_sentence:38 -  logits.shape is torch.Size([24, 144])\n",
                        "08/11/2022 10:35:01 - INFO - bert_for_sentence:39 -  logits is tensor([[-0.1685,  0.7008,  0.3687,  ..., -1.3701,  2.2681,  2.1208],\n",
                        "        [ 0.1765,  0.2135,  0.4403,  ..., -0.4443,  0.0749,  0.4566],\n",
                        "        [ 0.0530,  0.8703,  0.5367,  ..., -1.4913,  2.2359,  2.0497],\n",
                        "        ...,\n",
                        "        [-0.4625,  0.4656,  0.2724,  ..., -0.5719,  1.3247,  2.5046],\n",
                        "        [ 2.5303,  0.7045,  2.9861,  ..., -0.6922,  0.2964,  0.8870],\n",
                        "        [-0.0969,  0.1548, -0.2080,  ..., -1.0910,  2.0098,  2.7247]],\n",
                        "       device='cuda:0', grad_fn=<AddmmBackward0>)\n",
                        "08/11/2022 10:35:01 - INFO - bert_for_sentence:40 -  labels.shape is torch.Size([24])\n",
                        "08/11/2022 10:35:01 - INFO - bert_for_sentence:41 -  labels is tensor([139,  27, 138, 136,   0,   0,   8,   7,   0, 141, 143, 138, 134, 140,\n",
                        "         80,   0, 137,   8, 130, 137,   2, 140,   2, 135], device='cuda:0')\n"
                    ]
                },
                {
                    "name": "stdout",
                    "output_type": "stream",
                    "text": [
                        "\r",
                        "[Training] 106/3702 [..............................] - ETA: 16:07  loss: 2.8452 "
                    ]
                },
                {
                    "name": "stderr",
                    "output_type": "stream",
                    "text": [
                        "08/11/2022 10:35:01 - INFO - bert_for_sentence:38 -  logits.shape is torch.Size([24, 144])\n",
                        "08/11/2022 10:35:01 - INFO - bert_for_sentence:39 -  logits is tensor([[-0.3477,  0.2954,  0.2687,  ..., -1.1382,  1.4851,  2.5501],\n",
                        "        [-0.3327,  0.7212,  0.5065,  ..., -1.0902,  1.0977,  2.2762],\n",
                        "        [ 2.9486,  0.2736,  2.7260,  ..., -0.2652,  0.0620,  0.2488],\n",
                        "        ...,\n",
                        "        [ 0.6976, -0.2467,  0.9339,  ..., -0.2416, -0.1838,  0.4907],\n",
                        "        [-0.7132, -0.1634, -0.5740,  ..., -1.5483,  2.3694,  1.6299],\n",
                        "        [ 0.6526, -0.0121,  0.4688,  ...,  0.0234, -0.4107,  0.3117]],\n",
                        "       device='cuda:0', grad_fn=<AddmmBackward0>)\n",
                        "08/11/2022 10:35:01 - INFO - bert_for_sentence:40 -  labels.shape is torch.Size([24])\n",
                        "08/11/2022 10:35:01 - INFO - bert_for_sentence:41 -  labels is tensor([132, 143,   0, 131, 143,   0, 139,   2,   3, 135, 131,  80, 138, 132,\n",
                        "        137, 140, 134, 140, 135,   6, 138,  80, 142,  80], device='cuda:0')\n"
                    ]
                },
                {
                    "name": "stdout",
                    "output_type": "stream",
                    "text": [
                        "\r",
                        "[Training] 107/3702 [..............................] - ETA: 16:07  loss: 2.9610 "
                    ]
                },
                {
                    "name": "stderr",
                    "output_type": "stream",
                    "text": [
                        "08/11/2022 10:35:01 - INFO - bert_for_sentence:38 -  logits.shape is torch.Size([24, 144])\n",
                        "08/11/2022 10:35:01 - INFO - bert_for_sentence:39 -  logits is tensor([[-0.4567,  0.2997,  0.2520,  ..., -1.5030,  2.5407,  1.5065],\n",
                        "        [ 3.1603,  0.8301,  2.6918,  ..., -0.3712,  0.3329,  0.5297],\n",
                        "        [-0.1328,  0.6548,  0.3483,  ..., -0.9611,  1.0086,  2.2261],\n",
                        "        ...,\n",
                        "        [-0.2955,  0.0850, -0.0968,  ..., -1.3315,  1.7877,  2.1550],\n",
                        "        [-0.6239,  0.2703,  0.2513,  ..., -1.0717,  1.5079,  2.8432],\n",
                        "        [-0.6368,  0.4842, -0.0974,  ..., -1.1950,  1.4888,  2.6262]],\n",
                        "       device='cuda:0', grad_fn=<AddmmBackward0>)\n",
                        "08/11/2022 10:35:01 - INFO - bert_for_sentence:40 -  labels.shape is torch.Size([24])\n",
                        "08/11/2022 10:35:01 - INFO - bert_for_sentence:41 -  labels is tensor([139,   1, 138, 138, 137, 133, 140,   4,   6, 139, 140, 130,   1, 135,\n",
                        "        132, 142,   7,   6,   7, 139, 140, 140, 132, 131], device='cuda:0')\n",
                        "08/11/2022 10:35:01 - INFO - bert_for_sentence:38 -  logits.shape is torch.Size([24, 144])\n"
                    ]
                },
                {
                    "name": "stdout",
                    "output_type": "stream",
                    "text": [
                        "\r",
                        "[Training] 108/3702 [..............................] - ETA: 16:07  loss: 2.7227 \r",
                        "[Training] 109/3702 [..............................] - ETA: 16:01  loss: 2.9626 "
                    ]
                },
                {
                    "name": "stderr",
                    "output_type": "stream",
                    "text": [
                        "08/11/2022 10:35:01 - INFO - bert_for_sentence:39 -  logits is tensor([[ 0.0573,  0.1423,  1.2402,  ..., -0.0430,  0.2242,  0.9414],\n",
                        "        [ 2.9548,  0.7095,  3.1397,  ..., -0.7997,  0.2942,  0.6440],\n",
                        "        [-0.0180,  0.6370,  0.3763,  ..., -1.2068,  0.9232,  1.9292],\n",
                        "        ...,\n",
                        "        [ 0.0102,  0.8313,  0.8634,  ..., -1.3188,  1.5645,  2.3585],\n",
                        "        [-0.1890,  0.2722,  0.6913,  ..., -1.2603,  1.2135,  2.9227],\n",
                        "        [-0.3771,  0.3915,  0.6261,  ..., -1.3078,  1.2762,  2.6178]],\n",
                        "       device='cuda:0', grad_fn=<AddmmBackward0>)\n",
                        "08/11/2022 10:35:01 - INFO - bert_for_sentence:40 -  labels.shape is torch.Size([24])\n",
                        "08/11/2022 10:35:01 - INFO - bert_for_sentence:41 -  labels is tensor([ 80,   2, 138,   4, 133,   0,  13, 131, 140, 137, 132, 130,   8,   0,\n",
                        "          3, 133, 101, 135,   9,  27,  14, 140, 132, 140], device='cuda:0')\n",
                        "08/11/2022 10:35:02 - INFO - bert_for_sentence:38 -  logits.shape is torch.Size([24, 144])\n",
                        "08/11/2022 10:35:02 - INFO - bert_for_sentence:39 -  logits is tensor([[-0.1231,  0.5114,  0.8197,  ..., -1.1246,  2.2298,  1.6174],\n",
                        "        [ 3.0219,  0.6713,  3.2097,  ..., -0.6283,  0.4082,  0.4247],\n",
                        "        [-0.2497,  0.4529, -0.3565,  ..., -1.0533,  1.8537,  2.3441],\n",
                        "        ...,\n",
                        "        [ 0.1181,  0.9787,  0.7930,  ..., -0.8507,  0.6443,  1.5568],\n",
                        "        [ 0.1715,  0.5694,  0.4263,  ..., -1.0721,  1.7765,  2.2309],\n",
                        "        [ 0.3775,  0.0571,  0.3997,  ...,  0.1420, -0.3894,  0.4963]],\n",
                        "       device='cuda:0', grad_fn=<AddmmBackward0>)\n",
                        "08/11/2022 10:35:02 - INFO - bert_for_sentence:40 -  labels.shape is torch.Size([24])\n",
                        "08/11/2022 10:35:02 - INFO - bert_for_sentence:41 -  labels is tensor([142,   9, 130, 131, 129, 138,   8, 135, 131,   2, 137,   9, 136,  27,\n",
                        "          3,  93, 132, 129, 132,  27,   8, 140, 139,  66], device='cuda:0')\n"
                    ]
                },
                {
                    "name": "stdout",
                    "output_type": "stream",
                    "text": [
                        "\r",
                        "[Training] 110/3702 [..............................] - ETA: 16:01  loss: 2.9522 "
                    ]
                },
                {
                    "name": "stderr",
                    "output_type": "stream",
                    "text": [
                        "08/11/2022 10:35:02 - INFO - bert_for_sentence:38 -  logits.shape is torch.Size([24, 144])\n",
                        "08/11/2022 10:35:02 - INFO - bert_for_sentence:39 -  logits is tensor([[ 0.0996,  0.3143,  0.7322,  ..., -1.4484,  2.2735,  1.8662],\n",
                        "        [-0.8577,  0.1395, -0.0932,  ..., -1.1164,  1.3147,  2.4516],\n",
                        "        [-0.7030,  0.1801,  0.0726,  ..., -0.8957,  1.6848,  2.4203],\n",
                        "        ...,\n",
                        "        [-0.4436,  0.3934,  0.2233,  ..., -1.1101,  1.8892,  2.2158],\n",
                        "        [ 2.8834,  0.8907,  3.0735,  ..., -1.0481,  0.6810,  1.0735],\n",
                        "        [ 0.1222,  0.0378, -0.0790,  ..., -1.4106,  1.9970,  2.1375]],\n",
                        "       device='cuda:0', grad_fn=<AddmmBackward0>)\n",
                        "08/11/2022 10:35:02 - INFO - bert_for_sentence:40 -  labels.shape is torch.Size([24])\n",
                        "08/11/2022 10:35:02 - INFO - bert_for_sentence:41 -  labels is tensor([142, 143,  26,   5, 132, 131,   4,  81,  81,   7, 133,   2,   9, 143,\n",
                        "        133,  28, 126, 130, 140,  81,  31, 133,   8, 136], device='cuda:0')\n"
                    ]
                },
                {
                    "name": "stdout",
                    "output_type": "stream",
                    "text": [
                        "\r",
                        "[Training] 111/3702 [..............................] - ETA: 16:01  loss: 3.0784 "
                    ]
                },
                {
                    "name": "stderr",
                    "output_type": "stream",
                    "text": [
                        "08/11/2022 10:35:02 - INFO - bert_for_sentence:38 -  logits.shape is torch.Size([24, 144])\n",
                        "08/11/2022 10:35:02 - INFO - bert_for_sentence:39 -  logits is tensor([[-0.2211,  0.0847,  0.2861,  ..., -0.4936, -0.3091,  0.7272],\n",
                        "        [ 0.4407,  0.1320,  0.5246,  ...,  0.1717,  0.2274,  0.4368],\n",
                        "        [ 2.7706,  0.5692,  3.0434,  ..., -0.6495,  0.4070,  0.3084],\n",
                        "        ...,\n",
                        "        [-0.2272,  0.3785,  0.1843,  ..., -1.0879,  1.7732,  2.0285],\n",
                        "        [-0.0403,  0.2651,  0.1332,  ..., -1.3471,  1.7102,  2.8885],\n",
                        "        [ 1.1867,  0.4754,  1.6696,  ..., -1.0849,  1.4729,  1.6848]],\n",
                        "       device='cuda:0', grad_fn=<AddmmBackward0>)\n",
                        "08/11/2022 10:35:02 - INFO - bert_for_sentence:40 -  labels.shape is torch.Size([24])\n",
                        "08/11/2022 10:35:02 - INFO - bert_for_sentence:41 -  labels is tensor([ 63,  94,   8, 142, 132,   4,   7, 136, 142,  38, 133, 136,   8,  63,\n",
                        "        130, 137,   6, 136,  27, 136, 129, 140, 131,   3], device='cuda:0')\n"
                    ]
                },
                {
                    "name": "stdout",
                    "output_type": "stream",
                    "text": [
                        "\r",
                        "[Training] 112/3702 [..............................] - ETA: 16:01  loss: 3.2584 "
                    ]
                },
                {
                    "name": "stderr",
                    "output_type": "stream",
                    "text": [
                        "08/11/2022 10:35:03 - INFO - bert_for_sentence:38 -  logits.shape is torch.Size([24, 144])\n",
                        "08/11/2022 10:35:03 - INFO - bert_for_sentence:39 -  logits is tensor([[ 0.4301,  0.2876,  1.2198,  ..., -1.5447,  2.2509,  1.4782],\n",
                        "        [-0.0566,  0.4586,  0.0794,  ..., -1.3700,  2.1680,  1.5033],\n",
                        "        [-0.2401,  0.1977, -0.1896,  ..., -1.3000,  2.3850,  1.8749],\n",
                        "        ...,\n",
                        "        [ 0.7150, -0.2045,  0.6043,  ...,  0.1388, -0.2065,  0.8394],\n",
                        "        [-0.5579,  0.2887, -0.0124,  ..., -0.9272,  1.8528,  2.6641],\n",
                        "        [-0.2207,  0.0562,  0.0838,  ..., -1.5613,  2.1979,  1.8001]],\n",
                        "       device='cuda:0', grad_fn=<AddmmBackward0>)\n",
                        "08/11/2022 10:35:03 - INFO - bert_for_sentence:40 -  labels.shape is torch.Size([24])\n",
                        "08/11/2022 10:35:03 - INFO - bert_for_sentence:41 -  labels is tensor([133, 140, 132, 143,  80, 132, 142, 130, 143, 136,   0,  56, 134, 132,\n",
                        "          0, 139, 133, 139, 131, 133, 143,  80, 130, 133], device='cuda:0')\n"
                    ]
                },
                {
                    "name": "stdout",
                    "output_type": "stream",
                    "text": [
                        "\r",
                        "[Training] 113/3702 [..............................] - ETA: 16:01  loss: 3.1169 "
                    ]
                },
                {
                    "name": "stderr",
                    "output_type": "stream",
                    "text": [
                        "08/11/2022 10:35:03 - INFO - bert_for_sentence:38 -  logits.shape is torch.Size([24, 144])\n",
                        "08/11/2022 10:35:03 - INFO - bert_for_sentence:39 -  logits is tensor([[-0.7942,  0.1519, -0.2935,  ..., -1.1637,  2.3618,  1.5544],\n",
                        "        [ 2.5154,  0.6042,  3.0908,  ..., -1.4690,  0.7833,  0.7547],\n",
                        "        [ 2.8744,  0.5093,  2.6709,  ..., -0.1737,  0.5286,  0.6105],\n",
                        "        ...,\n",
                        "        [-0.2897,  0.1862,  0.2367,  ..., -0.7530,  1.4142,  2.2003],\n",
                        "        [-0.2108, -0.0824,  0.3507,  ..., -1.4439,  2.0745,  1.3247],\n",
                        "        [-0.7506, -0.0307, -0.0824,  ..., -1.6305,  2.5536,  2.0893]],\n",
                        "       device='cuda:0', grad_fn=<AddmmBackward0>)\n",
                        "08/11/2022 10:35:03 - INFO - bert_for_sentence:40 -  labels.shape is torch.Size([24])\n",
                        "08/11/2022 10:35:03 - INFO - bert_for_sentence:41 -  labels is tensor([132,   4,   2, 129, 133,   4,   3, 137, 136, 137, 139, 132, 139, 131,\n",
                        "        131, 135, 143, 138, 132, 143, 133, 131, 143, 131], device='cuda:0')\n",
                        "08/11/2022 10:35:03 - INFO - bert_for_sentence:38 -  logits.shape is torch.Size([24, 144])\n"
                    ]
                },
                {
                    "name": "stdout",
                    "output_type": "stream",
                    "text": [
                        "\r",
                        "[Training] 114/3702 [..............................] - ETA: 16:00  loss: 2.6062 \r",
                        "[Training] 115/3702 [..............................] - ETA: 15:55  loss: 2.7195 "
                    ]
                },
                {
                    "name": "stderr",
                    "output_type": "stream",
                    "text": [
                        "08/11/2022 10:35:03 - INFO - bert_for_sentence:39 -  logits is tensor([[-0.2539,  0.5738, -0.0238,  ..., -1.0585,  1.9289,  2.2390],\n",
                        "        [-0.4993,  0.0565, -0.0237,  ..., -1.5226,  2.3100,  2.0634],\n",
                        "        [ 2.9740,  0.6118,  2.8731,  ..., -1.0641,  1.0338,  0.9611],\n",
                        "        ...,\n",
                        "        [-0.3222,  0.1447,  0.1319,  ..., -0.3346,  1.1400,  2.2585],\n",
                        "        [-0.1558,  0.2075,  0.0602,  ..., -1.0202,  2.0125,  1.8587],\n",
                        "        [-0.1412,  0.4681,  0.3316,  ..., -1.3182,  1.3839,  1.9384]],\n",
                        "       device='cuda:0', grad_fn=<AddmmBackward0>)\n",
                        "08/11/2022 10:35:03 - INFO - bert_for_sentence:40 -  labels.shape is torch.Size([24])\n",
                        "08/11/2022 10:35:03 - INFO - bert_for_sentence:41 -  labels is tensor([138, 133, 139, 131,  30,  11, 142, 143,   3, 139,  26, 136, 142, 138,\n",
                        "        134,  36, 130, 131, 135,   7, 138, 131, 133, 138], device='cuda:0')\n",
                        "08/11/2022 10:35:03 - INFO - bert_for_sentence:38 -  logits.shape is torch.Size([24, 144])\n",
                        "08/11/2022 10:35:03 - INFO - bert_for_sentence:39 -  logits is tensor([[ 3.4357,  0.4521,  3.0574,  ..., -0.6312,  0.1912,  0.1866],\n",
                        "        [-0.5237,  0.0518,  0.0588,  ..., -1.5315,  2.2638,  1.6666],\n",
                        "        [-0.1877,  0.6119, -0.0587,  ..., -1.3743,  1.7042,  2.6170],\n",
                        "        ...,\n",
                        "        [-0.5964,  0.0238,  0.2159,  ..., -1.4048,  2.2189,  1.5560],\n",
                        "        [-0.2531, -0.0922,  0.0836,  ..., -1.3100,  2.2413,  1.9133],\n",
                        "        [-0.2374, -0.3419,  0.1595,  ..., -0.8800,  1.6183,  1.3786]],\n",
                        "       device='cuda:0', grad_fn=<AddmmBackward0>)\n",
                        "08/11/2022 10:35:03 - INFO - bert_for_sentence:40 -  labels.shape is torch.Size([24])\n",
                        "08/11/2022 10:35:03 - INFO - bert_for_sentence:41 -  labels is tensor([  8, 137, 138,   2, 138, 138,  81, 129, 132,  81, 139,   4, 133,   4,\n",
                        "        136,  81, 135,  66, 106,   8, 143, 134, 133, 132], device='cuda:0')\n"
                    ]
                },
                {
                    "name": "stdout",
                    "output_type": "stream",
                    "text": [
                        "\r",
                        "[Training] 116/3702 [..............................] - ETA: 15:55  loss: 2.9941 "
                    ]
                },
                {
                    "name": "stderr",
                    "output_type": "stream",
                    "text": [
                        "08/11/2022 10:35:03 - INFO - bert_for_sentence:38 -  logits.shape is torch.Size([24, 144])\n",
                        "08/11/2022 10:35:03 - INFO - bert_for_sentence:39 -  logits is tensor([[-0.1300, -0.0411,  0.1073,  ..., -0.3708, -0.0065,  0.4809],\n",
                        "        [ 3.0915,  0.6731,  3.0810,  ..., -0.4275,  0.4724,  0.4345],\n",
                        "        [-0.5004,  0.1851, -0.1530,  ..., -1.5007,  2.6044,  2.1301],\n",
                        "        ...,\n",
                        "        [-0.3286,  0.1050,  0.0167,  ..., -1.2516,  2.6916,  1.6496],\n",
                        "        [-0.6375,  0.2802, -0.0414,  ..., -0.9868,  0.4774,  0.6247],\n",
                        "        [-0.1985,  0.0842,  0.3234,  ..., -1.0969,  1.5257,  1.5140]],\n",
                        "       device='cuda:0', grad_fn=<AddmmBackward0>)\n",
                        "08/11/2022 10:35:03 - INFO - bert_for_sentence:40 -  labels.shape is torch.Size([24])\n",
                        "08/11/2022 10:35:03 - INFO - bert_for_sentence:41 -  labels is tensor([ 44,   7, 132, 142, 143,   6,   4, 135, 143,   5,   0,  46, 132,   3,\n",
                        "        139, 142,   8, 136,   7,   6, 137, 133,  27, 135], device='cuda:0')\n"
                    ]
                },
                {
                    "name": "stdout",
                    "output_type": "stream",
                    "text": [
                        "\r",
                        "[Training] 117/3702 [..............................] - ETA: 15:55  loss: 3.0259 "
                    ]
                },
                {
                    "name": "stderr",
                    "output_type": "stream",
                    "text": [
                        "08/11/2022 10:35:04 - INFO - bert_for_sentence:38 -  logits.shape is torch.Size([24, 144])\n",
                        "08/11/2022 10:35:04 - INFO - bert_for_sentence:39 -  logits is tensor([[-0.3333,  0.2029, -0.0751,  ..., -1.2511,  2.7795,  1.7953],\n",
                        "        [-0.7719, -0.1213, -0.0900,  ..., -1.4108,  2.1503,  2.2870],\n",
                        "        [-0.5992,  0.0049, -0.0660,  ..., -1.6316,  2.6144,  1.6484],\n",
                        "        ...,\n",
                        "        [-0.2701,  0.2761,  0.4631,  ..., -1.5495,  2.0113,  1.7422],\n",
                        "        [ 2.9434,  0.5367,  2.7504,  ..., -0.6223,  0.2580,  0.7722],\n",
                        "        [ 2.2602,  0.6686,  2.2623,  ..., -0.9217,  1.2312,  1.0953]],\n",
                        "       device='cuda:0', grad_fn=<AddmmBackward0>)\n",
                        "08/11/2022 10:35:04 - INFO - bert_for_sentence:40 -  labels.shape is torch.Size([24])\n",
                        "08/11/2022 10:35:04 - INFO - bert_for_sentence:41 -  labels is tensor([131, 134, 109, 133,  35, 132,   6,   5, 133, 132,   3, 142,   7,  27,\n",
                        "          6, 133, 130, 137,   7, 131,   8, 138,   6,   6], device='cuda:0')\n"
                    ]
                },
                {
                    "name": "stdout",
                    "output_type": "stream",
                    "text": [
                        "\r",
                        "[Training] 118/3702 [..............................] - ETA: 15:54  loss: 2.7965 "
                    ]
                },
                {
                    "name": "stderr",
                    "output_type": "stream",
                    "text": [
                        "08/11/2022 10:35:04 - INFO - bert_for_sentence:38 -  logits.shape is torch.Size([24, 144])\n",
                        "08/11/2022 10:35:04 - INFO - bert_for_sentence:39 -  logits is tensor([[ 2.9273,  0.3931,  2.5632,  ..., -0.8555,  0.5678,  0.8216],\n",
                        "        [-0.1026,  0.1280,  0.2236,  ...,  0.2649, -0.0766,  0.3853],\n",
                        "        [-0.7418,  0.3554, -0.4088,  ..., -1.2766,  1.8905,  2.4621],\n",
                        "        ...,\n",
                        "        [ 0.8652,  1.6216,  1.4742,  ..., -1.4304,  0.7245,  1.0169],\n",
                        "        [-0.8407,  0.1444,  0.0799,  ..., -1.2787,  2.0671,  2.0277],\n",
                        "        [ 2.7775,  0.5440,  2.7411,  ..., -0.7884,  0.4678,  0.6071]],\n",
                        "       device='cuda:0', grad_fn=<AddmmBackward0>)\n",
                        "08/11/2022 10:35:04 - INFO - bert_for_sentence:40 -  labels.shape is torch.Size([24])\n",
                        "08/11/2022 10:35:04 - INFO - bert_for_sentence:41 -  labels is tensor([  7,  27, 129, 133, 139, 138,   5, 139,   1, 143,   7, 131, 136,   6,\n",
                        "        140, 133,   8,  30, 132, 136,   2,   3, 130, 139], device='cuda:0')\n"
                    ]
                },
                {
                    "name": "stdout",
                    "output_type": "stream",
                    "text": [
                        "\r",
                        "[Training] 119/3702 [..............................] - ETA: 15:54  loss: 2.8562 "
                    ]
                },
                {
                    "name": "stderr",
                    "output_type": "stream",
                    "text": [
                        "08/11/2022 10:35:04 - INFO - bert_for_sentence:38 -  logits.shape is torch.Size([24, 144])\n",
                        "08/11/2022 10:35:04 - INFO - bert_for_sentence:39 -  logits is tensor([[-0.1860,  0.8169,  0.5867,  ..., -1.1842,  2.3731,  1.8832],\n",
                        "        [ 0.0798,  0.2981,  0.9697,  ..., -0.9494,  2.0616,  1.8925],\n",
                        "        [-0.7865, -0.0225, -0.0496,  ..., -1.3893,  1.2964,  2.5467],\n",
                        "        ...,\n",
                        "        [-0.4473,  0.6403,  0.4039,  ..., -1.0831,  1.7811,  2.0419],\n",
                        "        [-0.5708, -0.2607, -0.1408,  ..., -1.2449,  2.5536,  1.7379],\n",
                        "        [ 2.7005,  0.4350,  2.5110,  ..., -0.1226,  0.3654,  0.5593]],\n",
                        "       device='cuda:0', grad_fn=<AddmmBackward0>)\n",
                        "08/11/2022 10:35:04 - INFO - bert_for_sentence:40 -  labels.shape is torch.Size([24])\n",
                        "08/11/2022 10:35:04 - INFO - bert_for_sentence:41 -  labels is tensor([142, 137, 131, 140, 137, 136,   4,   9,   1, 133,  46, 130,  80, 133,\n",
                        "          8, 138,   7, 134, 143, 133,  81, 132, 134,   7], device='cuda:0')\n"
                    ]
                },
                {
                    "name": "stdout",
                    "output_type": "stream",
                    "text": [
                        "\r",
                        "[Training] 120/3702 [..............................] - ETA: 15:54  loss: 2.9372 "
                    ]
                },
                {
                    "name": "stderr",
                    "output_type": "stream",
                    "text": [
                        "08/11/2022 10:35:04 - INFO - bert_for_sentence:38 -  logits.shape is torch.Size([24, 144])\n",
                        "08/11/2022 10:35:05 - INFO - bert_for_sentence:39 -  logits is tensor([[-0.2357,  0.0744,  0.5579,  ..., -1.1860,  1.3142,  1.0944],\n",
                        "        [ 3.1902,  0.5224,  3.0638,  ..., -0.4679,  0.3104,  0.2800],\n",
                        "        [-0.4229,  0.0420,  0.0089,  ..., -1.2538,  2.1971,  2.0483],\n",
                        "        ...,\n",
                        "        [ 3.0776,  0.3264,  2.7944,  ..., -0.4866,  0.2859,  0.1623],\n",
                        "        [ 3.0024,  0.3130,  2.6772,  ..., -0.4488,  0.0812,  0.3572],\n",
                        "        [ 2.7534,  0.1406,  2.4464,  ..., -0.1585,  0.7434,  0.3804]],\n",
                        "       device='cuda:0', grad_fn=<AddmmBackward0>)\n",
                        "08/11/2022 10:35:05 - INFO - bert_for_sentence:40 -  labels.shape is torch.Size([24])\n",
                        "08/11/2022 10:35:05 - INFO - bert_for_sentence:41 -  labels is tensor([105,   6, 137,   9,   3, 137,   4, 131, 138,   8, 137, 133, 137,  35,\n",
                        "        131, 135, 138, 133, 137,  28,   4,   0,   8,   8], device='cuda:0')\n"
                    ]
                },
                {
                    "name": "stdout",
                    "output_type": "stream",
                    "text": [
                        "\r",
                        "[Training] 121/3702 [..............................] - ETA: 15:54  loss: 2.7639 "
                    ]
                },
                {
                    "name": "stderr",
                    "output_type": "stream",
                    "text": [
                        "08/11/2022 10:35:05 - INFO - bert_for_sentence:38 -  logits.shape is torch.Size([24, 144])\n",
                        "08/11/2022 10:35:05 - INFO - bert_for_sentence:39 -  logits is tensor([[-0.9087,  0.4301,  0.1931,  ..., -1.4088,  2.4682,  1.6796],\n",
                        "        [-0.3970,  0.0316, -0.0554,  ..., -1.1853,  2.0208,  2.0423],\n",
                        "        [ 2.9072,  0.3668,  2.7980,  ..., -0.5577, -0.1344,  0.3047],\n",
                        "        ...,\n",
                        "        [ 0.3968, -0.1197, -0.2156,  ...,  0.1667,  0.0549,  0.5185],\n",
                        "        [ 3.0896,  0.8453,  2.9365,  ..., -0.6812,  0.4565,  0.3043],\n",
                        "        [-0.1252,  0.4117,  0.6592,  ..., -1.2944,  1.8959,  1.0572]],\n",
                        "       device='cuda:0', grad_fn=<AddmmBackward0>)\n",
                        "08/11/2022 10:35:05 - INFO - bert_for_sentence:40 -  labels.shape is torch.Size([24])\n",
                        "08/11/2022 10:35:05 - INFO - bert_for_sentence:41 -  labels is tensor([135, 129,   0, 138,   0,  35,  64, 137, 136,   0,  31, 136, 130, 136,\n",
                        "          6, 132, 135,   3, 131, 140,   3,  11,   2, 135], device='cuda:0')\n"
                    ]
                },
                {
                    "name": "stdout",
                    "output_type": "stream",
                    "text": [
                        "\r",
                        "[Training] 122/3702 [..............................] - ETA: 15:54  loss: 2.7233 "
                    ]
                },
                {
                    "name": "stderr",
                    "output_type": "stream",
                    "text": [
                        "08/11/2022 10:35:05 - INFO - bert_for_sentence:38 -  logits.shape is torch.Size([24, 144])\n",
                        "08/11/2022 10:35:05 - INFO - bert_for_sentence:39 -  logits is tensor([[-0.5001,  0.2479, -0.1426,  ..., -1.2938,  2.5143,  2.3505],\n",
                        "        [-0.2065, -0.0379,  0.1961,  ...,  0.0669,  0.0338, -0.1671],\n",
                        "        [-0.0450,  0.3984,  0.6701,  ..., -1.3799,  1.7894,  2.0076],\n",
                        "        ...,\n",
                        "        [-0.6591,  0.6984,  0.0334,  ..., -1.6907,  1.9722,  1.6593],\n",
                        "        [ 0.0640, -0.2034, -0.2950,  ..., -0.4340,  0.4549,  0.4731],\n",
                        "        [-0.3274, -0.0603, -0.0874,  ..., -0.2575,  0.0316,  0.4034]],\n",
                        "       device='cuda:0', grad_fn=<AddmmBackward0>)\n",
                        "08/11/2022 10:35:05 - INFO - bert_for_sentence:40 -  labels.shape is torch.Size([24])\n",
                        "08/11/2022 10:35:05 - INFO - bert_for_sentence:41 -  labels is tensor([142,  19, 132, 142,   3, 135,   4,   7, 135, 136, 135, 142, 137, 136,\n",
                        "        137, 139, 143, 129, 109, 139,  66, 137,  64,  63], device='cuda:0')\n"
                    ]
                },
                {
                    "name": "stdout",
                    "output_type": "stream",
                    "text": [
                        "\r",
                        "[Training] 123/3702 [..............................] - ETA: 15:54  loss: 3.0787 "
                    ]
                },
                {
                    "name": "stderr",
                    "output_type": "stream",
                    "text": [
                        "08/11/2022 10:35:05 - INFO - bert_for_sentence:38 -  logits.shape is torch.Size([24, 144])\n",
                        "08/11/2022 10:35:05 - INFO - bert_for_sentence:39 -  logits is tensor([[-0.3965,  0.1739,  0.0469,  ..., -1.3517,  2.5880,  1.2924],\n",
                        "        [-0.1461,  0.0920,  0.0749,  ..., -0.8120,  2.0592,  1.0188],\n",
                        "        [-0.2765,  0.1343,  0.0440,  ..., -1.4876,  1.8715,  1.6056],\n",
                        "        ...,\n",
                        "        [-0.3784,  0.0856, -0.3554,  ..., -0.9088,  1.6015,  2.5606],\n",
                        "        [ 3.1084,  0.7557,  2.8274,  ..., -0.4226,  0.4671,  0.7084],\n",
                        "        [ 0.1910,  0.3732,  0.6987,  ..., -1.2818,  1.6354,  1.9101]],\n",
                        "       device='cuda:0', grad_fn=<AddmmBackward0>)\n",
                        "08/11/2022 10:35:05 - INFO - bert_for_sentence:40 -  labels.shape is torch.Size([24])\n",
                        "08/11/2022 10:35:05 - INFO - bert_for_sentence:41 -  labels is tensor([133, 135, 142, 140,   4,   2,   0, 140,   7, 135, 134, 139, 138,   2,\n",
                        "          2, 130, 137, 140, 140,  88,   3, 143,   2, 138], device='cuda:0')\n"
                    ]
                },
                {
                    "name": "stdout",
                    "output_type": "stream",
                    "text": [
                        "\r",
                        "[Training] 124/3702 [>.............................] - ETA: 15:54  loss: 3.2515 "
                    ]
                },
                {
                    "name": "stderr",
                    "output_type": "stream",
                    "text": [
                        "08/11/2022 10:35:06 - INFO - bert_for_sentence:38 -  logits.shape is torch.Size([24, 144])\n",
                        "08/11/2022 10:35:06 - INFO - bert_for_sentence:39 -  logits is tensor([[-0.5518, -0.0246, -0.2478,  ..., -0.9738,  0.3197,  0.8990],\n",
                        "        [ 0.1321,  0.2279,  0.5581,  ..., -1.0240,  2.2487,  1.3872],\n",
                        "        [ 0.1237,  0.5529,  1.0033,  ..., -1.1466,  2.0021,  1.7708],\n",
                        "        ...,\n",
                        "        [ 2.3630,  0.3669,  2.2492,  ..., -0.6976,  1.2518,  0.5483],\n",
                        "        [ 0.0749,  0.0093, -0.1888,  ..., -1.1122,  2.1055,  1.0005],\n",
                        "        [-0.4807,  0.5419,  0.3516,  ..., -1.2489,  1.6037,  1.7028]],\n",
                        "       device='cuda:0', grad_fn=<AddmmBackward0>)\n",
                        "08/11/2022 10:35:06 - INFO - bert_for_sentence:40 -  labels.shape is torch.Size([24])\n",
                        "08/11/2022 10:35:06 - INFO - bert_for_sentence:41 -  labels is tensor([ 27, 137, 142, 139, 133, 135,   4,  80,   2,  57, 131, 133, 137, 142,\n",
                        "        133, 134,  80, 139,   6, 138, 137, 139, 136, 137], device='cuda:0')\n"
                    ]
                },
                {
                    "name": "stdout",
                    "output_type": "stream",
                    "text": [
                        "\r",
                        "[Training] 125/3702 [>.............................] - ETA: 15:54  loss: 2.7131 "
                    ]
                },
                {
                    "name": "stderr",
                    "output_type": "stream",
                    "text": [
                        "08/11/2022 10:35:06 - INFO - bert_for_sentence:38 -  logits.shape is torch.Size([24, 144])\n",
                        "08/11/2022 10:35:06 - INFO - bert_for_sentence:39 -  logits is tensor([[-5.9155e-01,  2.1229e-01, -4.1692e-02,  ..., -1.0181e+00,\n",
                        "          1.9051e+00,  2.2554e+00],\n",
                        "        [-2.9744e-01, -3.9775e-01, -4.3531e-01,  ..., -4.1275e-01,\n",
                        "          2.7673e-01,  3.4556e-01],\n",
                        "        [-2.3106e-01, -7.1719e-02, -2.4189e-01,  ...,  4.3837e-01,\n",
                        "         -1.4084e-01, -1.1431e-01],\n",
                        "        ...,\n",
                        "        [ 1.7420e-01, -2.6208e-01, -2.3097e-01,  ..., -1.4208e-03,\n",
                        "          2.4833e-01,  1.2734e-01],\n",
                        "        [ 1.9286e+00,  1.0093e+00,  2.3898e+00,  ..., -7.3325e-01,\n",
                        "          4.6790e-01,  1.0047e+00],\n",
                        "        [-7.2458e-01,  5.1446e-01, -3.3621e-01,  ..., -1.2922e+00,\n",
                        "          2.4107e+00,  2.1930e+00]], device='cuda:0', grad_fn=<AddmmBackward0>)\n",
                        "08/11/2022 10:35:06 - INFO - bert_for_sentence:40 -  labels.shape is torch.Size([24])\n",
                        "08/11/2022 10:35:06 - INFO - bert_for_sentence:41 -  labels is tensor([140,  27,  51,   0, 132, 137, 131,  80, 135, 143, 137,   8,   3, 132,\n",
                        "          7, 131, 138,   7,   6, 142, 140,  38,   6, 139], device='cuda:0')\n"
                    ]
                },
                {
                    "name": "stdout",
                    "output_type": "stream",
                    "text": [
                        "\r",
                        "[Training] 126/3702 [>.............................] - ETA: 15:53  loss: 2.5888 "
                    ]
                },
                {
                    "name": "stderr",
                    "output_type": "stream",
                    "text": [
                        "08/11/2022 10:35:06 - INFO - bert_for_sentence:38 -  logits.shape is torch.Size([24, 144])\n",
                        "08/11/2022 10:35:06 - INFO - bert_for_sentence:39 -  logits is tensor([[ 2.7634,  0.6147,  2.7709,  ..., -0.2747,  0.6277,  0.5682],\n",
                        "        [ 0.1775, -0.0662, -0.1032,  ..., -0.0216, -0.3556,  0.1192],\n",
                        "        [-0.0239,  0.0638,  0.9670,  ..., -1.2743,  1.2976,  0.8548],\n",
                        "        ...,\n",
                        "        [ 1.9034,  0.7682,  1.9342,  ..., -1.0150,  0.7203,  0.8818],\n",
                        "        [ 0.0576,  0.4770,  0.8949,  ..., -1.6582,  2.4037,  1.5796],\n",
                        "        [ 0.1366,  0.1213,  0.2595,  ..., -1.2081,  2.3254,  1.2433]],\n",
                        "       device='cuda:0', grad_fn=<AddmmBackward0>)\n",
                        "08/11/2022 10:35:06 - INFO - bert_for_sentence:40 -  labels.shape is torch.Size([24])\n",
                        "08/11/2022 10:35:06 - INFO - bert_for_sentence:41 -  labels is tensor([  8, 105, 133, 142, 131, 129, 116, 130,   8, 131, 135, 126,   7, 143,\n",
                        "        142, 140, 104,   1, 140, 135, 140,   6, 133, 137], device='cuda:0')\n"
                    ]
                },
                {
                    "name": "stdout",
                    "output_type": "stream",
                    "text": [
                        "\r",
                        "[Training] 127/3702 [>.............................] - ETA: 15:53  loss: 2.8518 "
                    ]
                },
                {
                    "name": "stderr",
                    "output_type": "stream",
                    "text": [
                        "08/11/2022 10:35:06 - INFO - bert_for_sentence:38 -  logits.shape is torch.Size([24, 144])\n",
                        "08/11/2022 10:35:06 - INFO - bert_for_sentence:39 -  logits is tensor([[-0.3311,  0.1393,  0.1875,  ..., -1.5905,  2.8041,  1.3273],\n",
                        "        [-0.0308,  0.4253,  0.3402,  ..., -1.4065,  2.1919,  2.2717],\n",
                        "        [ 0.5040,  1.4077,  1.3880,  ..., -1.3305,  0.7846,  1.3440],\n",
                        "        ...,\n",
                        "        [-0.0371, -0.2634,  0.0042,  ..., -0.1649, -0.3970,  0.1331],\n",
                        "        [-0.0961,  0.1409,  0.9756,  ..., -1.4209,  2.3400,  1.6144],\n",
                        "        [ 2.3876,  0.8620,  3.0029,  ..., -0.9079,  0.0274,  0.4736]],\n",
                        "       device='cuda:0', grad_fn=<AddmmBackward0>)\n",
                        "08/11/2022 10:35:06 - INFO - bert_for_sentence:40 -  labels.shape is torch.Size([24])\n",
                        "08/11/2022 10:35:06 - INFO - bert_for_sentence:41 -  labels is tensor([134, 131,   1,   1, 142, 139, 143, 142, 136, 143, 142, 130, 137,  27,\n",
                        "          5, 138, 142, 130, 131, 143, 134,  46, 135,   7], device='cuda:0')\n"
                    ]
                },
                {
                    "name": "stdout",
                    "output_type": "stream",
                    "text": [
                        "\r",
                        "[Training] 128/3702 [>.............................] - ETA: 15:53  loss: 2.9503 "
                    ]
                },
                {
                    "name": "stderr",
                    "output_type": "stream",
                    "text": [
                        "08/11/2022 10:35:07 - INFO - bert_for_sentence:38 -  logits.shape is torch.Size([24, 144])\n",
                        "08/11/2022 10:35:07 - INFO - bert_for_sentence:39 -  logits is tensor([[-0.3114,  0.1815, -0.2198,  ..., -0.7164,  1.1764,  2.2950],\n",
                        "        [ 3.0889,  0.6038,  2.8686,  ..., -0.7776,  0.0961,  0.4320],\n",
                        "        [ 2.7507,  0.5398,  2.6818,  ..., -0.7874,  0.1348,  0.4721],\n",
                        "        ...,\n",
                        "        [-0.1319,  0.8013,  1.1073,  ..., -1.5352,  2.1488,  1.4633],\n",
                        "        [ 0.0073,  0.7250,  1.0422,  ..., -1.4786,  2.0563,  1.2894],\n",
                        "        [-0.0400, -0.1108,  0.1217,  ...,  0.3459, -0.2769, -0.2194]],\n",
                        "       device='cuda:0', grad_fn=<AddmmBackward0>)\n",
                        "08/11/2022 10:35:07 - INFO - bert_for_sentence:40 -  labels.shape is torch.Size([24])\n",
                        "08/11/2022 10:35:07 - INFO - bert_for_sentence:41 -  labels is tensor([129, 139,   4,   9, 134,  27,   4,  80,   6,   0, 133,  80, 140, 143,\n",
                        "        131,   6,   2, 143, 143, 137,   4, 141, 137,  38], device='cuda:0')\n"
                    ]
                },
                {
                    "name": "stdout",
                    "output_type": "stream",
                    "text": [
                        "\r",
                        "[Training] 129/3702 [>.............................] - ETA: 15:53  loss: 2.7429 "
                    ]
                },
                {
                    "name": "stderr",
                    "output_type": "stream",
                    "text": [
                        "08/11/2022 10:35:07 - INFO - bert_for_sentence:38 -  logits.shape is torch.Size([24, 144])\n",
                        "08/11/2022 10:35:07 - INFO - bert_for_sentence:39 -  logits is tensor([[ 0.1173,  0.2957,  0.5393,  ..., -1.7233,  2.3389,  1.3921],\n",
                        "        [-0.0206, -0.0408,  0.1981,  ..., -1.6194,  2.3808,  0.7088],\n",
                        "        [ 0.0727,  0.6280,  0.0376,  ..., -0.9622,  1.8547,  2.7758],\n",
                        "        ...,\n",
                        "        [-0.4371,  0.2807, -0.0443,  ..., -1.2259,  2.3051,  2.1587],\n",
                        "        [-0.5621,  0.3172,  0.3356,  ..., -1.5030,  2.1636,  1.5286],\n",
                        "        [ 0.5406,  0.5476,  0.9271,  ..., -0.2753,  0.6465,  1.8578]],\n",
                        "       device='cuda:0', grad_fn=<AddmmBackward0>)\n",
                        "08/11/2022 10:35:07 - INFO - bert_for_sentence:40 -  labels.shape is torch.Size([24])\n",
                        "08/11/2022 10:35:07 - INFO - bert_for_sentence:41 -  labels is tensor([133, 139, 130,  80, 132,   8, 133,   3,   2, 138, 133, 140, 137, 132,\n",
                        "          4, 133, 130, 134, 139,   3, 134, 136, 137, 132], device='cuda:0')\n"
                    ]
                },
                {
                    "name": "stdout",
                    "output_type": "stream",
                    "text": [
                        "\r",
                        "[Training] 130/3702 [>.............................] - ETA: 15:53  loss: 3.0416 "
                    ]
                },
                {
                    "name": "stderr",
                    "output_type": "stream",
                    "text": [
                        "08/11/2022 10:35:07 - INFO - bert_for_sentence:38 -  logits.shape is torch.Size([24, 144])\n",
                        "08/11/2022 10:35:07 - INFO - bert_for_sentence:39 -  logits is tensor([[-0.4651,  0.7768,  0.5509,  ..., -1.1283,  1.3049,  1.9123],\n",
                        "        [ 3.0933,  0.5685,  2.8212,  ..., -0.8025, -0.0610,  0.6651],\n",
                        "        [ 0.1259,  0.0241,  0.6826,  ..., -1.4054,  2.3664,  1.3650],\n",
                        "        ...,\n",
                        "        [-0.9298,  0.0340,  0.0777,  ..., -1.5860,  2.5991,  1.4932],\n",
                        "        [-0.3734, -0.0398,  0.5562,  ..., -0.5976,  0.0179,  0.9885],\n",
                        "        [-0.2180,  0.5495,  0.4998,  ..., -1.3230,  1.9699,  2.6919]],\n",
                        "       device='cuda:0', grad_fn=<AddmmBackward0>)\n",
                        "08/11/2022 10:35:07 - INFO - bert_for_sentence:40 -  labels.shape is torch.Size([24])\n",
                        "08/11/2022 10:35:07 - INFO - bert_for_sentence:41 -  labels is tensor([140,   2, 135, 140, 131,   1,   6, 138, 130, 132,   4,  23,  49,   6,\n",
                        "        132, 138,   7, 140,  80, 129,   8, 133, 112, 132], device='cuda:0')\n"
                    ]
                },
                {
                    "name": "stdout",
                    "output_type": "stream",
                    "text": [
                        "\r",
                        "[Training] 131/3702 [>.............................] - ETA: 15:52  loss: 2.3689 "
                    ]
                },
                {
                    "name": "stderr",
                    "output_type": "stream",
                    "text": [
                        "08/11/2022 10:35:07 - INFO - bert_for_sentence:38 -  logits.shape is torch.Size([24, 144])\n",
                        "08/11/2022 10:35:08 - INFO - bert_for_sentence:39 -  logits is tensor([[-0.8038,  0.5370,  0.1393,  ..., -1.4550,  2.2145,  1.8273],\n",
                        "        [ 0.0570,  0.1733,  0.3860,  ..., -0.0223, -0.0092,  0.4961],\n",
                        "        [-0.5483,  0.8692,  0.0920,  ..., -1.1007,  1.6379,  2.1961],\n",
                        "        ...,\n",
                        "        [-0.2396,  0.3444, -0.2734,  ..., -1.1792,  1.7178,  2.6726],\n",
                        "        [-0.5446,  0.1920,  0.1072,  ..., -1.8591,  2.7040,  1.5908],\n",
                        "        [-0.5398,  0.2036,  0.1201,  ..., -0.9596,  1.3026,  2.5266]],\n",
                        "       device='cuda:0', grad_fn=<AddmmBackward0>)\n",
                        "08/11/2022 10:35:08 - INFO - bert_for_sentence:40 -  labels.shape is torch.Size([24])\n",
                        "08/11/2022 10:35:08 - INFO - bert_for_sentence:41 -  labels is tensor([134,  80, 132, 143, 135, 137, 137,   6, 142,   9, 135,  19, 142,   3,\n",
                        "        140, 105, 137,  28, 130,   6, 138, 129, 133, 132], device='cuda:0')\n"
                    ]
                },
                {
                    "name": "stdout",
                    "output_type": "stream",
                    "text": [
                        "\r",
                        "[Training] 132/3702 [>.............................] - ETA: 15:52  loss: 2.9422 "
                    ]
                },
                {
                    "name": "stderr",
                    "output_type": "stream",
                    "text": [
                        "08/11/2022 10:35:08 - INFO - bert_for_sentence:38 -  logits.shape is torch.Size([24, 144])\n",
                        "08/11/2022 10:35:08 - INFO - bert_for_sentence:39 -  logits is tensor([[-0.6652,  0.5019, -0.0893,  ..., -1.3358,  2.3925,  1.7450],\n",
                        "        [ 1.5544,  0.6001,  1.8020,  ..., -1.0676,  1.9660,  1.3579],\n",
                        "        [-0.5913,  0.2787,  0.0036,  ..., -1.6575,  2.8177,  1.8436],\n",
                        "        ...,\n",
                        "        [-0.2504,  0.4325,  0.3928,  ..., -1.0347,  1.5736,  2.3248],\n",
                        "        [ 2.8601,  0.7506,  2.6251,  ..., -0.6990, -0.1342,  0.4618],\n",
                        "        [-0.0923,  0.7731,  0.3887,  ..., -0.9108,  1.3931,  2.8658]],\n",
                        "       device='cuda:0', grad_fn=<AddmmBackward0>)\n",
                        "08/11/2022 10:35:08 - INFO - bert_for_sentence:40 -  labels.shape is torch.Size([24])\n",
                        "08/11/2022 10:35:08 - INFO - bert_for_sentence:41 -  labels is tensor([135, 142, 136, 129, 133,   4, 138,   3, 130,   1,  80, 135, 105, 133,\n",
                        "        131,   4,  32,   7, 132, 131, 136,  46,   8, 143], device='cuda:0')\n"
                    ]
                },
                {
                    "name": "stdout",
                    "output_type": "stream",
                    "text": [
                        "\r",
                        "[Training] 133/3702 [>.............................] - ETA: 15:52  loss: 2.8556 "
                    ]
                },
                {
                    "name": "stderr",
                    "output_type": "stream",
                    "text": [
                        "08/11/2022 10:35:08 - INFO - bert_for_sentence:38 -  logits.shape is torch.Size([24, 144])\n",
                        "08/11/2022 10:35:08 - INFO - bert_for_sentence:39 -  logits is tensor([[-0.6460,  0.0877, -0.2646,  ..., -1.4626,  2.8800,  2.1264],\n",
                        "        [-0.5960,  0.1782,  0.0066,  ..., -1.2626,  2.3382,  2.9309],\n",
                        "        [ 2.6799,  0.6633,  3.1037,  ..., -0.8257,  0.1997,  0.4413],\n",
                        "        ...,\n",
                        "        [-0.4077,  0.5940,  0.4883,  ..., -1.1377,  1.5035,  2.7179],\n",
                        "        [-0.6096,  0.5606,  0.3480,  ..., -1.0086,  1.5096,  3.2829],\n",
                        "        [ 2.2612,  0.6125,  2.7227,  ..., -1.0239, -0.0341,  0.5417]],\n",
                        "       device='cuda:0', grad_fn=<AddmmBackward0>)\n",
                        "08/11/2022 10:35:08 - INFO - bert_for_sentence:40 -  labels.shape is torch.Size([24])\n",
                        "08/11/2022 10:35:08 - INFO - bert_for_sentence:41 -  labels is tensor([133, 133,   8,   8, 140,   2,  38, 104, 137,   6, 140, 138, 136, 131,\n",
                        "        143,  80,   2,  27, 129, 134, 137, 137, 138,   7], device='cuda:0')\n"
                    ]
                },
                {
                    "name": "stdout",
                    "output_type": "stream",
                    "text": [
                        "\r",
                        "[Training] 134/3702 [>.............................] - ETA: 15:52  loss: 2.9293 "
                    ]
                },
                {
                    "name": "stderr",
                    "output_type": "stream",
                    "text": [
                        "08/11/2022 10:35:08 - INFO - bert_for_sentence:38 -  logits.shape is torch.Size([24, 144])\n",
                        "08/11/2022 10:35:08 - INFO - bert_for_sentence:39 -  logits is tensor([[-0.3193,  0.3674,  0.2246,  ..., -1.5315,  2.2830,  2.3027],\n",
                        "        [-0.7930,  0.2185,  0.1437,  ..., -0.8065,  1.3469,  2.7051],\n",
                        "        [-0.2718,  0.0667,  0.1094,  ..., -0.6989,  0.2524,  0.8954],\n",
                        "        ...,\n",
                        "        [ 0.0701,  0.3225, -0.0167,  ..., -0.3685,  0.6705,  0.6254],\n",
                        "        [-0.2433,  0.8608, -0.1958,  ..., -1.1583,  1.7215,  2.5282],\n",
                        "        [-0.4885,  0.2986, -0.1503,  ..., -1.6111,  2.5038,  2.3450]],\n",
                        "       device='cuda:0', grad_fn=<AddmmBackward0>)\n",
                        "08/11/2022 10:35:08 - INFO - bert_for_sentence:40 -  labels.shape is torch.Size([24])\n",
                        "08/11/2022 10:35:08 - INFO - bert_for_sentence:41 -  labels is tensor([139, 131,  63,  61, 135, 137,  26,   6, 132,   7, 138,   2, 137,   6,\n",
                        "        131,  27, 137,   3, 137,   1, 139,  64, 131, 136], device='cuda:0')\n"
                    ]
                },
                {
                    "name": "stdout",
                    "output_type": "stream",
                    "text": [
                        "\r",
                        "[Training] 135/3702 [>.............................] - ETA: 15:52  loss: 2.6880 "
                    ]
                },
                {
                    "name": "stderr",
                    "output_type": "stream",
                    "text": [
                        "08/11/2022 10:35:09 - INFO - bert_for_sentence:38 -  logits.shape is torch.Size([24, 144])\n",
                        "08/11/2022 10:35:09 - INFO - bert_for_sentence:39 -  logits is tensor([[-0.6300,  0.4051,  0.0310,  ..., -1.2587,  2.5036,  2.3320],\n",
                        "        [ 1.6024,  1.2425,  2.5167,  ..., -0.5083,  0.5411,  1.3427],\n",
                        "        [-0.1820,  0.1914,  0.6687,  ..., -0.9443,  1.6442,  1.4377],\n",
                        "        ...,\n",
                        "        [-0.4275,  0.6321,  0.5331,  ..., -1.0214,  1.1058,  3.4674],\n",
                        "        [ 2.9757,  0.6008,  3.0456,  ..., -0.6599,  0.1079,  0.7745],\n",
                        "        [-1.0293,  0.8255,  0.0107,  ..., -1.0298,  1.5150,  2.1114]],\n",
                        "       device='cuda:0', grad_fn=<AddmmBackward0>)\n",
                        "08/11/2022 10:35:09 - INFO - bert_for_sentence:40 -  labels.shape is torch.Size([24])\n",
                        "08/11/2022 10:35:09 - INFO - bert_for_sentence:41 -  labels is tensor([140,   3, 137,  63,   8, 132, 132, 132,  27,   6, 143, 133,   2,   6,\n",
                        "          5,   9,   8,  44, 131,   9, 135, 143,   0, 138], device='cuda:0')\n"
                    ]
                },
                {
                    "name": "stdout",
                    "output_type": "stream",
                    "text": [
                        "\r",
                        "[Training] 136/3702 [>.............................] - ETA: 15:52  loss: 3.0069 "
                    ]
                },
                {
                    "name": "stderr",
                    "output_type": "stream",
                    "text": [
                        "08/11/2022 10:35:09 - INFO - bert_for_sentence:38 -  logits.shape is torch.Size([24, 144])\n",
                        "08/11/2022 10:35:09 - INFO - bert_for_sentence:39 -  logits is tensor([[-0.0374,  0.3627,  0.9167,  ..., -1.4858,  2.3568,  1.7509],\n",
                        "        [-0.2213,  0.3993, -0.0252,  ..., -1.4335,  2.3540,  2.0829],\n",
                        "        [-0.0379,  0.0606,  0.2599,  ...,  0.2007, -0.3747,  0.2081],\n",
                        "        ...,\n",
                        "        [-0.0495,  0.1071,  0.5007,  ..., -0.4843, -0.3287,  1.1831],\n",
                        "        [-0.4731,  0.0639, -0.0616,  ..., -1.4505,  2.9643,  1.7057],\n",
                        "        [-0.1155,  0.2345,  0.1193,  ..., -1.4353,  3.0985,  2.0573]],\n",
                        "       device='cuda:0', grad_fn=<AddmmBackward0>)\n",
                        "08/11/2022 10:35:09 - INFO - bert_for_sentence:40 -  labels.shape is torch.Size([24])\n",
                        "08/11/2022 10:35:09 - INFO - bert_for_sentence:41 -  labels is tensor([140, 130,  56, 131, 137,   3, 136, 137,   6,  22, 132,   7, 132, 137,\n",
                        "          5,   1, 131,   2, 142,   3, 135,  80, 134, 133], device='cuda:0')\n"
                    ]
                },
                {
                    "name": "stdout",
                    "output_type": "stream",
                    "text": [
                        "\r",
                        "[Training] 137/3702 [>.............................] - ETA: 15:52  loss: 2.4454 "
                    ]
                },
                {
                    "name": "stderr",
                    "output_type": "stream",
                    "text": [
                        "08/11/2022 10:35:09 - INFO - bert_for_sentence:38 -  logits.shape is torch.Size([24, 144])\n",
                        "08/11/2022 10:35:09 - INFO - bert_for_sentence:39 -  logits is tensor([[-0.3246,  0.3598,  0.3890,  ..., -1.7345,  2.8874,  1.7925],\n",
                        "        [-0.1566,  0.1755,  0.3189,  ..., -1.1367,  2.7674,  1.5177],\n",
                        "        [-0.0985,  0.4255,  0.5988,  ..., -1.1722,  1.8914,  1.2306],\n",
                        "        ...,\n",
                        "        [ 0.3462,  0.1620,  0.5743,  ..., -0.9196,  2.3643,  1.3221],\n",
                        "        [-0.0940,  0.1590, -0.3153,  ..., -1.4150,  2.3269,  2.2702],\n",
                        "        [-0.4331,  0.1731, -0.3882,  ..., -1.1746,  2.1235,  2.4960]],\n",
                        "       device='cuda:0', grad_fn=<AddmmBackward0>)\n",
                        "08/11/2022 10:35:09 - INFO - bert_for_sentence:40 -  labels.shape is torch.Size([24])\n",
                        "08/11/2022 10:35:09 - INFO - bert_for_sentence:41 -  labels is tensor([138, 139, 135,   4, 138, 143, 135, 135, 131, 140, 137, 131, 133,   6,\n",
                        "        137, 136, 115, 131, 135, 130,  64, 139, 130, 140], device='cuda:0')\n"
                    ]
                },
                {
                    "name": "stdout",
                    "output_type": "stream",
                    "text": [
                        "\r",
                        "[Training] 138/3702 [>.............................] - ETA: 15:52  loss: 2.6456 "
                    ]
                },
                {
                    "name": "stderr",
                    "output_type": "stream",
                    "text": [
                        "08/11/2022 10:35:09 - INFO - bert_for_sentence:38 -  logits.shape is torch.Size([24, 144])\n",
                        "08/11/2022 10:35:09 - INFO - bert_for_sentence:39 -  logits is tensor([[ 2.9033,  0.7920,  2.9105,  ..., -0.4750,  0.1508,  0.2681],\n",
                        "        [ 0.9043,  0.6737,  1.0587,  ..., -1.1468,  2.4595,  1.2151],\n",
                        "        [ 0.0793,  0.2165,  0.1878,  ..., -0.3938, -0.1052,  1.2143],\n",
                        "        ...,\n",
                        "        [-0.5252,  0.2445, -0.3304,  ..., -1.3580,  2.2320,  2.2496],\n",
                        "        [-0.2212,  0.3454,  0.2899,  ..., -1.1160,  1.8542,  2.4777],\n",
                        "        [-0.3286,  0.0790,  0.5048,  ..., -1.0983,  2.4921,  1.5623]],\n",
                        "       device='cuda:0', grad_fn=<AddmmBackward0>)\n",
                        "08/11/2022 10:35:09 - INFO - bert_for_sentence:40 -  labels.shape is torch.Size([24])\n",
                        "08/11/2022 10:35:09 - INFO - bert_for_sentence:41 -  labels is tensor([  7, 133,  41, 142, 136,   0,   9, 140,   5, 131,  27,  75,  63, 133,\n",
                        "        137, 137, 135, 129, 133, 121,   6, 130, 132, 134], device='cuda:0')\n"
                    ]
                },
                {
                    "name": "stdout",
                    "output_type": "stream",
                    "text": [
                        "\r",
                        "[Training] 139/3702 [>.............................] - ETA: 15:51  loss: 2.7563 "
                    ]
                },
                {
                    "name": "stderr",
                    "output_type": "stream",
                    "text": [
                        "08/11/2022 10:35:10 - INFO - bert_for_sentence:38 -  logits.shape is torch.Size([24, 144])\n",
                        "08/11/2022 10:35:10 - INFO - bert_for_sentence:39 -  logits is tensor([[ 0.2249, -0.0951,  0.2872,  ...,  0.1747, -0.1587, -0.1482],\n",
                        "        [ 0.2222,  0.0753,  0.7963,  ...,  0.1116,  0.0133,  0.6388],\n",
                        "        [ 2.6380,  0.7767,  2.2208,  ..., -0.6211,  1.1908,  0.8709],\n",
                        "        ...,\n",
                        "        [ 0.0069,  0.4385, -0.1341,  ..., -1.1369,  1.4977,  2.2867],\n",
                        "        [ 0.3081, -0.0340,  0.6270,  ...,  0.3806, -0.0396, -0.2457],\n",
                        "        [-0.3107,  0.2522,  0.0776,  ..., -1.5386,  2.5899,  1.3337]],\n",
                        "       device='cuda:0', grad_fn=<AddmmBackward0>)\n",
                        "08/11/2022 10:35:10 - INFO - bert_for_sentence:40 -  labels.shape is torch.Size([24])\n",
                        "08/11/2022 10:35:10 - INFO - bert_for_sentence:41 -  labels is tensor([ 44, 112,   0, 138, 136,   6, 130, 100,  18, 140,   0, 130, 140, 140,\n",
                        "        135, 130, 132,   0, 139, 137, 143, 129,  84, 137], device='cuda:0')\n"
                    ]
                },
                {
                    "name": "stdout",
                    "output_type": "stream",
                    "text": [
                        "\r",
                        "[Training] 140/3702 [>.............................] - ETA: 15:51  loss: 2.8698 "
                    ]
                },
                {
                    "name": "stderr",
                    "output_type": "stream",
                    "text": [
                        "08/11/2022 10:35:10 - INFO - bert_for_sentence:38 -  logits.shape is torch.Size([24, 144])\n",
                        "08/11/2022 10:35:10 - INFO - bert_for_sentence:39 -  logits is tensor([[-0.0708,  0.2664,  0.8011,  ..., -1.3246,  1.9360,  1.5384],\n",
                        "        [-0.1305,  0.1326,  0.5945,  ..., -1.4238,  2.0572,  1.4121],\n",
                        "        [ 0.2222,  0.1238,  0.2446,  ..., -0.3802, -0.0205,  1.1941],\n",
                        "        ...,\n",
                        "        [-0.6285,  0.4895, -0.3960,  ..., -1.6405,  2.3579,  2.4404],\n",
                        "        [ 2.5053,  0.8991,  2.5547,  ..., -0.4465,  0.6646,  0.4446],\n",
                        "        [ 0.4673, -0.0595,  0.3769,  ...,  0.0475, -0.2608,  0.0480]],\n",
                        "       device='cuda:0', grad_fn=<AddmmBackward0>)\n",
                        "08/11/2022 10:35:10 - INFO - bert_for_sentence:40 -  labels.shape is torch.Size([24])\n",
                        "08/11/2022 10:35:10 - INFO - bert_for_sentence:41 -  labels is tensor([133, 137,  28, 129, 142,  80, 133, 136, 132, 140,   2, 133, 137, 140,\n",
                        "        129,   5, 143, 137,   0, 131,   0, 130,   6,  80], device='cuda:0')\n"
                    ]
                },
                {
                    "name": "stdout",
                    "output_type": "stream",
                    "text": [
                        "\r",
                        "[Training] 141/3702 [>.............................] - ETA: 15:51  loss: 3.2233 "
                    ]
                },
                {
                    "name": "stderr",
                    "output_type": "stream",
                    "text": [
                        "08/11/2022 10:35:10 - INFO - bert_for_sentence:38 -  logits.shape is torch.Size([24, 144])\n",
                        "08/11/2022 10:35:10 - INFO - bert_for_sentence:39 -  logits is tensor([[-0.4766,  0.3342,  0.2904,  ..., -1.5824,  2.6679,  1.7284],\n",
                        "        [ 2.0305,  0.9847,  2.8304,  ..., -0.7971,  0.6610,  1.3550],\n",
                        "        [ 0.8155, -0.0137,  0.5560,  ..., -0.2162, -0.0728,  0.1862],\n",
                        "        ...,\n",
                        "        [-0.2870,  0.4476,  0.0648,  ..., -0.6837,  1.2983,  2.4262],\n",
                        "        [-0.5130,  0.5898,  0.2315,  ..., -1.3751,  2.3460,  1.7441],\n",
                        "        [ 0.7031,  0.5410,  0.9797,  ..., -1.6230,  2.1165,  1.6624]],\n",
                        "       device='cuda:0', grad_fn=<AddmmBackward0>)\n",
                        "08/11/2022 10:35:10 - INFO - bert_for_sentence:40 -  labels.shape is torch.Size([24])\n",
                        "08/11/2022 10:35:10 - INFO - bert_for_sentence:41 -  labels is tensor([133,   1,  54,   4, 134,   3,  19,   7,   2, 137, 143, 131, 140,   6,\n",
                        "         80, 136, 130,   6, 142, 130, 135, 131, 137,   0], device='cuda:0')\n"
                    ]
                },
                {
                    "name": "stdout",
                    "output_type": "stream",
                    "text": [
                        "\r",
                        "[Training] 142/3702 [>.............................] - ETA: 15:51  loss: 2.5317 "
                    ]
                },
                {
                    "name": "stderr",
                    "output_type": "stream",
                    "text": [
                        "08/11/2022 10:35:10 - INFO - bert_for_sentence:38 -  logits.shape is torch.Size([24, 144])\n",
                        "08/11/2022 10:35:11 - INFO - bert_for_sentence:39 -  logits is tensor([[-0.1168,  0.1695,  0.4496,  ..., -0.1438, -0.0567,  0.4448],\n",
                        "        [-0.2881,  0.2833,  0.2665,  ..., -0.8789,  1.4990,  2.2913],\n",
                        "        [-0.1916,  0.3421,  0.1229,  ..., -1.1402,  1.8926,  2.0197],\n",
                        "        ...,\n",
                        "        [ 0.4616,  0.0477,  0.5026,  ..., -0.1229,  0.2288,  0.6693],\n",
                        "        [-0.4533,  0.7813,  0.1421,  ..., -1.0125,  1.6728,  2.2342],\n",
                        "        [-0.7925,  0.1287, -0.4280,  ..., -1.6110,  2.4909,  1.8092]],\n",
                        "       device='cuda:0', grad_fn=<AddmmBackward0>)\n",
                        "08/11/2022 10:35:11 - INFO - bert_for_sentence:40 -  labels.shape is torch.Size([24])\n",
                        "08/11/2022 10:35:11 - INFO - bert_for_sentence:41 -  labels is tensor([ 80, 133, 131, 132, 140, 142,  28, 139, 134, 131, 131, 142,   2,   4,\n",
                        "        133,   4, 132, 140,   3, 130, 138,  27, 140, 142], device='cuda:0')\n"
                    ]
                },
                {
                    "name": "stdout",
                    "output_type": "stream",
                    "text": [
                        "\r",
                        "[Training] 143/3702 [>.............................] - ETA: 15:51  loss: 2.6978 "
                    ]
                },
                {
                    "name": "stderr",
                    "output_type": "stream",
                    "text": [
                        "08/11/2022 10:35:11 - INFO - bert_for_sentence:38 -  logits.shape is torch.Size([24, 144])\n",
                        "08/11/2022 10:35:11 - INFO - bert_for_sentence:39 -  logits is tensor([[-0.2922,  0.2682, -0.4306,  ..., -1.1584,  2.6708,  1.9186],\n",
                        "        [ 0.3085,  2.0843,  1.0789,  ..., -1.2124,  1.0711,  1.2893],\n",
                        "        [-0.3457,  0.4203,  0.2048,  ..., -1.5558,  2.2934,  1.5240],\n",
                        "        ...,\n",
                        "        [-0.5985,  0.6736, -0.2268,  ..., -1.2197,  2.0083,  2.5434],\n",
                        "        [-0.4799,  0.3815,  0.4085,  ..., -1.5537,  1.9060,  1.4658],\n",
                        "        [-0.2221,  0.4640,  0.3395,  ..., -1.4576,  2.0176,  1.8742]],\n",
                        "       device='cuda:0', grad_fn=<AddmmBackward0>)\n",
                        "08/11/2022 10:35:11 - INFO - bert_for_sentence:40 -  labels.shape is torch.Size([24])\n",
                        "08/11/2022 10:35:11 - INFO - bert_for_sentence:41 -  labels is tensor([130,   5, 141, 132, 135, 133, 100, 139, 133, 140, 134,   7,  34, 137,\n",
                        "          4, 133, 138, 136, 133, 132, 132, 130, 137, 137], device='cuda:0')\n"
                    ]
                },
                {
                    "name": "stdout",
                    "output_type": "stream",
                    "text": [
                        "\r",
                        "[Training] 144/3702 [>.............................] - ETA: 15:51  loss: 2.4635 "
                    ]
                },
                {
                    "name": "stderr",
                    "output_type": "stream",
                    "text": [
                        "08/11/2022 10:35:11 - INFO - bert_for_sentence:38 -  logits.shape is torch.Size([24, 144])\n",
                        "08/11/2022 10:35:11 - INFO - bert_for_sentence:39 -  logits is tensor([[-0.3521,  0.7828, -0.0908,  ..., -0.9359,  1.4859,  3.3948],\n",
                        "        [-0.4376,  0.4758, -0.1942,  ..., -0.7476,  1.7391,  2.0910],\n",
                        "        [-0.5761,  0.3512, -0.1354,  ..., -1.3644,  2.1796,  2.4332],\n",
                        "        ...,\n",
                        "        [-0.4200,  0.2440,  0.5448,  ..., -1.4449,  2.1216,  1.8054],\n",
                        "        [-0.3362,  0.2141,  0.1628,  ..., -1.4725,  2.0823,  1.8424],\n",
                        "        [-0.7807,  0.2868, -0.1692,  ..., -1.2078,  2.2621,  1.3377]],\n",
                        "       device='cuda:0', grad_fn=<AddmmBackward0>)\n",
                        "08/11/2022 10:35:11 - INFO - bert_for_sentence:40 -  labels.shape is torch.Size([24])\n",
                        "08/11/2022 10:35:11 - INFO - bert_for_sentence:41 -  labels is tensor([143, 131, 130, 142, 116,  66,  80,   7,   2, 137, 137, 133,   0, 129,\n",
                        "        129, 141, 135,   6,   1, 130, 105, 132, 135, 134], device='cuda:0')\n"
                    ]
                },
                {
                    "name": "stdout",
                    "output_type": "stream",
                    "text": [
                        "\r",
                        "[Training] 145/3702 [>.............................] - ETA: 15:51  loss: 2.6248 "
                    ]
                },
                {
                    "name": "stderr",
                    "output_type": "stream",
                    "text": [
                        "08/11/2022 10:35:11 - INFO - bert_for_sentence:38 -  logits.shape is torch.Size([24, 144])\n",
                        "08/11/2022 10:35:11 - INFO - bert_for_sentence:39 -  logits is tensor([[ 0.4844,  1.8649,  1.2847,  ..., -1.1683,  0.7208,  1.2301],\n",
                        "        [-0.9252,  0.2917, -0.1996,  ..., -1.2619,  2.3079,  2.1358],\n",
                        "        [-0.1901,  0.1505,  0.5281,  ..., -1.2008,  2.1374,  1.1549],\n",
                        "        ...,\n",
                        "        [-0.0269,  0.3278,  0.0294,  ..., -0.2848, -0.1142,  0.3781],\n",
                        "        [-0.6481,  0.3734, -0.1799,  ..., -0.9227,  1.5184,  2.3822],\n",
                        "        [-0.5704,  0.3771, -0.1759,  ..., -1.3921,  2.0110,  1.5707]],\n",
                        "       device='cuda:0', grad_fn=<AddmmBackward0>)\n",
                        "08/11/2022 10:35:11 - INFO - bert_for_sentence:40 -  labels.shape is torch.Size([24])\n",
                        "08/11/2022 10:35:11 - INFO - bert_for_sentence:41 -  labels is tensor([  5, 136, 137,   1, 131, 132,  80,   5,   9, 139, 136, 140, 133, 131,\n",
                        "        137, 130, 135, 132, 139,   7,   7,  80, 132, 138], device='cuda:0')\n"
                    ]
                },
                {
                    "name": "stdout",
                    "output_type": "stream",
                    "text": [
                        "\r",
                        "[Training] 146/3702 [>.............................] - ETA: 15:50  loss: 2.7010 "
                    ]
                },
                {
                    "name": "stderr",
                    "output_type": "stream",
                    "text": [
                        "08/11/2022 10:35:12 - INFO - bert_for_sentence:38 -  logits.shape is torch.Size([24, 144])\n",
                        "08/11/2022 10:35:12 - INFO - bert_for_sentence:39 -  logits is tensor([[-0.2321,  0.3213,  0.3510,  ..., -1.5003,  1.5196,  1.8163],\n",
                        "        [-0.6935,  0.1451,  0.0325,  ..., -0.6512,  1.1912,  1.5627],\n",
                        "        [ 2.0290,  1.6401,  2.5391,  ..., -0.8442,  0.5109,  0.9698],\n",
                        "        ...,\n",
                        "        [-0.0929,  0.0542, -0.0759,  ..., -0.6426, -0.1670,  0.8315],\n",
                        "        [-0.2953,  0.2935, -0.1696,  ..., -0.8769,  1.7110,  3.2452],\n",
                        "        [-0.4543,  0.9382,  0.4375,  ..., -1.1762,  1.4306,  2.1402]],\n",
                        "       device='cuda:0', grad_fn=<AddmmBackward0>)\n",
                        "08/11/2022 10:35:12 - INFO - bert_for_sentence:40 -  labels.shape is torch.Size([24])\n",
                        "08/11/2022 10:35:12 - INFO - bert_for_sentence:41 -  labels is tensor([131, 132,   2, 132,   2,   7, 143,   6, 137, 134,   7,   5,  80,   2,\n",
                        "         28,   8,   0, 139,   0, 143,  25,  27, 143, 138], device='cuda:0')\n"
                    ]
                },
                {
                    "name": "stdout",
                    "output_type": "stream",
                    "text": [
                        "\r",
                        "[Training] 147/3702 [>.............................] - ETA: 15:50  loss: 2.6695 "
                    ]
                },
                {
                    "name": "stderr",
                    "output_type": "stream",
                    "text": [
                        "08/11/2022 10:35:12 - INFO - bert_for_sentence:38 -  logits.shape is torch.Size([24, 144])\n",
                        "08/11/2022 10:35:12 - INFO - bert_for_sentence:39 -  logits is tensor([[ 0.4215, -0.4722,  0.1877,  ...,  0.1555, -0.3840, -0.3526],\n",
                        "        [-0.3940,  0.4786, -0.1058,  ..., -1.2454,  2.4248,  1.9661],\n",
                        "        [ 0.3189,  0.8921,  1.4015,  ..., -1.0013,  1.0070,  1.9161],\n",
                        "        ...,\n",
                        "        [-0.2816,  0.3144,  0.1686,  ..., -0.8416,  1.0573,  2.2432],\n",
                        "        [-0.5895, -0.1059, -0.6456,  ..., -1.5281,  2.9757,  1.5091],\n",
                        "        [ 0.6366,  2.1247,  1.2711,  ..., -0.8718,  0.5168,  1.0751]],\n",
                        "       device='cuda:0', grad_fn=<AddmmBackward0>)\n",
                        "08/11/2022 10:35:12 - INFO - bert_for_sentence:40 -  labels.shape is torch.Size([24])\n",
                        "08/11/2022 10:35:12 - INFO - bert_for_sentence:41 -  labels is tensor([121, 134, 137,   8, 131, 133, 131,   4,   6, 135, 136, 132,   3, 137,\n",
                        "         80,  34, 142, 132, 133, 129, 136, 136, 136,   3], device='cuda:0')\n"
                    ]
                },
                {
                    "name": "stdout",
                    "output_type": "stream",
                    "text": [
                        "\r",
                        "[Training] 148/3702 [>.............................] - ETA: 15:50  loss: 2.5137 "
                    ]
                },
                {
                    "name": "stderr",
                    "output_type": "stream",
                    "text": [
                        "08/11/2022 10:35:12 - INFO - bert_for_sentence:38 -  logits.shape is torch.Size([24, 144])\n",
                        "08/11/2022 10:35:12 - INFO - bert_for_sentence:39 -  logits is tensor([[ 1.7654,  0.9716,  2.3370,  ..., -1.5732,  0.9900,  0.9442],\n",
                        "        [-0.6457,  0.3794, -0.1297,  ..., -0.9331,  2.0332,  2.6611],\n",
                        "        [-0.3063, -0.0260,  0.0384,  ..., -1.4348,  2.3536,  1.8640],\n",
                        "        ...,\n",
                        "        [ 0.1260, -0.1901,  0.0699,  ..., -0.0428,  0.0175,  0.0841],\n",
                        "        [ 0.2441,  0.6503,  0.6643,  ..., -1.1962,  1.8072,  1.3216],\n",
                        "        [ 2.6766,  0.9959,  2.6439,  ..., -0.5030,  0.1957,  0.0286]],\n",
                        "       device='cuda:0', grad_fn=<AddmmBackward0>)\n",
                        "08/11/2022 10:35:12 - INFO - bert_for_sentence:40 -  labels.shape is torch.Size([24])\n",
                        "08/11/2022 10:35:12 - INFO - bert_for_sentence:41 -  labels is tensor([133, 139, 133, 132, 132,   8, 133, 135, 112, 136,   0,  28, 140, 138,\n",
                        "        142, 130, 143, 135, 143, 130, 137,  82, 135,   8], device='cuda:0')\n"
                    ]
                },
                {
                    "name": "stdout",
                    "output_type": "stream",
                    "text": [
                        "\r",
                        "[Training] 149/3702 [>.............................] - ETA: 15:50  loss: 2.6224 "
                    ]
                },
                {
                    "name": "stderr",
                    "output_type": "stream",
                    "text": [
                        "08/11/2022 10:35:12 - INFO - bert_for_sentence:38 -  logits.shape is torch.Size([24, 144])\n",
                        "08/11/2022 10:35:12 - INFO - bert_for_sentence:39 -  logits is tensor([[ 2.1326e-01,  4.1190e-01,  8.6751e-01,  ..., -1.5198e+00,\n",
                        "          1.9135e+00,  1.3923e+00],\n",
                        "        [ 2.9536e+00,  7.6479e-01,  3.1752e+00,  ..., -8.3720e-01,\n",
                        "         -1.4405e-01,  3.8419e-01],\n",
                        "        [-2.2750e-01,  5.5112e-01, -8.3111e-02,  ..., -7.4486e-01,\n",
                        "          1.5397e+00,  3.5719e+00],\n",
                        "        ...,\n",
                        "        [ 9.9317e-02, -1.9774e-01, -7.6906e-02,  ..., -3.4236e-01,\n",
                        "         -3.4656e-02,  8.8784e-01],\n",
                        "        [ 1.3303e-01,  4.7763e-01,  5.9484e-01,  ..., -1.2182e+00,\n",
                        "          2.5090e+00,  1.6609e+00],\n",
                        "        [-3.5314e-03, -1.3972e-01,  4.2545e-01,  ..., -3.1190e-01,\n",
                        "         -4.4607e-01,  6.1976e-01]], device='cuda:0', grad_fn=<AddmmBackward0>)\n",
                        "08/11/2022 10:35:12 - INFO - bert_for_sentence:40 -  labels.shape is torch.Size([24])\n",
                        "08/11/2022 10:35:12 - INFO - bert_for_sentence:41 -  labels is tensor([138,   0, 143,   2,   7,  87,  35, 130,   6, 134, 136,  31,   6, 139,\n",
                        "        137, 131, 130,  31, 131, 132, 142,  80, 133,  80], device='cuda:0')\n"
                    ]
                },
                {
                    "name": "stdout",
                    "output_type": "stream",
                    "text": [
                        "\r",
                        "[Training] 150/3702 [>.............................] - ETA: 15:50  loss: 2.6642 "
                    ]
                },
                {
                    "name": "stderr",
                    "output_type": "stream",
                    "text": [
                        "08/11/2022 10:35:13 - INFO - bert_for_sentence:38 -  logits.shape is torch.Size([24, 144])\n",
                        "08/11/2022 10:35:13 - INFO - bert_for_sentence:39 -  logits is tensor([[ 2.9299,  0.6999,  3.0944,  ..., -0.3449,  0.3811,  0.5930],\n",
                        "        [-0.4675,  0.2893, -0.5885,  ..., -0.7815,  1.5789,  2.6315],\n",
                        "        [ 1.2099,  0.4533,  1.4424,  ..., -0.7165,  1.7246,  1.6561],\n",
                        "        ...,\n",
                        "        [ 0.1106,  0.3187,  0.6667,  ..., -1.5479,  2.6834,  1.3983],\n",
                        "        [-0.3614,  0.3679, -0.1843,  ..., -0.7994,  1.2448,  3.4791],\n",
                        "        [-0.5938,  0.5130, -0.4800,  ..., -1.0610,  1.3401,  2.3566]],\n",
                        "       device='cuda:0', grad_fn=<AddmmBackward0>)\n",
                        "08/11/2022 10:35:13 - INFO - bert_for_sentence:40 -  labels.shape is torch.Size([24])\n",
                        "08/11/2022 10:35:13 - INFO - bert_for_sentence:41 -  labels is tensor([  2, 135, 143, 142, 140,   6,   3, 132, 135, 131,   2, 133, 131,   8,\n",
                        "        133, 137, 135, 127, 137,   2, 131, 133, 143, 131], device='cuda:0')\n"
                    ]
                },
                {
                    "name": "stdout",
                    "output_type": "stream",
                    "text": [
                        "\r",
                        "[Training] 151/3702 [>.............................] - ETA: 15:50  loss: 2.6256 "
                    ]
                },
                {
                    "name": "stderr",
                    "output_type": "stream",
                    "text": [
                        "08/11/2022 10:35:13 - INFO - bert_for_sentence:38 -  logits.shape is torch.Size([24, 144])\n",
                        "08/11/2022 10:35:13 - INFO - bert_for_sentence:39 -  logits is tensor([[ 0.3074,  1.7170,  1.1067,  ..., -1.3430,  0.9777,  1.1967],\n",
                        "        [-0.3994,  0.4749, -0.4176,  ..., -1.1687,  2.2612,  2.4475],\n",
                        "        [-0.1650,  0.0196,  0.1177,  ..., -0.3357,  0.0508,  0.6107],\n",
                        "        ...,\n",
                        "        [-0.2988,  0.3054,  0.2383,  ..., -1.2672,  2.3374,  1.7912],\n",
                        "        [ 2.1230,  1.1456,  2.7902,  ..., -0.1153, -0.0189,  0.5673],\n",
                        "        [-0.6287,  0.2457, -0.3665,  ..., -1.0893,  1.9025,  1.9686]],\n",
                        "       device='cuda:0', grad_fn=<AddmmBackward0>)\n",
                        "08/11/2022 10:35:13 - INFO - bert_for_sentence:40 -  labels.shape is torch.Size([24])\n",
                        "08/11/2022 10:35:13 - INFO - bert_for_sentence:41 -  labels is tensor([  3, 136,  80,   2,   3, 131, 137, 135, 137, 135,   7, 137, 140, 140,\n",
                        "        133, 136, 135, 142, 138,  59,   7, 140,   3, 136], device='cuda:0')\n"
                    ]
                },
                {
                    "name": "stdout",
                    "output_type": "stream",
                    "text": [
                        "\r",
                        "[Training] 152/3702 [>.............................] - ETA: 15:49  loss: 2.2188 "
                    ]
                },
                {
                    "name": "stderr",
                    "output_type": "stream",
                    "text": [
                        "08/11/2022 10:35:13 - INFO - bert_for_sentence:38 -  logits.shape is torch.Size([24, 144])\n",
                        "08/11/2022 10:35:13 - INFO - bert_for_sentence:39 -  logits is tensor([[ 3.0140,  0.9207,  3.2526,  ..., -0.4476,  0.2529,  0.5989],\n",
                        "        [ 2.8049,  0.6179,  3.2766,  ..., -0.8280,  0.1757,  0.5637],\n",
                        "        [-0.3355,  0.1999, -0.6999,  ..., -1.1782,  2.7370,  1.7145],\n",
                        "        ...,\n",
                        "        [ 3.1722,  0.5030,  3.2232,  ..., -0.4118, -0.1971,  0.1078],\n",
                        "        [ 0.0873,  0.2713,  0.0917,  ..., -1.0484,  2.3177,  1.5302],\n",
                        "        [ 2.3950,  0.8692,  2.4359,  ..., -0.4522,  0.8850,  1.0616]],\n",
                        "       device='cuda:0', grad_fn=<AddmmBackward0>)\n",
                        "08/11/2022 10:35:13 - INFO - bert_for_sentence:40 -  labels.shape is torch.Size([24])\n",
                        "08/11/2022 10:35:13 - INFO - bert_for_sentence:41 -  labels is tensor([  7,   7, 139, 142, 131, 135, 136,  28,   8, 133, 133, 135,   3, 135,\n",
                        "        129,   8,   0, 135, 129, 139, 136,   6, 142, 139], device='cuda:0')\n",
                        "08/11/2022 10:35:13 - INFO - bert_for_sentence:38 -  logits.shape is torch.Size([24, 144])\n"
                    ]
                },
                {
                    "name": "stdout",
                    "output_type": "stream",
                    "text": [
                        "\r",
                        "[Training] 153/3702 [>.............................] - ETA: 15:49  loss: 2.4983 \r",
                        "[Training] 154/3702 [>.............................] - ETA: 15:45  loss: 2.7763 "
                    ]
                },
                {
                    "name": "stderr",
                    "output_type": "stream",
                    "text": [
                        "08/11/2022 10:35:13 - INFO - bert_for_sentence:39 -  logits is tensor([[ 0.2863,  0.0523,  0.6027,  ..., -0.8356,  1.3689,  1.0786],\n",
                        "        [-0.5403,  0.1500, -0.6761,  ..., -1.1094,  2.5116,  1.7762],\n",
                        "        [-0.3239,  0.0933, -0.5097,  ..., -0.8403,  1.7072,  1.4292],\n",
                        "        ...,\n",
                        "        [-0.9308, -0.0721, -0.0311,  ..., -1.0051,  1.7601,  3.2101],\n",
                        "        [-0.4660,  0.5614, -0.5750,  ..., -0.9372,  1.6614,  2.7318],\n",
                        "        [-0.1088,  0.4344, -0.1009,  ..., -0.9636,  1.0016,  2.3248]],\n",
                        "       device='cuda:0', grad_fn=<AddmmBackward0>)\n",
                        "08/11/2022 10:35:13 - INFO - bert_for_sentence:40 -  labels.shape is torch.Size([24])\n",
                        "08/11/2022 10:35:13 - INFO - bert_for_sentence:41 -  labels is tensor([143, 133,  46,   4,   6, 138, 138,  27, 143, 143,   6, 138,  71, 142,\n",
                        "        140, 140, 139, 133,   8, 137,   1, 140, 140, 130], device='cuda:0')\n",
                        "08/11/2022 10:35:14 - INFO - bert_for_sentence:38 -  logits.shape is torch.Size([24, 144])\n",
                        "08/11/2022 10:35:14 - INFO - bert_for_sentence:39 -  logits is tensor([[-0.5884,  0.3112, -0.3109,  ..., -0.5752,  1.5315,  2.0762],\n",
                        "        [-0.5736,  0.0476, -0.1866,  ..., -0.8602,  1.6236,  3.3021],\n",
                        "        [-0.1366, -0.1315,  0.3193,  ..., -0.3689, -0.0744,  0.6408],\n",
                        "        ...,\n",
                        "        [-0.4621, -0.3931, -0.2332,  ..., -1.3897,  2.7425,  1.9733],\n",
                        "        [-0.4547,  0.0636, -0.4022,  ..., -1.5346,  2.5653,  1.8729],\n",
                        "        [ 0.6237,  2.0760,  1.3377,  ..., -0.6809,  0.6353,  1.1336]],\n",
                        "       device='cuda:0', grad_fn=<AddmmBackward0>)\n",
                        "08/11/2022 10:35:14 - INFO - bert_for_sentence:40 -  labels.shape is torch.Size([24])\n",
                        "08/11/2022 10:35:14 - INFO - bert_for_sentence:41 -  labels is tensor([140, 143,  22, 143, 133, 137, 143, 131, 129,   4, 133, 135, 138, 104,\n",
                        "          4, 140,  64,  22, 133,   1, 139, 132, 137,   5], device='cuda:0')\n"
                    ]
                },
                {
                    "name": "stdout",
                    "output_type": "stream",
                    "text": [
                        "\r",
                        "[Training] 155/3702 [>.............................] - ETA: 15:45  loss: 2.8073 "
                    ]
                },
                {
                    "name": "stderr",
                    "output_type": "stream",
                    "text": [
                        "08/11/2022 10:35:14 - INFO - bert_for_sentence:38 -  logits.shape is torch.Size([24, 144])\n",
                        "08/11/2022 10:35:14 - INFO - bert_for_sentence:39 -  logits is tensor([[ 3.1241,  0.7081,  3.3217,  ..., -0.6067, -0.1030,  0.5110],\n",
                        "        [ 0.2215,  0.0519, -0.0142,  ..., -1.0892,  2.5888,  1.9972],\n",
                        "        [-0.3481, -0.0717, -0.2439,  ..., -0.6527,  1.2246,  2.5813],\n",
                        "        ...,\n",
                        "        [ 2.4366,  1.1665,  3.0302,  ..., -0.5532,  0.1672,  0.8622],\n",
                        "        [-0.0312, -0.0111, -0.2433,  ..., -1.0501,  2.6137,  1.8450],\n",
                        "        [-0.2558,  0.3525, -0.0534,  ..., -1.0373,  1.4973,  1.1127]],\n",
                        "       device='cuda:0', grad_fn=<AddmmBackward0>)\n",
                        "08/11/2022 10:35:14 - INFO - bert_for_sentence:40 -  labels.shape is torch.Size([24])\n",
                        "08/11/2022 10:35:14 - INFO - bert_for_sentence:41 -  labels is tensor([  6, 139, 131, 135,   0, 140, 131, 140, 142,   3, 136, 138, 131,  14,\n",
                        "          7,   6,   5, 143, 138,   6, 131,   7, 136, 143], device='cuda:0')\n"
                    ]
                },
                {
                    "name": "stdout",
                    "output_type": "stream",
                    "text": [
                        "\r",
                        "[Training] 156/3702 [>.............................] - ETA: 15:45  loss: 2.8304 \r",
                        "[Training] 157/3702 [>.............................] - ETA: 15:43  loss: 2.3892 "
                    ]
                },
                {
                    "name": "stderr",
                    "output_type": "stream",
                    "text": [
                        "08/11/2022 10:35:14 - INFO - bert_for_sentence:38 -  logits.shape is torch.Size([24, 144])\n",
                        "08/11/2022 10:35:14 - INFO - bert_for_sentence:39 -  logits is tensor([[-0.2620,  0.3640, -0.6169,  ..., -1.4419,  2.5842,  2.1316],\n",
                        "        [-0.3185,  0.4292,  0.3649,  ..., -1.1639,  1.8286,  1.6489],\n",
                        "        [-0.0952,  0.1774,  0.0349,  ..., -0.4674,  1.1491,  2.1909],\n",
                        "        ...,\n",
                        "        [ 0.0223,  0.6602,  0.0345,  ..., -0.7651,  1.2819,  3.3827],\n",
                        "        [-0.2119,  0.1869, -0.2596,  ..., -0.4453,  0.7934,  0.4851],\n",
                        "        [-0.9403,  0.5792, -0.2079,  ..., -0.6914,  1.2212,  2.7854]],\n",
                        "       device='cuda:0', grad_fn=<AddmmBackward0>)\n",
                        "08/11/2022 10:35:14 - INFO - bert_for_sentence:40 -  labels.shape is torch.Size([24])\n",
                        "08/11/2022 10:35:14 - INFO - bert_for_sentence:41 -  labels is tensor([139, 141, 138, 106, 139,  30,   5, 138, 138,  82, 130, 136,   4, 134,\n",
                        "        130, 133,  63, 138, 135, 130, 142, 131,  90, 138], device='cuda:0')\n",
                        "08/11/2022 10:35:14 - INFO - bert_for_sentence:38 -  logits.shape is torch.Size([24, 144])\n",
                        "08/11/2022 10:35:14 - INFO - bert_for_sentence:39 -  logits is tensor([[ 0.0202,  0.4247, -0.1177,  ..., -0.3800, -0.4607,  0.6521],\n",
                        "        [-0.2664,  0.2705,  0.0290,  ..., -1.6910,  2.0978,  2.4694],\n",
                        "        [-0.2156,  0.2692,  0.3418,  ..., -1.1078,  1.9156,  1.4736],\n",
                        "        ...,\n",
                        "        [-0.0511, -0.0550,  0.3273,  ..., -0.2152, -0.4098,  0.4773],\n",
                        "        [-0.3973,  0.7478, -0.3694,  ..., -1.1732,  2.0748,  2.5816],\n",
                        "        [-0.0697,  0.4328,  0.4223,  ..., -0.4271,  0.7804,  2.1135]],\n",
                        "       device='cuda:0', grad_fn=<AddmmBackward0>)\n",
                        "08/11/2022 10:35:14 - INFO - bert_for_sentence:40 -  labels.shape is torch.Size([24])\n",
                        "08/11/2022 10:35:14 - INFO - bert_for_sentence:41 -  labels is tensor([ 27, 139, 139,   8,   6,  34, 140, 133,   6,   6,  80, 136, 130, 143,\n",
                        "        143,   5,   4, 143, 136, 136, 128,  29, 136, 132], device='cuda:0')\n"
                    ]
                },
                {
                    "name": "stdout",
                    "output_type": "stream",
                    "text": [
                        "\r",
                        "[Training] 158/3702 [>.............................] - ETA: 15:43  loss: 3.0734 "
                    ]
                },
                {
                    "name": "stderr",
                    "output_type": "stream",
                    "text": [
                        "08/11/2022 10:35:15 - INFO - bert_for_sentence:38 -  logits.shape is torch.Size([24, 144])\n",
                        "08/11/2022 10:35:15 - INFO - bert_for_sentence:39 -  logits is tensor([[ 2.7611,  0.5843,  2.0056,  ..., -0.3943,  1.0107,  0.7703],\n",
                        "        [ 2.7422,  0.5722,  3.4076,  ..., -1.1095, -0.0084,  0.5339],\n",
                        "        [-0.4801,  0.3239, -0.4467,  ..., -0.8733,  1.2217,  2.5610],\n",
                        "        ...,\n",
                        "        [-0.3393,  0.6127,  0.5101,  ..., -1.2575,  1.6326,  1.8676],\n",
                        "        [-0.2291,  0.5468,  0.3339,  ..., -0.9924,  2.0365,  1.7711],\n",
                        "        [ 0.2403,  0.1833,  0.3362,  ..., -0.1176, -0.3778,  0.3346]],\n",
                        "       device='cuda:0', grad_fn=<AddmmBackward0>)\n",
                        "08/11/2022 10:35:15 - INFO - bert_for_sentence:40 -  labels.shape is torch.Size([24])\n",
                        "08/11/2022 10:35:15 - INFO - bert_for_sentence:41 -  labels is tensor([  8,   4, 140, 142,   8, 132, 137,  45,   8, 136, 137, 142, 131, 140,\n",
                        "        138, 137, 142,   7,   2,   6, 143, 137, 133,  30], device='cuda:0')\n"
                    ]
                },
                {
                    "name": "stdout",
                    "output_type": "stream",
                    "text": [
                        "\r",
                        "[Training] 159/3702 [>.............................] - ETA: 15:43  loss: 2.8818 "
                    ]
                },
                {
                    "name": "stderr",
                    "output_type": "stream",
                    "text": [
                        "08/11/2022 10:35:15 - INFO - bert_for_sentence:38 -  logits.shape is torch.Size([24, 144])\n",
                        "08/11/2022 10:35:15 - INFO - bert_for_sentence:39 -  logits is tensor([[ 3.0116e+00,  4.8036e-01,  3.1717e+00,  ..., -3.2281e-01,\n",
                        "          3.2154e-01,  5.0127e-01],\n",
                        "        [ 2.6057e-03,  5.4726e-01, -5.1738e-01,  ..., -1.2871e+00,\n",
                        "          2.5423e+00,  2.3945e+00],\n",
                        "        [-7.6695e-01,  1.7804e-01, -4.3755e-01,  ..., -1.1921e+00,\n",
                        "          3.0057e+00,  1.7360e+00],\n",
                        "        ...,\n",
                        "        [-3.2240e-01,  3.7492e-01, -1.3381e-01,  ..., -1.3698e+00,\n",
                        "          1.0846e+00,  3.5805e+00],\n",
                        "        [-6.4626e-01,  1.2108e+00,  1.7329e-01,  ..., -5.1749e-01,\n",
                        "          1.0852e+00,  1.9939e+00],\n",
                        "        [-4.2056e-01, -3.8362e-01,  1.5911e-02,  ..., -1.3175e-01,\n",
                        "          2.0060e-01,  5.1818e-02]], device='cuda:0', grad_fn=<AddmmBackward0>)\n",
                        "08/11/2022 10:35:15 - INFO - bert_for_sentence:40 -  labels.shape is torch.Size([24])\n",
                        "08/11/2022 10:35:15 - INFO - bert_for_sentence:41 -  labels is tensor([  8, 139, 134, 132, 143,   7, 136,   3, 143, 131, 130,   3, 130, 130,\n",
                        "          9, 142,   1,  80, 130, 133,   9,  28, 140, 106], device='cuda:0')\n"
                    ]
                },
                {
                    "name": "stdout",
                    "output_type": "stream",
                    "text": [
                        "\r",
                        "[Training] 160/3702 [>.............................] - ETA: 15:43  loss: 2.5282 "
                    ]
                },
                {
                    "name": "stderr",
                    "output_type": "stream",
                    "text": [
                        "08/11/2022 10:35:15 - INFO - bert_for_sentence:38 -  logits.shape is torch.Size([24, 144])\n",
                        "08/11/2022 10:35:15 - INFO - bert_for_sentence:39 -  logits is tensor([[-0.2275,  0.8795, -0.1926,  ..., -1.1212,  0.7125,  3.2189],\n",
                        "        [-0.1736,  0.4699,  1.1722,  ..., -0.9381,  1.7060,  1.2782],\n",
                        "        [-0.4256,  0.6153, -0.2227,  ..., -0.9231,  1.6194,  2.8408],\n",
                        "        ...,\n",
                        "        [ 2.8091,  0.8633,  3.1048,  ..., -0.8725,  0.0142,  0.6011],\n",
                        "        [-0.7642,  0.0660, -0.0312,  ..., -1.0501,  1.2712,  2.5292],\n",
                        "        [ 2.7321,  0.5325,  2.6022,  ..., -0.6079,  0.5134,  0.9492]],\n",
                        "       device='cuda:0', grad_fn=<AddmmBackward0>)\n",
                        "08/11/2022 10:35:15 - INFO - bert_for_sentence:40 -  labels.shape is torch.Size([24])\n",
                        "08/11/2022 10:35:15 - INFO - bert_for_sentence:41 -  labels is tensor([143, 133, 131, 138, 131, 124, 137, 130,   3, 130, 139,   6,   3,   8,\n",
                        "        137, 132, 130, 132, 133,   6, 137,   9, 132,   6], device='cuda:0')\n"
                    ]
                },
                {
                    "name": "stdout",
                    "output_type": "stream",
                    "text": [
                        "\r",
                        "[Training] 161/3702 [>.............................] - ETA: 15:42  loss: 2.5301 \r",
                        "[Training] 162/3702 [>.............................] - ETA: 15:40  loss: 2.1509 "
                    ]
                },
                {
                    "name": "stderr",
                    "output_type": "stream",
                    "text": [
                        "08/11/2022 10:35:15 - INFO - bert_for_sentence:38 -  logits.shape is torch.Size([24, 144])\n",
                        "08/11/2022 10:35:15 - INFO - bert_for_sentence:39 -  logits is tensor([[-0.3363,  0.8891,  0.4464,  ..., -0.9045,  1.8023,  1.4425],\n",
                        "        [-0.5107,  0.5159,  0.0929,  ..., -0.9617,  1.7451,  1.8857],\n",
                        "        [-1.0275,  0.1953, -0.4662,  ..., -0.9484,  1.8668,  2.5465],\n",
                        "        ...,\n",
                        "        [ 3.1135,  0.5506,  2.9970,  ..., -0.1351, -0.3008,  0.4535],\n",
                        "        [ 0.5645, -0.1586,  0.0357,  ..., -0.0342, -0.4360, -0.3274],\n",
                        "        [-0.2101, -0.0518,  0.0990,  ..., -0.5057,  1.3712,  1.1492]],\n",
                        "       device='cuda:0', grad_fn=<AddmmBackward0>)\n",
                        "08/11/2022 10:35:15 - INFO - bert_for_sentence:40 -  labels.shape is torch.Size([24])\n",
                        "08/11/2022 10:35:15 - INFO - bert_for_sentence:41 -  labels is tensor([137, 134, 138,   6, 133,   7,   5,   6, 143,  27,   6, 133, 136, 140,\n",
                        "        140, 133,   0, 140, 135,   3, 139,   0, 105,  54], device='cuda:0')\n",
                        "08/11/2022 10:35:16 - INFO - bert_for_sentence:38 -  logits.shape is torch.Size([24, 144])\n",
                        "08/11/2022 10:35:16 - INFO - bert_for_sentence:39 -  logits is tensor([[-0.3709,  0.3062,  0.4718,  ..., -1.1680,  1.6428,  1.9988],\n",
                        "        [ 3.3215,  0.7161,  2.9563,  ..., -0.2637, -0.2129,  0.2647],\n",
                        "        [ 2.4977,  0.6597,  2.7492,  ..., -0.6617,  0.3450,  1.1967],\n",
                        "        ...,\n",
                        "        [-0.2681, -0.2938,  0.0972,  ..., -0.3805,  0.5089,  0.4439],\n",
                        "        [-0.1901,  0.2508,  0.1527,  ..., -0.8164,  1.7221,  2.5427],\n",
                        "        [ 0.6146,  0.0286,  0.5524,  ...,  0.3506, -0.0840,  0.2674]],\n",
                        "       device='cuda:0', grad_fn=<AddmmBackward0>)\n",
                        "08/11/2022 10:35:16 - INFO - bert_for_sentence:40 -  labels.shape is torch.Size([24])\n",
                        "08/11/2022 10:35:16 - INFO - bert_for_sentence:41 -  labels is tensor([137,   6,   0,  21, 143, 131,   2, 132, 139,   0, 133,   3, 135, 140,\n",
                        "        137, 131,   7, 105, 104,  63, 133,  85, 140,  27], device='cuda:0')\n"
                    ]
                },
                {
                    "name": "stdout",
                    "output_type": "stream",
                    "text": [
                        "\r",
                        "[Training] 163/3702 [>.............................] - ETA: 15:40  loss: 2.5968 "
                    ]
                },
                {
                    "name": "stderr",
                    "output_type": "stream",
                    "text": [
                        "08/11/2022 10:35:16 - INFO - bert_for_sentence:38 -  logits.shape is torch.Size([24, 144])\n",
                        "08/11/2022 10:35:16 - INFO - bert_for_sentence:39 -  logits is tensor([[ 0.3833,  0.2387,  0.1378,  ..., -0.3192,  1.0293,  2.0425],\n",
                        "        [ 0.3734,  0.4379,  0.0553,  ..., -0.8175,  1.5970,  2.8205],\n",
                        "        [-0.1788,  0.0186,  0.1447,  ..., -1.3506,  2.7511,  1.6160],\n",
                        "        ...,\n",
                        "        [-0.6867, -0.0950, -0.7100,  ..., -1.2886,  2.8950,  2.2396],\n",
                        "        [-0.9502, -0.2394, -0.2952,  ..., -0.2450,  0.6945,  0.6680],\n",
                        "        [-0.3379,  0.1767,  0.0855,  ..., -1.2942,  2.8628,  1.9099]],\n",
                        "       device='cuda:0', grad_fn=<AddmmBackward0>)\n",
                        "08/11/2022 10:35:16 - INFO - bert_for_sentence:40 -  labels.shape is torch.Size([24])\n",
                        "08/11/2022 10:35:16 - INFO - bert_for_sentence:41 -  labels is tensor([140, 131, 142,   6, 140, 130, 101,  39, 138, 140, 129, 130, 133,  80,\n",
                        "        143, 130, 134, 130, 137, 142, 140, 139,  80, 139], device='cuda:0')\n"
                    ]
                },
                {
                    "name": "stdout",
                    "output_type": "stream",
                    "text": [
                        "\r",
                        "[Training] 164/3702 [>.............................] - ETA: 15:40  loss: 2.6658 "
                    ]
                },
                {
                    "name": "stderr",
                    "output_type": "stream",
                    "text": [
                        "08/11/2022 10:35:16 - INFO - bert_for_sentence:38 -  logits.shape is torch.Size([24, 144])\n",
                        "08/11/2022 10:35:16 - INFO - bert_for_sentence:39 -  logits is tensor([[ 0.0501,  0.3290, -0.2034,  ..., -1.0851,  2.3939,  2.1598],\n",
                        "        [-0.0855,  0.4040, -0.7018,  ..., -0.9872,  2.4486,  2.5517],\n",
                        "        [ 2.8722,  1.1008,  3.1598,  ..., -0.5031,  0.3095,  0.7502],\n",
                        "        ...,\n",
                        "        [-0.1273,  0.4324,  0.3834,  ..., -1.2240,  2.3273,  1.7565],\n",
                        "        [ 3.0094,  0.9935,  3.5113,  ..., -0.5901, -0.0107,  0.2184],\n",
                        "        [-0.0907, -0.1923,  0.1990,  ...,  0.2396, -0.5438,  0.0147]],\n",
                        "       device='cuda:0', grad_fn=<AddmmBackward0>)\n",
                        "08/11/2022 10:35:16 - INFO - bert_for_sentence:40 -  labels.shape is torch.Size([24])\n",
                        "08/11/2022 10:35:16 - INFO - bert_for_sentence:41 -  labels is tensor([130, 139,   7, 131,   2, 140, 130, 142,   7,   3,   4, 140, 131, 142,\n",
                        "        133, 142, 136, 136, 136, 137, 136, 142,   9,  94], device='cuda:0')\n"
                    ]
                },
                {
                    "name": "stdout",
                    "output_type": "stream",
                    "text": [
                        "\r",
                        "[Training] 165/3702 [>.............................] - ETA: 15:40  loss: 2.5993 "
                    ]
                },
                {
                    "name": "stderr",
                    "output_type": "stream",
                    "text": [
                        "08/11/2022 10:35:16 - INFO - bert_for_sentence:38 -  logits.shape is torch.Size([24, 144])\n",
                        "08/11/2022 10:35:16 - INFO - bert_for_sentence:39 -  logits is tensor([[ 3.0731,  0.7564,  2.6519,  ..., -0.2441,  0.3984,  0.3650],\n",
                        "        [-0.3356,  0.5181,  0.5109,  ..., -1.3791,  2.4926,  1.7418],\n",
                        "        [ 0.7989,  0.5717,  0.7616,  ..., -0.4604,  1.9473,  1.5996],\n",
                        "        ...,\n",
                        "        [-0.3993, -0.1473, -0.2749,  ..., -0.3576,  0.3509,  0.8836],\n",
                        "        [-0.1725,  0.7644,  0.0664,  ..., -1.0431,  1.7578,  2.4614],\n",
                        "        [ 0.2630,  0.1531,  0.0795,  ..., -0.9307,  1.5068,  1.9072]],\n",
                        "       device='cuda:0', grad_fn=<AddmmBackward0>)\n",
                        "08/11/2022 10:35:16 - INFO - bert_for_sentence:40 -  labels.shape is torch.Size([24])\n",
                        "08/11/2022 10:35:16 - INFO - bert_for_sentence:41 -  labels is tensor([  6, 133, 132,   2,   6, 139,   9,   0, 138,   9, 140, 137, 143, 133,\n",
                        "          8, 130,   8,   3, 131,  20, 143,  83, 140, 131], device='cuda:0')\n"
                    ]
                },
                {
                    "name": "stdout",
                    "output_type": "stream",
                    "text": [
                        "\r",
                        "[Training] 166/3702 [>.............................] - ETA: 15:40  loss: 2.5964 "
                    ]
                },
                {
                    "name": "stderr",
                    "output_type": "stream",
                    "text": [
                        "08/11/2022 10:35:17 - INFO - bert_for_sentence:38 -  logits.shape is torch.Size([24, 144])\n",
                        "08/11/2022 10:35:17 - INFO - bert_for_sentence:39 -  logits is tensor([[-0.5040, -0.1675,  0.3059,  ..., -0.1409, -0.3116, -0.1921],\n",
                        "        [ 3.0837,  0.2394,  2.2560,  ..., -0.7338,  0.7506,  0.4258],\n",
                        "        [ 0.3015,  0.2412,  0.3610,  ..., -1.2540,  2.1426,  1.7919],\n",
                        "        ...,\n",
                        "        [ 2.8763,  1.1098,  2.9842,  ..., -0.7251,  0.0055,  0.5480],\n",
                        "        [ 3.0942,  0.7125,  2.5897,  ..., -0.1925,  0.6322,  0.3272],\n",
                        "        [ 0.3171,  0.1652,  0.8322,  ..., -1.5130,  1.9401,  0.9178]],\n",
                        "       device='cuda:0', grad_fn=<AddmmBackward0>)\n",
                        "08/11/2022 10:35:17 - INFO - bert_for_sentence:40 -  labels.shape is torch.Size([24])\n",
                        "08/11/2022 10:35:17 - INFO - bert_for_sentence:41 -  labels is tensor([ 56,   9, 139, 133,   8, 140, 137, 112,  80,   4, 140,   7, 132, 140,\n",
                        "        136,  27,  56, 130,  81,   2,   8,   7,   7, 133], device='cuda:0')\n"
                    ]
                },
                {
                    "name": "stdout",
                    "output_type": "stream",
                    "text": [
                        "\r",
                        "[Training] 167/3702 [>.............................] - ETA: 15:40  loss: 2.3800 "
                    ]
                },
                {
                    "name": "stderr",
                    "output_type": "stream",
                    "text": [
                        "08/11/2022 10:35:17 - INFO - bert_for_sentence:38 -  logits.shape is torch.Size([24, 144])\n",
                        "08/11/2022 10:35:17 - INFO - bert_for_sentence:39 -  logits is tensor([[ 6.0526e-01,  5.6449e-01,  4.8046e-01,  ..., -1.4955e+00,\n",
                        "          2.2501e+00,  1.8702e+00],\n",
                        "        [ 9.6172e-01,  4.4369e-01,  6.2924e-01,  ..., -1.1851e+00,\n",
                        "          2.3349e+00,  1.7545e+00],\n",
                        "        [-5.3872e-01,  2.5471e-01, -7.7652e-01,  ..., -1.1232e+00,\n",
                        "          1.7141e+00,  3.6154e+00],\n",
                        "        ...,\n",
                        "        [ 1.9264e-01, -2.6242e-01,  1.2864e-01,  ...,  2.4818e-01,\n",
                        "          2.0627e-01,  1.6385e-01],\n",
                        "        [-2.6421e-01,  7.3289e-01, -1.4098e-01,  ..., -7.7879e-01,\n",
                        "          1.7983e+00,  2.2441e+00],\n",
                        "        [-4.8665e-01,  1.4062e-03, -2.5208e-01,  ..., -1.1129e+00,\n",
                        "          1.7054e+00,  2.6597e+00]], device='cuda:0', grad_fn=<AddmmBackward0>)\n",
                        "08/11/2022 10:35:17 - INFO - bert_for_sentence:40 -  labels.shape is torch.Size([24])\n",
                        "08/11/2022 10:35:17 - INFO - bert_for_sentence:41 -  labels is tensor([130, 132, 132,  80, 137, 132, 134, 137, 138, 137,   6, 137, 140, 134,\n",
                        "        131,  66, 132, 140,   1, 131, 143, 116, 132, 132], device='cuda:0')\n"
                    ]
                },
                {
                    "name": "stdout",
                    "output_type": "stream",
                    "text": [
                        "\r",
                        "[Training] 168/3702 [>.............................] - ETA: 15:39  loss: 2.8288 "
                    ]
                },
                {
                    "name": "stderr",
                    "output_type": "stream",
                    "text": [
                        "08/11/2022 10:35:17 - INFO - bert_for_sentence:38 -  logits.shape is torch.Size([24, 144])\n",
                        "08/11/2022 10:35:17 - INFO - bert_for_sentence:39 -  logits is tensor([[ 3.1611,  0.3795,  2.4679,  ..., -0.4794,  0.6974,  0.4838],\n",
                        "        [ 2.2635,  0.4906,  1.7715,  ..., -0.6170,  1.3290,  0.3303],\n",
                        "        [-0.7045,  0.0079, -0.7323,  ..., -0.8841,  3.0751,  1.9676],\n",
                        "        ...,\n",
                        "        [-0.2203, -0.0609, -0.3795,  ..., -0.0974,  0.1715, -0.3583],\n",
                        "        [ 3.2775,  0.5309,  3.1660,  ..., -0.5089,  0.2856,  0.4242],\n",
                        "        [ 3.0672,  0.9786,  2.9015,  ..., -0.5333,  0.5308,  0.4138]],\n",
                        "       device='cuda:0', grad_fn=<AddmmBackward0>)\n",
                        "08/11/2022 10:35:17 - INFO - bert_for_sentence:40 -  labels.shape is torch.Size([24])\n",
                        "08/11/2022 10:35:17 - INFO - bert_for_sentence:41 -  labels is tensor([  6,   8, 133,  84, 133, 139, 140, 139, 131, 134, 140, 116, 121,   2,\n",
                        "        134, 137,   3,  46, 133,   2, 143, 105,   2,   2], device='cuda:0')\n"
                    ]
                },
                {
                    "name": "stdout",
                    "output_type": "stream",
                    "text": [
                        "\r",
                        "[Training] 169/3702 [>.............................] - ETA: 15:39  loss: 2.5314 "
                    ]
                },
                {
                    "name": "stderr",
                    "output_type": "stream",
                    "text": [
                        "08/11/2022 10:35:17 - INFO - bert_for_sentence:38 -  logits.shape is torch.Size([24, 144])\n",
                        "08/11/2022 10:35:18 - INFO - bert_for_sentence:39 -  logits is tensor([[ 2.2331,  0.9264,  2.4460,  ..., -0.5085,  0.9941,  1.2848],\n",
                        "        [-0.6611,  0.0793, -0.5429,  ..., -1.1202,  3.1366,  1.7990],\n",
                        "        [ 3.2430,  1.1088,  3.0259,  ..., -0.2004, -0.0316,  0.4707],\n",
                        "        ...,\n",
                        "        [-0.4411,  0.4205, -0.3686,  ..., -1.1111,  2.3866,  2.7578],\n",
                        "        [ 2.9015,  0.7338,  2.9766,  ..., -0.5556,  0.5687,  0.3040],\n",
                        "        [-0.3792, -0.0577, -0.4570,  ..., -0.2436,  0.2000,  0.2777]],\n",
                        "       device='cuda:0', grad_fn=<AddmmBackward0>)\n",
                        "08/11/2022 10:35:18 - INFO - bert_for_sentence:40 -  labels.shape is torch.Size([24])\n",
                        "08/11/2022 10:35:18 - INFO - bert_for_sentence:41 -  labels is tensor([  8, 135,   6, 140,   8, 135, 139,   6, 139, 133, 135, 138,   5, 133,\n",
                        "        130,   0,  80, 140, 139, 135, 131, 130,   2, 100], device='cuda:0')\n"
                    ]
                },
                {
                    "name": "stdout",
                    "output_type": "stream",
                    "text": [
                        "\r",
                        "[Training] 170/3702 [>.............................] - ETA: 15:39  loss: 2.6876 "
                    ]
                },
                {
                    "name": "stderr",
                    "output_type": "stream",
                    "text": [
                        "08/11/2022 10:35:18 - INFO - bert_for_sentence:38 -  logits.shape is torch.Size([24, 144])\n",
                        "08/11/2022 10:35:18 - INFO - bert_for_sentence:39 -  logits is tensor([[ 2.9878,  0.3816,  3.4526,  ..., -0.7092, -0.1130,  0.1408],\n",
                        "        [ 3.3323,  0.5661,  3.0014,  ..., -0.2120,  0.5373,  0.2860],\n",
                        "        [-0.6611, -0.0951, -0.6381,  ..., -1.2857,  3.3279,  1.8749],\n",
                        "        ...,\n",
                        "        [-0.5505,  0.3701,  0.0582,  ..., -0.8484,  2.6817,  1.6080],\n",
                        "        [-0.5945,  0.0671, -0.4848,  ..., -0.6523,  0.4164,  1.5383],\n",
                        "        [-0.6474, -0.2289, -0.0637,  ..., -1.5697,  2.3680,  1.3020]],\n",
                        "       device='cuda:0', grad_fn=<AddmmBackward0>)\n",
                        "08/11/2022 10:35:18 - INFO - bert_for_sentence:40 -  labels.shape is torch.Size([24])\n",
                        "08/11/2022 10:35:18 - INFO - bert_for_sentence:41 -  labels is tensor([  2,   6, 142, 140,  34, 135,   7,   6, 132,   6,   8, 140,  58,  27,\n",
                        "        138, 137,   9, 129,  27,   6, 108, 137,  27, 137], device='cuda:0')\n"
                    ]
                },
                {
                    "name": "stdout",
                    "output_type": "stream",
                    "text": [
                        "\r",
                        "[Training] 171/3702 [>.............................] - ETA: 15:39  loss: 2.4715 "
                    ]
                },
                {
                    "name": "stderr",
                    "output_type": "stream",
                    "text": [
                        "08/11/2022 10:35:18 - INFO - bert_for_sentence:38 -  logits.shape is torch.Size([24, 144])\n",
                        "08/11/2022 10:35:18 - INFO - bert_for_sentence:39 -  logits is tensor([[-0.7321, -0.0557, -0.1253,  ..., -0.5108, -0.1085,  0.6638],\n",
                        "        [-0.5965,  0.7652, -0.5303,  ..., -1.0971,  2.2659,  2.0959],\n",
                        "        [ 3.0488,  0.6765,  3.1279,  ..., -0.8786, -0.0151,  0.1912],\n",
                        "        ...,\n",
                        "        [-0.3601, -0.0433, -0.1963,  ..., -0.9881,  2.9090,  2.0438],\n",
                        "        [ 0.1159,  0.3135,  1.2689,  ..., -1.2287,  2.2973,  1.0747],\n",
                        "        [-0.2951,  0.6901, -0.1297,  ..., -0.8877,  1.6196,  1.9043]],\n",
                        "       device='cuda:0', grad_fn=<AddmmBackward0>)\n",
                        "08/11/2022 10:35:18 - INFO - bert_for_sentence:40 -  labels.shape is torch.Size([24])\n",
                        "08/11/2022 10:35:18 - INFO - bert_for_sentence:41 -  labels is tensor([ 80, 135,   6,   8, 138, 143, 137, 132, 131,   4, 138,   2, 138,   2,\n",
                        "        133, 134,  44, 131,   4, 133, 133, 139, 135, 140], device='cuda:0')\n"
                    ]
                },
                {
                    "name": "stdout",
                    "output_type": "stream",
                    "text": [
                        "\r",
                        "[Training] 172/3702 [>.............................] - ETA: 15:39  loss: 2.6194 "
                    ]
                },
                {
                    "name": "stderr",
                    "output_type": "stream",
                    "text": [
                        "08/11/2022 10:35:18 - INFO - bert_for_sentence:38 -  logits.shape is torch.Size([24, 144])\n",
                        "08/11/2022 10:35:18 - INFO - bert_for_sentence:39 -  logits is tensor([[-0.4820,  0.5698, -0.3367,  ..., -0.9293,  1.5100,  1.7531],\n",
                        "        [-0.5271,  0.3355, -0.4044,  ..., -1.4569,  3.1815,  1.7957],\n",
                        "        [-0.6699, -0.0694, -0.3043,  ..., -0.5079,  0.3918,  0.1366],\n",
                        "        ...,\n",
                        "        [-0.6311,  0.5852,  0.0831,  ..., -0.7317,  1.2390,  2.1299],\n",
                        "        [-0.9533, -0.2150, -0.6457,  ..., -0.0776,  0.2655, -0.0318],\n",
                        "        [ 2.8521,  0.6901,  3.4039,  ..., -0.3491,  0.2300,  0.3228]],\n",
                        "       device='cuda:0', grad_fn=<AddmmBackward0>)\n",
                        "08/11/2022 10:35:18 - INFO - bert_for_sentence:40 -  labels.shape is torch.Size([24])\n",
                        "08/11/2022 10:35:18 - INFO - bert_for_sentence:41 -  labels is tensor([138, 137,  30, 138, 130, 137,   9, 140, 135, 135,  81, 142,  27,   9,\n",
                        "          7,   7,   7, 134, 139, 135,   0, 138,  57,   6], device='cuda:0')\n"
                    ]
                },
                {
                    "name": "stdout",
                    "output_type": "stream",
                    "text": [
                        "\r",
                        "[Training] 173/3702 [>.............................] - ETA: 15:39  loss: 2.2711 "
                    ]
                },
                {
                    "name": "stderr",
                    "output_type": "stream",
                    "text": [
                        "08/11/2022 10:35:19 - INFO - bert_for_sentence:38 -  logits.shape is torch.Size([24, 144])\n",
                        "08/11/2022 10:35:19 - INFO - bert_for_sentence:39 -  logits is tensor([[ 3.2063,  0.6321,  3.7940,  ..., -0.5210,  0.1168,  0.6310],\n",
                        "        [-0.3774,  0.4547, -0.6733,  ..., -0.9080,  1.9468,  1.7897],\n",
                        "        [ 2.7786,  0.4678,  3.5523,  ..., -1.0836,  0.1746,  0.4888],\n",
                        "        ...,\n",
                        "        [-0.5001,  0.3414, -0.2963,  ..., -0.9720,  1.6141,  2.6242],\n",
                        "        [-0.1467,  0.4386,  0.8717,  ..., -1.0015,  1.8733,  1.6285],\n",
                        "        [-0.0526,  0.3454,  0.8018,  ..., -1.1937,  1.8886,  1.3771]],\n",
                        "       device='cuda:0', grad_fn=<AddmmBackward0>)\n",
                        "08/11/2022 10:35:19 - INFO - bert_for_sentence:40 -  labels.shape is torch.Size([24])\n",
                        "08/11/2022 10:35:19 - INFO - bert_for_sentence:41 -  labels is tensor([  7, 130,   0,   9, 137, 129, 138, 136,   0, 133, 137, 138,   0, 132,\n",
                        "          3, 134,   1,   3,  30,   1,   3, 143, 137, 133], device='cuda:0')\n"
                    ]
                },
                {
                    "name": "stdout",
                    "output_type": "stream",
                    "text": [
                        "\r",
                        "[Training] 174/3702 [>.............................] - ETA: 15:39  loss: 2.5023 \r",
                        "[Training] 175/3702 [>.............................] - ETA: 15:37  loss: 2.4323 "
                    ]
                },
                {
                    "name": "stderr",
                    "output_type": "stream",
                    "text": [
                        "08/11/2022 10:35:19 - INFO - bert_for_sentence:38 -  logits.shape is torch.Size([24, 144])\n",
                        "08/11/2022 10:35:19 - INFO - bert_for_sentence:39 -  logits is tensor([[-0.1480,  0.5191,  0.2554,  ..., -0.7380,  1.4928,  1.7831],\n",
                        "        [-0.1633,  0.4875, -0.0155,  ..., -0.8153,  2.0446,  2.2766],\n",
                        "        [-0.3212,  0.2068,  0.1773,  ..., -0.4876,  1.1213,  2.2957],\n",
                        "        ...,\n",
                        "        [-0.4906, -0.1397, -0.4967,  ..., -1.0181,  2.5881,  1.7656],\n",
                        "        [-0.0616,  0.3799,  0.1517,  ..., -0.9516,  2.9575,  1.8427],\n",
                        "        [-0.1086,  0.3801,  0.1175,  ..., -0.3127,  0.6542,  2.4088]],\n",
                        "       device='cuda:0', grad_fn=<AddmmBackward0>)\n",
                        "08/11/2022 10:35:19 - INFO - bert_for_sentence:40 -  labels.shape is torch.Size([24])\n",
                        "08/11/2022 10:35:19 - INFO - bert_for_sentence:41 -  labels is tensor([138, 135, 131,   7, 133, 132, 130, 132, 130,  80,   4, 133, 132,   3,\n",
                        "          8, 140,   8, 139, 137,   0, 136, 140, 142, 131], device='cuda:0')\n",
                        "08/11/2022 10:35:19 - INFO - bert_for_sentence:38 -  logits.shape is torch.Size([24, 144])\n",
                        "08/11/2022 10:35:19 - INFO - bert_for_sentence:39 -  logits is tensor([[ 2.5208,  0.5302,  3.1874,  ..., -0.7507,  0.0130,  0.3327],\n",
                        "        [ 3.2011,  0.5424,  3.3659,  ..., -0.2474,  0.1817,  0.2905],\n",
                        "        [-0.7804, -0.1855, -0.7041,  ..., -0.7783,  3.1302,  1.6940],\n",
                        "        ...,\n",
                        "        [-0.0584, -0.0612, -0.0034,  ..., -0.8286,  2.0843,  1.4001],\n",
                        "        [ 2.6742,  1.3169,  2.6655,  ..., -0.4175,  0.0051,  0.8123],\n",
                        "        [-0.6570,  0.4195, -0.0667,  ..., -0.7973,  1.4145,  1.8812]],\n",
                        "       device='cuda:0', grad_fn=<AddmmBackward0>)\n",
                        "08/11/2022 10:35:19 - INFO - bert_for_sentence:40 -  labels.shape is torch.Size([24])\n",
                        "08/11/2022 10:35:19 - INFO - bert_for_sentence:41 -  labels is tensor([  8,   6, 136, 132, 126, 134, 143, 138, 139, 136, 133, 137, 121, 132,\n",
                        "        142,  28, 136, 132, 143, 136, 130, 134,   2, 135], device='cuda:0')\n"
                    ]
                },
                {
                    "name": "stdout",
                    "output_type": "stream",
                    "text": [
                        "\r",
                        "[Training] 176/3702 [>.............................] - ETA: 15:36  loss: 2.0623 "
                    ]
                },
                {
                    "name": "stderr",
                    "output_type": "stream",
                    "text": [
                        "08/11/2022 10:35:19 - INFO - bert_for_sentence:38 -  logits.shape is torch.Size([24, 144])\n",
                        "08/11/2022 10:35:19 - INFO - bert_for_sentence:39 -  logits is tensor([[ 6.3740e-01,  2.2851e+00,  1.4190e+00,  ..., -1.0718e+00,\n",
                        "          8.9867e-01,  1.8525e+00],\n",
                        "        [-2.3945e-01,  4.4878e-01,  6.9298e-01,  ..., -6.4105e-01,\n",
                        "          2.8208e+00,  1.5378e+00],\n",
                        "        [-1.0790e+00,  1.6300e-01,  2.2766e-01,  ..., -1.1909e+00,\n",
                        "          1.6158e+00,  1.7359e+00],\n",
                        "        ...,\n",
                        "        [ 2.5431e-01, -2.1175e-01,  1.3406e-03,  ...,  2.7960e-01,\n",
                        "          3.5667e-02, -2.2784e-01],\n",
                        "        [-2.1110e-01,  1.8994e-01,  4.4834e-02,  ..., -1.2394e+00,\n",
                        "          1.7391e+00,  1.0286e+00],\n",
                        "        [-1.6915e-01,  4.5224e-01, -1.2145e-01,  ..., -1.2535e+00,\n",
                        "          2.4355e+00,  1.7247e+00]], device='cuda:0', grad_fn=<AddmmBackward0>)\n",
                        "08/11/2022 10:35:19 - INFO - bert_for_sentence:40 -  labels.shape is torch.Size([24])\n",
                        "08/11/2022 10:35:19 - INFO - bert_for_sentence:41 -  labels is tensor([  1, 133, 131,   7, 130,   7,  56,   4, 133, 139, 137, 130, 137, 130,\n",
                        "        140,  57, 140, 130, 131,  35, 135,  94, 135, 132], device='cuda:0')\n"
                    ]
                },
                {
                    "name": "stdout",
                    "output_type": "stream",
                    "text": [
                        "\r",
                        "[Training] 177/3702 [>.............................] - ETA: 15:36  loss: 2.7836 "
                    ]
                },
                {
                    "name": "stderr",
                    "output_type": "stream",
                    "text": [
                        "08/11/2022 10:35:20 - INFO - bert_for_sentence:38 -  logits.shape is torch.Size([24, 144])\n",
                        "08/11/2022 10:35:20 - INFO - bert_for_sentence:39 -  logits is tensor([[-0.5558,  0.3262, -0.2164,  ..., -0.6850,  0.7639,  2.6270],\n",
                        "        [ 0.0774,  0.2937,  0.0466,  ...,  0.3391, -0.4091, -0.8278],\n",
                        "        [ 0.5864,  0.3611,  1.2238,  ..., -0.7228,  1.8492,  0.8126],\n",
                        "        ...,\n",
                        "        [ 3.0196,  0.6591,  2.8720,  ..., -0.5083, -0.1214,  0.5166],\n",
                        "        [ 3.2198,  0.9126,  3.2897,  ..., -0.0582, -0.0322, -0.2257],\n",
                        "        [-0.6166,  0.1383, -0.5067,  ..., -0.9911,  2.6272,  1.3511]],\n",
                        "       device='cuda:0', grad_fn=<AddmmBackward0>)\n",
                        "08/11/2022 10:35:20 - INFO - bert_for_sentence:40 -  labels.shape is torch.Size([24])\n",
                        "08/11/2022 10:35:20 - INFO - bert_for_sentence:41 -  labels is tensor([131,  69, 135, 113,  66, 137, 142, 130, 136, 139, 140, 143, 143, 138,\n",
                        "        130, 134,   4, 137,   6, 106,  28,   7,   8, 136], device='cuda:0')\n"
                    ]
                },
                {
                    "name": "stdout",
                    "output_type": "stream",
                    "text": [
                        "\r",
                        "[Training] 178/3702 [>.............................] - ETA: 15:36  loss: 2.6030 "
                    ]
                },
                {
                    "name": "stderr",
                    "output_type": "stream",
                    "text": [
                        "08/11/2022 10:35:20 - INFO - bert_for_sentence:38 -  logits.shape is torch.Size([24, 144])\n",
                        "08/11/2022 10:35:20 - INFO - bert_for_sentence:39 -  logits is tensor([[ 0.3435, -0.0309,  0.0372,  ..., -0.1142, -0.0883,  0.5475],\n",
                        "        [-0.2093, -0.1150,  0.0847,  ..., -0.1133, -0.4172, -0.0179],\n",
                        "        [ 2.9685,  0.8713,  3.5349,  ..., -0.7720, -0.0839,  0.4846],\n",
                        "        ...,\n",
                        "        [ 0.2094, -0.2827,  0.4247,  ..., -0.9500,  2.2288,  1.3877],\n",
                        "        [ 3.0189,  0.6085,  3.4513,  ..., -0.9984, -0.1111,  0.5610],\n",
                        "        [-0.2755,  0.8391,  0.5062,  ..., -0.8777,  0.6087,  1.8687]],\n",
                        "       device='cuda:0', grad_fn=<AddmmBackward0>)\n",
                        "08/11/2022 10:35:20 - INFO - bert_for_sentence:40 -  labels.shape is torch.Size([24])\n",
                        "08/11/2022 10:35:20 - INFO - bert_for_sentence:41 -  labels is tensor([114,  80,   9, 139, 142, 137, 143, 130, 134, 137, 139, 134, 143,   5,\n",
                        "        131,   7, 135,   8, 130, 137, 143, 139,   0, 138], device='cuda:0')\n"
                    ]
                },
                {
                    "name": "stdout",
                    "output_type": "stream",
                    "text": [
                        "\r",
                        "[Training] 179/3702 [>.............................] - ETA: 15:36  loss: 2.6994 "
                    ]
                },
                {
                    "name": "stderr",
                    "output_type": "stream",
                    "text": [
                        "08/11/2022 10:35:20 - INFO - bert_for_sentence:38 -  logits.shape is torch.Size([24, 144])\n",
                        "08/11/2022 10:35:20 - INFO - bert_for_sentence:39 -  logits is tensor([[-0.0267, -0.0951,  0.2551,  ..., -1.0334,  2.2384,  1.2294],\n",
                        "        [-0.5812,  0.4666,  0.0238,  ..., -0.9023,  1.2107,  3.6038],\n",
                        "        [-0.6063,  0.7805,  0.1300,  ..., -0.6264,  1.0282,  1.9946],\n",
                        "        ...,\n",
                        "        [-0.7916, -0.1785, -0.4343,  ..., -1.1446,  2.7460,  1.3207],\n",
                        "        [-0.4129,  0.5813,  0.0862,  ..., -0.5794,  1.0278,  2.3951],\n",
                        "        [-0.0798,  0.6029,  0.8687,  ..., -0.9597,  1.6007,  1.1890]],\n",
                        "       device='cuda:0', grad_fn=<AddmmBackward0>)\n",
                        "08/11/2022 10:35:20 - INFO - bert_for_sentence:40 -  labels.shape is torch.Size([24])\n",
                        "08/11/2022 10:35:20 - INFO - bert_for_sentence:41 -  labels is tensor([132, 143, 138, 131, 139, 133, 143,   6,   8,   2, 143, 130,  45,   0,\n",
                        "        133, 135, 142, 143, 139,   3, 135, 133, 131, 137], device='cuda:0')\n"
                    ]
                },
                {
                    "name": "stdout",
                    "output_type": "stream",
                    "text": [
                        "\r",
                        "[Training] 180/3702 [>.............................] - ETA: 15:36  loss: 2.7876 "
                    ]
                },
                {
                    "name": "stderr",
                    "output_type": "stream",
                    "text": [
                        "08/11/2022 10:35:20 - INFO - bert_for_sentence:38 -  logits.shape is torch.Size([24, 144])\n",
                        "08/11/2022 10:35:20 - INFO - bert_for_sentence:39 -  logits is tensor([[-0.3010,  0.4000,  0.4440,  ..., -0.6938,  0.9005,  2.7291],\n",
                        "        [ 3.3952,  0.7646,  2.8702,  ..., -0.3618,  0.1354,  0.3605],\n",
                        "        [-0.6494,  0.2629, -0.0489,  ..., -0.4907,  0.9560,  2.6885],\n",
                        "        ...,\n",
                        "        [-0.4536,  0.5680,  0.4551,  ..., -0.5273,  0.5004,  2.2274],\n",
                        "        [ 3.0660,  0.8073,  2.8290,  ..., -0.1937,  0.1354,  0.0655],\n",
                        "        [ 3.1239,  1.0078,  3.2545,  ..., -0.5122, -0.1995,  0.6300]],\n",
                        "       device='cuda:0', grad_fn=<AddmmBackward0>)\n",
                        "08/11/2022 10:35:20 - INFO - bert_for_sentence:40 -  labels.shape is torch.Size([24])\n",
                        "08/11/2022 10:35:20 - INFO - bert_for_sentence:41 -  labels is tensor([131,   9, 132, 131, 142, 132,  30, 140, 134,  94,  27,   4, 131,  31,\n",
                        "        130,  51, 143,  23,   3, 138, 138, 131,   8,   6], device='cuda:0')\n"
                    ]
                },
                {
                    "name": "stdout",
                    "output_type": "stream",
                    "text": [
                        "\r",
                        "[Training] 181/3702 [>.............................] - ETA: 15:36  loss: 2.2726 "
                    ]
                },
                {
                    "name": "stderr",
                    "output_type": "stream",
                    "text": [
                        "08/11/2022 10:35:21 - INFO - bert_for_sentence:38 -  logits.shape is torch.Size([24, 144])\n",
                        "08/11/2022 10:35:21 - INFO - bert_for_sentence:39 -  logits is tensor([[ 3.0961,  0.4733,  3.1795,  ..., -0.4579, -0.2233,  0.4315],\n",
                        "        [-0.6054, -0.2458, -0.5415,  ..., -1.3670,  2.6032,  1.6014],\n",
                        "        [ 2.4939,  1.2415,  2.7726,  ..., -0.6421,  0.3986,  1.1755],\n",
                        "        ...,\n",
                        "        [-0.0212,  0.3417, -0.1956,  ..., -1.3782,  2.7956,  1.5649],\n",
                        "        [ 0.0581,  1.1746,  0.1287,  ..., -1.2680,  1.6578,  2.8620],\n",
                        "        [ 0.5654,  2.1132,  0.9937,  ..., -0.8469,  0.4732,  1.2520]],\n",
                        "       device='cuda:0', grad_fn=<AddmmBackward0>)\n",
                        "08/11/2022 10:35:21 - INFO - bert_for_sentence:40 -  labels.shape is torch.Size([24])\n",
                        "08/11/2022 10:35:21 - INFO - bert_for_sentence:41 -  labels is tensor([  2, 136,   6, 130,  80, 137, 133,  30, 104, 128, 136,   9, 106, 141,\n",
                        "        131, 130, 116, 135,  89,   0, 131, 133, 140,   3], device='cuda:0')\n"
                    ]
                },
                {
                    "name": "stdout",
                    "output_type": "stream",
                    "text": [
                        "\r",
                        "[Training] 182/3702 [>.............................] - ETA: 15:35  loss: 2.4184 "
                    ]
                },
                {
                    "name": "stderr",
                    "output_type": "stream",
                    "text": [
                        "08/11/2022 10:35:21 - INFO - bert_for_sentence:38 -  logits.shape is torch.Size([24, 144])\n",
                        "08/11/2022 10:35:21 - INFO - bert_for_sentence:39 -  logits is tensor([[-0.0703,  0.4853,  0.5772,  ..., -0.4558,  0.7095,  2.4431],\n",
                        "        [-0.3171, -0.0774, -0.5569,  ..., -1.2534,  2.9272,  1.7111],\n",
                        "        [ 3.2071,  0.5832,  3.0759,  ..., -0.3749, -0.1879,  0.3936],\n",
                        "        ...,\n",
                        "        [ 0.0559,  0.6180,  0.4086,  ..., -0.7346,  0.9735,  3.1099],\n",
                        "        [-0.3478,  0.2981,  0.1807,  ..., -0.9436,  1.7042,  2.4395],\n",
                        "        [-0.2373,  0.2386,  0.5334,  ..., -0.5102,  0.4361,  2.7651]],\n",
                        "       device='cuda:0', grad_fn=<AddmmBackward0>)\n",
                        "08/11/2022 10:35:21 - INFO - bert_for_sentence:40 -  labels.shape is torch.Size([24])\n",
                        "08/11/2022 10:35:21 - INFO - bert_for_sentence:41 -  labels is tensor([131, 133,   0,   5, 140, 135,   9,   7,  73, 143, 131, 134, 136,   8,\n",
                        "        143, 132,  28, 134,   2, 138, 135, 137, 131, 131], device='cuda:0')\n"
                    ]
                },
                {
                    "name": "stdout",
                    "output_type": "stream",
                    "text": [
                        "\r",
                        "[Training] 183/3702 [>.............................] - ETA: 15:35  loss: 2.9455 "
                    ]
                },
                {
                    "name": "stderr",
                    "output_type": "stream",
                    "text": [
                        "08/11/2022 10:35:21 - INFO - bert_for_sentence:38 -  logits.shape is torch.Size([24, 144])\n",
                        "08/11/2022 10:35:21 - INFO - bert_for_sentence:39 -  logits is tensor([[ 3.0690,  0.6948,  3.3724,  ..., -0.3890, -0.0648,  0.2560],\n",
                        "        [ 3.1543,  0.9400,  3.0568,  ..., -0.0737,  0.0908,  0.2072],\n",
                        "        [-0.6545,  0.7883,  0.0646,  ..., -0.9690,  1.2010,  2.4255],\n",
                        "        ...,\n",
                        "        [ 0.1720,  0.0466,  0.2470,  ...,  0.4328, -0.1496, -0.2433],\n",
                        "        [-0.3554,  0.3457,  0.2607,  ..., -0.6186,  0.6610,  2.6450],\n",
                        "        [-0.4948,  0.4427, -0.6596,  ..., -0.8845,  1.4471,  2.1694]],\n",
                        "       device='cuda:0', grad_fn=<AddmmBackward0>)\n",
                        "08/11/2022 10:35:21 - INFO - bert_for_sentence:40 -  labels.shape is torch.Size([24])\n",
                        "08/11/2022 10:35:21 - INFO - bert_for_sentence:41 -  labels is tensor([  7,   6, 129, 133,   6,   6, 140, 133, 135,   8, 132,   2, 131, 142,\n",
                        "         81, 133, 131, 143, 136,   6, 137,  27, 132, 130], device='cuda:0')\n"
                    ]
                },
                {
                    "name": "stdout",
                    "output_type": "stream",
                    "text": [
                        "\r",
                        "[Training] 184/3702 [>.............................] - ETA: 15:35  loss: 2.5794 "
                    ]
                },
                {
                    "name": "stderr",
                    "output_type": "stream",
                    "text": [
                        "08/11/2022 10:35:21 - INFO - bert_for_sentence:38 -  logits.shape is torch.Size([24, 144])\n",
                        "08/11/2022 10:35:22 - INFO - bert_for_sentence:39 -  logits is tensor([[ 0.5781,  0.3603,  0.0255,  ..., -0.8316,  2.0171,  1.7775],\n",
                        "        [ 3.2129,  0.7187,  3.1847,  ..., -0.7366, -0.0602,  0.2269],\n",
                        "        [-0.0414,  0.4521, -0.2741,  ..., -1.1847,  2.1727,  2.1328],\n",
                        "        ...,\n",
                        "        [ 0.3624,  0.1630,  0.4497,  ..., -0.6686,  1.0201,  0.9966],\n",
                        "        [-0.3492, -0.1194, -0.8237,  ..., -0.9438,  2.6253,  1.7962],\n",
                        "        [ 0.5343,  0.0872,  0.0177,  ..., -0.9638,  0.5211,  3.3518]],\n",
                        "       device='cuda:0', grad_fn=<AddmmBackward0>)\n",
                        "08/11/2022 10:35:22 - INFO - bert_for_sentence:40 -  labels.shape is torch.Size([24])\n",
                        "08/11/2022 10:35:22 - INFO - bert_for_sentence:41 -  labels is tensor([142,   4, 139, 138,   0, 140, 133, 131, 130, 139,   2,   6,  27, 130,\n",
                        "        142,   6, 129, 139,   0,   5,   6,  29, 130, 131], device='cuda:0')\n"
                    ]
                },
                {
                    "name": "stdout",
                    "output_type": "stream",
                    "text": [
                        "\r",
                        "[Training] 185/3702 [>.............................] - ETA: 15:35  loss: 2.2458 "
                    ]
                },
                {
                    "name": "stderr",
                    "output_type": "stream",
                    "text": [
                        "08/11/2022 10:35:22 - INFO - bert_for_sentence:38 -  logits.shape is torch.Size([24, 144])\n",
                        "08/11/2022 10:35:22 - INFO - bert_for_sentence:39 -  logits is tensor([[ 0.1392,  0.2367,  0.0739,  ...,  0.3132, -0.1178,  0.0607],\n",
                        "        [ 0.2385,  0.3196,  0.1769,  ..., -0.8468,  0.9488,  1.2652],\n",
                        "        [ 2.9871,  1.3722,  2.9486,  ..., -0.8493,  0.2603,  0.9910],\n",
                        "        ...,\n",
                        "        [-0.5706,  0.4900, -0.3135,  ..., -1.2713,  2.0186,  2.4904],\n",
                        "        [ 2.8230,  1.2515,  3.1071,  ..., -0.3587,  0.5682,  0.7843],\n",
                        "        [-0.2498,  0.3022, -0.4216,  ..., -1.0023,  2.0664,  2.0527]],\n",
                        "       device='cuda:0', grad_fn=<AddmmBackward0>)\n",
                        "08/11/2022 10:35:22 - INFO - bert_for_sentence:40 -  labels.shape is torch.Size([24])\n",
                        "08/11/2022 10:35:22 - INFO - bert_for_sentence:41 -  labels is tensor([ 31, 135,   9, 138,   6, 136,  27, 131, 105, 132, 132, 139, 131, 130,\n",
                        "        136,   6,   8,   4, 135,   1, 139, 131,   6, 136], device='cuda:0')\n"
                    ]
                },
                {
                    "name": "stdout",
                    "output_type": "stream",
                    "text": [
                        "\r",
                        "[Training] 186/3702 [>.............................] - ETA: 15:35  loss: 2.6021 "
                    ]
                },
                {
                    "name": "stderr",
                    "output_type": "stream",
                    "text": [
                        "08/11/2022 10:35:22 - INFO - bert_for_sentence:38 -  logits.shape is torch.Size([24, 144])\n",
                        "08/11/2022 10:35:22 - INFO - bert_for_sentence:39 -  logits is tensor([[-1.7522e-01,  3.4300e-01, -1.4431e-01,  ..., -9.8900e-01,\n",
                        "          1.8649e+00,  2.1422e+00],\n",
                        "        [-3.1226e-01,  5.7582e-01,  2.7978e-01,  ..., -8.8477e-01,\n",
                        "          1.3100e+00,  3.8071e+00],\n",
                        "        [-7.3305e-01, -2.9198e-02, -1.1435e-03,  ..., -5.5877e-01,\n",
                        "          1.3916e+00,  2.3302e+00],\n",
                        "        ...,\n",
                        "        [-3.9461e-01,  5.5246e-01, -1.0538e+00,  ..., -9.8698e-01,\n",
                        "          2.1570e+00,  2.9109e+00],\n",
                        "        [ 3.6002e-01,  3.6237e-02,  2.3642e-01,  ...,  3.2840e-01,\n",
                        "         -1.9962e-01, -3.1593e-01],\n",
                        "        [-3.2956e-01,  2.5486e-01, -5.0655e-01,  ..., -8.6337e-01,\n",
                        "          2.6961e+00,  2.0512e+00]], device='cuda:0', grad_fn=<AddmmBackward0>)\n",
                        "08/11/2022 10:35:22 - INFO - bert_for_sentence:40 -  labels.shape is torch.Size([24])\n",
                        "08/11/2022 10:35:22 - INFO - bert_for_sentence:41 -  labels is tensor([136, 138, 133,   7,  80,  21, 139, 132, 135, 132, 139,   0, 133, 139,\n",
                        "        131,   3, 136, 138, 137, 135, 137, 135,  93, 140], device='cuda:0')\n"
                    ]
                },
                {
                    "name": "stdout",
                    "output_type": "stream",
                    "text": [
                        "\r",
                        "[Training] 187/3702 [>.............................] - ETA: 15:35  loss: 2.2121 "
                    ]
                },
                {
                    "name": "stderr",
                    "output_type": "stream",
                    "text": [
                        "08/11/2022 10:35:22 - INFO - bert_for_sentence:38 -  logits.shape is torch.Size([24, 144])\n",
                        "08/11/2022 10:35:22 - INFO - bert_for_sentence:39 -  logits is tensor([[ 0.1557,  0.2577, -0.1825,  ..., -1.0326,  2.4191,  1.2974],\n",
                        "        [ 0.3193,  0.2032,  0.8691,  ..., -1.2885,  1.9733,  1.9654],\n",
                        "        [ 3.0122,  0.5238,  2.9674,  ..., -0.2041,  0.2991,  0.1124],\n",
                        "        ...,\n",
                        "        [ 2.2645,  0.8574,  2.0188,  ..., -0.4153,  1.2013,  1.2600],\n",
                        "        [-0.3180,  0.1971, -0.0436,  ..., -0.7403,  0.9950,  3.5281],\n",
                        "        [ 0.9241, -0.1194,  0.9454,  ..., -0.6111,  0.9677,  1.6558]],\n",
                        "       device='cuda:0', grad_fn=<AddmmBackward0>)\n",
                        "08/11/2022 10:35:22 - INFO - bert_for_sentence:40 -  labels.shape is torch.Size([24])\n",
                        "08/11/2022 10:35:22 - INFO - bert_for_sentence:41 -  labels is tensor([134, 133,   8,   3, 132,   1, 132, 136, 135, 133,   6, 142, 137, 140,\n",
                        "          8, 137, 137, 137,  44,   0, 138, 139, 132, 139], device='cuda:0')\n"
                    ]
                },
                {
                    "name": "stdout",
                    "output_type": "stream",
                    "text": [
                        "\r",
                        "[Training] 188/3702 [>.............................] - ETA: 15:35  loss: 2.4386 "
                    ]
                },
                {
                    "name": "stderr",
                    "output_type": "stream",
                    "text": [
                        "08/11/2022 10:35:23 - INFO - bert_for_sentence:38 -  logits.shape is torch.Size([24, 144])\n",
                        "08/11/2022 10:35:23 - INFO - bert_for_sentence:39 -  logits is tensor([[ 2.9731,  0.2779,  2.9100,  ..., -0.3252,  0.0881,  0.2587],\n",
                        "        [ 0.3331, -0.3974,  0.2824,  ..., -0.0724, -0.5073,  0.2445],\n",
                        "        [ 0.8144,  0.3081,  1.0532,  ..., -1.0342,  2.4300,  1.4914],\n",
                        "        ...,\n",
                        "        [ 0.6725,  0.3481,  0.2419,  ..., -0.9916,  2.0274,  1.5811],\n",
                        "        [ 0.0409,  0.3452,  0.2133,  ..., -0.9541,  2.1965,  2.9159],\n",
                        "        [ 0.0650,  0.1600, -0.2676,  ..., -0.4632,  2.4261,  1.5779]],\n",
                        "       device='cuda:0', grad_fn=<AddmmBackward0>)\n",
                        "08/11/2022 10:35:23 - INFO - bert_for_sentence:40 -  labels.shape is torch.Size([24])\n",
                        "08/11/2022 10:35:23 - INFO - bert_for_sentence:41 -  labels is tensor([  0,  80, 133, 105, 105,   8,  28, 137, 131,   4, 140,   1, 130, 143,\n",
                        "        137, 135,   2,   8, 131,   9, 133, 139, 132, 136], device='cuda:0')\n"
                    ]
                },
                {
                    "name": "stdout",
                    "output_type": "stream",
                    "text": [
                        "\r",
                        "[Training] 189/3702 [>.............................] - ETA: 15:34  loss: 2.2627 "
                    ]
                },
                {
                    "name": "stderr",
                    "output_type": "stream",
                    "text": [
                        "08/11/2022 10:35:23 - INFO - bert_for_sentence:38 -  logits.shape is torch.Size([24, 144])\n",
                        "08/11/2022 10:35:23 - INFO - bert_for_sentence:39 -  logits is tensor([[ 2.8536,  0.2934,  2.2678,  ..., -0.2915,  0.4972,  0.1798],\n",
                        "        [ 3.3004,  0.4162,  3.5319,  ..., -0.2716,  0.2108,  0.2612],\n",
                        "        [-0.7372,  0.3275, -0.2204,  ..., -1.0107,  2.6032,  1.7484],\n",
                        "        ...,\n",
                        "        [ 0.8718,  0.1669,  0.5566,  ..., -0.4831,  1.9153,  1.4810],\n",
                        "        [ 0.4881,  1.9000,  0.8399,  ..., -0.9563,  1.1630,  1.4431],\n",
                        "        [-0.4498,  0.3943, -0.2645,  ..., -0.4375,  1.7767,  2.7177]],\n",
                        "       device='cuda:0', grad_fn=<AddmmBackward0>)\n",
                        "08/11/2022 10:35:23 - INFO - bert_for_sentence:40 -  labels.shape is torch.Size([24])\n",
                        "08/11/2022 10:35:23 - INFO - bert_for_sentence:41 -  labels is tensor([  8,   8, 134, 136,   0, 140, 143,   8, 131, 133,   6, 137, 143, 130,\n",
                        "          2,  66,   6, 138, 133, 140,  27, 132,   5, 129], device='cuda:0')\n"
                    ]
                },
                {
                    "name": "stdout",
                    "output_type": "stream",
                    "text": [
                        "\r",
                        "[Training] 190/3702 [>.............................] - ETA: 15:34  loss: 2.1715 "
                    ]
                },
                {
                    "name": "stderr",
                    "output_type": "stream",
                    "text": [
                        "08/11/2022 10:35:23 - INFO - bert_for_sentence:38 -  logits.shape is torch.Size([24, 144])\n",
                        "08/11/2022 10:35:23 - INFO - bert_for_sentence:39 -  logits is tensor([[-0.6254,  0.4939,  0.1622,  ..., -0.5527,  1.5833,  3.2090],\n",
                        "        [-0.4529,  0.0831,  0.2849,  ..., -1.1713,  1.3628,  1.1412],\n",
                        "        [ 0.0228,  0.2601,  0.8366,  ..., -0.7909,  1.3433,  1.2112],\n",
                        "        ...,\n",
                        "        [ 0.3259,  0.7761,  0.9185,  ..., -1.1646,  2.3114,  2.8426],\n",
                        "        [-0.5764,  0.3619, -0.0492,  ..., -0.4193,  0.7705,  2.2000],\n",
                        "        [ 2.9057,  0.4151,  3.2745,  ..., -0.5652, -0.1189,  0.2676]],\n",
                        "       device='cuda:0', grad_fn=<AddmmBackward0>)\n",
                        "08/11/2022 10:35:23 - INFO - bert_for_sentence:40 -  labels.shape is torch.Size([24])\n",
                        "08/11/2022 10:35:23 - INFO - bert_for_sentence:41 -  labels is tensor([143, 135, 137, 138, 137,   8, 130, 135, 140,   2, 134, 133,   6, 140,\n",
                        "          8,  81,   9,  31, 133, 140, 130, 136, 131,   6], device='cuda:0')\n"
                    ]
                },
                {
                    "name": "stdout",
                    "output_type": "stream",
                    "text": [
                        "\r",
                        "[Training] 191/3702 [>.............................] - ETA: 15:34  loss: 2.2176 "
                    ]
                },
                {
                    "name": "stderr",
                    "output_type": "stream",
                    "text": [
                        "08/11/2022 10:35:23 - INFO - bert_for_sentence:38 -  logits.shape is torch.Size([24, 144])\n",
                        "08/11/2022 10:35:23 - INFO - bert_for_sentence:39 -  logits is tensor([[ 3.0375,  1.1014,  3.3015,  ..., -0.2230,  0.0100,  0.0450],\n",
                        "        [-0.4867,  0.5527,  1.1790,  ..., -0.9451,  1.4058,  1.3741],\n",
                        "        [-0.7028,  0.1262,  0.0591,  ..., -0.6292,  0.3364,  0.6629],\n",
                        "        ...,\n",
                        "        [ 0.4821, -0.2694,  0.3813,  ..., -0.0853, -0.1459,  0.0916],\n",
                        "        [-0.2456, -0.4328, -0.3630,  ...,  0.2561, -0.6424, -0.3006],\n",
                        "        [-0.8771,  0.2000, -0.0606,  ..., -0.5389,  0.9001,  2.5028]],\n",
                        "       device='cuda:0', grad_fn=<AddmmBackward0>)\n",
                        "08/11/2022 10:35:23 - INFO - bert_for_sentence:40 -  labels.shape is torch.Size([24])\n",
                        "08/11/2022 10:35:23 - INFO - bert_for_sentence:41 -  labels is tensor([  2, 137,  31,   7,   1,  66,  29, 139,  27,   7, 136, 142,   9, 136,\n",
                        "        133, 140,   2, 138, 143, 133,  57,  44, 107, 132], device='cuda:0')\n"
                    ]
                },
                {
                    "name": "stdout",
                    "output_type": "stream",
                    "text": [
                        "\r",
                        "[Training] 192/3702 [>.............................] - ETA: 15:34  loss: 2.1751 "
                    ]
                },
                {
                    "name": "stderr",
                    "output_type": "stream",
                    "text": [
                        "08/11/2022 10:35:24 - INFO - bert_for_sentence:38 -  logits.shape is torch.Size([24, 144])\n",
                        "08/11/2022 10:35:24 - INFO - bert_for_sentence:39 -  logits is tensor([[-0.5984,  0.8148, -0.2191,  ..., -0.5397,  1.6967,  2.2676],\n",
                        "        [-0.3152,  0.1683, -0.1283,  ..., -0.6751,  1.1961,  1.5730],\n",
                        "        [-0.0222, -0.5064, -0.4891,  ..., -0.5346,  0.9269,  0.1898],\n",
                        "        ...,\n",
                        "        [-0.5004, -0.0248,  0.3085,  ..., -1.0251,  1.3933,  1.3480],\n",
                        "        [ 3.0965,  0.5880,  2.9975,  ..., -0.3098,  0.1037, -0.0376],\n",
                        "        [-0.6144, -0.0534, -0.8093,  ..., -1.2189,  3.0611,  1.9803]],\n",
                        "       device='cuda:0', grad_fn=<AddmmBackward0>)\n",
                        "08/11/2022 10:35:24 - INFO - bert_for_sentence:40 -  labels.shape is torch.Size([24])\n",
                        "08/11/2022 10:35:24 - INFO - bert_for_sentence:41 -  labels is tensor([140, 135,  19,  58, 138,  80, 132,  27,   3, 129, 143, 130,   9,   0,\n",
                        "          0, 137, 133, 133, 143, 142,  92, 137,   8, 142], device='cuda:0')\n"
                    ]
                },
                {
                    "name": "stdout",
                    "output_type": "stream",
                    "text": [
                        "\r",
                        "[Training] 193/3702 [>.............................] - ETA: 15:34  loss: 3.1156 "
                    ]
                },
                {
                    "name": "stderr",
                    "output_type": "stream",
                    "text": [
                        "08/11/2022 10:35:24 - INFO - bert_for_sentence:38 -  logits.shape is torch.Size([24, 144])\n",
                        "08/11/2022 10:35:24 - INFO - bert_for_sentence:39 -  logits is tensor([[ 0.0043, -0.2374, -0.3589,  ..., -0.3295,  0.1202, -0.3074],\n",
                        "        [ 3.1662,  0.6278,  3.7531,  ..., -0.6016,  0.0822,  0.3463],\n",
                        "        [ 0.1633, -0.4171,  0.8034,  ..., -0.3089,  0.2676,  1.1290],\n",
                        "        ...,\n",
                        "        [-0.5814,  0.0177, -0.6401,  ..., -0.8365,  1.9965,  2.5079],\n",
                        "        [ 2.8006,  1.0116,  3.0074,  ..., -0.3650,  0.2015,  0.5234],\n",
                        "        [-0.1662, -0.2724, -0.6578,  ..., -0.0885,  0.5116, -0.2752]],\n",
                        "       device='cuda:0', grad_fn=<AddmmBackward0>)\n",
                        "08/11/2022 10:35:24 - INFO - bert_for_sentence:40 -  labels.shape is torch.Size([24])\n",
                        "08/11/2022 10:35:24 - INFO - bert_for_sentence:41 -  labels is tensor([105,   4,  80, 133, 134,   7, 133, 135, 131, 133, 135, 131, 134, 139,\n",
                        "          6, 131, 132,  54, 131,   4, 132, 130,   9,  68], device='cuda:0')\n"
                    ]
                },
                {
                    "name": "stdout",
                    "output_type": "stream",
                    "text": [
                        "\r",
                        "[Training] 194/3702 [>.............................] - ETA: 15:34  loss: 2.6816 "
                    ]
                },
                {
                    "name": "stderr",
                    "output_type": "stream",
                    "text": [
                        "08/11/2022 10:35:24 - INFO - bert_for_sentence:38 -  logits.shape is torch.Size([24, 144])\n",
                        "08/11/2022 10:35:24 - INFO - bert_for_sentence:39 -  logits is tensor([[-0.5208,  0.0228,  0.0348,  ..., -0.9032,  1.6744,  3.8594],\n",
                        "        [-0.7631,  0.2504, -0.1996,  ..., -0.8227,  2.4572,  2.4848],\n",
                        "        [-0.7383, -0.2532, -0.6495,  ..., -1.0113,  3.4236,  2.1607],\n",
                        "        ...,\n",
                        "        [-0.4984,  0.4090, -0.6958,  ..., -0.7325,  2.2167,  2.3526],\n",
                        "        [-0.8210,  0.2573,  0.2579,  ..., -0.8472,  1.0746,  2.9460],\n",
                        "        [-1.0759, -0.2459, -0.8512,  ..., -1.0231,  2.7979,  1.7919]],\n",
                        "       device='cuda:0', grad_fn=<AddmmBackward0>)\n",
                        "08/11/2022 10:35:24 - INFO - bert_for_sentence:40 -  labels.shape is torch.Size([24])\n",
                        "08/11/2022 10:35:24 - INFO - bert_for_sentence:41 -  labels is tensor([131, 140, 142, 143, 131, 132,   4,  29,   1, 131, 140,   8, 137, 138,\n",
                        "        138,   8,  90, 136, 134, 130,   4, 130, 131, 134], device='cuda:0')\n"
                    ]
                },
                {
                    "name": "stdout",
                    "output_type": "stream",
                    "text": [
                        "\r",
                        "[Training] 195/3702 [>.............................] - ETA: 15:34  loss: 2.3614 "
                    ]
                },
                {
                    "name": "stderr",
                    "output_type": "stream",
                    "text": [
                        "08/11/2022 10:35:24 - INFO - bert_for_sentence:38 -  logits.shape is torch.Size([24, 144])\n",
                        "08/11/2022 10:35:25 - INFO - bert_for_sentence:39 -  logits is tensor([[-0.5752,  0.1684, -0.3402,  ..., -0.7531,  1.5065,  2.9690],\n",
                        "        [-0.1143,  0.1605, -0.2764,  ..., -1.0791,  2.1522,  2.6500],\n",
                        "        [-0.7051,  0.2484, -0.0589,  ..., -0.3864,  1.2913,  2.3382],\n",
                        "        ...,\n",
                        "        [ 0.1377,  0.3606,  1.1260,  ..., -1.0995,  1.7409,  1.7886],\n",
                        "        [ 1.8696,  1.4047,  2.6097,  ..., -0.5143,  0.4925,  0.9774],\n",
                        "        [-0.6013,  0.3032,  0.0308,  ..., -1.0291,  2.4091,  2.1555]],\n",
                        "       device='cuda:0', grad_fn=<AddmmBackward0>)\n",
                        "08/11/2022 10:35:25 - INFO - bert_for_sentence:40 -  labels.shape is torch.Size([24])\n",
                        "08/11/2022 10:35:25 - INFO - bert_for_sentence:41 -  labels is tensor([137, 131, 131,   5, 130,   6,   7, 136, 139,   5,  80, 132, 139, 140,\n",
                        "          1, 133,  80, 134, 131,   3, 137, 137,   3, 131], device='cuda:0')\n"
                    ]
                },
                {
                    "name": "stdout",
                    "output_type": "stream",
                    "text": [
                        "\r",
                        "[Training] 196/3702 [>.............................] - ETA: 15:33  loss: 2.5711 "
                    ]
                },
                {
                    "name": "stderr",
                    "output_type": "stream",
                    "text": [
                        "08/11/2022 10:35:25 - INFO - bert_for_sentence:38 -  logits.shape is torch.Size([24, 144])\n",
                        "08/11/2022 10:35:25 - INFO - bert_for_sentence:39 -  logits is tensor([[-0.2143, -0.5134, -0.6085,  ..., -0.0795,  1.1137,  0.0934],\n",
                        "        [ 0.5883, -0.1491,  1.4402,  ..., -1.3351,  1.6810,  1.2969],\n",
                        "        [-0.6046, -0.2296, -0.2669,  ..., -0.7878,  1.7827,  1.2342],\n",
                        "        ...,\n",
                        "        [-0.5254, -0.1871, -0.7712,  ..., -1.2826,  3.0527,  1.9172],\n",
                        "        [-0.3939,  0.4749, -1.0520,  ..., -0.7849,  2.3908,  1.9301],\n",
                        "        [-0.3920, -0.1182,  0.2380,  ..., -0.3588, -0.4140,  0.1726]],\n",
                        "       device='cuda:0', grad_fn=<AddmmBackward0>)\n",
                        "08/11/2022 10:35:25 - INFO - bert_for_sentence:40 -  labels.shape is torch.Size([24])\n",
                        "08/11/2022 10:35:25 - INFO - bert_for_sentence:41 -  labels is tensor([ 54,   2, 140,   6,  30,  59,   7, 138, 143,   3, 139, 139,   0, 135,\n",
                        "          0, 138, 137, 140, 141, 108,  28, 133, 142,  80], device='cuda:0')\n"
                    ]
                },
                {
                    "name": "stdout",
                    "output_type": "stream",
                    "text": [
                        "\r",
                        "[Training] 197/3702 [>.............................] - ETA: 15:33  loss: 2.1309 "
                    ]
                },
                {
                    "name": "stderr",
                    "output_type": "stream",
                    "text": [
                        "08/11/2022 10:35:25 - INFO - bert_for_sentence:38 -  logits.shape is torch.Size([24, 144])\n",
                        "08/11/2022 10:35:25 - INFO - bert_for_sentence:39 -  logits is tensor([[-0.3019, -0.4865, -0.3252,  ...,  0.1596, -0.3483, -0.4997],\n",
                        "        [-0.7352,  0.0030, -0.7130,  ..., -0.8533,  2.9685,  1.8445],\n",
                        "        [-0.3376, -0.3991, -0.5706,  ..., -0.0613, -0.3101, -0.9631],\n",
                        "        ...,\n",
                        "        [-0.2368,  0.0987, -0.4280,  ..., -0.3949,  1.1882,  2.5364],\n",
                        "        [ 1.6572,  0.6047,  2.3767,  ..., -0.4280,  0.7240,  0.5174],\n",
                        "        [-1.0999, -0.2067, -0.7346,  ..., -0.8886,  2.3582,  2.1614]],\n",
                        "       device='cuda:0', grad_fn=<AddmmBackward0>)\n",
                        "08/11/2022 10:35:25 - INFO - bert_for_sentence:40 -  labels.shape is torch.Size([24])\n",
                        "08/11/2022 10:35:25 - INFO - bert_for_sentence:41 -  labels is tensor([ 44, 139, 105, 131, 133,   9, 132, 135,   7, 130,   3,  27, 130, 139,\n",
                        "          8, 139,   8, 135, 143, 116,   5, 131,   0, 136], device='cuda:0')\n"
                    ]
                },
                {
                    "name": "stdout",
                    "output_type": "stream",
                    "text": [
                        "\r",
                        "[Training] 198/3702 [>.............................] - ETA: 15:33  loss: 3.2375 "
                    ]
                },
                {
                    "name": "stderr",
                    "output_type": "stream",
                    "text": [
                        "08/11/2022 10:35:25 - INFO - bert_for_sentence:38 -  logits.shape is torch.Size([24, 144])\n",
                        "08/11/2022 10:35:25 - INFO - bert_for_sentence:39 -  logits is tensor([[-0.8722, -0.3898, -0.7330,  ..., -0.9728,  2.3215,  2.2029],\n",
                        "        [-0.7784,  0.4427, -0.1582,  ..., -0.6463,  1.4589,  3.1088],\n",
                        "        [ 2.7923,  0.4204,  2.7466,  ..., -0.4486,  0.6714,  0.5930],\n",
                        "        ...,\n",
                        "        [-0.4515,  0.6882,  0.0375,  ..., -1.1077,  0.7300,  3.8718],\n",
                        "        [ 3.3543,  0.9295,  3.1854,  ..., -0.4281,  0.1862,  0.5247],\n",
                        "        [-0.8643, -0.3679, -0.5712,  ..., -1.1071,  2.6041,  2.2238]],\n",
                        "       device='cuda:0', grad_fn=<AddmmBackward0>)\n",
                        "08/11/2022 10:35:25 - INFO - bert_for_sentence:40 -  labels.shape is torch.Size([24])\n",
                        "08/11/2022 10:35:25 - INFO - bert_for_sentence:41 -  labels is tensor([142, 138,   8, 137, 128, 134, 134,   2, 130,   3, 130, 136,  32,  22,\n",
                        "        138, 143, 132,  80,   5, 138,   1, 136,   6, 136], device='cuda:0')\n"
                    ]
                },
                {
                    "name": "stdout",
                    "output_type": "stream",
                    "text": [
                        "\r",
                        "[Training] 199/3702 [>.............................] - ETA: 15:33  loss: 2.3643 "
                    ]
                },
                {
                    "name": "stderr",
                    "output_type": "stream",
                    "text": [
                        "08/11/2022 10:35:26 - INFO - bert_for_sentence:38 -  logits.shape is torch.Size([24, 144])\n",
                        "08/11/2022 10:35:26 - INFO - bert_for_sentence:39 -  logits is tensor([[-0.3482,  0.2954,  0.1998,  ..., -1.1247,  1.8409,  1.3034],\n",
                        "        [-0.0812,  0.0790,  0.4543,  ..., -1.2677,  2.2391,  1.4696],\n",
                        "        [-0.8782, -0.0051, -0.3979,  ..., -0.8175,  0.9206,  2.7401],\n",
                        "        ...,\n",
                        "        [-0.3029,  0.1053, -0.4549,  ..., -0.4712,  2.0730,  2.1887],\n",
                        "        [-0.0855, -0.5639, -0.9102,  ...,  0.0697, -0.3064, -0.5264],\n",
                        "        [-0.5186,  0.4021,  0.1966,  ..., -0.8345,  3.1371,  2.2087]],\n",
                        "       device='cuda:0', grad_fn=<AddmmBackward0>)\n",
                        "08/11/2022 10:35:26 - INFO - bert_for_sentence:40 -  labels.shape is torch.Size([24])\n",
                        "08/11/2022 10:35:26 - INFO - bert_for_sentence:41 -  labels is tensor([137, 137, 132, 130, 131, 106,   3, 135, 137, 133, 129, 137,   4, 140,\n",
                        "        137, 131, 137, 139,  80, 138, 130, 129, 109,   0], device='cuda:0')\n"
                    ]
                },
                {
                    "name": "stdout",
                    "output_type": "stream",
                    "text": [
                        "\r",
                        "[Training] 200/3702 [>.............................] - ETA: 15:33  loss: 2.6967 "
                    ]
                },
                {
                    "name": "stderr",
                    "output_type": "stream",
                    "text": [
                        "08/11/2022 10:35:26 - INFO - bert_for_sentence:38 -  logits.shape is torch.Size([24, 144])\n",
                        "08/11/2022 10:35:26 - INFO - bert_for_sentence:39 -  logits is tensor([[-0.4565,  0.1895, -0.8007,  ..., -1.0410,  2.4012,  2.3979],\n",
                        "        [-0.0684,  0.0517,  0.5341,  ..., -1.4056,  2.4889,  2.0310],\n",
                        "        [ 3.2442,  0.6759,  3.0335,  ..., -0.5301,  0.0956,  0.4241],\n",
                        "        ...,\n",
                        "        [ 3.3156,  0.4148,  3.2457,  ..., -0.3248,  0.2183,  0.3150],\n",
                        "        [ 0.3504,  0.1229,  0.3392,  ...,  0.0338,  0.9162,  2.0588],\n",
                        "        [-0.3713, -0.2227, -0.6539,  ...,  0.2335,  0.0110, -0.4215]],\n",
                        "       device='cuda:0', grad_fn=<AddmmBackward0>)\n",
                        "08/11/2022 10:35:26 - INFO - bert_for_sentence:40 -  labels.shape is torch.Size([24])\n",
                        "08/11/2022 10:35:26 - INFO - bert_for_sentence:41 -  labels is tensor([130, 133,   6,   3, 140, 132, 131, 133, 136,   7,  27, 138, 138,   3,\n",
                        "         22, 140, 140, 131,   8,  80,   5,   6, 131,  81], device='cuda:0')\n"
                    ]
                },
                {
                    "name": "stdout",
                    "output_type": "stream",
                    "text": [
                        "\r",
                        "[Training] 201/3702 [>.............................] - ETA: 15:33  loss: 2.2879 "
                    ]
                },
                {
                    "name": "stderr",
                    "output_type": "stream",
                    "text": [
                        "08/11/2022 10:35:26 - INFO - bert_for_sentence:38 -  logits.shape is torch.Size([24, 144])\n",
                        "08/11/2022 10:35:26 - INFO - bert_for_sentence:39 -  logits is tensor([[ 0.0160,  0.0218,  0.0620,  ..., -1.1518,  1.7434,  1.9779],\n",
                        "        [-0.2196,  0.1591,  0.3454,  ..., -1.3892,  1.9628,  1.7050],\n",
                        "        [-0.4001, -0.1202,  0.2966,  ..., -0.5058, -0.5531,  0.7645],\n",
                        "        ...,\n",
                        "        [ 3.2912,  0.8293,  2.8952,  ..., -0.3818,  0.3318,  0.4705],\n",
                        "        [ 3.3460,  0.7650,  3.0570,  ..., -0.4170, -0.1143,  0.3480],\n",
                        "        [-0.3316,  0.5280, -0.4727,  ..., -0.8138,  2.5482,  2.8002]],\n",
                        "       device='cuda:0', grad_fn=<AddmmBackward0>)\n",
                        "08/11/2022 10:35:26 - INFO - bert_for_sentence:40 -  labels.shape is torch.Size([24])\n",
                        "08/11/2022 10:35:26 - INFO - bert_for_sentence:41 -  labels is tensor([ 63, 135,  80, 128,   5,  27,   7, 143,   5, 142, 135,  23,  18, 143,\n",
                        "        135,   5, 132, 137, 143, 136,  26,   6,   0, 136], device='cuda:0')\n"
                    ]
                },
                {
                    "name": "stdout",
                    "output_type": "stream",
                    "text": [
                        "\r",
                        "[Training] 202/3702 [>.............................] - ETA: 15:32  loss: 2.2190 "
                    ]
                },
                {
                    "name": "stderr",
                    "output_type": "stream",
                    "text": [
                        "08/11/2022 10:35:26 - INFO - bert_for_sentence:38 -  logits.shape is torch.Size([24, 144])\n",
                        "08/11/2022 10:35:26 - INFO - bert_for_sentence:39 -  logits is tensor([[ 3.5003,  0.7090,  3.3096,  ..., -0.3057,  0.0340,  0.1078],\n",
                        "        [ 1.9342,  1.8072,  2.7020,  ..., -0.8712,  0.5972,  1.2585],\n",
                        "        [-0.3383,  0.7981, -0.3497,  ..., -0.7309,  1.4782,  2.2937],\n",
                        "        ...,\n",
                        "        [-0.5165,  0.0276,  0.1024,  ..., -0.4205, -0.2767,  0.0842],\n",
                        "        [-0.7057,  0.3356, -0.3785,  ..., -1.0746,  2.8075,  2.0410],\n",
                        "        [-0.8776,  0.0717, -0.7738,  ..., -0.8155,  2.1887,  1.7128]],\n",
                        "       device='cuda:0', grad_fn=<AddmmBackward0>)\n",
                        "08/11/2022 10:35:26 - INFO - bert_for_sentence:40 -  labels.shape is torch.Size([24])\n",
                        "08/11/2022 10:35:26 - INFO - bert_for_sentence:41 -  labels is tensor([  6,   6, 140, 140, 138,   3,  70,   9, 138, 140, 130,  66,   7,   9,\n",
                        "          9,   2,   6, 135,   0,   6, 137, 128, 136, 134], device='cuda:0')\n"
                    ]
                },
                {
                    "name": "stdout",
                    "output_type": "stream",
                    "text": [
                        "\r",
                        "[Training] 203/3702 [>.............................] - ETA: 15:32  loss: 2.6892 "
                    ]
                },
                {
                    "name": "stderr",
                    "output_type": "stream",
                    "text": [
                        "08/11/2022 10:35:27 - INFO - bert_for_sentence:38 -  logits.shape is torch.Size([24, 144])\n",
                        "08/11/2022 10:35:27 - INFO - bert_for_sentence:39 -  logits is tensor([[-5.2008e-01,  4.6744e-03,  5.1561e-02,  ..., -6.4670e-01,\n",
                        "          3.6337e-01, -3.9074e-04],\n",
                        "        [ 1.1897e-01,  3.2719e-01,  5.6417e-01,  ..., -1.1224e+00,\n",
                        "          1.7945e+00,  2.3335e+00],\n",
                        "        [-2.6297e-01,  1.1137e-01,  3.1840e-01,  ..., -4.8044e-01,\n",
                        "         -6.1715e-01,  2.4874e-01],\n",
                        "        ...,\n",
                        "        [-4.4639e-02,  2.3464e-01,  1.0383e-01,  ..., -2.1398e-01,\n",
                        "          8.4118e-01,  2.2071e+00],\n",
                        "        [-4.8989e-01,  4.0152e-01, -6.4783e-01,  ..., -9.9513e-01,\n",
                        "          2.8871e+00,  1.9872e+00],\n",
                        "        [-2.6678e-01,  9.5293e-01, -1.7730e-01,  ..., -4.7898e-01,\n",
                        "          1.5434e+00,  2.0439e+00]], device='cuda:0', grad_fn=<AddmmBackward0>)\n",
                        "08/11/2022 10:35:27 - INFO - bert_for_sentence:40 -  labels.shape is torch.Size([24])\n",
                        "08/11/2022 10:35:27 - INFO - bert_for_sentence:41 -  labels is tensor([ 58, 136,  80, 136, 142, 132, 131,  28,   0, 131, 135, 132,   3, 135,\n",
                        "        135, 138, 107, 136,  80, 136,  81, 131, 130, 138], device='cuda:0')\n"
                    ]
                },
                {
                    "name": "stdout",
                    "output_type": "stream",
                    "text": [
                        "\r",
                        "[Training] 204/3702 [>.............................] - ETA: 15:32  loss: 2.3194 "
                    ]
                },
                {
                    "name": "stderr",
                    "output_type": "stream",
                    "text": [
                        "08/11/2022 10:35:27 - INFO - bert_for_sentence:38 -  logits.shape is torch.Size([24, 144])\n",
                        "08/11/2022 10:35:27 - INFO - bert_for_sentence:39 -  logits is tensor([[-0.3926,  0.6260, -0.2602,  ..., -0.7839,  1.6063,  2.3820],\n",
                        "        [ 0.2049,  0.1086, -0.2499,  ..., -0.7927,  2.4178,  2.0425],\n",
                        "        [-0.3899,  0.3443, -0.4870,  ..., -0.9140,  1.9070,  2.3585],\n",
                        "        ...,\n",
                        "        [ 3.3656,  0.6664,  3.2333,  ..., -0.5984, -0.0123,  0.3812],\n",
                        "        [-0.4930,  0.0471, -0.1205,  ..., -1.0551,  2.9815,  1.6871],\n",
                        "        [-0.2942,  0.3550, -0.5230,  ..., -1.1238,  3.1191,  1.8595]],\n",
                        "       device='cuda:0', grad_fn=<AddmmBackward0>)\n",
                        "08/11/2022 10:35:27 - INFO - bert_for_sentence:40 -  labels.shape is torch.Size([24])\n",
                        "08/11/2022 10:35:27 - INFO - bert_for_sentence:41 -  labels is tensor([138, 139, 132, 135, 131, 137, 140, 108,   0,  80, 137, 131, 131, 129,\n",
                        "        143,   6, 140,  22, 129, 138,   3,   0, 133, 133], device='cuda:0')\n"
                    ]
                },
                {
                    "name": "stdout",
                    "output_type": "stream",
                    "text": [
                        "\r",
                        "[Training] 205/3702 [>.............................] - ETA: 15:32  loss: 2.3428 "
                    ]
                },
                {
                    "name": "stderr",
                    "output_type": "stream",
                    "text": [
                        "08/11/2022 10:35:27 - INFO - bert_for_sentence:38 -  logits.shape is torch.Size([24, 144])\n",
                        "08/11/2022 10:35:27 - INFO - bert_for_sentence:39 -  logits is tensor([[ 0.3167,  0.1127,  1.1259,  ..., -1.0412,  1.9153,  1.6276],\n",
                        "        [ 3.2332,  0.7747,  3.1689,  ..., -0.7102, -0.0039,  0.4371],\n",
                        "        [-0.4113,  0.1302,  0.0097,  ...,  0.1951, -0.3526, -0.2551],\n",
                        "        ...,\n",
                        "        [ 3.2640,  0.9867,  2.9622,  ..., -0.6237, -0.1376,  0.5561],\n",
                        "        [-0.4152,  0.7247, -0.3048,  ..., -0.7238,  1.5893,  2.3648],\n",
                        "        [-0.0447,  0.0602,  1.1975,  ..., -0.9913,  1.2929,  2.0647]],\n",
                        "       device='cuda:0', grad_fn=<AddmmBackward0>)\n",
                        "08/11/2022 10:35:27 - INFO - bert_for_sentence:40 -  labels.shape is torch.Size([24])\n",
                        "08/11/2022 10:35:27 - INFO - bert_for_sentence:41 -  labels is tensor([133,   6,  50, 133, 135,  28, 135, 131,  26,   2,  81, 135, 134, 133,\n",
                        "        137,  82,   7,   0,   0,   6, 130,   6, 143, 136], device='cuda:0')\n"
                    ]
                },
                {
                    "name": "stdout",
                    "output_type": "stream",
                    "text": [
                        "\r",
                        "[Training] 206/3702 [>.............................] - ETA: 15:32  loss: 2.3696 "
                    ]
                },
                {
                    "name": "stderr",
                    "output_type": "stream",
                    "text": [
                        "08/11/2022 10:35:27 - INFO - bert_for_sentence:38 -  logits.shape is torch.Size([24, 144])\n",
                        "08/11/2022 10:35:28 - INFO - bert_for_sentence:39 -  logits is tensor([[-0.0669,  0.1571,  0.7187,  ..., -1.1330,  2.6861,  1.7321],\n",
                        "        [ 3.5721,  0.8165,  3.0495,  ..., -0.6191, -0.3410,  0.5474],\n",
                        "        [ 0.2416, -0.0168,  0.9668,  ..., -0.6571, -0.1415,  0.8060],\n",
                        "        ...,\n",
                        "        [-0.0204,  0.0933, -0.0790,  ...,  0.0903, -0.3798, -0.2941],\n",
                        "        [ 0.2306,  0.6633,  0.3304,  ..., -0.7751,  1.0279,  4.4650],\n",
                        "        [ 3.5546,  0.7467,  3.4288,  ..., -0.0675, -0.0312,  0.1571]],\n",
                        "       device='cuda:0', grad_fn=<AddmmBackward0>)\n",
                        "08/11/2022 10:35:28 - INFO - bert_for_sentence:40 -  labels.shape is torch.Size([24])\n",
                        "08/11/2022 10:35:28 - INFO - bert_for_sentence:41 -  labels is tensor([132,   9,  80, 139,   0, 131,   0,   1, 132, 133,  80, 142, 143, 140,\n",
                        "        137,   6, 140,   0,   4, 135, 131,  34, 143,   4], device='cuda:0')\n"
                    ]
                },
                {
                    "name": "stdout",
                    "output_type": "stream",
                    "text": [
                        "\r",
                        "[Training] 207/3702 [>.............................] - ETA: 15:32  loss: 2.4329 "
                    ]
                },
                {
                    "name": "stderr",
                    "output_type": "stream",
                    "text": [
                        "08/11/2022 10:35:28 - INFO - bert_for_sentence:38 -  logits.shape is torch.Size([24, 144])\n",
                        "08/11/2022 10:35:28 - INFO - bert_for_sentence:39 -  logits is tensor([[-2.6478e-03, -3.1394e-02, -5.6035e-01,  ..., -7.1181e-01,\n",
                        "          1.9184e+00,  1.6162e+00],\n",
                        "        [ 2.8089e-01,  2.1646e+00,  1.2062e+00,  ..., -1.0548e+00,\n",
                        "          8.4332e-01,  1.1156e+00],\n",
                        "        [ 3.5403e+00,  1.3846e+00,  3.4065e+00,  ..., -6.4890e-01,\n",
                        "         -2.0024e-01,  8.2808e-01],\n",
                        "        ...,\n",
                        "        [ 3.0324e-01,  2.1792e-01, -6.0829e-02,  ...,  2.6003e-02,\n",
                        "         -1.1620e-01, -6.4169e-01],\n",
                        "        [-2.6252e-01,  4.0369e-01, -2.6027e-01,  ..., -1.1054e+00,\n",
                        "          2.2677e+00,  1.8322e+00],\n",
                        "        [ 2.0303e-01,  3.8517e-01,  1.6612e-01,  ...,  5.5061e-02,\n",
                        "          7.7645e-01,  2.0460e+00]], device='cuda:0', grad_fn=<AddmmBackward0>)\n",
                        "08/11/2022 10:35:28 - INFO - bert_for_sentence:40 -  labels.shape is torch.Size([24])\n",
                        "08/11/2022 10:35:28 - INFO - bert_for_sentence:41 -  labels is tensor([130,   1,   6, 131, 132,   2, 106,   3,   4,  38,   7, 135,  34, 132,\n",
                        "        141, 139,   0, 137, 138, 137,   8,  63, 136, 131], device='cuda:0')\n"
                    ]
                },
                {
                    "name": "stdout",
                    "output_type": "stream",
                    "text": [
                        "\r",
                        "[Training] 208/3702 [>.............................] - ETA: 15:31  loss: 2.5080 "
                    ]
                },
                {
                    "name": "stderr",
                    "output_type": "stream",
                    "text": [
                        "08/11/2022 10:35:28 - INFO - bert_for_sentence:38 -  logits.shape is torch.Size([24, 144])\n",
                        "08/11/2022 10:35:28 - INFO - bert_for_sentence:39 -  logits is tensor([[ 8.2692e-01,  3.7572e-01,  1.6166e+00,  ..., -4.4080e-01,\n",
                        "          3.9596e-01,  1.7665e+00],\n",
                        "        [ 3.1362e+00,  1.0435e+00,  3.2625e+00,  ..., -6.4633e-01,\n",
                        "          1.5226e-01,  7.7948e-01],\n",
                        "        [ 3.4040e+00,  8.4929e-01,  3.4443e+00,  ..., -4.5183e-01,\n",
                        "         -1.5603e-01,  6.7118e-01],\n",
                        "        ...,\n",
                        "        [-2.5946e-01, -1.9900e-01, -4.9193e-01,  ...,  2.6654e-01,\n",
                        "         -5.1708e-01, -2.0639e-01],\n",
                        "        [-2.4225e-01,  2.5950e-01, -2.6087e-01,  ...,  1.0485e-01,\n",
                        "         -3.9767e-03, -4.8013e-01],\n",
                        "        [-1.8828e-01,  1.3089e-01,  1.3179e-03,  ..., -8.1134e-01,\n",
                        "          1.7689e+00,  2.9299e+00]], device='cuda:0', grad_fn=<AddmmBackward0>)\n",
                        "08/11/2022 10:35:28 - INFO - bert_for_sentence:40 -  labels.shape is torch.Size([24])\n",
                        "08/11/2022 10:35:28 - INFO - bert_for_sentence:41 -  labels is tensor([143,   2,   2,   0, 134, 139, 133,   7, 140, 129,   3,  31, 140,   8,\n",
                        "        129, 132,   3,   6,   2, 138, 130,  44,  81, 143], device='cuda:0')\n"
                    ]
                },
                {
                    "name": "stdout",
                    "output_type": "stream",
                    "text": [
                        "\r",
                        "[Training] 209/3702 [>.............................] - ETA: 15:31  loss: 2.6196 "
                    ]
                },
                {
                    "name": "stderr",
                    "output_type": "stream",
                    "text": [
                        "08/11/2022 10:35:28 - INFO - bert_for_sentence:38 -  logits.shape is torch.Size([24, 144])\n",
                        "08/11/2022 10:35:28 - INFO - bert_for_sentence:39 -  logits is tensor([[ 0.2346,  0.9468,  0.8513,  ..., -0.8621,  1.5086,  1.9360],\n",
                        "        [-0.0505,  0.0115, -0.0737,  ..., -0.2157,  0.5473,  2.1549],\n",
                        "        [ 3.7918,  0.9084,  3.2007,  ..., -0.5259,  0.0226,  0.5572],\n",
                        "        ...,\n",
                        "        [ 3.3218,  1.2462,  2.6839,  ..., -0.4720,  0.5667,  0.9481],\n",
                        "        [ 3.5676,  0.8315,  2.5209,  ..., -0.5327, -0.3255,  0.1248],\n",
                        "        [ 0.2452,  0.0459, -0.4870,  ..., -0.5936,  0.2418,  0.3890]],\n",
                        "       device='cuda:0', grad_fn=<AddmmBackward0>)\n",
                        "08/11/2022 10:35:28 - INFO - bert_for_sentence:40 -  labels.shape is torch.Size([24])\n",
                        "08/11/2022 10:35:28 - INFO - bert_for_sentence:41 -  labels is tensor([138, 132,   8, 131,  30,  30,   1, 140, 135,   2, 131, 130, 142,   0,\n",
                        "        131,   4, 135,  18, 133,   2,   7,   9,   7,  27], device='cuda:0')\n"
                    ]
                },
                {
                    "name": "stdout",
                    "output_type": "stream",
                    "text": [
                        "\r",
                        "[Training] 210/3702 [>.............................] - ETA: 15:31  loss: 2.4656 "
                    ]
                },
                {
                    "name": "stderr",
                    "output_type": "stream",
                    "text": [
                        "08/11/2022 10:35:29 - INFO - bert_for_sentence:38 -  logits.shape is torch.Size([24, 144])\n",
                        "08/11/2022 10:35:29 - INFO - bert_for_sentence:39 -  logits is tensor([[-0.2049, -0.1654, -0.2521,  ..., -0.9529,  1.8542,  2.3574],\n",
                        "        [ 0.1954, -0.0484,  0.0734,  ...,  0.0318,  0.0691, -0.4206],\n",
                        "        [ 3.0754,  1.3329,  3.3869,  ..., -0.5946,  0.5613,  0.9049],\n",
                        "        ...,\n",
                        "        [ 0.9676,  0.4377,  0.3930,  ...,  0.2615,  0.7628,  1.7409],\n",
                        "        [-0.4395,  0.9684,  0.1199,  ..., -0.6085,  1.1577,  2.1506],\n",
                        "        [ 1.8381,  1.8060,  1.7949,  ..., -0.4692,  0.0709,  1.0773]],\n",
                        "       device='cuda:0', grad_fn=<AddmmBackward0>)\n",
                        "08/11/2022 10:35:29 - INFO - bert_for_sentence:40 -  labels.shape is torch.Size([24])\n",
                        "08/11/2022 10:35:29 - INFO - bert_for_sentence:41 -  labels is tensor([142,  69, 129, 131, 130,   3, 137, 132,   9, 140, 138,   2, 138,   7,\n",
                        "        138, 143,  27,   0,   7, 130,   6, 131, 140,   3], device='cuda:0')\n"
                    ]
                },
                {
                    "name": "stdout",
                    "output_type": "stream",
                    "text": [
                        "\r",
                        "[Training] 211/3702 [>.............................] - ETA: 15:31  loss: 2.2981 "
                    ]
                },
                {
                    "name": "stderr",
                    "output_type": "stream",
                    "text": [
                        "08/11/2022 10:35:29 - INFO - bert_for_sentence:38 -  logits.shape is torch.Size([24, 144])\n",
                        "08/11/2022 10:35:29 - INFO - bert_for_sentence:39 -  logits is tensor([[ 0.1543,  0.2541, -0.4521,  ..., -0.7614,  2.9440,  2.3877],\n",
                        "        [-0.0942,  0.1608, -0.2464,  ..., -0.5812,  1.7536,  2.2294],\n",
                        "        [ 3.5760,  1.1344,  3.0990,  ..., -0.8938, -0.0293,  0.6530],\n",
                        "        ...,\n",
                        "        [ 0.2744, -0.0546,  0.2672,  ..., -0.0748, -0.3776,  0.2040],\n",
                        "        [-0.4544,  0.5897, -0.3928,  ..., -0.9107,  2.1896,  1.9641],\n",
                        "        [ 0.5440,  0.2434,  0.7247,  ..., -0.4042,  0.1781,  1.6729]],\n",
                        "       device='cuda:0', grad_fn=<AddmmBackward0>)\n",
                        "08/11/2022 10:35:29 - INFO - bert_for_sentence:40 -  labels.shape is torch.Size([24])\n",
                        "08/11/2022 10:35:29 - INFO - bert_for_sentence:41 -  labels is tensor([131, 129,   0,   6,   7, 138,  81, 140,  55, 131,  44, 133,   4, 140,\n",
                        "        138, 140,   3, 143, 137,   0, 130, 123, 129,  80], device='cuda:0')\n"
                    ]
                },
                {
                    "name": "stdout",
                    "output_type": "stream",
                    "text": [
                        "\r",
                        "[Training] 212/3702 [>.............................] - ETA: 15:31  loss: 2.1056 "
                    ]
                },
                {
                    "name": "stderr",
                    "output_type": "stream",
                    "text": [
                        "08/11/2022 10:35:29 - INFO - bert_for_sentence:38 -  logits.shape is torch.Size([24, 144])\n",
                        "08/11/2022 10:35:29 - INFO - bert_for_sentence:39 -  logits is tensor([[ 3.0756e+00,  1.2466e+00,  3.1152e+00,  ..., -1.1086e+00,\n",
                        "         -5.2493e-02,  5.1291e-01],\n",
                        "        [ 3.1284e+00,  1.0674e+00,  3.3644e+00,  ..., -1.0059e+00,\n",
                        "          1.4695e-01,  6.6628e-01],\n",
                        "        [ 1.2815e-01, -1.2462e-01,  5.9364e-01,  ..., -7.0954e-02,\n",
                        "         -8.9925e-02,  2.7497e-01],\n",
                        "        ...,\n",
                        "        [ 2.5894e+00,  1.4006e+00,  2.7318e+00,  ..., -5.8589e-01,\n",
                        "          2.5329e-01,  9.7073e-01],\n",
                        "        [ 3.5105e+00,  1.1378e+00,  2.8424e+00,  ..., -7.1807e-01,\n",
                        "         -2.5785e-02,  9.1884e-01],\n",
                        "        [-4.8377e-01,  2.4974e-01,  1.3349e-03,  ..., -1.0778e+00,\n",
                        "          2.3259e+00,  2.3784e+00]], device='cuda:0', grad_fn=<AddmmBackward0>)\n",
                        "08/11/2022 10:35:29 - INFO - bert_for_sentence:40 -  labels.shape is torch.Size([24])\n",
                        "08/11/2022 10:35:29 - INFO - bert_for_sentence:41 -  labels is tensor([  6,   6,  80, 142, 137,   3,   0, 142,   1, 132, 137,   0,   4,   8,\n",
                        "        137,   2, 138,   6, 136, 131, 143, 136,   6, 131], device='cuda:0')\n"
                    ]
                },
                {
                    "name": "stdout",
                    "output_type": "stream",
                    "text": [
                        "\r",
                        "[Training] 213/3702 [>.............................] - ETA: 15:31  loss: 2.5134 "
                    ]
                },
                {
                    "name": "stderr",
                    "output_type": "stream",
                    "text": [
                        "08/11/2022 10:35:29 - INFO - bert_for_sentence:38 -  logits.shape is torch.Size([24, 144])\n",
                        "08/11/2022 10:35:29 - INFO - bert_for_sentence:39 -  logits is tensor([[ 0.1497,  0.8437,  0.2790,  ..., -0.8110,  1.8752,  1.7923],\n",
                        "        [-0.3856, -0.1320,  0.3880,  ..., -0.2333, -0.0783,  0.4216],\n",
                        "        [ 2.8997,  1.2899,  3.7209,  ..., -0.8168,  0.2936,  0.8070],\n",
                        "        ...,\n",
                        "        [-0.0701,  0.2454,  0.5445,  ..., -1.1910,  1.5591,  1.9822],\n",
                        "        [ 3.7904,  0.8923,  3.2196,  ..., -0.2736, -0.0068,  0.1526],\n",
                        "        [ 2.0780,  1.2457,  2.3972,  ..., -0.8987,  0.8934,  1.8853]],\n",
                        "       device='cuda:0', grad_fn=<AddmmBackward0>)\n",
                        "08/11/2022 10:35:29 - INFO - bert_for_sentence:40 -  labels.shape is torch.Size([24])\n",
                        "08/11/2022 10:35:29 - INFO - bert_for_sentence:41 -  labels is tensor([130, 113,   1, 137, 133, 135,   7,   1, 140, 143, 143,  81, 142,   8,\n",
                        "        133, 134, 133,   2,   6,   8,   6, 137,   6, 132], device='cuda:0')\n"
                    ]
                },
                {
                    "name": "stdout",
                    "output_type": "stream",
                    "text": [
                        "\r",
                        "[Training] 214/3702 [>.............................] - ETA: 15:30  loss: 2.1985 "
                    ]
                },
                {
                    "name": "stderr",
                    "output_type": "stream",
                    "text": [
                        "08/11/2022 10:35:30 - INFO - bert_for_sentence:38 -  logits.shape is torch.Size([24, 144])\n",
                        "08/11/2022 10:35:30 - INFO - bert_for_sentence:39 -  logits is tensor([[ 0.2756,  0.2748,  0.8917,  ..., -0.6458,  1.6757,  1.6432],\n",
                        "        [-0.0144,  0.3895, -0.1030,  ..., -0.9127,  2.2257,  2.7754],\n",
                        "        [-0.3072,  0.9015, -0.1187,  ..., -1.0574,  0.9612,  4.5302],\n",
                        "        ...,\n",
                        "        [-0.4756, -0.2491, -0.7929,  ...,  0.2685, -0.2693, -0.6564],\n",
                        "        [ 0.1788,  0.5929,  1.2379,  ..., -0.6478,  1.6589,  1.8366],\n",
                        "        [ 3.8447,  1.0982,  3.3470,  ..., -1.0266, -0.1192,  0.6277]],\n",
                        "       device='cuda:0', grad_fn=<AddmmBackward0>)\n",
                        "08/11/2022 10:35:30 - INFO - bert_for_sentence:40 -  labels.shape is torch.Size([24])\n",
                        "08/11/2022 10:35:30 - INFO - bert_for_sentence:41 -  labels is tensor([137, 135, 143,   0, 140, 133,   4, 136, 133, 129, 140,  80, 136,   5,\n",
                        "        139,   1,  80, 137, 134, 131,   6,  80, 133,   9], device='cuda:0')\n"
                    ]
                },
                {
                    "name": "stdout",
                    "output_type": "stream",
                    "text": [
                        "\r",
                        "[Training] 215/3702 [>.............................] - ETA: 15:30  loss: 2.4567 "
                    ]
                },
                {
                    "name": "stderr",
                    "output_type": "stream",
                    "text": [
                        "08/11/2022 10:35:30 - INFO - bert_for_sentence:38 -  logits.shape is torch.Size([24, 144])\n",
                        "08/11/2022 10:35:30 - INFO - bert_for_sentence:39 -  logits is tensor([[ 0.2026, -0.4088,  0.2222,  ...,  0.8027,  0.0529, -0.3741],\n",
                        "        [ 0.1311,  2.3197,  1.3606,  ..., -0.9578,  0.5940,  1.4999],\n",
                        "        [-0.1508, -0.5511, -0.4376,  ...,  0.3897,  0.1959, -0.0807],\n",
                        "        ...,\n",
                        "        [-0.3184,  0.7650, -0.1649,  ..., -0.6807,  1.4418,  2.2296],\n",
                        "        [ 1.7709,  2.1366,  2.1673,  ..., -0.5602,  0.4638,  1.3828],\n",
                        "        [-0.2369, -0.0826,  0.1582,  ...,  0.3047,  0.2939,  0.1641]],\n",
                        "       device='cuda:0', grad_fn=<AddmmBackward0>)\n",
                        "08/11/2022 10:35:30 - INFO - bert_for_sentence:40 -  labels.shape is torch.Size([24])\n",
                        "08/11/2022 10:35:30 - INFO - bert_for_sentence:41 -  labels is tensor([ 76,   5,  66, 136, 142,   3, 130,  81,  36,  63,   2, 142,   2, 131,\n",
                        "        134, 133, 135,   0, 142, 133, 140, 136,   3,  46], device='cuda:0')\n"
                    ]
                },
                {
                    "name": "stdout",
                    "output_type": "stream",
                    "text": [
                        "\r",
                        "[Training] 216/3702 [>.............................] - ETA: 15:29  loss: 2.1585 "
                    ]
                },
                {
                    "name": "stderr",
                    "output_type": "stream",
                    "text": [
                        "08/11/2022 10:35:30 - INFO - bert_for_sentence:38 -  logits.shape is torch.Size([24, 144])\n",
                        "08/11/2022 10:35:30 - INFO - bert_for_sentence:39 -  logits is tensor([[ 0.7617,  0.6879,  0.8089,  ..., -0.9807,  1.1682,  1.1125],\n",
                        "        [-0.0069,  0.4130,  0.5276,  ..., -0.7952,  1.3194,  1.3052],\n",
                        "        [ 3.5765,  0.6428,  3.2666,  ..., -0.7515,  0.0568,  0.3261],\n",
                        "        ...,\n",
                        "        [ 1.4211,  2.2446,  2.1133,  ..., -0.5891,  0.8593,  1.3750],\n",
                        "        [-0.8042,  0.0499, -0.8821,  ..., -0.5318,  2.9918,  2.1329],\n",
                        "        [ 0.4733,  0.4951,  0.8682,  ..., -0.8688,  1.3895,  1.2680]],\n",
                        "       device='cuda:0', grad_fn=<AddmmBackward0>)\n",
                        "08/11/2022 10:35:30 - INFO - bert_for_sentence:40 -  labels.shape is torch.Size([24])\n",
                        "08/11/2022 10:35:30 - INFO - bert_for_sentence:41 -  labels is tensor([135, 135,   9, 142, 134, 137, 131, 137,  88,  38, 137, 132,  64, 143,\n",
                        "          4, 140,  28, 136, 141, 131, 130,   3, 142, 135], device='cuda:0')\n"
                    ]
                },
                {
                    "name": "stdout",
                    "output_type": "stream",
                    "text": [
                        "\r",
                        "[Training] 217/3702 [>.............................] - ETA: 15:29  loss: 2.5674 "
                    ]
                },
                {
                    "name": "stderr",
                    "output_type": "stream",
                    "text": [
                        "08/11/2022 10:35:30 - INFO - bert_for_sentence:38 -  logits.shape is torch.Size([24, 144])\n",
                        "08/11/2022 10:35:30 - INFO - bert_for_sentence:39 -  logits is tensor([[-0.7861,  0.4217, -0.3192,  ..., -0.6101,  1.4041,  3.3866],\n",
                        "        [ 3.5944,  1.1268,  3.2398,  ..., -0.4969,  0.2404,  0.5500],\n",
                        "        [-1.0890,  0.7911, -0.8060,  ..., -0.8266,  1.5720,  1.9498],\n",
                        "        ...,\n",
                        "        [-0.2576,  0.1310, -0.7767,  ..., -0.3027,  0.6554,  2.3640],\n",
                        "        [ 2.8373,  1.2803,  2.8217,  ..., -0.9047,  0.0983,  0.8795],\n",
                        "        [ 0.0047,  0.1966, -0.7282,  ..., -1.0108,  2.1864,  1.7891]],\n",
                        "       device='cuda:0', grad_fn=<AddmmBackward0>)\n",
                        "08/11/2022 10:35:30 - INFO - bert_for_sentence:40 -  labels.shape is torch.Size([24])\n",
                        "08/11/2022 10:35:30 - INFO - bert_for_sentence:41 -  labels is tensor([132,   6, 130, 143,   2,   7, 134,   1, 116, 137, 132, 139, 132,   3,\n",
                        "         59, 131, 133,   3,  81,   7,   6, 131,   7, 130], device='cuda:0')\n"
                    ]
                },
                {
                    "name": "stdout",
                    "output_type": "stream",
                    "text": [
                        "\r",
                        "[Training] 218/3702 [>.............................] - ETA: 15:29  loss: 2.5820 "
                    ]
                },
                {
                    "name": "stderr",
                    "output_type": "stream",
                    "text": [
                        "08/11/2022 10:35:31 - INFO - bert_for_sentence:38 -  logits.shape is torch.Size([24, 144])\n",
                        "08/11/2022 10:35:31 - INFO - bert_for_sentence:39 -  logits is tensor([[-3.6818e-04,  2.7027e-01,  4.8411e-01,  ..., -8.1848e-01,\n",
                        "          1.3977e+00,  1.4298e+00],\n",
                        "        [-2.9154e-01,  2.4884e-01, -8.1930e-01,  ..., -5.6677e-01,\n",
                        "          2.4881e+00,  3.0958e+00],\n",
                        "        [-1.0658e+00,  2.9270e-01, -1.0720e+00,  ..., -1.1626e+00,\n",
                        "          3.1202e+00,  2.1769e+00],\n",
                        "        ...,\n",
                        "        [-3.5442e-01,  5.5475e-01, -6.5383e-01,  ..., -9.2157e-01,\n",
                        "          1.1173e+00,  3.7233e+00],\n",
                        "        [-6.2651e-01, -2.8577e-01, -1.8003e-01,  ...,  2.6610e-01,\n",
                        "          1.9642e-01,  9.0101e-02],\n",
                        "        [-5.3257e-01,  6.8444e-01, -7.2273e-01,  ..., -3.9036e-01,\n",
                        "          1.2597e+00,  2.2409e+00]], device='cuda:0', grad_fn=<AddmmBackward0>)\n",
                        "08/11/2022 10:35:31 - INFO - bert_for_sentence:40 -  labels.shape is torch.Size([24])\n",
                        "08/11/2022 10:35:31 - INFO - bert_for_sentence:41 -  labels is tensor([135, 139, 140,   0,   8,   6, 140, 132,   7,   6, 135,  80, 137, 140,\n",
                        "         70,  84, 135, 131, 138, 133, 137, 143, 107, 138], device='cuda:0')\n"
                    ]
                },
                {
                    "name": "stdout",
                    "output_type": "stream",
                    "text": [
                        "\r",
                        "[Training] 219/3702 [>.............................] - ETA: 15:29  loss: 2.2083 "
                    ]
                },
                {
                    "name": "stderr",
                    "output_type": "stream",
                    "text": [
                        "08/11/2022 10:35:31 - INFO - bert_for_sentence:38 -  logits.shape is torch.Size([24, 144])\n",
                        "08/11/2022 10:35:31 - INFO - bert_for_sentence:39 -  logits is tensor([[ 3.3945,  1.1435,  3.7161,  ..., -1.1012,  0.3014,  0.5492],\n",
                        "        [-0.8740,  0.2083, -0.9258,  ..., -0.8363,  2.9807,  2.2287],\n",
                        "        [-0.4850, -0.2787, -0.3118,  ..., -1.4000,  2.4466,  2.4291],\n",
                        "        ...,\n",
                        "        [-0.1458, -0.0986, -0.5328,  ..., -0.9079,  2.3586,  2.1348],\n",
                        "        [-0.3051, -0.2707, -0.1343,  ..., -0.2942, -0.3869, -0.2793],\n",
                        "        [ 0.0414, -0.0792, -0.3221,  ..., -1.1003,  2.1371,  1.8811]],\n",
                        "       device='cuda:0', grad_fn=<AddmmBackward0>)\n",
                        "08/11/2022 10:35:31 - INFO - bert_for_sentence:40 -  labels.shape is torch.Size([24])\n",
                        "08/11/2022 10:35:31 - INFO - bert_for_sentence:41 -  labels is tensor([  4, 130, 135, 135, 130,   8, 139, 143, 131, 130,  80, 129, 131, 135,\n",
                        "        140, 136, 130,   8, 138, 143,   6, 139,  72, 130], device='cuda:0')\n"
                    ]
                },
                {
                    "name": "stdout",
                    "output_type": "stream",
                    "text": [
                        "\r",
                        "[Training] 220/3702 [>.............................] - ETA: 15:28  loss: 2.2793 "
                    ]
                },
                {
                    "name": "stderr",
                    "output_type": "stream",
                    "text": [
                        "08/11/2022 10:35:31 - INFO - bert_for_sentence:38 -  logits.shape is torch.Size([24, 144])\n",
                        "08/11/2022 10:35:31 - INFO - bert_for_sentence:39 -  logits is tensor([[-0.6502, -0.2469, -0.0324,  ...,  0.6094,  0.4190,  0.3132],\n",
                        "        [ 3.4701,  1.0190,  3.5713,  ..., -0.9961,  0.3388,  0.3853],\n",
                        "        [ 3.6173,  1.2037,  3.8431,  ..., -1.0110,  0.3589,  0.3584],\n",
                        "        ...,\n",
                        "        [-0.5679,  0.4912, -0.4791,  ..., -0.5930,  1.8720,  2.4604],\n",
                        "        [ 1.8481,  0.8156,  1.7643,  ..., -1.0750,  1.5430,  1.8071],\n",
                        "        [-0.1563,  0.4130, -0.3499,  ..., -0.4426,  1.0375,  3.0842]],\n",
                        "       device='cuda:0', grad_fn=<AddmmBackward0>)\n",
                        "08/11/2022 10:35:31 - INFO - bert_for_sentence:40 -  labels.shape is torch.Size([24])\n",
                        "08/11/2022 10:35:31 - INFO - bert_for_sentence:41 -  labels is tensor([107,   2,   7, 142, 137,   0, 135, 140, 131,   8, 142, 142, 138,   7,\n",
                        "        139, 129, 135, 131, 137, 123,   4, 140,   8, 143], device='cuda:0')\n"
                    ]
                },
                {
                    "name": "stdout",
                    "output_type": "stream",
                    "text": [
                        "\r",
                        "[Training] 221/3702 [>.............................] - ETA: 15:28  loss: 2.1232 "
                    ]
                },
                {
                    "name": "stderr",
                    "output_type": "stream",
                    "text": [
                        "08/11/2022 10:35:31 - INFO - bert_for_sentence:38 -  logits.shape is torch.Size([24, 144])\n",
                        "08/11/2022 10:35:32 - INFO - bert_for_sentence:39 -  logits is tensor([[ 0.1772,  0.0734,  0.2232,  ..., -1.4271,  2.6627,  1.8797],\n",
                        "        [-0.3441,  0.5675, -0.1275,  ..., -0.4114,  1.5992,  4.0071],\n",
                        "        [-0.2169, -0.2149,  0.1268,  ..., -0.0421, -0.2972,  0.6587],\n",
                        "        ...,\n",
                        "        [-0.0768, -0.0339,  0.3907,  ..., -0.1051, -0.4748,  0.8095],\n",
                        "        [-0.6338,  0.3700, -0.6086,  ..., -0.4687,  1.2242,  2.0778],\n",
                        "        [ 2.8888,  1.1633,  2.7300,  ..., -0.5512,  0.5927,  1.3576]],\n",
                        "       device='cuda:0', grad_fn=<AddmmBackward0>)\n",
                        "08/11/2022 10:35:32 - INFO - bert_for_sentence:40 -  labels.shape is torch.Size([24])\n",
                        "08/11/2022 10:35:32 - INFO - bert_for_sentence:41 -  labels is tensor([135, 131,  80, 137, 101, 140, 133, 140, 142, 143, 139,   8, 143, 143,\n",
                        "          5,  83, 139, 137, 136,   8,   3,  80, 140,   2], device='cuda:0')\n"
                    ]
                },
                {
                    "name": "stdout",
                    "output_type": "stream",
                    "text": [
                        "\r",
                        "[Training] 222/3702 [>.............................] - ETA: 15:28  loss: 2.3504 "
                    ]
                },
                {
                    "name": "stderr",
                    "output_type": "stream",
                    "text": [
                        "08/11/2022 10:35:32 - INFO - bert_for_sentence:38 -  logits.shape is torch.Size([24, 144])\n",
                        "08/11/2022 10:35:32 - INFO - bert_for_sentence:39 -  logits is tensor([[-0.3986, -0.1297, -0.7633,  ..., -0.4899,  3.2654,  2.2881],\n",
                        "        [-1.2039, -0.2024, -0.2577,  ..., -0.8233,  3.1558,  1.4092],\n",
                        "        [-0.2356,  0.3704, -0.3344,  ..., -0.9761,  2.2805,  1.8316],\n",
                        "        ...,\n",
                        "        [-0.2092,  0.5990,  0.6862,  ..., -0.7185,  1.3929,  1.7408],\n",
                        "        [ 3.7327,  0.9227,  3.4720,  ..., -0.3733,  0.3478,  0.3701],\n",
                        "        [ 3.9399,  1.2096,  3.6255,  ..., -0.5546, -0.0243,  0.3640]],\n",
                        "       device='cuda:0', grad_fn=<AddmmBackward0>)\n",
                        "08/11/2022 10:35:32 - INFO - bert_for_sentence:40 -  labels.shape is torch.Size([24])\n",
                        "08/11/2022 10:35:32 - INFO - bert_for_sentence:41 -  labels is tensor([139, 134, 130,  29,   7, 131, 130, 142, 130,   6, 132,   2, 142, 132,\n",
                        "        139, 140,   6,  46, 143, 135,  80, 137,   8,   0], device='cuda:0')\n"
                    ]
                },
                {
                    "name": "stdout",
                    "output_type": "stream",
                    "text": [
                        "\r",
                        "[Training] 223/3702 [>.............................] - ETA: 15:28  loss: 2.2080 "
                    ]
                },
                {
                    "name": "stderr",
                    "output_type": "stream",
                    "text": [
                        "08/11/2022 10:35:32 - INFO - run_sentence_classification:440 -  Creating features from dataset file at /home/haoranhuang/workspace/CLUENER2020/pytorch_version/datasets/sentence\n",
                        "08/11/2022 10:35:32 - INFO - cls_sentence:92 -  Writing example 0 of 15581\n",
                        "08/11/2022 10:35:32 - INFO - cls_sentence:128 -  *** Example ***\n",
                        "08/11/2022 10:35:32 - INFO - cls_sentence:129 -  guid: dev-0\n",
                        "08/11/2022 10:35:32 - INFO - cls_sentence:130 -  tokens: 台 湾\n",
                        "08/11/2022 10:35:32 - INFO - cls_sentence:131 -  input_ids: 1378 3968 0 0 0 0 0 0 0 0 0 0 0 0 0 0 0 0 0 0 0 0 0 0 0 0 0 0 0 0 0 0 0 0 0 0 0 0 0 0 0 0 0 0 0 0 0 0 0 0 0 0 0 0 0 0 0 0 0 0 0 0 0 0 0 0 0 0 0 0 0 0 0 0 0 0 0 0 0 0 0 0 0 0 0 0 0 0 0 0 0 0 0 0 0 0 0 0 0 0 0 0 0 0 0 0 0 0 0 0 0 0 0 0 0 0 0 0 0 0 0 0 0 0 0 0 0 0 0 0 0 0 0 0 0 0 0 0 0 0 0 0 0 0 0 0 0 0 0 0 0 0 0 0 0 0 0 0 0 0 0 0 0 0 0 0 0 0 0 0 0 0 0 0 0 0 0 0 0 0 0 0 0 0 0 0 0 0 0 0 0 0 0 0 0 0 0 0 0 0 0 0 0 0 0 0 0 0 0 0 0 0 0 0 0 0 0 0 0 0 0 0 0 0 0 0 0 0 0 0 0 0 0 0 0 0 0 0 0 0 0 0 0 0 0 0 0 0 0 0 0 0 0 0 0 0 0 0 0 0 0 0 0 0 0 0 0 0 0 0 0 0 0 0 0 0 0 0 0 0 0 0 0 0 0 0 0 0 0 0 0 0 0 0 0 0 0 0 0 0 0 0 0 0 0 0 0 0 0 0 0 0 0 0 0 0 0 0 0 0 0 0 0 0 0 0 0 0 0 0 0 0 0 0 0 0 0 0 0 0 0 0 0 0 0 0 0 0 0 0 0 0 0 0 0 0 0 0 0 0 0 0 0 0 0 0 0 0 0 0 0 0 0 0 0 0 0 0 0 0 0 0 0 0 0 0 0 0 0 0 0 0 0 0 0 0 0 0 0 0 0 0 0 0 0 0 0 0 0 0 0 0 0 0 0 0 0 0 0 0 0 0 0 0 0 0 0 0 0 0 0 0 0 0 0 0 0 0 0 0 0 0 0 0 0 0 0 0 0 0 0 0 0 0 0 0 0 0 0 0 0 0 0 0 0 0 0 0 0 0 0 0 0 0 0 0 0 0 0 0 0 0 0 0 0 0 0 0 0 0 0 0 0 0 0 0 0 0 0 0 0 0 0 0 0 0 0 0 0 0 0 0\n",
                        "08/11/2022 10:35:32 - INFO - cls_sentence:132 -  input_mask: 1 1 0 0 0 0 0 0 0 0 0 0 0 0 0 0 0 0 0 0 0 0 0 0 0 0 0 0 0 0 0 0 0 0 0 0 0 0 0 0 0 0 0 0 0 0 0 0 0 0 0 0 0 0 0 0 0 0 0 0 0 0 0 0 0 0 0 0 0 0 0 0 0 0 0 0 0 0 0 0 0 0 0 0 0 0 0 0 0 0 0 0 0 0 0 0 0 0 0 0 0 0 0 0 0 0 0 0 0 0 0 0 0 0 0 0 0 0 0 0 0 0 0 0 0 0 0 0 0 0 0 0 0 0 0 0 0 0 0 0 0 0 0 0 0 0 0 0 0 0 0 0 0 0 0 0 0 0 0 0 0 0 0 0 0 0 0 0 0 0 0 0 0 0 0 0 0 0 0 0 0 0 0 0 0 0 0 0 0 0 0 0 0 0 0 0 0 0 0 0 0 0 0 0 0 0 0 0 0 0 0 0 0 0 0 0 0 0 0 0 0 0 0 0 0 0 0 0 0 0 0 0 0 0 0 0 0 0 0 0 0 0 0 0 0 0 0 0 0 0 0 0 0 0 0 0 0 0 0 0 0 0 0 0 0 0 0 0 0 0 0 0 0 0 0 0 0 0 0 0 0 0 0 0 0 0 0 0 0 0 0 0 0 0 0 0 0 0 0 0 0 0 0 0 0 0 0 0 0 0 0 0 0 0 0 0 0 0 0 0 0 0 0 0 0 0 0 0 0 0 0 0 0 0 0 0 0 0 0 0 0 0 0 0 0 0 0 0 0 0 0 0 0 0 0 0 0 0 0 0 0 0 0 0 0 0 0 0 0 0 0 0 0 0 0 0 0 0 0 0 0 0 0 0 0 0 0 0 0 0 0 0 0 0 0 0 0 0 0 0 0 0 0 0 0 0 0 0 0 0 0 0 0 0 0 0 0 0 0 0 0 0 0 0 0 0 0 0 0 0 0 0 0 0 0 0 0 0 0 0 0 0 0 0 0 0 0 0 0 0 0 0 0 0 0 0 0 0 0 0 0 0 0 0 0 0 0 0 0 0 0 0 0 0 0 0 0 0 0 0 0 0 0 0 0 0 0 0 0 0 0 0 0 0 0 0 0 0 0 0 0 0 0 0 0 0 0 0 0 0 0 0\n",
                        "08/11/2022 10:35:32 - INFO - cls_sentence:134 -  segment_ids: 0 0 0 0 0 0 0 0 0 0 0 0 0 0 0 0 0 0 0 0 0 0 0 0 0 0 0 0 0 0 0 0 0 0 0 0 0 0 0 0 0 0 0 0 0 0 0 0 0 0 0 0 0 0 0 0 0 0 0 0 0 0 0 0 0 0 0 0 0 0 0 0 0 0 0 0 0 0 0 0 0 0 0 0 0 0 0 0 0 0 0 0 0 0 0 0 0 0 0 0 0 0 0 0 0 0 0 0 0 0 0 0 0 0 0 0 0 0 0 0 0 0 0 0 0 0 0 0 0 0 0 0 0 0 0 0 0 0 0 0 0 0 0 0 0 0 0 0 0 0 0 0 0 0 0 0 0 0 0 0 0 0 0 0 0 0 0 0 0 0 0 0 0 0 0 0 0 0 0 0 0 0 0 0 0 0 0 0 0 0 0 0 0 0 0 0 0 0 0 0 0 0 0 0 0 0 0 0 0 0 0 0 0 0 0 0 0 0 0 0 0 0 0 0 0 0 0 0 0 0 0 0 0 0 0 0 0 0 0 0 0 0 0 0 0 0 0 0 0 0 0 0 0 0 0 0 0 0 0 0 0 0 0 0 0 0 0 0 0 0 0 0 0 0 0 0 0 0 0 0 0 0 0 0 0 0 0 0 0 0 0 0 0 0 0 0 0 0 0 0 0 0 0 0 0 0 0 0 0 0 0 0 0 0 0 0 0 0 0 0 0 0 0 0 0 0 0 0 0 0 0 0 0 0 0 0 0 0 0 0 0 0 0 0 0 0 0 0 0 0 0 0 0 0 0 0 0 0 0 0 0 0 0 0 0 0 0 0 0 0 0 0 0 0 0 0 0 0 0 0 0 0 0 0 0 0 0 0 0 0 0 0 0 0 0 0 0 0 0 0 0 0 0 0 0 0 0 0 0 0 0 0 0 0 0 0 0 0 0 0 0 0 0 0 0 0 0 0 0 0 0 0 0 0 0 0 0 0 0 0 0 0 0 0 0 0 0 0 0 0 0 0 0 0 0 0 0 0 0 0 0 0 0 0 0 0 0 0 0 0 0 0 0 0 0 0 0 0 0 0 0 0 0 0 0 0 0 0 0 0 0 0 0 0 0 0 0 0 0 0 0 0 0 0 0 0 0 0 0 0 0 0\n",
                        "08/11/2022 10:35:32 - INFO - cls_sentence:136 -  sentence_labels: 0\n",
                        "08/11/2022 10:35:32 - INFO - cls_sentence:128 -  *** Example ***\n",
                        "08/11/2022 10:35:32 - INFO - cls_sentence:129 -  guid: dev-1\n",
                        "08/11/2022 10:35:32 - INFO - cls_sentence:130 -  tokens: 文 汇 路\n",
                        "08/11/2022 10:35:32 - INFO - cls_sentence:131 -  input_ids: 3152 3726 6662 0 0 0 0 0 0 0 0 0 0 0 0 0 0 0 0 0 0 0 0 0 0 0 0 0 0 0 0 0 0 0 0 0 0 0 0 0 0 0 0 0 0 0 0 0 0 0 0 0 0 0 0 0 0 0 0 0 0 0 0 0 0 0 0 0 0 0 0 0 0 0 0 0 0 0 0 0 0 0 0 0 0 0 0 0 0 0 0 0 0 0 0 0 0 0 0 0 0 0 0 0 0 0 0 0 0 0 0 0 0 0 0 0 0 0 0 0 0 0 0 0 0 0 0 0 0 0 0 0 0 0 0 0 0 0 0 0 0 0 0 0 0 0 0 0 0 0 0 0 0 0 0 0 0 0 0 0 0 0 0 0 0 0 0 0 0 0 0 0 0 0 0 0 0 0 0 0 0 0 0 0 0 0 0 0 0 0 0 0 0 0 0 0 0 0 0 0 0 0 0 0 0 0 0 0 0 0 0 0 0 0 0 0 0 0 0 0 0 0 0 0 0 0 0 0 0 0 0 0 0 0 0 0 0 0 0 0 0 0 0 0 0 0 0 0 0 0 0 0 0 0 0 0 0 0 0 0 0 0 0 0 0 0 0 0 0 0 0 0 0 0 0 0 0 0 0 0 0 0 0 0 0 0 0 0 0 0 0 0 0 0 0 0 0 0 0 0 0 0 0 0 0 0 0 0 0 0 0 0 0 0 0 0 0 0 0 0 0 0 0 0 0 0 0 0 0 0 0 0 0 0 0 0 0 0 0 0 0 0 0 0 0 0 0 0 0 0 0 0 0 0 0 0 0 0 0 0 0 0 0 0 0 0 0 0 0 0 0 0 0 0 0 0 0 0 0 0 0 0 0 0 0 0 0 0 0 0 0 0 0 0 0 0 0 0 0 0 0 0 0 0 0 0 0 0 0 0 0 0 0 0 0 0 0 0 0 0 0 0 0 0 0 0 0 0 0 0 0 0 0 0 0 0 0 0 0 0 0 0 0 0 0 0 0 0 0 0 0 0 0 0 0 0 0 0 0 0 0 0 0 0 0 0 0 0 0 0 0 0 0 0 0 0 0 0 0 0 0 0 0 0 0 0 0 0 0 0 0 0 0 0 0 0 0 0 0 0 0 0 0 0 0 0 0 0 0 0 0 0\n",
                        "08/11/2022 10:35:32 - INFO - cls_sentence:132 -  input_mask: 1 1 1 0 0 0 0 0 0 0 0 0 0 0 0 0 0 0 0 0 0 0 0 0 0 0 0 0 0 0 0 0 0 0 0 0 0 0 0 0 0 0 0 0 0 0 0 0 0 0 0 0 0 0 0 0 0 0 0 0 0 0 0 0 0 0 0 0 0 0 0 0 0 0 0 0 0 0 0 0 0 0 0 0 0 0 0 0 0 0 0 0 0 0 0 0 0 0 0 0 0 0 0 0 0 0 0 0 0 0 0 0 0 0 0 0 0 0 0 0 0 0 0 0 0 0 0 0 0 0 0 0 0 0 0 0 0 0 0 0 0 0 0 0 0 0 0 0 0 0 0 0 0 0 0 0 0 0 0 0 0 0 0 0 0 0 0 0 0 0 0 0 0 0 0 0 0 0 0 0 0 0 0 0 0 0 0 0 0 0 0 0 0 0 0 0 0 0 0 0 0 0 0 0 0 0 0 0 0 0 0 0 0 0 0 0 0 0 0 0 0 0 0 0 0 0 0 0 0 0 0 0 0 0 0 0 0 0 0 0 0 0 0 0 0 0 0 0 0 0 0 0 0 0 0 0 0 0 0 0 0 0 0 0 0 0 0 0 0 0 0 0 0 0 0 0 0 0 0 0 0 0 0 0 0 0 0 0 0 0 0 0 0 0 0 0 0 0 0 0 0 0 0 0 0 0 0 0 0 0 0 0 0 0 0 0 0 0 0 0 0 0 0 0 0 0 0 0 0 0 0 0 0 0 0 0 0 0 0 0 0 0 0 0 0 0 0 0 0 0 0 0 0 0 0 0 0 0 0 0 0 0 0 0 0 0 0 0 0 0 0 0 0 0 0 0 0 0 0 0 0 0 0 0 0 0 0 0 0 0 0 0 0 0 0 0 0 0 0 0 0 0 0 0 0 0 0 0 0 0 0 0 0 0 0 0 0 0 0 0 0 0 0 0 0 0 0 0 0 0 0 0 0 0 0 0 0 0 0 0 0 0 0 0 0 0 0 0 0 0 0 0 0 0 0 0 0 0 0 0 0 0 0 0 0 0 0 0 0 0 0 0 0 0 0 0 0 0 0 0 0 0 0 0 0 0 0 0 0 0 0 0 0 0 0 0 0 0 0 0 0 0 0 0 0 0 0 0 0 0 0 0\n",
                        "08/11/2022 10:35:32 - INFO - cls_sentence:134 -  segment_ids: 0 0 0 0 0 0 0 0 0 0 0 0 0 0 0 0 0 0 0 0 0 0 0 0 0 0 0 0 0 0 0 0 0 0 0 0 0 0 0 0 0 0 0 0 0 0 0 0 0 0 0 0 0 0 0 0 0 0 0 0 0 0 0 0 0 0 0 0 0 0 0 0 0 0 0 0 0 0 0 0 0 0 0 0 0 0 0 0 0 0 0 0 0 0 0 0 0 0 0 0 0 0 0 0 0 0 0 0 0 0 0 0 0 0 0 0 0 0 0 0 0 0 0 0 0 0 0 0 0 0 0 0 0 0 0 0 0 0 0 0 0 0 0 0 0 0 0 0 0 0 0 0 0 0 0 0 0 0 0 0 0 0 0 0 0 0 0 0 0 0 0 0 0 0 0 0 0 0 0 0 0 0 0 0 0 0 0 0 0 0 0 0 0 0 0 0 0 0 0 0 0 0 0 0 0 0 0 0 0 0 0 0 0 0 0 0 0 0 0 0 0 0 0 0 0 0 0 0 0 0 0 0 0 0 0 0 0 0 0 0 0 0 0 0 0 0 0 0 0 0 0 0 0 0 0 0 0 0 0 0 0 0 0 0 0 0 0 0 0 0 0 0 0 0 0 0 0 0 0 0 0 0 0 0 0 0 0 0 0 0 0 0 0 0 0 0 0 0 0 0 0 0 0 0 0 0 0 0 0 0 0 0 0 0 0 0 0 0 0 0 0 0 0 0 0 0 0 0 0 0 0 0 0 0 0 0 0 0 0 0 0 0 0 0 0 0 0 0 0 0 0 0 0 0 0 0 0 0 0 0 0 0 0 0 0 0 0 0 0 0 0 0 0 0 0 0 0 0 0 0 0 0 0 0 0 0 0 0 0 0 0 0 0 0 0 0 0 0 0 0 0 0 0 0 0 0 0 0 0 0 0 0 0 0 0 0 0 0 0 0 0 0 0 0 0 0 0 0 0 0 0 0 0 0 0 0 0 0 0 0 0 0 0 0 0 0 0 0 0 0 0 0 0 0 0 0 0 0 0 0 0 0 0 0 0 0 0 0 0 0 0 0 0 0 0 0 0 0 0 0 0 0 0 0 0 0 0 0 0 0 0 0 0 0 0 0 0 0 0 0 0 0 0 0 0 0 0 0 0 0 0 0\n",
                        "08/11/2022 10:35:32 - INFO - cls_sentence:136 -  sentence_labels: 0\n",
                        "08/11/2022 10:35:32 - INFO - cls_sentence:128 -  *** Example ***\n",
                        "08/11/2022 10:35:32 - INFO - cls_sentence:129 -  guid: dev-2\n",
                        "08/11/2022 10:35:32 - INFO - cls_sentence:130 -  tokens: 潮 白 河\n",
                        "08/11/2022 10:35:32 - INFO - cls_sentence:131 -  input_ids: 4060 4635 3777 0 0 0 0 0 0 0 0 0 0 0 0 0 0 0 0 0 0 0 0 0 0 0 0 0 0 0 0 0 0 0 0 0 0 0 0 0 0 0 0 0 0 0 0 0 0 0 0 0 0 0 0 0 0 0 0 0 0 0 0 0 0 0 0 0 0 0 0 0 0 0 0 0 0 0 0 0 0 0 0 0 0 0 0 0 0 0 0 0 0 0 0 0 0 0 0 0 0 0 0 0 0 0 0 0 0 0 0 0 0 0 0 0 0 0 0 0 0 0 0 0 0 0 0 0 0 0 0 0 0 0 0 0 0 0 0 0 0 0 0 0 0 0 0 0 0 0 0 0 0 0 0 0 0 0 0 0 0 0 0 0 0 0 0 0 0 0 0 0 0 0 0 0 0 0 0 0 0 0 0 0 0 0 0 0 0 0 0 0 0 0 0 0 0 0 0 0 0 0 0 0 0 0 0 0 0 0 0 0 0 0 0 0 0 0 0 0 0 0 0 0 0 0 0 0 0 0 0 0 0 0 0 0 0 0 0 0 0 0 0 0 0 0 0 0 0 0 0 0 0 0 0 0 0 0 0 0 0 0 0 0 0 0 0 0 0 0 0 0 0 0 0 0 0 0 0 0 0 0 0 0 0 0 0 0 0 0 0 0 0 0 0 0 0 0 0 0 0 0 0 0 0 0 0 0 0 0 0 0 0 0 0 0 0 0 0 0 0 0 0 0 0 0 0 0 0 0 0 0 0 0 0 0 0 0 0 0 0 0 0 0 0 0 0 0 0 0 0 0 0 0 0 0 0 0 0 0 0 0 0 0 0 0 0 0 0 0 0 0 0 0 0 0 0 0 0 0 0 0 0 0 0 0 0 0 0 0 0 0 0 0 0 0 0 0 0 0 0 0 0 0 0 0 0 0 0 0 0 0 0 0 0 0 0 0 0 0 0 0 0 0 0 0 0 0 0 0 0 0 0 0 0 0 0 0 0 0 0 0 0 0 0 0 0 0 0 0 0 0 0 0 0 0 0 0 0 0 0 0 0 0 0 0 0 0 0 0 0 0 0 0 0 0 0 0 0 0 0 0 0 0 0 0 0 0 0 0 0 0 0 0 0 0 0 0 0 0 0 0 0 0 0 0 0 0 0 0 0 0\n"
                    ]
                },
                {
                    "name": "stderr",
                    "output_type": "stream",
                    "text": [
                        "08/11/2022 10:35:32 - INFO - cls_sentence:132 -  input_mask: 1 1 1 0 0 0 0 0 0 0 0 0 0 0 0 0 0 0 0 0 0 0 0 0 0 0 0 0 0 0 0 0 0 0 0 0 0 0 0 0 0 0 0 0 0 0 0 0 0 0 0 0 0 0 0 0 0 0 0 0 0 0 0 0 0 0 0 0 0 0 0 0 0 0 0 0 0 0 0 0 0 0 0 0 0 0 0 0 0 0 0 0 0 0 0 0 0 0 0 0 0 0 0 0 0 0 0 0 0 0 0 0 0 0 0 0 0 0 0 0 0 0 0 0 0 0 0 0 0 0 0 0 0 0 0 0 0 0 0 0 0 0 0 0 0 0 0 0 0 0 0 0 0 0 0 0 0 0 0 0 0 0 0 0 0 0 0 0 0 0 0 0 0 0 0 0 0 0 0 0 0 0 0 0 0 0 0 0 0 0 0 0 0 0 0 0 0 0 0 0 0 0 0 0 0 0 0 0 0 0 0 0 0 0 0 0 0 0 0 0 0 0 0 0 0 0 0 0 0 0 0 0 0 0 0 0 0 0 0 0 0 0 0 0 0 0 0 0 0 0 0 0 0 0 0 0 0 0 0 0 0 0 0 0 0 0 0 0 0 0 0 0 0 0 0 0 0 0 0 0 0 0 0 0 0 0 0 0 0 0 0 0 0 0 0 0 0 0 0 0 0 0 0 0 0 0 0 0 0 0 0 0 0 0 0 0 0 0 0 0 0 0 0 0 0 0 0 0 0 0 0 0 0 0 0 0 0 0 0 0 0 0 0 0 0 0 0 0 0 0 0 0 0 0 0 0 0 0 0 0 0 0 0 0 0 0 0 0 0 0 0 0 0 0 0 0 0 0 0 0 0 0 0 0 0 0 0 0 0 0 0 0 0 0 0 0 0 0 0 0 0 0 0 0 0 0 0 0 0 0 0 0 0 0 0 0 0 0 0 0 0 0 0 0 0 0 0 0 0 0 0 0 0 0 0 0 0 0 0 0 0 0 0 0 0 0 0 0 0 0 0 0 0 0 0 0 0 0 0 0 0 0 0 0 0 0 0 0 0 0 0 0 0 0 0 0 0 0 0 0 0 0 0 0 0 0 0 0 0 0 0 0 0 0 0 0 0 0 0 0 0 0 0 0 0 0 0 0 0 0 0 0\n",
                        "08/11/2022 10:35:32 - INFO - cls_sentence:134 -  segment_ids: 0 0 0 0 0 0 0 0 0 0 0 0 0 0 0 0 0 0 0 0 0 0 0 0 0 0 0 0 0 0 0 0 0 0 0 0 0 0 0 0 0 0 0 0 0 0 0 0 0 0 0 0 0 0 0 0 0 0 0 0 0 0 0 0 0 0 0 0 0 0 0 0 0 0 0 0 0 0 0 0 0 0 0 0 0 0 0 0 0 0 0 0 0 0 0 0 0 0 0 0 0 0 0 0 0 0 0 0 0 0 0 0 0 0 0 0 0 0 0 0 0 0 0 0 0 0 0 0 0 0 0 0 0 0 0 0 0 0 0 0 0 0 0 0 0 0 0 0 0 0 0 0 0 0 0 0 0 0 0 0 0 0 0 0 0 0 0 0 0 0 0 0 0 0 0 0 0 0 0 0 0 0 0 0 0 0 0 0 0 0 0 0 0 0 0 0 0 0 0 0 0 0 0 0 0 0 0 0 0 0 0 0 0 0 0 0 0 0 0 0 0 0 0 0 0 0 0 0 0 0 0 0 0 0 0 0 0 0 0 0 0 0 0 0 0 0 0 0 0 0 0 0 0 0 0 0 0 0 0 0 0 0 0 0 0 0 0 0 0 0 0 0 0 0 0 0 0 0 0 0 0 0 0 0 0 0 0 0 0 0 0 0 0 0 0 0 0 0 0 0 0 0 0 0 0 0 0 0 0 0 0 0 0 0 0 0 0 0 0 0 0 0 0 0 0 0 0 0 0 0 0 0 0 0 0 0 0 0 0 0 0 0 0 0 0 0 0 0 0 0 0 0 0 0 0 0 0 0 0 0 0 0 0 0 0 0 0 0 0 0 0 0 0 0 0 0 0 0 0 0 0 0 0 0 0 0 0 0 0 0 0 0 0 0 0 0 0 0 0 0 0 0 0 0 0 0 0 0 0 0 0 0 0 0 0 0 0 0 0 0 0 0 0 0 0 0 0 0 0 0 0 0 0 0 0 0 0 0 0 0 0 0 0 0 0 0 0 0 0 0 0 0 0 0 0 0 0 0 0 0 0 0 0 0 0 0 0 0 0 0 0 0 0 0 0 0 0 0 0 0 0 0 0 0 0 0 0 0 0 0 0 0 0 0 0 0 0 0 0 0 0 0 0 0 0 0 0 0 0 0 0 0\n",
                        "08/11/2022 10:35:32 - INFO - cls_sentence:136 -  sentence_labels: 0\n",
                        "08/11/2022 10:35:32 - INFO - cls_sentence:128 -  *** Example ***\n",
                        "08/11/2022 10:35:32 - INFO - cls_sentence:129 -  guid: dev-3\n",
                        "08/11/2022 10:35:32 - INFO - cls_sentence:130 -  tokens: 夏 威 夷 水 岸 1 号\n",
                        "08/11/2022 10:35:32 - INFO - cls_sentence:131 -  input_ids: 1909 2014 1929 3717 2279 122 1384 0 0 0 0 0 0 0 0 0 0 0 0 0 0 0 0 0 0 0 0 0 0 0 0 0 0 0 0 0 0 0 0 0 0 0 0 0 0 0 0 0 0 0 0 0 0 0 0 0 0 0 0 0 0 0 0 0 0 0 0 0 0 0 0 0 0 0 0 0 0 0 0 0 0 0 0 0 0 0 0 0 0 0 0 0 0 0 0 0 0 0 0 0 0 0 0 0 0 0 0 0 0 0 0 0 0 0 0 0 0 0 0 0 0 0 0 0 0 0 0 0 0 0 0 0 0 0 0 0 0 0 0 0 0 0 0 0 0 0 0 0 0 0 0 0 0 0 0 0 0 0 0 0 0 0 0 0 0 0 0 0 0 0 0 0 0 0 0 0 0 0 0 0 0 0 0 0 0 0 0 0 0 0 0 0 0 0 0 0 0 0 0 0 0 0 0 0 0 0 0 0 0 0 0 0 0 0 0 0 0 0 0 0 0 0 0 0 0 0 0 0 0 0 0 0 0 0 0 0 0 0 0 0 0 0 0 0 0 0 0 0 0 0 0 0 0 0 0 0 0 0 0 0 0 0 0 0 0 0 0 0 0 0 0 0 0 0 0 0 0 0 0 0 0 0 0 0 0 0 0 0 0 0 0 0 0 0 0 0 0 0 0 0 0 0 0 0 0 0 0 0 0 0 0 0 0 0 0 0 0 0 0 0 0 0 0 0 0 0 0 0 0 0 0 0 0 0 0 0 0 0 0 0 0 0 0 0 0 0 0 0 0 0 0 0 0 0 0 0 0 0 0 0 0 0 0 0 0 0 0 0 0 0 0 0 0 0 0 0 0 0 0 0 0 0 0 0 0 0 0 0 0 0 0 0 0 0 0 0 0 0 0 0 0 0 0 0 0 0 0 0 0 0 0 0 0 0 0 0 0 0 0 0 0 0 0 0 0 0 0 0 0 0 0 0 0 0 0 0 0 0 0 0 0 0 0 0 0 0 0 0 0 0 0 0 0 0 0 0 0 0 0 0 0 0 0 0 0 0 0 0 0 0 0 0 0 0 0 0 0 0 0 0 0 0 0 0 0 0 0 0 0 0 0 0 0 0 0 0 0 0 0 0 0 0 0 0 0 0 0 0 0 0 0 0\n",
                        "08/11/2022 10:35:32 - INFO - cls_sentence:132 -  input_mask: 1 1 1 1 1 1 1 0 0 0 0 0 0 0 0 0 0 0 0 0 0 0 0 0 0 0 0 0 0 0 0 0 0 0 0 0 0 0 0 0 0 0 0 0 0 0 0 0 0 0 0 0 0 0 0 0 0 0 0 0 0 0 0 0 0 0 0 0 0 0 0 0 0 0 0 0 0 0 0 0 0 0 0 0 0 0 0 0 0 0 0 0 0 0 0 0 0 0 0 0 0 0 0 0 0 0 0 0 0 0 0 0 0 0 0 0 0 0 0 0 0 0 0 0 0 0 0 0 0 0 0 0 0 0 0 0 0 0 0 0 0 0 0 0 0 0 0 0 0 0 0 0 0 0 0 0 0 0 0 0 0 0 0 0 0 0 0 0 0 0 0 0 0 0 0 0 0 0 0 0 0 0 0 0 0 0 0 0 0 0 0 0 0 0 0 0 0 0 0 0 0 0 0 0 0 0 0 0 0 0 0 0 0 0 0 0 0 0 0 0 0 0 0 0 0 0 0 0 0 0 0 0 0 0 0 0 0 0 0 0 0 0 0 0 0 0 0 0 0 0 0 0 0 0 0 0 0 0 0 0 0 0 0 0 0 0 0 0 0 0 0 0 0 0 0 0 0 0 0 0 0 0 0 0 0 0 0 0 0 0 0 0 0 0 0 0 0 0 0 0 0 0 0 0 0 0 0 0 0 0 0 0 0 0 0 0 0 0 0 0 0 0 0 0 0 0 0 0 0 0 0 0 0 0 0 0 0 0 0 0 0 0 0 0 0 0 0 0 0 0 0 0 0 0 0 0 0 0 0 0 0 0 0 0 0 0 0 0 0 0 0 0 0 0 0 0 0 0 0 0 0 0 0 0 0 0 0 0 0 0 0 0 0 0 0 0 0 0 0 0 0 0 0 0 0 0 0 0 0 0 0 0 0 0 0 0 0 0 0 0 0 0 0 0 0 0 0 0 0 0 0 0 0 0 0 0 0 0 0 0 0 0 0 0 0 0 0 0 0 0 0 0 0 0 0 0 0 0 0 0 0 0 0 0 0 0 0 0 0 0 0 0 0 0 0 0 0 0 0 0 0 0 0 0 0 0 0 0 0 0 0 0 0 0 0 0 0 0 0 0 0 0 0 0 0 0 0 0 0 0 0 0\n",
                        "08/11/2022 10:35:32 - INFO - cls_sentence:134 -  segment_ids: 0 0 0 0 0 0 0 0 0 0 0 0 0 0 0 0 0 0 0 0 0 0 0 0 0 0 0 0 0 0 0 0 0 0 0 0 0 0 0 0 0 0 0 0 0 0 0 0 0 0 0 0 0 0 0 0 0 0 0 0 0 0 0 0 0 0 0 0 0 0 0 0 0 0 0 0 0 0 0 0 0 0 0 0 0 0 0 0 0 0 0 0 0 0 0 0 0 0 0 0 0 0 0 0 0 0 0 0 0 0 0 0 0 0 0 0 0 0 0 0 0 0 0 0 0 0 0 0 0 0 0 0 0 0 0 0 0 0 0 0 0 0 0 0 0 0 0 0 0 0 0 0 0 0 0 0 0 0 0 0 0 0 0 0 0 0 0 0 0 0 0 0 0 0 0 0 0 0 0 0 0 0 0 0 0 0 0 0 0 0 0 0 0 0 0 0 0 0 0 0 0 0 0 0 0 0 0 0 0 0 0 0 0 0 0 0 0 0 0 0 0 0 0 0 0 0 0 0 0 0 0 0 0 0 0 0 0 0 0 0 0 0 0 0 0 0 0 0 0 0 0 0 0 0 0 0 0 0 0 0 0 0 0 0 0 0 0 0 0 0 0 0 0 0 0 0 0 0 0 0 0 0 0 0 0 0 0 0 0 0 0 0 0 0 0 0 0 0 0 0 0 0 0 0 0 0 0 0 0 0 0 0 0 0 0 0 0 0 0 0 0 0 0 0 0 0 0 0 0 0 0 0 0 0 0 0 0 0 0 0 0 0 0 0 0 0 0 0 0 0 0 0 0 0 0 0 0 0 0 0 0 0 0 0 0 0 0 0 0 0 0 0 0 0 0 0 0 0 0 0 0 0 0 0 0 0 0 0 0 0 0 0 0 0 0 0 0 0 0 0 0 0 0 0 0 0 0 0 0 0 0 0 0 0 0 0 0 0 0 0 0 0 0 0 0 0 0 0 0 0 0 0 0 0 0 0 0 0 0 0 0 0 0 0 0 0 0 0 0 0 0 0 0 0 0 0 0 0 0 0 0 0 0 0 0 0 0 0 0 0 0 0 0 0 0 0 0 0 0 0 0 0 0 0 0 0 0 0 0 0 0 0 0 0 0 0 0 0 0 0 0 0 0 0 0 0 0 0 0 0 0 0\n",
                        "08/11/2022 10:35:32 - INFO - cls_sentence:136 -  sentence_labels: 0\n",
                        "08/11/2022 10:35:32 - INFO - cls_sentence:128 -  *** Example ***\n",
                        "08/11/2022 10:35:32 - INFO - cls_sentence:129 -  guid: dev-4\n",
                        "08/11/2022 10:35:32 - INFO - cls_sentence:130 -  tokens: 雅 清 苑\n",
                        "08/11/2022 10:35:32 - INFO - cls_sentence:131 -  input_ids: 7414 3926 5723 0 0 0 0 0 0 0 0 0 0 0 0 0 0 0 0 0 0 0 0 0 0 0 0 0 0 0 0 0 0 0 0 0 0 0 0 0 0 0 0 0 0 0 0 0 0 0 0 0 0 0 0 0 0 0 0 0 0 0 0 0 0 0 0 0 0 0 0 0 0 0 0 0 0 0 0 0 0 0 0 0 0 0 0 0 0 0 0 0 0 0 0 0 0 0 0 0 0 0 0 0 0 0 0 0 0 0 0 0 0 0 0 0 0 0 0 0 0 0 0 0 0 0 0 0 0 0 0 0 0 0 0 0 0 0 0 0 0 0 0 0 0 0 0 0 0 0 0 0 0 0 0 0 0 0 0 0 0 0 0 0 0 0 0 0 0 0 0 0 0 0 0 0 0 0 0 0 0 0 0 0 0 0 0 0 0 0 0 0 0 0 0 0 0 0 0 0 0 0 0 0 0 0 0 0 0 0 0 0 0 0 0 0 0 0 0 0 0 0 0 0 0 0 0 0 0 0 0 0 0 0 0 0 0 0 0 0 0 0 0 0 0 0 0 0 0 0 0 0 0 0 0 0 0 0 0 0 0 0 0 0 0 0 0 0 0 0 0 0 0 0 0 0 0 0 0 0 0 0 0 0 0 0 0 0 0 0 0 0 0 0 0 0 0 0 0 0 0 0 0 0 0 0 0 0 0 0 0 0 0 0 0 0 0 0 0 0 0 0 0 0 0 0 0 0 0 0 0 0 0 0 0 0 0 0 0 0 0 0 0 0 0 0 0 0 0 0 0 0 0 0 0 0 0 0 0 0 0 0 0 0 0 0 0 0 0 0 0 0 0 0 0 0 0 0 0 0 0 0 0 0 0 0 0 0 0 0 0 0 0 0 0 0 0 0 0 0 0 0 0 0 0 0 0 0 0 0 0 0 0 0 0 0 0 0 0 0 0 0 0 0 0 0 0 0 0 0 0 0 0 0 0 0 0 0 0 0 0 0 0 0 0 0 0 0 0 0 0 0 0 0 0 0 0 0 0 0 0 0 0 0 0 0 0 0 0 0 0 0 0 0 0 0 0 0 0 0 0 0 0 0 0 0 0 0 0 0 0 0 0 0 0 0 0 0 0 0 0 0 0 0 0 0 0 0 0 0 0 0\n",
                        "08/11/2022 10:35:32 - INFO - cls_sentence:132 -  input_mask: 1 1 1 0 0 0 0 0 0 0 0 0 0 0 0 0 0 0 0 0 0 0 0 0 0 0 0 0 0 0 0 0 0 0 0 0 0 0 0 0 0 0 0 0 0 0 0 0 0 0 0 0 0 0 0 0 0 0 0 0 0 0 0 0 0 0 0 0 0 0 0 0 0 0 0 0 0 0 0 0 0 0 0 0 0 0 0 0 0 0 0 0 0 0 0 0 0 0 0 0 0 0 0 0 0 0 0 0 0 0 0 0 0 0 0 0 0 0 0 0 0 0 0 0 0 0 0 0 0 0 0 0 0 0 0 0 0 0 0 0 0 0 0 0 0 0 0 0 0 0 0 0 0 0 0 0 0 0 0 0 0 0 0 0 0 0 0 0 0 0 0 0 0 0 0 0 0 0 0 0 0 0 0 0 0 0 0 0 0 0 0 0 0 0 0 0 0 0 0 0 0 0 0 0 0 0 0 0 0 0 0 0 0 0 0 0 0 0 0 0 0 0 0 0 0 0 0 0 0 0 0 0 0 0 0 0 0 0 0 0 0 0 0 0 0 0 0 0 0 0 0 0 0 0 0 0 0 0 0 0 0 0 0 0 0 0 0 0 0 0 0 0 0 0 0 0 0 0 0 0 0 0 0 0 0 0 0 0 0 0 0 0 0 0 0 0 0 0 0 0 0 0 0 0 0 0 0 0 0 0 0 0 0 0 0 0 0 0 0 0 0 0 0 0 0 0 0 0 0 0 0 0 0 0 0 0 0 0 0 0 0 0 0 0 0 0 0 0 0 0 0 0 0 0 0 0 0 0 0 0 0 0 0 0 0 0 0 0 0 0 0 0 0 0 0 0 0 0 0 0 0 0 0 0 0 0 0 0 0 0 0 0 0 0 0 0 0 0 0 0 0 0 0 0 0 0 0 0 0 0 0 0 0 0 0 0 0 0 0 0 0 0 0 0 0 0 0 0 0 0 0 0 0 0 0 0 0 0 0 0 0 0 0 0 0 0 0 0 0 0 0 0 0 0 0 0 0 0 0 0 0 0 0 0 0 0 0 0 0 0 0 0 0 0 0 0 0 0 0 0 0 0 0 0 0 0 0 0 0 0 0 0 0 0 0 0 0 0 0 0 0 0 0 0 0 0 0 0 0 0 0 0\n",
                        "08/11/2022 10:35:32 - INFO - cls_sentence:134 -  segment_ids: 0 0 0 0 0 0 0 0 0 0 0 0 0 0 0 0 0 0 0 0 0 0 0 0 0 0 0 0 0 0 0 0 0 0 0 0 0 0 0 0 0 0 0 0 0 0 0 0 0 0 0 0 0 0 0 0 0 0 0 0 0 0 0 0 0 0 0 0 0 0 0 0 0 0 0 0 0 0 0 0 0 0 0 0 0 0 0 0 0 0 0 0 0 0 0 0 0 0 0 0 0 0 0 0 0 0 0 0 0 0 0 0 0 0 0 0 0 0 0 0 0 0 0 0 0 0 0 0 0 0 0 0 0 0 0 0 0 0 0 0 0 0 0 0 0 0 0 0 0 0 0 0 0 0 0 0 0 0 0 0 0 0 0 0 0 0 0 0 0 0 0 0 0 0 0 0 0 0 0 0 0 0 0 0 0 0 0 0 0 0 0 0 0 0 0 0 0 0 0 0 0 0 0 0 0 0 0 0 0 0 0 0 0 0 0 0 0 0 0 0 0 0 0 0 0 0 0 0 0 0 0 0 0 0 0 0 0 0 0 0 0 0 0 0 0 0 0 0 0 0 0 0 0 0 0 0 0 0 0 0 0 0 0 0 0 0 0 0 0 0 0 0 0 0 0 0 0 0 0 0 0 0 0 0 0 0 0 0 0 0 0 0 0 0 0 0 0 0 0 0 0 0 0 0 0 0 0 0 0 0 0 0 0 0 0 0 0 0 0 0 0 0 0 0 0 0 0 0 0 0 0 0 0 0 0 0 0 0 0 0 0 0 0 0 0 0 0 0 0 0 0 0 0 0 0 0 0 0 0 0 0 0 0 0 0 0 0 0 0 0 0 0 0 0 0 0 0 0 0 0 0 0 0 0 0 0 0 0 0 0 0 0 0 0 0 0 0 0 0 0 0 0 0 0 0 0 0 0 0 0 0 0 0 0 0 0 0 0 0 0 0 0 0 0 0 0 0 0 0 0 0 0 0 0 0 0 0 0 0 0 0 0 0 0 0 0 0 0 0 0 0 0 0 0 0 0 0 0 0 0 0 0 0 0 0 0 0 0 0 0 0 0 0 0 0 0 0 0 0 0 0 0 0 0 0 0 0 0 0 0 0 0 0 0 0 0 0 0 0 0 0 0 0 0 0 0 0 0 0 0 0 0\n"
                    ]
                },
                {
                    "name": "stderr",
                    "output_type": "stream",
                    "text": [
                        "08/11/2022 10:35:32 - INFO - cls_sentence:136 -  sentence_labels: 0\n"
                    ]
                },
                {
                    "name": "stdout",
                    "output_type": "stream",
                    "text": [
                        "\r",
                        "[Training] 224/3702 [>.............................] - ETA: 15:28  loss: 2.1025  \n"
                    ]
                },
                {
                    "name": "stderr",
                    "output_type": "stream",
                    "text": [
                        "08/11/2022 10:35:32 - INFO - cls_sentence:92 -  Writing example 10000 of 15581\n",
                        "08/11/2022 10:35:33 - INFO - run_sentence_classification:465 -  Saving features into cached file /home/haoranhuang/workspace/CLUENER2020/pytorch_version/datasets/sentence/cached_soft-dev_bert-base-chinese_512_sentence\n",
                        "08/11/2022 10:35:36 - INFO - run_sentence_classification:284 -  ***** Running evaluation  *****\n",
                        "08/11/2022 10:35:36 - INFO - run_sentence_classification:285 -    Num examples = 15581\n",
                        "08/11/2022 10:35:36 - INFO - run_sentence_classification:286 -    Batch size = 24\n",
                        "08/11/2022 10:35:36 - INFO - bert_for_sentence:38 -  logits.shape is torch.Size([24, 144])\n",
                        "08/11/2022 10:35:36 - INFO - bert_for_sentence:39 -  logits is tensor([[ 4.0028,  0.9109,  3.5514,  ..., -0.5085, -0.0701,  0.2333],\n",
                        "        [ 4.0913,  0.9510,  3.5073,  ..., -0.5197, -0.0564,  0.1447],\n",
                        "        [ 4.1305,  0.9637,  3.6878,  ..., -0.5185,  0.0149,  0.1810],\n",
                        "        ...,\n",
                        "        [ 3.9470,  0.9439,  3.3023,  ..., -0.5955, -0.1806,  0.4398],\n",
                        "        [ 4.0419,  0.8890,  3.4573,  ..., -0.4432,  0.0431,  0.1008],\n",
                        "        [ 4.0017,  0.8998,  3.4600,  ..., -0.5173, -0.1224,  0.2277]],\n",
                        "       device='cuda:0')\n",
                        "08/11/2022 10:35:36 - INFO - bert_for_sentence:40 -  labels.shape is torch.Size([24])\n",
                        "08/11/2022 10:35:36 - INFO - bert_for_sentence:41 -  labels is tensor([0, 0, 0, 0, 0, 0, 0, 0, 0, 0, 0, 0, 0, 0, 0, 0, 0, 0, 0, 0, 0, 0, 0, 0],\n",
                        "       device='cuda:0')\n"
                    ]
                },
                {
                    "ename": "ValueError",
                    "evalue": "not enough values to unpack (expected 2, got 1)",
                    "output_type": "error",
                    "traceback": [
                        "\u001b[0;31m---------------------------------------------------------------------------\u001b[0m",
                        "\u001b[0;31mValueError\u001b[0m                                Traceback (most recent call last)",
                        "Input \u001b[0;32mIn [8]\u001b[0m, in \u001b[0;36m<cell line: 1>\u001b[0;34m()\u001b[0m\n\u001b[0;32m----> 1\u001b[0m global_step, tr_loss \u001b[38;5;241m=\u001b[39m \u001b[43mtrain\u001b[49m\u001b[43m(\u001b[49m\n\u001b[1;32m      2\u001b[0m \u001b[43m            \u001b[49m\u001b[43margs\u001b[49m\u001b[43m,\u001b[49m\u001b[43m \u001b[49m\u001b[43mtrain_dataset\u001b[49m\u001b[43m,\u001b[49m\u001b[43m \u001b[49m\u001b[43mmodel\u001b[49m\u001b[43m,\u001b[49m\u001b[43m \u001b[49m\u001b[43mtokenizer\u001b[49m\u001b[43m)\u001b[49m\n",
                        "File \u001b[0;32m~/workspace/CLUENER2020/pytorch_version/run_sentence_classification.py:242\u001b[0m, in \u001b[0;36mtrain\u001b[0;34m(args, train_dataset, model, tokenizer)\u001b[0m\n\u001b[1;32m    239\u001b[0m     \u001b[38;5;28mprint\u001b[39m(\u001b[38;5;124m\"\u001b[39m\u001b[38;5;124m \u001b[39m\u001b[38;5;124m\"\u001b[39m)\n\u001b[1;32m    240\u001b[0m     \u001b[38;5;28;01mif\u001b[39;00m args\u001b[38;5;241m.\u001b[39mlocal_rank \u001b[38;5;241m==\u001b[39m \u001b[38;5;241m-\u001b[39m\u001b[38;5;241m1\u001b[39m:\n\u001b[1;32m    241\u001b[0m         \u001b[38;5;66;03m# Only evaluate when single GPU otherwise metrics may not average well\u001b[39;00m\n\u001b[0;32m--> 242\u001b[0m         \u001b[43mevaluate\u001b[49m\u001b[43m(\u001b[49m\u001b[43margs\u001b[49m\u001b[43m,\u001b[49m\u001b[43m \u001b[49m\u001b[43mmodel\u001b[49m\u001b[43m,\u001b[49m\u001b[43m \u001b[49m\u001b[43mtokenizer\u001b[49m\u001b[43m)\u001b[49m\n\u001b[1;32m    244\u001b[0m \u001b[38;5;28;01mif\u001b[39;00m args\u001b[38;5;241m.\u001b[39mlocal_rank \u001b[38;5;129;01min\u001b[39;00m [\u001b[38;5;241m-\u001b[39m\u001b[38;5;241m1\u001b[39m, \u001b[38;5;241m0\u001b[39m] \u001b[38;5;129;01mand\u001b[39;00m args\u001b[38;5;241m.\u001b[39msave_steps \u001b[38;5;241m>\u001b[39m \u001b[38;5;241m0\u001b[39m \u001b[38;5;129;01mand\u001b[39;00m global_step \u001b[38;5;241m%\u001b[39m args\u001b[38;5;241m.\u001b[39msave_steps \u001b[38;5;241m==\u001b[39m \u001b[38;5;241m0\u001b[39m:\n\u001b[1;32m    245\u001b[0m     \u001b[38;5;66;03m# Save model checkpoint\u001b[39;00m\n\u001b[1;32m    246\u001b[0m     output_dir \u001b[38;5;241m=\u001b[39m os\u001b[38;5;241m.\u001b[39mpath\u001b[38;5;241m.\u001b[39mjoin(\n\u001b[1;32m    247\u001b[0m         args\u001b[38;5;241m.\u001b[39moutput_dir, \u001b[38;5;124m\"\u001b[39m\u001b[38;5;124mcheckpoint-\u001b[39m\u001b[38;5;132;01m{}\u001b[39;00m\u001b[38;5;124m\"\u001b[39m\u001b[38;5;241m.\u001b[39mformat(global_step))\n",
                        "File \u001b[0;32m~/workspace/CLUENER2020/pytorch_version/run_sentence_classification.py:301\u001b[0m, in \u001b[0;36mevaluate\u001b[0;34m(args, model, tokenizer, prefix)\u001b[0m\n\u001b[1;32m    298\u001b[0m     inputs[\u001b[38;5;124m\"\u001b[39m\u001b[38;5;124mtoken_type_ids\u001b[39m\u001b[38;5;124m\"\u001b[39m] \u001b[38;5;241m=\u001b[39m (batch[\u001b[38;5;241m2\u001b[39m] \u001b[38;5;28;01mif\u001b[39;00m args\u001b[38;5;241m.\u001b[39mmodel_type \u001b[38;5;129;01min\u001b[39;00m [\n\u001b[1;32m    299\u001b[0m                                 \u001b[38;5;124m\"\u001b[39m\u001b[38;5;124mbert\u001b[39m\u001b[38;5;124m\"\u001b[39m, \u001b[38;5;124m\"\u001b[39m\u001b[38;5;124mxlnet\u001b[39m\u001b[38;5;124m\"\u001b[39m] \u001b[38;5;28;01melse\u001b[39;00m \u001b[38;5;28;01mNone\u001b[39;00m)\n\u001b[1;32m    300\u001b[0m outputs \u001b[38;5;241m=\u001b[39m model(\u001b[38;5;241m*\u001b[39m\u001b[38;5;241m*\u001b[39minputs)\n\u001b[0;32m--> 301\u001b[0m tmp_eval_loss, logits \u001b[38;5;241m=\u001b[39m outputs[:\u001b[38;5;241m2\u001b[39m]\n\u001b[1;32m    302\u001b[0m \u001b[38;5;28;01mif\u001b[39;00m args\u001b[38;5;241m.\u001b[39mn_gpu \u001b[38;5;241m>\u001b[39m \u001b[38;5;241m1\u001b[39m:\n\u001b[1;32m    303\u001b[0m     \u001b[38;5;66;03m# mean() to average on multi-gpu parallel evaluating\u001b[39;00m\n\u001b[1;32m    304\u001b[0m     tmp_eval_loss \u001b[38;5;241m=\u001b[39m tmp_eval_loss\u001b[38;5;241m.\u001b[39mmean()\n",
                        "\u001b[0;31mValueError\u001b[0m: not enough values to unpack (expected 2, got 1)"
                    ]
                }
            ],
            "source": [
                "global_step, tr_loss = train(\n",
                "            args, train_dataset, model, tokenizer)"
            ]
        },
        {
            "cell_type": "code",
            "execution_count": null,
            "id": "e0ca1d08",
            "metadata": {},
            "outputs": [],
            "source": []
        },
        {
            "cell_type": "code",
            "execution_count": null,
            "id": "24d8e2d3",
            "metadata": {},
            "outputs": [],
            "source": []
        },
        {
            "cell_type": "code",
            "execution_count": null,
            "id": "027c8f6b",
            "metadata": {},
            "outputs": [],
            "source": []
        }
    ],
    "metadata": {
        "kernelspec": {
            "display_name": "Python 3 (ipykernel)",
            "language": "python",
            "name": "python3"
        },
        "language_info": {
            "codemirror_mode": {
                "name": "ipython",
                "version": 3
            },
            "file_extension": ".py",
            "mimetype": "text/x-python",
            "name": "python",
            "nbconvert_exporter": "python",
            "pygments_lexer": "ipython3",
            "version": "3.9.12"
        }
    },
    "nbformat": 4,
    "nbformat_minor": 5
}