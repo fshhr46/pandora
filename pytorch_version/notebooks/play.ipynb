{
    "cells": [
        {
            "cell_type": "code",
            "execution_count": 1,
            "id": "cf03c28f",
            "metadata": {},
            "outputs": [
                {
                    "name": "stderr",
                    "output_type": "stream",
                    "text": [
                        "/Users/haoranhuang/opt/anaconda3/envs/ml/lib/python3.9/site-packages/tqdm/auto.py:22: TqdmWarning: IProgress not found. Please update jupyter and ipywidgets. See https://ipywidgets.readthedocs.io/en/stable/user_install.html\n",
                        "  from .autonotebook import tqdm as notebook_tqdm\n"
                    ]
                }
            ],
            "source": [
                "import torch"
            ]
        },
        {
            "cell_type": "code",
            "execution_count": 2,
            "id": "43eb37d3",
            "metadata": {},
            "outputs": [
                {
                    "name": "stdout",
                    "output_type": "stream",
                    "text": [
                        "tensor([[[0, 1],\n",
                        "         [2, 3]],\n",
                        "\n",
                        "        [[4, 5],\n",
                        "         [6, 7]]])\n",
                        "torch.Size([2, 2, 2])\n",
                        "tensor([0, 1, 2, 3, 4, 5, 6, 7])\n",
                        "torch.Size([8])\n"
                    ]
                }
            ],
            "source": [
                "t = torch.arange(0, 8).reshape(2,2,2)\n",
                "print(t)\n",
                "print(t.shape)\n",
                "print(t.view(-1))\n",
                "print(t.view(-1).shape)"
            ]
        },
        {
            "cell_type": "code",
            "execution_count": 3,
            "id": "975fed17",
            "metadata": {},
            "outputs": [],
            "source": [
                "t2 = t %2 == 0"
            ]
        },
        {
            "cell_type": "code",
            "execution_count": 4,
            "id": "244b8ad6",
            "metadata": {},
            "outputs": [
                {
                    "name": "stdout",
                    "output_type": "stream",
                    "text": [
                        "tensor([[[ True, False],\n",
                        "         [ True, False]],\n",
                        "\n",
                        "        [[ True, False],\n",
                        "         [ True, False]]])\n",
                        "True\n",
                        "False\n",
                        "(4, 2, 1)\n",
                        "(1, 2, 4)\n"
                    ]
                },
                {
                    "name": "stderr",
                    "output_type": "stream",
                    "text": [
                        "/var/folders/0d/6r10g92s7j9ftbq6s75yb8k40000gn/T/ipykernel_80961/3368447720.py:4: UserWarning: The use of `x.T` on tensors of dimension other than 2 to reverse their shape is deprecated and it will throw an error in a future release. Consider `x.mT` to transpose batches of matrices or `x.permute(*torch.arange(x.ndim - 1, -1, -1))` to reverse the dimensions of a tensor. (Triggered internally at /Users/runner/work/pytorch/pytorch/pytorch/aten/src/ATen/native/TensorShape.cpp:2980.)\n",
                        "  print(t.T.is_contiguous())\n"
                    ]
                }
            ],
            "source": [
                "print(t2)\n",
                "print(t.is_contiguous())\n",
                "t.view(-1)\n",
                "print(t.T.is_contiguous())\n",
                "print(t.stride())\n",
                "print(t.T.stride())"
            ]
        },
        {
            "cell_type": "code",
            "execution_count": null,
            "id": "11a7666a",
            "metadata": {},
            "outputs": [],
            "source": []
        },
        {
            "cell_type": "code",
            "execution_count": 5,
            "id": "4c599368",
            "metadata": {},
            "outputs": [
                {
                    "data": {
                        "text/plain": [
                            "tensor([[[0, 1],\n",
                            "         [2, 3]],\n",
                            "\n",
                            "        [[4, 5],\n",
                            "         [6, 7]]])"
                        ]
                    },
                    "execution_count": 5,
                    "metadata": {},
                    "output_type": "execute_result"
                }
            ],
            "source": [
                "torch.arange(0, 8).view(2,2,2)"
            ]
        },
        {
            "cell_type": "code",
            "execution_count": 6,
            "id": "431b9e6d",
            "metadata": {},
            "outputs": [],
            "source": [
                "mps = torch.device(\"mps\")\n",
                "cpu = torch.device(\"cpu\")"
            ]
        },
        {
            "cell_type": "code",
            "execution_count": 7,
            "id": "015ae300",
            "metadata": {},
            "outputs": [
                {
                    "data": {
                        "text/plain": [
                            "-1"
                        ]
                    },
                    "execution_count": 7,
                    "metadata": {},
                    "output_type": "execute_result"
                }
            ],
            "source": [
                "t.get_device()"
            ]
        },
        {
            "cell_type": "code",
            "execution_count": 8,
            "id": "0090d138",
            "metadata": {},
            "outputs": [
                {
                    "ename": "RuntimeError",
                    "evalue": "Expected all tensors to be on the same device, but found at least two devices, mps:0 and cpu!",
                    "output_type": "error",
                    "traceback": [
                        "\u001b[0;31m---------------------------------------------------------------------------\u001b[0m",
                        "\u001b[0;31mRuntimeError\u001b[0m                              Traceback (most recent call last)",
                        "Input \u001b[0;32mIn [8]\u001b[0m, in \u001b[0;36m<cell line: 3>\u001b[0;34m()\u001b[0m\n\u001b[1;32m      1\u001b[0m t1 \u001b[38;5;241m=\u001b[39m t\u001b[38;5;241m.\u001b[39mto(mps)\n\u001b[1;32m      2\u001b[0m t2 \u001b[38;5;241m=\u001b[39m t\u001b[38;5;241m.\u001b[39mto(cpu)\n\u001b[0;32m----> 3\u001b[0m \u001b[43mt1\u001b[49m\u001b[43m \u001b[49m\u001b[38;5;241;43m+\u001b[39;49m\u001b[43m \u001b[49m\u001b[43mt2\u001b[49m\n",
                        "\u001b[0;31mRuntimeError\u001b[0m: Expected all tensors to be on the same device, but found at least two devices, mps:0 and cpu!"
                    ]
                }
            ],
            "source": [
                "t1 = t.to(mps)\n",
                "t2 = t.to(cpu)\n",
                "t1 + t2"
            ]
        },
        {
            "cell_type": "code",
            "execution_count": 10,
            "id": "72e573cb",
            "metadata": {},
            "outputs": [
                {
                    "name": "stdout",
                    "output_type": "stream",
                    "text": [
                        "masked_data1 is tensor([0, 2])\n",
                        "masked_data2 is tensor([0, 2])\n"
                    ]
                }
            ],
            "source": [
                "data = torch.tensor([0,1,2])\n",
                "mask = torch.tensor([True, False, True])\n",
                "masked_data1 = torch.masked_select(data, mask)\n",
                "masked_data2 = data[mask]\n",
                "print(f\"masked_data1 is {masked_data1}\")\n",
                "print(f\"masked_data2 is {masked_data2}\")\n",
                "\n",
                "mps_masked_data1 = torch.masked_select(data.to(mps), mask.to(cpu))\n",
                "# print(f\"mps_masked_data1 is {mps_masked_data1}\")\n",
                "# mps_masked_data2 = data.to(mps)[mask.to(mps)]\n",
                "# print(f\"masked_data2 is {masked_data2}\")"
            ]
        },
        {
            "cell_type": "code",
            "execution_count": 12,
            "id": "bd119efb",
            "metadata": {},
            "outputs": [
                {
                    "ename": "RuntimeError",
                    "evalue": "Expected one of cpu, cuda, ipu, xpu, mkldnn, opengl, opencl, ideep, hip, ve, ort, mps, xla, lazy, vulkan, meta, hpu, privateuseone device type at start of device string: cudas",
                    "output_type": "error",
                    "traceback": [
                        "\u001b[0;31m---------------------------------------------------------------------------\u001b[0m",
                        "\u001b[0;31mRuntimeError\u001b[0m                              Traceback (most recent call last)",
                        "Input \u001b[0;32mIn [12]\u001b[0m, in \u001b[0;36m<cell line: 1>\u001b[0;34m()\u001b[0m\n\u001b[0;32m----> 1\u001b[0m \u001b[43mtorch\u001b[49m\u001b[38;5;241;43m.\u001b[39;49m\u001b[43mdevice\u001b[49m\u001b[43m(\u001b[49m\u001b[38;5;124;43m\"\u001b[39;49m\u001b[38;5;124;43mcudas\u001b[39;49m\u001b[38;5;124;43m\"\u001b[39;49m\u001b[43m)\u001b[49m\n",
                        "\u001b[0;31mRuntimeError\u001b[0m: Expected one of cpu, cuda, ipu, xpu, mkldnn, opengl, opencl, ideep, hip, ve, ort, mps, xla, lazy, vulkan, meta, hpu, privateuseone device type at start of device string: cudas"
                    ]
                }
            ],
            "source": [
                "torch.device(\"cudas\")"
            ]
        },
        {
            "cell_type": "code",
            "execution_count": 36,
            "id": "44e1c466",
            "metadata": {},
            "outputs": [
                {
                    "data": {
                        "text/plain": [
                            "tensor([], size=(0, 2, 2, 2), dtype=torch.int64)"
                        ]
                    },
                    "execution_count": 36,
                    "metadata": {},
                    "output_type": "execute_result"
                }
            ],
            "source": [
                "torch.masked_select(\n",
                "    torch.arange(0, 8),\n",
                "    torch.tensor([True])\n",
                ")\n",
                "\n",
                "torch.arange(0, 8).reshape(2,2,2)[True, False, True]"
            ]
        },
        {
            "cell_type": "code",
            "execution_count": null,
            "id": "3dc64113",
            "metadata": {},
            "outputs": [],
            "source": []
        }
    ],
    "metadata": {
        "kernelspec": {
            "display_name": "Python 3 (ipykernel)",
            "language": "python",
            "name": "python3"
        },
        "language_info": {
            "codemirror_mode": {
                "name": "ipython",
                "version": 3
            },
            "file_extension": ".py",
            "mimetype": "text/x-python",
            "name": "python",
            "nbconvert_exporter": "python",
            "pygments_lexer": "ipython3",
            "version": "3.9.13"
        }
    },
    "nbformat": 4,
    "nbformat_minor": 5
}